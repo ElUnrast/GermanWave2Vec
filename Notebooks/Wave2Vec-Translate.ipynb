{
 "cells": [
  {
   "cell_type": "markdown",
   "id": "dEKhPSO82y85",
   "metadata": {
    "id": "dEKhPSO82y85"
   },
   "source": [
    "## 0. Configuartion"
   ]
  },
  {
   "cell_type": "code",
   "execution_count": 1,
   "id": "worthy-resolution",
   "metadata": {
    "id": "worthy-resolution"
   },
   "outputs": [],
   "source": [
    "# %load_ext autoreload\n",
    "import os\n",
    "import sys\n",
    "\n",
    "device = 'cuda'\n",
    "wait_for_v100 = False\n",
    "ds_to_use = [\n",
    "    # 'HP1-FvM',\n",
    "    # 'HP1-RB',\n",
    "    # 'HP2-FvM',\n",
    "    # 'HP2-RB',\n",
    "    # 'HP3-FvM',\n",
    "    # 'HP3-RB',\n",
    "    # 'HP4-FvM',\n",
    "    # 'HP4-RB',\n",
    "    # 'HP5-FvM',\n",
    "    # 'HP5-RB',\n",
    "    # 'HP6-FvM',\n",
    "    # 'HP6-RB',\n",
    "    # 'HP7-FvM',\n",
    "    # 'HP7-RB'\n",
    "]\n",
    "home = os.getenv(\"HOME\")\n",
    "use_gdrive = False\n",
    "trained_model_directory = 'trained_model'\n",
    "# Use Model from Checkpoint. \n",
    "# The Value must be a Sub-Directory of {trained_model_path} (Example: 'checkpoint-3600')\n",
    "checkpoint = None"
   ]
  },
  {
   "cell_type": "markdown",
   "id": "motivated-budapest",
   "metadata": {
    "id": "motivated-budapest"
   },
   "source": [
    "## 1. Setup Directories"
   ]
  },
  {
   "cell_type": "code",
   "execution_count": 2,
   "id": "stuffed-silicon",
   "metadata": {
    "colab": {
     "base_uri": "https://localhost:8080/"
    },
    "executionInfo": {
     "elapsed": 48755,
     "status": "ok",
     "timestamp": 1620812177354,
     "user": {
      "displayName": "Elius Tibelius",
      "photoUrl": "",
      "userId": "00452752923460326984"
     },
     "user_tz": -120
    },
    "id": "stuffed-silicon",
    "outputId": "022a280e-ada5-49f2-fe80-2bd02775ed95"
   },
   "outputs": [
    {
     "name": "stdout",
     "output_type": "stream",
     "text": [
      "runs on colab: False\n"
     ]
    }
   ],
   "source": [
    "local_nlp_base_dir = f'{home}/shared'\n",
    "local_data_base_dir = f'{local_nlp_base_dir}/NLP-Data'\n",
    "local_data_dir = f'{local_data_base_dir}/audio'\n",
    "extern_nlp_base_dir = None\n",
    "extern_data_base_dir = None\n",
    "extern_data_dir = None\n",
    "\n",
    "runs_on_colab = (home == '/root')\n",
    "print( f'runs on colab: {runs_on_colab}')\n",
    "\n",
    "if not runs_on_colab:\n",
    "    os.environ['http_proxy'] = 'http://192.168.8.50:3128'\n",
    "    os.environ['https_proxy'] = 'http://192.168.8.50:3128'\n",
    "else:\n",
    "    # to get access to the datasets we use gdrive\n",
    "    use_gdrive = True\n",
    "    # install packages\n",
    "    !pip install datasets==1.4.1\n",
    "    !pip install transformers==4.4.0\n",
    "    !pip install jiwer\n",
    "    !pip install torchaudio\n",
    "    !pip install librosa\n",
    "    # create local directories\n",
    "    !mkdir $local_nlp_base_dir\n",
    "    !mkdir $local_data_base_dir\n",
    "\n",
    "if use_gdrive:\n",
    "    gdrive_base = '/content/gdrive'    \n",
    "    extern_nlp_base_dir = f'{gdrive_base}/MyDrive'\n",
    "    extern_data_base_dir = f'{extern_nlp_base_dir}/NLP-Data'\n",
    "    extern_data_dir = f'{extern_data_base_dir}/audio'\n",
    "\n",
    "    if not os.path.isdir(gdrive_base):\n",
    "        from google.colab import drive\n",
    "        drive.mount(gdrive_base)\n",
    "\n",
    "if not os.path.isdir(local_data_dir):\n",
    "    !mkdir $local_data_dir\n",
    "\n",
    "if extern_nlp_base_dir:\n",
    "    model_dir = f'{extern_nlp_base_dir}/NLP-Models/GermanWave2Vec'\n",
    "else:\n",
    "    model_dir = f'{local_nlp_base_dir}/NLP-Models/GermanWave2Vec'\n",
    "\n",
    "# Use the Model from this Directory (Base: .../NLP-Models/GermanWave2Vec/)\n",
    "# None -> Start from 'facebook/wav2vec2-large-xlsr-53-german'\n",
    "trained_model_path = f'{model_dir}/{trained_model_directory}'\n",
    "\n",
    "git_views_dir = f'{local_nlp_base_dir}/gitviews/extern'\n",
    "git_view_path = f'{git_views_dir}/GermanWave2Vec'\n",
    "\n",
    "if not os.path.isdir(git_views_dir):\n",
    "    !mkdir $git_views_dir\n",
    "    !cd $git_views_dir; git clone https://github.com/ElUnrast/GermanWave2Vec.git"
   ]
  },
  {
   "cell_type": "code",
   "execution_count": 3,
   "id": "4wLJpgjxOFRM",
   "metadata": {
    "colab": {
     "base_uri": "https://localhost:8080/"
    },
    "executionInfo": {
     "elapsed": 1773,
     "status": "ok",
     "timestamp": 1620812249370,
     "user": {
      "displayName": "Elius Tibelius",
      "photoUrl": "",
      "userId": "00452752923460326984"
     },
     "user_tz": -120
    },
    "id": "4wLJpgjxOFRM",
    "outputId": "48670cda-fe17-40f7-d7ad-967f07b28354"
   },
   "outputs": [
    {
     "name": "stdout",
     "output_type": "stream",
     "text": [
      "Script-Path: /home/ki-mo/shared/gitviews/extern/GermanWave2Vec/python\n"
     ]
    }
   ],
   "source": [
    "if runs_on_colab:\n",
    "    !cd $git_view_path; git fetch --all; git reset --hard origin/main\n",
    "\n",
    "script_path = f'{git_views_dir}/GermanWave2Vec/python'\n",
    "print(f'Script-Path: {script_path}')\n",
    "sys.path.insert(0, script_path)"
   ]
  },
  {
   "cell_type": "markdown",
   "id": "better-footwear",
   "metadata": {
    "id": "better-footwear"
   },
   "source": [
    "## 2. Check Runtime Properties"
   ]
  },
  {
   "cell_type": "code",
   "execution_count": 4,
   "id": "accompanied-wright",
   "metadata": {
    "colab": {
     "base_uri": "https://localhost:8080/"
    },
    "executionInfo": {
     "elapsed": 591,
     "status": "ok",
     "timestamp": 1620812267985,
     "user": {
      "displayName": "Elius Tibelius",
      "photoUrl": "",
      "userId": "00452752923460326984"
     },
     "user_tz": -120
    },
    "id": "accompanied-wright",
    "outputId": "a6984eb8-cb57-4fa0-8dae-f817850837ae"
   },
   "outputs": [
    {
     "name": "stdout",
     "output_type": "stream",
     "text": [
      "Tue Jun  1 17:38:02 2021       \n",
      "+-----------------------------------------------------------------------------+\n",
      "| NVIDIA-SMI 460.73.01    Driver Version: 460.73.01    CUDA Version: 11.2     |\n",
      "|-------------------------------+----------------------+----------------------+\n",
      "| GPU  Name        Persistence-M| Bus-Id        Disp.A | Volatile Uncorr. ECC |\n",
      "| Fan  Temp  Perf  Pwr:Usage/Cap|         Memory-Usage | GPU-Util  Compute M. |\n",
      "|                               |                      |               MIG M. |\n",
      "|===============================+======================+======================|\n",
      "|   0  GeForce RTX 208...  Off  | 00000000:09:00.0 Off |                  N/A |\n",
      "| 35%   37C    P8    13W / 260W |     86MiB / 11016MiB |     17%      Default |\n",
      "|                               |                      |                  N/A |\n",
      "+-------------------------------+----------------------+----------------------+\n",
      "                                                                               \n",
      "+-----------------------------------------------------------------------------+\n",
      "| Processes:                                                                  |\n",
      "|  GPU   GI   CI        PID   Type   Process name                  GPU Memory |\n",
      "|        ID   ID                                                   Usage      |\n",
      "|=============================================================================|\n",
      "|    0   N/A  N/A      1153      G   /usr/lib/xorg/Xorg                 27MiB |\n",
      "|    0   N/A  N/A      1271      G   /usr/bin/gnome-shell               56MiB |\n",
      "+-----------------------------------------------------------------------------+\n"
     ]
    }
   ],
   "source": [
    "if 'cuda' == device:\n",
    "    gpu_info = !nvidia-smi\n",
    "    gpu_info = '\\n'.join(gpu_info)\n",
    "\n",
    "    if runs_on_colab:\n",
    "        if wait_for_v100 and not gpu_info.find('V100') >= 0:\n",
    "            print('The current GPU is not a V100')\n",
    "            print('Since you want to wait for a V100 the current session is aborted')\n",
    "            raise ValueError\n",
    "\n",
    "        if gpu_info.find('failed') >= 0:\n",
    "            print('For training, please use a VM with GPU!')\n",
    "            raise ValueError\n",
    "            \n",
    "        from psutil import virtual_memory\n",
    "        ram_gb = virtual_memory().total / 1e9\n",
    "        print('Your runtime has {:.1f} gigabytes of available RAM\\n'.format(ram_gb))\n",
    "\n",
    "        if ram_gb < 20:\n",
    "            print('To enable a high-RAM runtime, select the Runtime > \"Change runtime type\"')\n",
    "            print('menu, and then select High-RAM in the Runtime shape dropdown. Then, ')\n",
    "            print('re-execute this cell.')\n",
    "        else:\n",
    "            print('You are using a high-RAM runtime!')\n",
    "            \n",
    "    print(gpu_info)"
   ]
  },
  {
   "cell_type": "markdown",
   "id": "connected-liver",
   "metadata": {
    "id": "connected-liver"
   },
   "source": [
    "## 3 Install packages and do Imports"
   ]
  },
  {
   "cell_type": "code",
   "execution_count": 5,
   "id": "copyrighted-peeing",
   "metadata": {
    "id": "copyrighted-peeing"
   },
   "outputs": [],
   "source": [
    "from dataclasses import dataclass, field\n",
    "from typing import Any, Dict, List, Optional, Union\n",
    "\n",
    "import torch\n",
    "import torchaudio\n",
    "from torch import nn\n",
    "from torch.cuda.amp import autocast\n",
    "\n",
    "from transformers import Wav2Vec2ForCTC, Wav2Vec2Processor, Wav2Vec2CTCTokenizer, Wav2Vec2FeatureExtractor\n",
    "from transformers import Trainer, TrainingArguments\n",
    "from transformers.trainer_utils import get_last_checkpoint, is_main_process\n",
    "from transformers.trainer_pt_utils import LengthGroupedSampler, DistributedLengthGroupedSampler\n",
    "\n",
    "import json\n",
    "import collections\n",
    "import librosa\n",
    "import numpy as np\n",
    "import pandas as pd\n",
    "import sklearn\n",
    "import jiwer\n",
    "from jiwer import wer\n",
    "from datasets import load_metric\n",
    "from tqdm.notebook import tqdm_notebook\n",
    "from sklearn.model_selection import train_test_split"
   ]
  },
  {
   "cell_type": "code",
   "execution_count": 6,
   "id": "7desxN6tZVU3",
   "metadata": {
    "id": "7desxN6tZVU3"
   },
   "outputs": [],
   "source": [
    "# %aimport SnippetDatasets\n",
    "# %aimport GermanSpeechDatasetWidgetFactory\n",
    "# %aimport GermanSpeechToTextTranslater\n",
    "# %autoreload 2\n",
    "from SnippetDatasets import SnippetDatasets\n",
    "from GermanSpeechDatasetWidgetFactory import GermanSpeechDatasetWidgetFactory\n",
    "from GermanSpeechToTextTranslater import GermanSpeechToTextTranslater"
   ]
  },
  {
   "cell_type": "markdown",
   "id": "certified-singing",
   "metadata": {
    "id": "certified-singing"
   },
   "source": [
    "## 4 Initialize Helper Classes"
   ]
  },
  {
   "cell_type": "code",
   "execution_count": 7,
   "id": "unexpected-ideal",
   "metadata": {
    "id": "unexpected-ideal",
    "scrolled": true
   },
   "outputs": [],
   "source": [
    "my_datasets = SnippetDatasets(\n",
    "    runs_on_colab, \n",
    "    local_audio_base_dir=local_data_dir, \n",
    "    git_repository=git_view_path,\n",
    "    extern_audio_base_dir=extern_data_dir\n",
    ")"
   ]
  },
  {
   "cell_type": "code",
   "execution_count": 8,
   "id": "measured-craps",
   "metadata": {
    "colab": {
     "base_uri": "https://localhost:8080/",
     "height": 151,
     "referenced_widgets": [
      "7b46e89a13764745915b7802aaedc5ee",
      "7d8e46c71b3e45cfa775157a66ac5a52",
      "78f2db221c504bfeb80d08123dde7808",
      "03c3d21fb26343a8b6fec43119e854ce",
      "449bce20528d4f0fa84a533edf31868f",
      "f6212268701e4b5485254734029c7eda",
      "da0a96e9b4194da4b5b242dc2d716bd9",
      "03ea4a943dfa478e9a1a87e251c05af6"
     ]
    },
    "executionInfo": {
     "elapsed": 77594,
     "status": "ok",
     "timestamp": 1620812368354,
     "user": {
      "displayName": "Elius Tibelius",
      "photoUrl": "",
      "userId": "00452752923460326984"
     },
     "user_tz": -120
    },
    "id": "measured-craps",
    "outputId": "e7a3968e-7107-4634-eab1-9ec5a4a2e424",
    "scrolled": true
   },
   "outputs": [
    {
     "name": "stdout",
     "output_type": "stream",
     "text": [
      "Initialize Model from Path: /home/ki-mo/shared/NLP-Models/GermanWave2Vec/trained_model\n",
      "Using Model: /home/ki-mo/shared/NLP-Models/GermanWave2Vec/trained_model\n",
      "Loading processor\n",
      "Loading metric\n",
      "json loaded: {'trained_epochs': 118}\n",
      "Saved Epoch: 118\n",
      "Loading model. Epoche 118\n"
     ]
    }
   ],
   "source": [
    "model_path = None\n",
    "\n",
    "if checkpoint:\n",
    "    model_path = f'{trained_model_path}/{checkpoint}'\n",
    "elif os.path.isfile(f'{trained_model_path}/pytorch_model.bin'):\n",
    "    model_path = trained_model_path\n",
    "\n",
    "print(f'Initialize Model from Path: {model_path}')\n",
    "translator = GermanSpeechToTextTranslater(model_name=model_path, ds_handler=my_datasets)"
   ]
  },
  {
   "cell_type": "markdown",
   "id": "XHvPPiWru_IC",
   "metadata": {
    "id": "XHvPPiWru_IC"
   },
   "source": [
    "## 5. Choose Dataset"
   ]
  },
  {
   "cell_type": "code",
   "execution_count": 9,
   "id": "A2FODbnsFmoC",
   "metadata": {
    "colab": {
     "base_uri": "https://localhost:8080/",
     "height": 237
    },
    "executionInfo": {
     "elapsed": 890,
     "status": "error",
     "timestamp": 1620852931702,
     "user": {
      "displayName": "Elius Tibelius",
      "photoUrl": "",
      "userId": "00452752923460326984"
     },
     "user_tz": -120
    },
    "id": "A2FODbnsFmoC",
    "outputId": "ce71c4b2-5ec1-41e9-a7cb-6ba14db9178d",
    "scrolled": false
   },
   "outputs": [
    {
     "name": "stdout",
     "output_type": "stream",
     "text": [
      "Please choose Datasets to use\n"
     ]
    },
    {
     "data": {
      "application/vnd.jupyter.widget-view+json": {
       "model_id": "30fe809136b947f6b562f86114951733",
       "version_major": 2,
       "version_minor": 0
      },
      "text/plain": [
       "Box(children=(Checkbox(value=False, description='HP1-FvM', indent=False), Checkbox(value=False, description='H…"
      ]
     },
     "metadata": {},
     "output_type": "display_data"
    }
   ],
   "source": [
    "widget_factory = GermanSpeechDatasetWidgetFactory(my_datasets, ds_to_use)\n",
    "print('Please choose Datasets to use')\n",
    "ds_checkboxes_widget = widget_factory.create_dataset_choice_widget()\n",
    "display(ds_checkboxes_widget)"
   ]
  },
  {
   "cell_type": "markdown",
   "id": "educational-trace",
   "metadata": {},
   "source": [
    "## 6. Test and update Datasets"
   ]
  },
  {
   "cell_type": "code",
   "execution_count": 14,
   "id": "governmental-found",
   "metadata": {
    "scrolled": true
   },
   "outputs": [
    {
     "name": "stdout",
     "output_type": "stream",
     "text": [
      "Loading Dataset: common-voice-de-02v30\n",
      "-----------------------------\n",
      "Loading Dataset: common-voice-de-02v30 - /home/ki-mo/shared/NLP-Data/audio/common-voice-de/common-voice-de-02v30/content-translated-with_original.csv\n",
      "Pruning Dataset common-voice-de-02v30 with 11906 Entries\n",
      " - 11906 Entries left after Length Cut (min=31, max=4000)\n",
      " - 11906 Entries left after Action Cut\n",
      "aktual trained epoches: 118\n",
      "old trained epoches: 118\n",
      "old word error rate: 22.431734059641038\n",
      "Translation is up to date\n",
      "Loading Dataset: common-voice-de-03v30\n",
      "-----------------------------\n",
      "Loading Dataset: common-voice-de-03v30 - /home/ki-mo/shared/NLP-Data/audio/common-voice-de/common-voice-de-03v30/content-translated-with_original.csv\n",
      "Pruning Dataset common-voice-de-03v30 with 18839 Entries\n",
      " - 18839 Entries left after Length Cut (min=31, max=4000)\n",
      " - 11954 Entries left after Action Cut\n",
      "aktual trained epoches: 118\n",
      "old trained epoches: 0\n",
      "old word error rate: 1\n",
      "Saving word_error_rate: 100\n",
      "Translate all\n"
     ]
    },
    {
     "data": {
      "application/vnd.jupyter.widget-view+json": {
       "model_id": "bb5b308c9c6a4f069297dab034605b9d",
       "version_major": 2,
       "version_minor": 0
      },
      "text/plain": [
       "HBox(children=(FloatProgress(value=0.0, max=11954.0), HTML(value='')))"
      ]
     },
     "metadata": {},
     "output_type": "display_data"
    },
    {
     "name": "stdout",
     "output_type": "stream",
     "text": [
      "\n",
      "Calculate WER\n",
      "WER: 0.21833651758060496\n",
      "No. of bad translated snippets: 7697\n",
      "Saving diff files\n",
      "Loading Dataset: common-voice-de-04v30\n",
      "-----------------------------\n",
      "Loading Dataset: common-voice-de-04v30 - /home/ki-mo/shared/NLP-Data/audio/common-voice-de/common-voice-de-04v30/content-translated-with_original.csv\n",
      "Pruning Dataset common-voice-de-04v30 with 18839 Entries\n",
      " - 18839 Entries left after Length Cut (min=31, max=4000)\n",
      " - 12162 Entries left after Action Cut\n",
      "aktual trained epoches: 118\n",
      "old trained epoches: 0\n",
      "old word error rate: 1\n",
      "Saving word_error_rate: 100\n",
      "Translate all\n"
     ]
    },
    {
     "data": {
      "application/vnd.jupyter.widget-view+json": {
       "model_id": "3da11986f7994c65883ec4ba8faab9c3",
       "version_major": 2,
       "version_minor": 0
      },
      "text/plain": [
       "HBox(children=(FloatProgress(value=0.0, max=12162.0), HTML(value='')))"
      ]
     },
     "metadata": {},
     "output_type": "display_data"
    },
    {
     "name": "stdout",
     "output_type": "stream",
     "text": [
      "\n",
      "Calculate WER\n",
      "WER: 0.20339738680140376\n",
      "No. of bad translated snippets: 7686\n",
      "Saving diff files\n",
      "Loading Dataset: common-voice-de-05v30\n",
      "-----------------------------\n",
      "Loading Dataset: common-voice-de-05v30 - /home/ki-mo/shared/NLP-Data/audio/common-voice-de/common-voice-de-05v30/content-translated-with_original.csv\n",
      "Pruning Dataset common-voice-de-05v30 with 18839 Entries\n",
      " - 18839 Entries left after Length Cut (min=31, max=4000)\n",
      " - 11957 Entries left after Action Cut\n",
      "aktual trained epoches: 118\n",
      "old trained epoches: 0\n",
      "old word error rate: 1\n",
      "Saving word_error_rate: 100\n",
      "Translate all\n"
     ]
    },
    {
     "data": {
      "application/vnd.jupyter.widget-view+json": {
       "model_id": "6c32fd3f020647ceaa809cf601a163fb",
       "version_major": 2,
       "version_minor": 0
      },
      "text/plain": [
       "HBox(children=(FloatProgress(value=0.0, max=11957.0), HTML(value='')))"
      ]
     },
     "metadata": {},
     "output_type": "display_data"
    },
    {
     "name": "stdout",
     "output_type": "stream",
     "text": [
      "\n",
      "Calculate WER\n",
      "WER: 0.20198052851182197\n",
      "No. of bad translated snippets: 7770\n",
      "Saving diff files\n",
      "Loading Dataset: common-voice-de-06v30\n",
      "-----------------------------\n",
      "Loading Dataset: common-voice-de-06v30 - /home/ki-mo/shared/NLP-Data/audio/common-voice-de/common-voice-de-06v30/content-translated-with_original.csv\n",
      "Pruning Dataset common-voice-de-06v30 with 18839 Entries\n",
      " - 18839 Entries left after Length Cut (min=31, max=4000)\n",
      " - 12262 Entries left after Action Cut\n",
      "aktual trained epoches: 118\n",
      "old trained epoches: 0\n",
      "old word error rate: 1\n",
      "Saving word_error_rate: 100\n",
      "Translate all\n"
     ]
    },
    {
     "data": {
      "application/vnd.jupyter.widget-view+json": {
       "model_id": "48c89d67ed704b1492a66efafb43a1ab",
       "version_major": 2,
       "version_minor": 0
      },
      "text/plain": [
       "HBox(children=(FloatProgress(value=0.0, max=12262.0), HTML(value='')))"
      ]
     },
     "metadata": {},
     "output_type": "display_data"
    },
    {
     "name": "stdout",
     "output_type": "stream",
     "text": [
      "\n",
      "Calculate WER\n",
      "WER: 0.20112950299760823\n",
      "No. of bad translated snippets: 8070\n",
      "Saving diff files\n",
      "Loading Dataset: common-voice-de-07v30\n",
      "-----------------------------\n",
      "Loading Dataset: common-voice-de-07v30 - /home/ki-mo/shared/NLP-Data/audio/common-voice-de/common-voice-de-07v30/content-translated-with_original.csv\n",
      "Pruning Dataset common-voice-de-07v30 with 18839 Entries\n",
      " - 18838 Entries left after Length Cut (min=31, max=4000)\n",
      " - 12163 Entries left after Action Cut\n",
      "aktual trained epoches: 118\n",
      "old trained epoches: 0\n",
      "old word error rate: 1\n",
      "Saving word_error_rate: 100\n",
      "Translate all\n"
     ]
    },
    {
     "data": {
      "application/vnd.jupyter.widget-view+json": {
       "model_id": "d21f45bab0f34dc08998aee91fdc9b0e",
       "version_major": 2,
       "version_minor": 0
      },
      "text/plain": [
       "HBox(children=(FloatProgress(value=0.0, max=12163.0), HTML(value='')))"
      ]
     },
     "metadata": {},
     "output_type": "display_data"
    },
    {
     "name": "stdout",
     "output_type": "stream",
     "text": [
      "\n",
      "Calculate WER\n",
      "WER: 0.19925371569922226\n",
      "No. of bad translated snippets: 8167\n",
      "Saving diff files\n",
      "Loading Dataset: common-voice-de-08v30\n",
      "-----------------------------\n",
      "Loading Dataset: common-voice-de-08v30 - /home/ki-mo/shared/NLP-Data/audio/common-voice-de/common-voice-de-08v30/content-translated-with_original.csv\n",
      "Pruning Dataset common-voice-de-08v30 with 18839 Entries\n",
      " - 18839 Entries left after Length Cut (min=31, max=4000)\n",
      " - 11815 Entries left after Action Cut\n",
      "aktual trained epoches: 118\n",
      "old trained epoches: 0\n",
      "old word error rate: 1\n",
      "Saving word_error_rate: 100\n",
      "Translate all\n"
     ]
    },
    {
     "data": {
      "application/vnd.jupyter.widget-view+json": {
       "model_id": "67a33396828d47e4a157bea3a6ad8595",
       "version_major": 2,
       "version_minor": 0
      },
      "text/plain": [
       "HBox(children=(FloatProgress(value=0.0, max=11815.0), HTML(value='')))"
      ]
     },
     "metadata": {},
     "output_type": "display_data"
    },
    {
     "name": "stdout",
     "output_type": "stream",
     "text": [
      "\n",
      "Calculate WER\n",
      "WER: 0.1993439340525918\n",
      "No. of bad translated snippets: 7980\n",
      "Saving diff files\n",
      "Loading Dataset: common-voice-de-09v30\n",
      "-----------------------------\n",
      "Loading Dataset: common-voice-de-09v30 - /home/ki-mo/shared/NLP-Data/audio/common-voice-de/common-voice-de-09v30/content-translated-with_original.csv\n",
      "Pruning Dataset common-voice-de-09v30 with 18839 Entries\n",
      " - 18839 Entries left after Length Cut (min=31, max=4000)\n",
      " - 12443 Entries left after Action Cut\n",
      "aktual trained epoches: 118\n",
      "old trained epoches: 0\n",
      "old word error rate: 1\n",
      "Saving word_error_rate: 100\n",
      "Translate all\n"
     ]
    },
    {
     "data": {
      "application/vnd.jupyter.widget-view+json": {
       "model_id": "dcaf3ca46cfa42af816ffd4e2355937b",
       "version_major": 2,
       "version_minor": 0
      },
      "text/plain": [
       "HBox(children=(FloatProgress(value=0.0, max=12443.0), HTML(value='')))"
      ]
     },
     "metadata": {},
     "output_type": "display_data"
    },
    {
     "name": "stdout",
     "output_type": "stream",
     "text": [
      "\n",
      "Calculate WER\n",
      "WER: 0.19708820489959678\n",
      "No. of bad translated snippets: 8538\n",
      "Saving diff files\n",
      "Loading Dataset: common-voice-de-10v30\n",
      "-----------------------------\n",
      "Loading Dataset: common-voice-de-10v30 - /home/ki-mo/shared/NLP-Data/audio/common-voice-de/common-voice-de-10v30/content-translated-with_original.csv\n",
      "Pruning Dataset common-voice-de-10v30 with 18839 Entries\n",
      " - 18838 Entries left after Length Cut (min=31, max=4000)\n",
      " - 12643 Entries left after Action Cut\n",
      "aktual trained epoches: 118\n",
      "old trained epoches: 0\n",
      "old word error rate: 1\n",
      "Saving word_error_rate: 100\n",
      "Translate all\n"
     ]
    },
    {
     "data": {
      "application/vnd.jupyter.widget-view+json": {
       "model_id": "a878fc52a86e4eb080bcb6f348b88873",
       "version_major": 2,
       "version_minor": 0
      },
      "text/plain": [
       "HBox(children=(FloatProgress(value=0.0, max=12643.0), HTML(value='')))"
      ]
     },
     "metadata": {},
     "output_type": "display_data"
    },
    {
     "name": "stdout",
     "output_type": "stream",
     "text": [
      "\n",
      "Calculate WER\n",
      "WER: 0.2023704387619927\n",
      "No. of bad translated snippets: 8623\n",
      "Saving diff files\n",
      "Loading Dataset: common-voice-de-11v30\n",
      "-----------------------------\n",
      "Loading Dataset: common-voice-de-11v30 - /home/ki-mo/shared/NLP-Data/audio/common-voice-de/common-voice-de-11v30/content-translated-with_original.csv\n",
      "Pruning Dataset common-voice-de-11v30 with 18839 Entries\n",
      " - 18839 Entries left after Length Cut (min=31, max=4000)\n",
      " - 12538 Entries left after Action Cut\n",
      "aktual trained epoches: 118\n",
      "old trained epoches: 0\n",
      "old word error rate: 1\n",
      "Saving word_error_rate: 100\n",
      "Translate all\n"
     ]
    },
    {
     "data": {
      "application/vnd.jupyter.widget-view+json": {
       "model_id": "61071e19aa234d63b801224f90d141c0",
       "version_major": 2,
       "version_minor": 0
      },
      "text/plain": [
       "HBox(children=(FloatProgress(value=0.0, max=12538.0), HTML(value='')))"
      ]
     },
     "metadata": {},
     "output_type": "display_data"
    },
    {
     "name": "stdout",
     "output_type": "stream",
     "text": [
      "\n",
      "Calculate WER\n",
      "WER: 0.18628199257110872\n",
      "No. of bad translated snippets: 8255\n",
      "Saving diff files\n",
      "Loading Dataset: common-voice-de-12v30\n",
      "-----------------------------\n",
      "Loading Dataset: common-voice-de-12v30 - /home/ki-mo/shared/NLP-Data/audio/common-voice-de/common-voice-de-12v30/content-translated-with_original.csv\n",
      "Pruning Dataset common-voice-de-12v30 with 18839 Entries\n",
      " - 18839 Entries left after Length Cut (min=31, max=4000)\n",
      " - 12012 Entries left after Action Cut\n",
      "aktual trained epoches: 118\n",
      "old trained epoches: 0\n",
      "old word error rate: 1\n",
      "Saving word_error_rate: 100\n",
      "Translate all\n"
     ]
    },
    {
     "data": {
      "application/vnd.jupyter.widget-view+json": {
       "model_id": "9066060eb6ae441fb80715ecca1dfdf9",
       "version_major": 2,
       "version_minor": 0
      },
      "text/plain": [
       "HBox(children=(FloatProgress(value=0.0, max=12012.0), HTML(value='')))"
      ]
     },
     "metadata": {},
     "output_type": "display_data"
    },
    {
     "name": "stdout",
     "output_type": "stream",
     "text": [
      "\n",
      "Calculate WER\n",
      "WER: 0.19391551761873496\n",
      "No. of bad translated snippets: 8147\n",
      "Saving diff files\n",
      "Loading Dataset: common-voice-de-13v30\n",
      "-----------------------------\n",
      "Loading Dataset: common-voice-de-13v30 - /home/ki-mo/shared/NLP-Data/audio/common-voice-de/common-voice-de-13v30/content-translated-with_original.csv\n",
      "Pruning Dataset common-voice-de-13v30 with 18839 Entries\n",
      " - 18839 Entries left after Length Cut (min=31, max=4000)\n",
      " - 13049 Entries left after Action Cut\n",
      "aktual trained epoches: 118\n",
      "old trained epoches: 0\n",
      "old word error rate: 1\n",
      "Saving word_error_rate: 100\n",
      "Translate all\n"
     ]
    },
    {
     "data": {
      "application/vnd.jupyter.widget-view+json": {
       "model_id": "5e7b946b15894422921c536d147edb87",
       "version_major": 2,
       "version_minor": 0
      },
      "text/plain": [
       "HBox(children=(FloatProgress(value=0.0, max=13049.0), HTML(value='')))"
      ]
     },
     "metadata": {},
     "output_type": "display_data"
    },
    {
     "name": "stdout",
     "output_type": "stream",
     "text": [
      "\n",
      "Calculate WER\n",
      "WER: 0.20507356175766167\n",
      "No. of bad translated snippets: 8944\n",
      "Saving diff files\n",
      "Loading Dataset: common-voice-de-14v30\n",
      "-----------------------------\n",
      "Loading Dataset: common-voice-de-14v30 - /home/ki-mo/shared/NLP-Data/audio/common-voice-de/common-voice-de-14v30/content-translated-with_original.csv\n",
      "Pruning Dataset common-voice-de-14v30 with 18839 Entries\n",
      " - 18839 Entries left after Length Cut (min=31, max=4000)\n",
      " - 13063 Entries left after Action Cut\n",
      "aktual trained epoches: 118\n",
      "old trained epoches: 0\n",
      "old word error rate: 1\n",
      "Saving word_error_rate: 100\n",
      "Translate all\n"
     ]
    },
    {
     "data": {
      "application/vnd.jupyter.widget-view+json": {
       "model_id": "4dd578a68d604307b0621ec073cc6516",
       "version_major": 2,
       "version_minor": 0
      },
      "text/plain": [
       "HBox(children=(FloatProgress(value=0.0, max=13063.0), HTML(value='')))"
      ]
     },
     "metadata": {},
     "output_type": "display_data"
    },
    {
     "name": "stdout",
     "output_type": "stream",
     "text": [
      "\n",
      "Calculate WER\n",
      "WER: 0.1953047547289527\n",
      "No. of bad translated snippets: 8847\n",
      "Saving diff files\n",
      "Loading Dataset: common-voice-de-15v30\n",
      "-----------------------------\n",
      "Loading Dataset: common-voice-de-15v30 - /home/ki-mo/shared/NLP-Data/audio/common-voice-de/common-voice-de-15v30/content-translated-with_original.csv\n",
      "Pruning Dataset common-voice-de-15v30 with 18839 Entries\n",
      " - 18839 Entries left after Length Cut (min=31, max=4000)\n",
      " - 12468 Entries left after Action Cut\n",
      "aktual trained epoches: 118\n",
      "old trained epoches: 0\n",
      "old word error rate: 1\n",
      "Saving word_error_rate: 100\n",
      "Translate all\n"
     ]
    },
    {
     "data": {
      "application/vnd.jupyter.widget-view+json": {
       "model_id": "d3489cf9bd2d4eb19fb4c233a4905bd3",
       "version_major": 2,
       "version_minor": 0
      },
      "text/plain": [
       "HBox(children=(FloatProgress(value=0.0, max=12468.0), HTML(value='')))"
      ]
     },
     "metadata": {},
     "output_type": "display_data"
    },
    {
     "name": "stdout",
     "output_type": "stream",
     "text": [
      "\n",
      "Calculate WER\n",
      "WER: 0.20303813964853692\n",
      "No. of bad translated snippets: 8732\n",
      "Saving diff files\n",
      "Loading Dataset: common-voice-de-16v30\n",
      "-----------------------------\n",
      "Loading Dataset: common-voice-de-16v30 - /home/ki-mo/shared/NLP-Data/audio/common-voice-de/common-voice-de-16v30/content-translated-with_original.csv\n",
      "Pruning Dataset common-voice-de-16v30 with 18839 Entries\n",
      " - 18839 Entries left after Length Cut (min=31, max=4000)\n",
      " - 13105 Entries left after Action Cut\n",
      "aktual trained epoches: 118\n",
      "old trained epoches: 0\n",
      "old word error rate: 1\n",
      "Saving word_error_rate: 100\n",
      "Translate all\n"
     ]
    },
    {
     "data": {
      "application/vnd.jupyter.widget-view+json": {
       "model_id": "1655f82f721d408d8552bb8cf2eb81d8",
       "version_major": 2,
       "version_minor": 0
      },
      "text/plain": [
       "HBox(children=(FloatProgress(value=0.0, max=13105.0), HTML(value='')))"
      ]
     },
     "metadata": {},
     "output_type": "display_data"
    },
    {
     "name": "stdout",
     "output_type": "stream",
     "text": [
      "\n",
      "Calculate WER\n",
      "WER: 0.19678485695171383\n",
      "No. of bad translated snippets: 8807\n",
      "Saving diff files\n",
      "Loading Dataset: common-voice-de-17v30\n",
      "-----------------------------\n",
      "Loading Dataset: common-voice-de-17v30 - /home/ki-mo/shared/NLP-Data/audio/common-voice-de/common-voice-de-17v30/content-translated-with_original.csv\n",
      "Pruning Dataset common-voice-de-17v30 with 18839 Entries\n",
      " - 18839 Entries left after Length Cut (min=31, max=4000)\n",
      " - 12372 Entries left after Action Cut\n",
      "aktual trained epoches: 118\n",
      "old trained epoches: 0\n",
      "old word error rate: 1\n",
      "Saving word_error_rate: 100\n",
      "Translate all\n"
     ]
    },
    {
     "data": {
      "application/vnd.jupyter.widget-view+json": {
       "model_id": "b7d76d36d38c4f08a407af37df6868e4",
       "version_major": 2,
       "version_minor": 0
      },
      "text/plain": [
       "HBox(children=(FloatProgress(value=0.0, max=12372.0), HTML(value='')))"
      ]
     },
     "metadata": {},
     "output_type": "display_data"
    },
    {
     "name": "stdout",
     "output_type": "stream",
     "text": [
      "\n",
      "Calculate WER\n",
      "WER: 0.20388299832152945\n",
      "No. of bad translated snippets: 8551\n",
      "Saving diff files\n",
      "Loading Dataset: common-voice-de-18v30\n",
      "-----------------------------\n",
      "Loading Dataset: common-voice-de-18v30 - /home/ki-mo/shared/NLP-Data/audio/common-voice-de/common-voice-de-18v30/content-translated-with_original.csv\n",
      "Pruning Dataset common-voice-de-18v30 with 18839 Entries\n",
      " - 18839 Entries left after Length Cut (min=31, max=4000)\n",
      " - 11593 Entries left after Action Cut\n",
      "aktual trained epoches: 118\n",
      "old trained epoches: 0\n",
      "old word error rate: 1\n",
      "Saving word_error_rate: 100\n",
      "Translate all\n"
     ]
    },
    {
     "data": {
      "application/vnd.jupyter.widget-view+json": {
       "model_id": "df6c7e951d564734901907e2dbb4283c",
       "version_major": 2,
       "version_minor": 0
      },
      "text/plain": [
       "HBox(children=(FloatProgress(value=0.0, max=11593.0), HTML(value='')))"
      ]
     },
     "metadata": {},
     "output_type": "display_data"
    },
    {
     "name": "stdout",
     "output_type": "stream",
     "text": [
      "\n",
      "Calculate WER\n",
      "WER: 0.17037262772955591\n",
      "No. of bad translated snippets: 7501\n",
      "Saving diff files\n",
      "Loading Dataset: common-voice-de-19v30\n",
      "-----------------------------\n",
      "Loading Dataset: common-voice-de-19v30 - /home/ki-mo/shared/NLP-Data/audio/common-voice-de/common-voice-de-19v30/content-translated-with_original.csv\n",
      "Pruning Dataset common-voice-de-19v30 with 18839 Entries\n",
      " - 18839 Entries left after Length Cut (min=31, max=4000)\n",
      " - 11482 Entries left after Action Cut\n",
      "aktual trained epoches: 118\n",
      "old trained epoches: 0\n",
      "old word error rate: 1\n",
      "Saving word_error_rate: 100\n",
      "Translate all\n"
     ]
    },
    {
     "data": {
      "application/vnd.jupyter.widget-view+json": {
       "model_id": "2ee6a7b76fb5470e891e220940a99d07",
       "version_major": 2,
       "version_minor": 0
      },
      "text/plain": [
       "HBox(children=(FloatProgress(value=0.0, max=11482.0), HTML(value='')))"
      ]
     },
     "metadata": {},
     "output_type": "display_data"
    },
    {
     "name": "stdout",
     "output_type": "stream",
     "text": [
      "\n",
      "Calculate WER\n",
      "WER: 0.1866290626398443\n",
      "No. of bad translated snippets: 7765\n",
      "Saving diff files\n",
      "Loading Dataset: common-voice-de-20v30\n",
      "-----------------------------\n",
      "Loading Dataset: common-voice-de-20v30 - /home/ki-mo/shared/NLP-Data/audio/common-voice-de/common-voice-de-20v30/content-translated-with_original.csv\n",
      "Pruning Dataset common-voice-de-20v30 with 18839 Entries\n",
      " - 18839 Entries left after Length Cut (min=31, max=4000)\n",
      " - 13091 Entries left after Action Cut\n",
      "aktual trained epoches: 118\n",
      "old trained epoches: 0\n",
      "old word error rate: 1\n",
      "Saving word_error_rate: 100\n",
      "Translate all\n"
     ]
    },
    {
     "data": {
      "application/vnd.jupyter.widget-view+json": {
       "model_id": "b1adf2e85a224e9da038609fbd336a29",
       "version_major": 2,
       "version_minor": 0
      },
      "text/plain": [
       "HBox(children=(FloatProgress(value=0.0, max=13091.0), HTML(value='')))"
      ]
     },
     "metadata": {},
     "output_type": "display_data"
    },
    {
     "name": "stdout",
     "output_type": "stream",
     "text": [
      "\n",
      "Calculate WER\n",
      "WER: 0.16465333371591442\n",
      "No. of bad translated snippets: 8060\n",
      "Saving diff files\n",
      "Loading Dataset: common-voice-de-21v30\n",
      "-----------------------------\n",
      "Loading Dataset: common-voice-de-21v30 - /home/ki-mo/shared/NLP-Data/audio/common-voice-de/common-voice-de-21v30/content-translated-with_original.csv\n",
      "Pruning Dataset common-voice-de-21v30 with 18839 Entries\n",
      " - 18838 Entries left after Length Cut (min=31, max=4000)\n",
      " - 12796 Entries left after Action Cut\n",
      "aktual trained epoches: 118\n",
      "old trained epoches: 0\n",
      "old word error rate: 1\n",
      "Saving word_error_rate: 100\n",
      "Translate all\n"
     ]
    },
    {
     "data": {
      "application/vnd.jupyter.widget-view+json": {
       "model_id": "b9edcaf2b976428eb65cc33aeb95509b",
       "version_major": 2,
       "version_minor": 0
      },
      "text/plain": [
       "HBox(children=(FloatProgress(value=0.0, max=12796.0), HTML(value='')))"
      ]
     },
     "metadata": {},
     "output_type": "display_data"
    },
    {
     "name": "stdout",
     "output_type": "stream",
     "text": [
      "\n",
      "Calculate WER\n",
      "WER: 0.17010832438762566\n",
      "No. of bad translated snippets: 8116\n",
      "Saving diff files\n",
      "Loading Dataset: common-voice-de-22v30\n",
      "-----------------------------\n",
      "Loading Dataset: common-voice-de-22v30 - /home/ki-mo/shared/NLP-Data/audio/common-voice-de/common-voice-de-22v30/content-translated-with_original.csv\n",
      "Pruning Dataset common-voice-de-22v30 with 18839 Entries\n",
      " - 18839 Entries left after Length Cut (min=31, max=4000)\n",
      " - 12597 Entries left after Action Cut\n",
      "aktual trained epoches: 118\n",
      "old trained epoches: 0\n",
      "old word error rate: 1\n",
      "Saving word_error_rate: 100\n",
      "Translate all\n"
     ]
    },
    {
     "data": {
      "application/vnd.jupyter.widget-view+json": {
       "model_id": "5dd0280fa3814da68a5f143018e5bba3",
       "version_major": 2,
       "version_minor": 0
      },
      "text/plain": [
       "HBox(children=(FloatProgress(value=0.0, max=12597.0), HTML(value='')))"
      ]
     },
     "metadata": {},
     "output_type": "display_data"
    },
    {
     "name": "stdout",
     "output_type": "stream",
     "text": [
      "\n",
      "Calculate WER\n",
      "WER: 0.20323576434626098\n",
      "No. of bad translated snippets: 8908\n",
      "Saving diff files\n",
      "Loading Dataset: common-voice-de-23v30\n",
      "-----------------------------\n",
      "Loading Dataset: common-voice-de-23v30 - /home/ki-mo/shared/NLP-Data/audio/common-voice-de/common-voice-de-23v30/content-translated-with_original.csv\n",
      "Pruning Dataset common-voice-de-23v30 with 18839 Entries\n",
      " - 18839 Entries left after Length Cut (min=31, max=4000)\n",
      " - 13600 Entries left after Action Cut\n",
      "aktual trained epoches: 118\n",
      "old trained epoches: 0\n",
      "old word error rate: 1\n",
      "Saving word_error_rate: 100\n",
      "Translate all\n"
     ]
    },
    {
     "data": {
      "application/vnd.jupyter.widget-view+json": {
       "model_id": "8cbc5aa4d6e447cc9dbffe8ed1cef7cf",
       "version_major": 2,
       "version_minor": 0
      },
      "text/plain": [
       "HBox(children=(FloatProgress(value=0.0, max=13600.0), HTML(value='')))"
      ]
     },
     "metadata": {},
     "output_type": "display_data"
    },
    {
     "name": "stdout",
     "output_type": "stream",
     "text": [
      "\n",
      "Calculate WER\n",
      "WER: 0.22030627549509443\n",
      "No. of bad translated snippets: 9796\n",
      "Saving diff files\n",
      "Loading Dataset: common-voice-de-24v30\n",
      "-----------------------------\n",
      "Loading Dataset: common-voice-de-24v30 - /home/ki-mo/shared/NLP-Data/audio/common-voice-de/common-voice-de-24v30/content-translated-with_original.csv\n",
      "Pruning Dataset common-voice-de-24v30 with 18839 Entries\n",
      " - 18839 Entries left after Length Cut (min=31, max=4000)\n",
      " - 13041 Entries left after Action Cut\n",
      "aktual trained epoches: 118\n",
      "old trained epoches: 0\n",
      "old word error rate: 1\n",
      "Saving word_error_rate: 100\n",
      "Translate all\n"
     ]
    },
    {
     "data": {
      "application/vnd.jupyter.widget-view+json": {
       "model_id": "7c153af6ccab401aac4613f33d9661ae",
       "version_major": 2,
       "version_minor": 0
      },
      "text/plain": [
       "HBox(children=(FloatProgress(value=0.0, max=13041.0), HTML(value='')))"
      ]
     },
     "metadata": {},
     "output_type": "display_data"
    },
    {
     "name": "stdout",
     "output_type": "stream",
     "text": [
      "\n",
      "Calculate WER\n",
      "WER: 0.2096123640171421\n",
      "No. of bad translated snippets: 8169\n",
      "Saving diff files\n",
      "Loading Dataset: common-voice-de-25v30\n",
      "-----------------------------\n",
      "Loading Dataset: common-voice-de-25v30 - /home/ki-mo/shared/NLP-Data/audio/common-voice-de/common-voice-de-25v30/content-translated-with_original.csv\n",
      "Pruning Dataset common-voice-de-25v30 with 18839 Entries\n",
      " - 18839 Entries left after Length Cut (min=31, max=4000)\n",
      " - 13468 Entries left after Action Cut\n",
      "aktual trained epoches: 118\n",
      "old trained epoches: 0\n",
      "old word error rate: 1\n",
      "Saving word_error_rate: 100\n",
      "Translate all\n"
     ]
    },
    {
     "data": {
      "application/vnd.jupyter.widget-view+json": {
       "model_id": "839bc5c5d9914da7a9811d6ba25d35b2",
       "version_major": 2,
       "version_minor": 0
      },
      "text/plain": [
       "HBox(children=(FloatProgress(value=0.0, max=13468.0), HTML(value='')))"
      ]
     },
     "metadata": {},
     "output_type": "display_data"
    },
    {
     "name": "stdout",
     "output_type": "stream",
     "text": [
      "\n",
      "Calculate WER\n",
      "WER: 0.18466002514749977\n",
      "No. of bad translated snippets: 8777\n",
      "Saving diff files\n",
      "Loading Dataset: common-voice-de-26v30\n",
      "-----------------------------\n",
      "Loading Dataset: common-voice-de-26v30 - /home/ki-mo/shared/NLP-Data/audio/common-voice-de/common-voice-de-26v30/content-translated-with_original.csv\n",
      "Pruning Dataset common-voice-de-26v30 with 18839 Entries\n",
      " - 18839 Entries left after Length Cut (min=31, max=4000)\n",
      " - 13239 Entries left after Action Cut\n",
      "aktual trained epoches: 118\n",
      "old trained epoches: 0\n",
      "old word error rate: 1\n",
      "Saving word_error_rate: 100\n",
      "Translate all\n"
     ]
    },
    {
     "data": {
      "application/vnd.jupyter.widget-view+json": {
       "model_id": "c0142194eff747969a32312354459289",
       "version_major": 2,
       "version_minor": 0
      },
      "text/plain": [
       "HBox(children=(FloatProgress(value=0.0, max=13239.0), HTML(value='')))"
      ]
     },
     "metadata": {},
     "output_type": "display_data"
    },
    {
     "name": "stdout",
     "output_type": "stream",
     "text": [
      "\n",
      "Calculate WER\n",
      "WER: 0.1518343184216178\n",
      "No. of bad translated snippets: 7975\n",
      "Saving diff files\n",
      "Loading Dataset: common-voice-de-27v30\n",
      "-----------------------------\n",
      "Loading Dataset: common-voice-de-27v30 - /home/ki-mo/shared/NLP-Data/audio/common-voice-de/common-voice-de-27v30/content-translated-with_original.csv\n",
      "Pruning Dataset common-voice-de-27v30 with 18839 Entries\n",
      " - 18839 Entries left after Length Cut (min=31, max=4000)\n",
      " - 12819 Entries left after Action Cut\n",
      "aktual trained epoches: 118\n",
      "old trained epoches: 0\n",
      "old word error rate: 1\n",
      "Saving word_error_rate: 100\n",
      "Translate all\n"
     ]
    },
    {
     "data": {
      "application/vnd.jupyter.widget-view+json": {
       "model_id": "7c7c377e35184ed38200d31da119c960",
       "version_major": 2,
       "version_minor": 0
      },
      "text/plain": [
       "HBox(children=(FloatProgress(value=0.0, max=12819.0), HTML(value='')))"
      ]
     },
     "metadata": {},
     "output_type": "display_data"
    },
    {
     "name": "stdout",
     "output_type": "stream",
     "text": [
      "\n",
      "Calculate WER\n",
      "WER: 0.17827723694063835\n",
      "No. of bad translated snippets: 8321\n",
      "Saving diff files\n",
      "Loading Dataset: common-voice-de-28v30\n",
      "-----------------------------\n",
      "Loading Dataset: common-voice-de-28v30 - /home/ki-mo/shared/NLP-Data/audio/common-voice-de/common-voice-de-28v30/content-translated-with_original.csv\n",
      "Pruning Dataset common-voice-de-28v30 with 18839 Entries\n",
      " - 18839 Entries left after Length Cut (min=31, max=4000)\n",
      " - 8071 Entries left after Action Cut\n",
      "aktual trained epoches: 118\n",
      "old trained epoches: 0\n",
      "old word error rate: 1\n",
      "Saving word_error_rate: 100\n",
      "Translate all\n"
     ]
    },
    {
     "data": {
      "application/vnd.jupyter.widget-view+json": {
       "model_id": "396d7f8da83b44fa960d79d1897ff4ec",
       "version_major": 2,
       "version_minor": 0
      },
      "text/plain": [
       "HBox(children=(FloatProgress(value=0.0, max=8071.0), HTML(value='')))"
      ]
     },
     "metadata": {},
     "output_type": "display_data"
    },
    {
     "name": "stdout",
     "output_type": "stream",
     "text": [
      "\n",
      "Calculate WER\n",
      "WER: 0.15169588216989938\n",
      "No. of bad translated snippets: 5437\n",
      "Saving diff files\n",
      "Loading Dataset: common-voice-de-29v30\n",
      "-----------------------------\n",
      "Loading Dataset: common-voice-de-29v30 - /home/ki-mo/shared/NLP-Data/audio/common-voice-de/common-voice-de-29v30/content-translated-with_original.csv\n",
      "Pruning Dataset common-voice-de-29v30 with 18839 Entries\n",
      " - 18839 Entries left after Length Cut (min=31, max=4000)\n",
      " - 7960 Entries left after Action Cut\n",
      "aktual trained epoches: 118\n",
      "old trained epoches: 0\n",
      "old word error rate: 1\n",
      "Saving word_error_rate: 100\n",
      "Translate all\n"
     ]
    },
    {
     "data": {
      "application/vnd.jupyter.widget-view+json": {
       "model_id": "dd6c1551f5864e89bd3df5227fc434e7",
       "version_major": 2,
       "version_minor": 0
      },
      "text/plain": [
       "HBox(children=(FloatProgress(value=0.0, max=7960.0), HTML(value='')))"
      ]
     },
     "metadata": {},
     "output_type": "display_data"
    },
    {
     "name": "stdout",
     "output_type": "stream",
     "text": [
      "\n",
      "Calculate WER\n",
      "WER: 0.17257246813007476\n",
      "No. of bad translated snippets: 5757\n",
      "Saving diff files\n",
      "Loading Dataset: common-voice-de-30v30\n",
      "-----------------------------\n",
      "Loading Dataset: common-voice-de-30v30 - /home/ki-mo/shared/NLP-Data/audio/common-voice-de/common-voice-de-30v30/content-translated-with_original.csv\n",
      "Pruning Dataset common-voice-de-30v30 with 18839 Entries\n",
      " - 18839 Entries left after Length Cut (min=31, max=4000)\n",
      " - 9525 Entries left after Action Cut\n",
      "aktual trained epoches: 118\n",
      "old trained epoches: 0\n",
      "old word error rate: 1\n",
      "Saving word_error_rate: 100\n",
      "Translate all\n"
     ]
    },
    {
     "data": {
      "application/vnd.jupyter.widget-view+json": {
       "model_id": "7ac5e237a6c14dcba5bdd179036f88e1",
       "version_major": 2,
       "version_minor": 0
      },
      "text/plain": [
       "HBox(children=(FloatProgress(value=0.0, max=9525.0), HTML(value='')))"
      ]
     },
     "metadata": {},
     "output_type": "display_data"
    },
    {
     "name": "stdout",
     "output_type": "stream",
     "text": [
      "\n",
      "Calculate WER\n",
      "WER: 0.170118041552439\n",
      "No. of bad translated snippets: 6688\n",
      "Saving diff files\n",
      "Loading Dataset: german-speechdata-package-v2-1v4\n",
      "-----------------------------\n",
      "Loading Dataset: german-speechdata-package-v2-1v4 - /home/ki-mo/shared/NLP-Data/audio/german-speechdata-package-v2/german-speechdata-package-v2-1v4/content-translated-with_original.csv\n",
      "Pruning Dataset german-speechdata-package-v2-1v4 with 20106 Entries\n",
      " - 20091 Entries left after Length Cut (min=31, max=4000)\n",
      " - 7481 Entries left after Action Cut\n",
      "aktual trained epoches: 118\n",
      "old trained epoches: 0\n",
      "old word error rate: 1\n",
      "Saving word_error_rate: 100\n",
      "Translate all\n"
     ]
    },
    {
     "data": {
      "application/vnd.jupyter.widget-view+json": {
       "model_id": "3eb56abe8a134ff59929a4f8c0e1a0ab",
       "version_major": 2,
       "version_minor": 0
      },
      "text/plain": [
       "HBox(children=(FloatProgress(value=0.0, max=7481.0), HTML(value='')))"
      ]
     },
     "metadata": {},
     "output_type": "display_data"
    },
    {
     "name": "stdout",
     "output_type": "stream",
     "text": [
      "\n",
      "Calculate WER\n",
      "WER: 0.17572201338589896\n",
      "No. of bad translated snippets: 4991\n",
      "Saving diff files\n",
      "Loading Dataset: german-speechdata-package-v2-2v4\n",
      "-----------------------------\n",
      "Loading Dataset: german-speechdata-package-v2-2v4 - /home/ki-mo/shared/NLP-Data/audio/german-speechdata-package-v2/german-speechdata-package-v2-2v4/content-translated-with_original.csv\n",
      "Pruning Dataset german-speechdata-package-v2-2v4 with 20107 Entries\n",
      " - 20098 Entries left after Length Cut (min=31, max=4000)\n",
      " - 6720 Entries left after Action Cut\n",
      "aktual trained epoches: 118\n",
      "old trained epoches: 0\n",
      "old word error rate: 1\n",
      "Saving word_error_rate: 100\n",
      "Translate all\n"
     ]
    },
    {
     "data": {
      "application/vnd.jupyter.widget-view+json": {
       "model_id": "1371d585616542999438b44ca97b2b8a",
       "version_major": 2,
       "version_minor": 0
      },
      "text/plain": [
       "HBox(children=(FloatProgress(value=0.0, max=6720.0), HTML(value='')))"
      ]
     },
     "metadata": {},
     "output_type": "display_data"
    },
    {
     "name": "stdout",
     "output_type": "stream",
     "text": [
      "\n",
      "Calculate WER\n",
      "WER: 0.14816247582205028\n",
      "No. of bad translated snippets: 4729\n",
      "Saving diff files\n",
      "Loading Dataset: german-speechdata-package-v2-3v4\n",
      "-----------------------------\n",
      "Loading Dataset: german-speechdata-package-v2-3v4 - /home/ki-mo/shared/NLP-Data/audio/german-speechdata-package-v2/german-speechdata-package-v2-3v4/content-translated-with_original.csv\n",
      "Pruning Dataset german-speechdata-package-v2-3v4 with 20107 Entries\n",
      " - 20037 Entries left after Length Cut (min=31, max=4000)\n",
      " - 11075 Entries left after Action Cut\n",
      "aktual trained epoches: 118\n",
      "old trained epoches: 0\n",
      "old word error rate: 1\n",
      "Saving word_error_rate: 100\n",
      "Translate all\n"
     ]
    },
    {
     "data": {
      "application/vnd.jupyter.widget-view+json": {
       "model_id": "ad1054d2f9354b35b8038b39b0ddd8d9",
       "version_major": 2,
       "version_minor": 0
      },
      "text/plain": [
       "HBox(children=(FloatProgress(value=0.0, max=11075.0), HTML(value='')))"
      ]
     },
     "metadata": {},
     "output_type": "display_data"
    },
    {
     "name": "stdout",
     "output_type": "stream",
     "text": [
      "\n",
      "Calculate WER\n",
      "WER: 0.22731613075146562\n",
      "No. of bad translated snippets: 6248\n",
      "Saving diff files\n",
      "Loading Dataset: german-speechdata-package-v2-4v4\n",
      "-----------------------------\n",
      "Loading Dataset: german-speechdata-package-v2-4v4 - /home/ki-mo/shared/NLP-Data/audio/german-speechdata-package-v2/german-speechdata-package-v2-4v4/content-translated-with_original.csv\n",
      "Pruning Dataset german-speechdata-package-v2-4v4 with 20107 Entries\n",
      " - 20095 Entries left after Length Cut (min=31, max=4000)\n",
      " - 12288 Entries left after Action Cut\n",
      "aktual trained epoches: 118\n",
      "old trained epoches: 0\n",
      "old word error rate: 1\n",
      "Saving word_error_rate: 100\n",
      "Translate all\n"
     ]
    },
    {
     "data": {
      "application/vnd.jupyter.widget-view+json": {
       "model_id": "e155b20428774c818446ddb69bb13e68",
       "version_major": 2,
       "version_minor": 0
      },
      "text/plain": [
       "HBox(children=(FloatProgress(value=0.0, max=12288.0), HTML(value='')))"
      ]
     },
     "metadata": {},
     "output_type": "display_data"
    },
    {
     "name": "stdout",
     "output_type": "stream",
     "text": [
      "\n",
      "Calculate WER\n",
      "WER: 0.1617690676802408\n",
      "No. of bad translated snippets: 5598\n",
      "Saving diff files\n"
     ]
    }
   ],
   "source": [
    "for ds_id in widget_factory.get_used_datasets():\n",
    "    translator.test(ds_id)"
   ]
  },
  {
   "cell_type": "code",
   "execution_count": 11,
   "id": "rPHzCcxaYJAz",
   "metadata": {
    "colab": {
     "base_uri": "https://localhost:8080/",
     "height": 74
    },
    "executionInfo": {
     "elapsed": 569,
     "status": "ok",
     "timestamp": 1620853210989,
     "user": {
      "displayName": "Elius Tibelius",
      "photoUrl": "",
      "userId": "00452752923460326984"
     },
     "user_tz": -120
    },
    "id": "rPHzCcxaYJAz",
    "outputId": "541ea6e0-2a5a-4ed9-a7c8-73b876f1fe89"
   },
   "outputs": [
    {
     "name": "stdout",
     "output_type": "stream",
     "text": [
      "finished\n"
     ]
    },
    {
     "data": {
      "text/html": [
       "<div style=\"display:none\">\n",
       "                <audio onended=\"this.parentNode.removeChild(this)\"  controls=\"controls\" autoplay=\"autoplay\">\n",
       "                    <source src=\"http://www.w3schools.com/html/horse.ogg\" type=\"audio/ogg\" />\n",
       "                    Your browser does not support the audio element.\n",
       "                </audio>\n",
       "              </div>"
      ],
      "text/plain": [
       "<GermanSpeechDatasetWidgetFactory.InvisibleAudio object>"
      ]
     },
     "metadata": {},
     "output_type": "display_data"
    }
   ],
   "source": [
    "print('finished')\n",
    "widget_factory.play_audio_file(audio_url=\"http://www.w3schools.com/html/horse.ogg\")"
   ]
  },
  {
   "cell_type": "code",
   "execution_count": 12,
   "id": "protective-mattress",
   "metadata": {},
   "outputs": [
    {
     "name": "stdout",
     "output_type": "stream",
     "text": [
      "-----------------------------\n",
      "Loading Dataset: common-voice-de-01v30 - /home/ki-mo/shared/NLP-Data/audio/common-voice-de/common-voice-de-01v30/content-translated-with_original.csv\n",
      "Pruning Dataset common-voice-de-01v30 with 18839 Entries\n",
      " - 18838 Entries left after Length Cut (min=31, max=4000)\n",
      " - 11813 Entries left after Action Cut\n"
     ]
    },
    {
     "data": {
      "text/html": [
       "<div>\n",
       "<style scoped>\n",
       "    .dataframe tbody tr th:only-of-type {\n",
       "        vertical-align: middle;\n",
       "    }\n",
       "\n",
       "    .dataframe tbody tr th {\n",
       "        vertical-align: top;\n",
       "    }\n",
       "\n",
       "    .dataframe thead th {\n",
       "        text-align: right;\n",
       "    }\n",
       "</style>\n",
       "<table border=\"1\" class=\"dataframe\">\n",
       "  <thead>\n",
       "    <tr style=\"text-align: right;\">\n",
       "      <th></th>\n",
       "      <th>Autor</th>\n",
       "      <th>Sprecher</th>\n",
       "      <th>Titel</th>\n",
       "      <th>Orginaldatei</th>\n",
       "      <th>Datei</th>\n",
       "      <th>Start</th>\n",
       "      <th>End</th>\n",
       "      <th>Length</th>\n",
       "      <th>Size</th>\n",
       "      <th>Translated0</th>\n",
       "      <th>OriginalText</th>\n",
       "      <th>Action</th>\n",
       "    </tr>\n",
       "  </thead>\n",
       "  <tbody>\n",
       "    <tr>\n",
       "      <th>0</th>\n",
       "      <td>cv-corpus-6.1-2020-12-11/de</td>\n",
       "      <td>0052c07533a6976233ad5926d950b523002c4d8cdd9ae8...</td>\n",
       "      <td>common-voice-de-01v30</td>\n",
       "      <td>common_voice_de_17922420.mp3</td>\n",
       "      <td>common_voice_de_17922420.mp3</td>\n",
       "      <td>0</td>\n",
       "      <td>149</td>\n",
       "      <td>149</td>\n",
       "      <td>56448</td>\n",
       "      <td>zieht euch bitte draussen die schuhe aus</td>\n",
       "      <td>zieht euch bitte draußen die schuhe aus</td>\n",
       "      <td>train</td>\n",
       "    </tr>\n",
       "    <tr>\n",
       "      <th>5</th>\n",
       "      <td>cv-corpus-6.1-2020-12-11/de</td>\n",
       "      <td>03ac3eb87717f430b8a64228e61b5829cf6187f790c0fd...</td>\n",
       "      <td>common-voice-de-01v30</td>\n",
       "      <td>common_voice_de_18520278.mp3</td>\n",
       "      <td>common_voice_de_18520278.mp3</td>\n",
       "      <td>0</td>\n",
       "      <td>194</td>\n",
       "      <td>194</td>\n",
       "      <td>73728</td>\n",
       "      <td>was soll's ich bin bereit</td>\n",
       "      <td>was solls ich bin bereit</td>\n",
       "      <td>train</td>\n",
       "    </tr>\n",
       "    <tr>\n",
       "      <th>6</th>\n",
       "      <td>cv-corpus-6.1-2020-12-11/de</td>\n",
       "      <td>0497af98ed3a4300df41acdad9092f8a608ec193733ba0...</td>\n",
       "      <td>common-voice-de-01v30</td>\n",
       "      <td>common_voice_de_18204372.mp3</td>\n",
       "      <td>common_voice_de_18204372.mp3</td>\n",
       "      <td>0</td>\n",
       "      <td>273</td>\n",
       "      <td>273</td>\n",
       "      <td>104064</td>\n",
       "      <td>das internett besteht aus vielen kompiutern di...</td>\n",
       "      <td>das internet besteht aus vielen computern die ...</td>\n",
       "      <td>train</td>\n",
       "    </tr>\n",
       "    <tr>\n",
       "      <th>7</th>\n",
       "      <td>cv-corpus-6.1-2020-12-11/de</td>\n",
       "      <td>05adbec1ccc723a881575c5e93da4cff89412f3e806bde...</td>\n",
       "      <td>common-voice-de-01v30</td>\n",
       "      <td>common_voice_de_17826889.mp3</td>\n",
       "      <td>common_voice_de_17826889.mp3</td>\n",
       "      <td>0</td>\n",
       "      <td>172</td>\n",
       "      <td>172</td>\n",
       "      <td>65280</td>\n",
       "      <td>der uranus ist der siebente planet in unserm sy</td>\n",
       "      <td>der uranus ist der siebente planet in unserem ...</td>\n",
       "      <td>train</td>\n",
       "    </tr>\n",
       "    <tr>\n",
       "      <th>9</th>\n",
       "      <td>cv-corpus-6.1-2020-12-11/de</td>\n",
       "      <td>089487abd205588284ef22d657f47b228c76b49dd10d91...</td>\n",
       "      <td>common-voice-de-01v30</td>\n",
       "      <td>common_voice_de_20873706.mp3</td>\n",
       "      <td>common_voice_de_20873706.mp3</td>\n",
       "      <td>0</td>\n",
       "      <td>175</td>\n",
       "      <td>175</td>\n",
       "      <td>66432</td>\n",
       "      <td>sie war die cousine von karl maria von weber</td>\n",
       "      <td>sie war die cousine von carl maria von weber</td>\n",
       "      <td>train</td>\n",
       "    </tr>\n",
       "    <tr>\n",
       "      <th>...</th>\n",
       "      <td>...</td>\n",
       "      <td>...</td>\n",
       "      <td>...</td>\n",
       "      <td>...</td>\n",
       "      <td>...</td>\n",
       "      <td>...</td>\n",
       "      <td>...</td>\n",
       "      <td>...</td>\n",
       "      <td>...</td>\n",
       "      <td>...</td>\n",
       "      <td>...</td>\n",
       "      <td>...</td>\n",
       "    </tr>\n",
       "    <tr>\n",
       "      <th>18834</th>\n",
       "      <td>cv-corpus-6.1-2020-12-11/de</td>\n",
       "      <td>b5f59d0f848577d0f36de2387ee41941e71575f2277b08...</td>\n",
       "      <td>common-voice-de-01v30</td>\n",
       "      <td>common_voice_de_22042746.mp3</td>\n",
       "      <td>common_voice_de_22042746.mp3</td>\n",
       "      <td>0</td>\n",
       "      <td>108</td>\n",
       "      <td>108</td>\n",
       "      <td>40704</td>\n",
       "      <td>fünf</td>\n",
       "      <td>fünf</td>\n",
       "      <td>train</td>\n",
       "    </tr>\n",
       "    <tr>\n",
       "      <th>18835</th>\n",
       "      <td>cv-corpus-6.1-2020-12-11/de</td>\n",
       "      <td>b5f59d0f848577d0f36de2387ee41941e71575f2277b08...</td>\n",
       "      <td>common-voice-de-01v30</td>\n",
       "      <td>common_voice_de_22042750.mp3</td>\n",
       "      <td>common_voice_de_22042750.mp3</td>\n",
       "      <td>0</td>\n",
       "      <td>101</td>\n",
       "      <td>101</td>\n",
       "      <td>38016</td>\n",
       "      <td>vie</td>\n",
       "      <td>vier</td>\n",
       "      <td>train</td>\n",
       "    </tr>\n",
       "    <tr>\n",
       "      <th>18836</th>\n",
       "      <td>cv-corpus-6.1-2020-12-11/de</td>\n",
       "      <td>b5f59d0f848577d0f36de2387ee41941e71575f2277b08...</td>\n",
       "      <td>common-voice-de-01v30</td>\n",
       "      <td>common_voice_de_22042753.mp3</td>\n",
       "      <td>common_voice_de_22042753.mp3</td>\n",
       "      <td>0</td>\n",
       "      <td>131</td>\n",
       "      <td>131</td>\n",
       "      <td>49536</td>\n",
       "      <td>sieben</td>\n",
       "      <td>sieben</td>\n",
       "      <td>train</td>\n",
       "    </tr>\n",
       "    <tr>\n",
       "      <th>18837</th>\n",
       "      <td>cv-corpus-6.1-2020-12-11/de</td>\n",
       "      <td>b5f59d0f848577d0f36de2387ee41941e71575f2277b08...</td>\n",
       "      <td>common-voice-de-01v30</td>\n",
       "      <td>common_voice_de_22042755.mp3</td>\n",
       "      <td>common_voice_de_22042755.mp3</td>\n",
       "      <td>0</td>\n",
       "      <td>111</td>\n",
       "      <td>111</td>\n",
       "      <td>41856</td>\n",
       "      <td>sechs</td>\n",
       "      <td>sechs</td>\n",
       "      <td>train</td>\n",
       "    </tr>\n",
       "    <tr>\n",
       "      <th>18838</th>\n",
       "      <td>cv-corpus-6.1-2020-12-11/de</td>\n",
       "      <td>b60cb88ad7cd7feac807d5535481ca8e43d92c57a9b341...</td>\n",
       "      <td>common-voice-de-01v30</td>\n",
       "      <td>common_voice_de_17685578.mp3</td>\n",
       "      <td>common_voice_de_17685578.mp3</td>\n",
       "      <td>0</td>\n",
       "      <td>220</td>\n",
       "      <td>220</td>\n",
       "      <td>83712</td>\n",
       "      <td>das fleisch ist zart und schmeckt vorzüglich</td>\n",
       "      <td>das fleisch ist zart und schmeckt vorzüglich</td>\n",
       "      <td>train</td>\n",
       "    </tr>\n",
       "  </tbody>\n",
       "</table>\n",
       "<p>11813 rows × 12 columns</p>\n",
       "</div>"
      ],
      "text/plain": [
       "                             Autor  \\\n",
       "0      cv-corpus-6.1-2020-12-11/de   \n",
       "5      cv-corpus-6.1-2020-12-11/de   \n",
       "6      cv-corpus-6.1-2020-12-11/de   \n",
       "7      cv-corpus-6.1-2020-12-11/de   \n",
       "9      cv-corpus-6.1-2020-12-11/de   \n",
       "...                            ...   \n",
       "18834  cv-corpus-6.1-2020-12-11/de   \n",
       "18835  cv-corpus-6.1-2020-12-11/de   \n",
       "18836  cv-corpus-6.1-2020-12-11/de   \n",
       "18837  cv-corpus-6.1-2020-12-11/de   \n",
       "18838  cv-corpus-6.1-2020-12-11/de   \n",
       "\n",
       "                                                Sprecher  \\\n",
       "0      0052c07533a6976233ad5926d950b523002c4d8cdd9ae8...   \n",
       "5      03ac3eb87717f430b8a64228e61b5829cf6187f790c0fd...   \n",
       "6      0497af98ed3a4300df41acdad9092f8a608ec193733ba0...   \n",
       "7      05adbec1ccc723a881575c5e93da4cff89412f3e806bde...   \n",
       "9      089487abd205588284ef22d657f47b228c76b49dd10d91...   \n",
       "...                                                  ...   \n",
       "18834  b5f59d0f848577d0f36de2387ee41941e71575f2277b08...   \n",
       "18835  b5f59d0f848577d0f36de2387ee41941e71575f2277b08...   \n",
       "18836  b5f59d0f848577d0f36de2387ee41941e71575f2277b08...   \n",
       "18837  b5f59d0f848577d0f36de2387ee41941e71575f2277b08...   \n",
       "18838  b60cb88ad7cd7feac807d5535481ca8e43d92c57a9b341...   \n",
       "\n",
       "                       Titel                  Orginaldatei  \\\n",
       "0      common-voice-de-01v30  common_voice_de_17922420.mp3   \n",
       "5      common-voice-de-01v30  common_voice_de_18520278.mp3   \n",
       "6      common-voice-de-01v30  common_voice_de_18204372.mp3   \n",
       "7      common-voice-de-01v30  common_voice_de_17826889.mp3   \n",
       "9      common-voice-de-01v30  common_voice_de_20873706.mp3   \n",
       "...                      ...                           ...   \n",
       "18834  common-voice-de-01v30  common_voice_de_22042746.mp3   \n",
       "18835  common-voice-de-01v30  common_voice_de_22042750.mp3   \n",
       "18836  common-voice-de-01v30  common_voice_de_22042753.mp3   \n",
       "18837  common-voice-de-01v30  common_voice_de_22042755.mp3   \n",
       "18838  common-voice-de-01v30  common_voice_de_17685578.mp3   \n",
       "\n",
       "                              Datei  Start  End  Length    Size  \\\n",
       "0      common_voice_de_17922420.mp3      0  149     149   56448   \n",
       "5      common_voice_de_18520278.mp3      0  194     194   73728   \n",
       "6      common_voice_de_18204372.mp3      0  273     273  104064   \n",
       "7      common_voice_de_17826889.mp3      0  172     172   65280   \n",
       "9      common_voice_de_20873706.mp3      0  175     175   66432   \n",
       "...                             ...    ...  ...     ...     ...   \n",
       "18834  common_voice_de_22042746.mp3      0  108     108   40704   \n",
       "18835  common_voice_de_22042750.mp3      0  101     101   38016   \n",
       "18836  common_voice_de_22042753.mp3      0  131     131   49536   \n",
       "18837  common_voice_de_22042755.mp3      0  111     111   41856   \n",
       "18838  common_voice_de_17685578.mp3      0  220     220   83712   \n",
       "\n",
       "                                             Translated0  \\\n",
       "0               zieht euch bitte draussen die schuhe aus   \n",
       "5                              was soll's ich bin bereit   \n",
       "6      das internett besteht aus vielen kompiutern di...   \n",
       "7        der uranus ist der siebente planet in unserm sy   \n",
       "9           sie war die cousine von karl maria von weber   \n",
       "...                                                  ...   \n",
       "18834                                               fünf   \n",
       "18835                                                vie   \n",
       "18836                                             sieben   \n",
       "18837                                              sechs   \n",
       "18838       das fleisch ist zart und schmeckt vorzüglich   \n",
       "\n",
       "                                            OriginalText Action  \n",
       "0                zieht euch bitte draußen die schuhe aus  train  \n",
       "5                               was solls ich bin bereit  train  \n",
       "6      das internet besteht aus vielen computern die ...  train  \n",
       "7      der uranus ist der siebente planet in unserem ...  train  \n",
       "9           sie war die cousine von carl maria von weber  train  \n",
       "...                                                  ...    ...  \n",
       "18834                                               fünf  train  \n",
       "18835                                               vier  train  \n",
       "18836                                             sieben  train  \n",
       "18837                                              sechs  train  \n",
       "18838       das fleisch ist zart und schmeckt vorzüglich  train  \n",
       "\n",
       "[11813 rows x 12 columns]"
      ]
     },
     "execution_count": 12,
     "metadata": {},
     "output_type": "execute_result"
    }
   ],
   "source": [
    "ds = my_datasets.load_ds_content_translated_with_original('common-voice-de-01v30')\n",
    "ds"
   ]
  },
  {
   "cell_type": "code",
   "execution_count": null,
   "id": "ecological-cattle",
   "metadata": {},
   "outputs": [],
   "source": []
  }
 ],
 "metadata": {
  "accelerator": "GPU",
  "colab": {
   "collapsed_sections": [
    "better-footwear"
   ],
   "name": "Wave2Vec-Train.ipynb",
   "provenance": [
    {
     "file_id": "18nAJ5oJgm56etRE3MTVNC4ofrVNHgEQG",
     "timestamp": 1621004295534
    }
   ],
   "toc_visible": true
  },
  "kernelspec": {
   "display_name": "Python 3",
   "language": "python",
   "name": "python3"
  },
  "language_info": {
   "codemirror_mode": {
    "name": "ipython",
    "version": 3
   },
   "file_extension": ".py",
   "mimetype": "text/x-python",
   "name": "python",
   "nbconvert_exporter": "python",
   "pygments_lexer": "ipython3",
   "version": "3.8.8"
  },
  "widgets": {
   "application/vnd.jupyter.widget-state+json": {
    "03c3d21fb26343a8b6fec43119e854ce": {
     "model_module": "@jupyter-widgets/controls",
     "model_name": "HTMLModel",
     "state": {
      "_dom_classes": [],
      "_model_module": "@jupyter-widgets/controls",
      "_model_module_version": "1.5.0",
      "_model_name": "HTMLModel",
      "_view_count": null,
      "_view_module": "@jupyter-widgets/controls",
      "_view_module_version": "1.5.0",
      "_view_name": "HTMLView",
      "description": "",
      "description_tooltip": null,
      "layout": "IPY_MODEL_03ea4a943dfa478e9a1a87e251c05af6",
      "placeholder": "​",
      "style": "IPY_MODEL_da0a96e9b4194da4b5b242dc2d716bd9",
      "value": " 3.90k/? [00:00&lt;00:00, 15.9kB/s]"
     }
    },
    "03ea4a943dfa478e9a1a87e251c05af6": {
     "model_module": "@jupyter-widgets/base",
     "model_name": "LayoutModel",
     "state": {
      "_model_module": "@jupyter-widgets/base",
      "_model_module_version": "1.2.0",
      "_model_name": "LayoutModel",
      "_view_count": null,
      "_view_module": "@jupyter-widgets/base",
      "_view_module_version": "1.2.0",
      "_view_name": "LayoutView",
      "align_content": null,
      "align_items": null,
      "align_self": null,
      "border": null,
      "bottom": null,
      "display": null,
      "flex": null,
      "flex_flow": null,
      "grid_area": null,
      "grid_auto_columns": null,
      "grid_auto_flow": null,
      "grid_auto_rows": null,
      "grid_column": null,
      "grid_gap": null,
      "grid_row": null,
      "grid_template_areas": null,
      "grid_template_columns": null,
      "grid_template_rows": null,
      "height": null,
      "justify_content": null,
      "justify_items": null,
      "left": null,
      "margin": null,
      "max_height": null,
      "max_width": null,
      "min_height": null,
      "min_width": null,
      "object_fit": null,
      "object_position": null,
      "order": null,
      "overflow": null,
      "overflow_x": null,
      "overflow_y": null,
      "padding": null,
      "right": null,
      "top": null,
      "visibility": null,
      "width": null
     }
    },
    "449bce20528d4f0fa84a533edf31868f": {
     "model_module": "@jupyter-widgets/controls",
     "model_name": "ProgressStyleModel",
     "state": {
      "_model_module": "@jupyter-widgets/controls",
      "_model_module_version": "1.5.0",
      "_model_name": "ProgressStyleModel",
      "_view_count": null,
      "_view_module": "@jupyter-widgets/base",
      "_view_module_version": "1.2.0",
      "_view_name": "StyleView",
      "bar_color": null,
      "description_width": "initial"
     }
    },
    "78f2db221c504bfeb80d08123dde7808": {
     "model_module": "@jupyter-widgets/controls",
     "model_name": "FloatProgressModel",
     "state": {
      "_dom_classes": [],
      "_model_module": "@jupyter-widgets/controls",
      "_model_module_version": "1.5.0",
      "_model_name": "FloatProgressModel",
      "_view_count": null,
      "_view_module": "@jupyter-widgets/controls",
      "_view_module_version": "1.5.0",
      "_view_name": "ProgressView",
      "bar_style": "success",
      "description": "Downloading: ",
      "description_tooltip": null,
      "layout": "IPY_MODEL_f6212268701e4b5485254734029c7eda",
      "max": 1764,
      "min": 0,
      "orientation": "horizontal",
      "style": "IPY_MODEL_449bce20528d4f0fa84a533edf31868f",
      "value": 1764
     }
    },
    "7b46e89a13764745915b7802aaedc5ee": {
     "model_module": "@jupyter-widgets/controls",
     "model_name": "HBoxModel",
     "state": {
      "_dom_classes": [],
      "_model_module": "@jupyter-widgets/controls",
      "_model_module_version": "1.5.0",
      "_model_name": "HBoxModel",
      "_view_count": null,
      "_view_module": "@jupyter-widgets/controls",
      "_view_module_version": "1.5.0",
      "_view_name": "HBoxView",
      "box_style": "",
      "children": [
       "IPY_MODEL_78f2db221c504bfeb80d08123dde7808",
       "IPY_MODEL_03c3d21fb26343a8b6fec43119e854ce"
      ],
      "layout": "IPY_MODEL_7d8e46c71b3e45cfa775157a66ac5a52"
     }
    },
    "7d8e46c71b3e45cfa775157a66ac5a52": {
     "model_module": "@jupyter-widgets/base",
     "model_name": "LayoutModel",
     "state": {
      "_model_module": "@jupyter-widgets/base",
      "_model_module_version": "1.2.0",
      "_model_name": "LayoutModel",
      "_view_count": null,
      "_view_module": "@jupyter-widgets/base",
      "_view_module_version": "1.2.0",
      "_view_name": "LayoutView",
      "align_content": null,
      "align_items": null,
      "align_self": null,
      "border": null,
      "bottom": null,
      "display": null,
      "flex": null,
      "flex_flow": null,
      "grid_area": null,
      "grid_auto_columns": null,
      "grid_auto_flow": null,
      "grid_auto_rows": null,
      "grid_column": null,
      "grid_gap": null,
      "grid_row": null,
      "grid_template_areas": null,
      "grid_template_columns": null,
      "grid_template_rows": null,
      "height": null,
      "justify_content": null,
      "justify_items": null,
      "left": null,
      "margin": null,
      "max_height": null,
      "max_width": null,
      "min_height": null,
      "min_width": null,
      "object_fit": null,
      "object_position": null,
      "order": null,
      "overflow": null,
      "overflow_x": null,
      "overflow_y": null,
      "padding": null,
      "right": null,
      "top": null,
      "visibility": null,
      "width": null
     }
    },
    "da0a96e9b4194da4b5b242dc2d716bd9": {
     "model_module": "@jupyter-widgets/controls",
     "model_name": "DescriptionStyleModel",
     "state": {
      "_model_module": "@jupyter-widgets/controls",
      "_model_module_version": "1.5.0",
      "_model_name": "DescriptionStyleModel",
      "_view_count": null,
      "_view_module": "@jupyter-widgets/base",
      "_view_module_version": "1.2.0",
      "_view_name": "StyleView",
      "description_width": ""
     }
    },
    "f6212268701e4b5485254734029c7eda": {
     "model_module": "@jupyter-widgets/base",
     "model_name": "LayoutModel",
     "state": {
      "_model_module": "@jupyter-widgets/base",
      "_model_module_version": "1.2.0",
      "_model_name": "LayoutModel",
      "_view_count": null,
      "_view_module": "@jupyter-widgets/base",
      "_view_module_version": "1.2.0",
      "_view_name": "LayoutView",
      "align_content": null,
      "align_items": null,
      "align_self": null,
      "border": null,
      "bottom": null,
      "display": null,
      "flex": null,
      "flex_flow": null,
      "grid_area": null,
      "grid_auto_columns": null,
      "grid_auto_flow": null,
      "grid_auto_rows": null,
      "grid_column": null,
      "grid_gap": null,
      "grid_row": null,
      "grid_template_areas": null,
      "grid_template_columns": null,
      "grid_template_rows": null,
      "height": null,
      "justify_content": null,
      "justify_items": null,
      "left": null,
      "margin": null,
      "max_height": null,
      "max_width": null,
      "min_height": null,
      "min_width": null,
      "object_fit": null,
      "object_position": null,
      "order": null,
      "overflow": null,
      "overflow_x": null,
      "overflow_y": null,
      "padding": null,
      "right": null,
      "top": null,
      "visibility": null,
      "width": null
     }
    }
   }
  }
 },
 "nbformat": 4,
 "nbformat_minor": 5
}
