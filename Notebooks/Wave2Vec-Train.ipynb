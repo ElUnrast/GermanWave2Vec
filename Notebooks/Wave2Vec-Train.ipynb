{
 "cells": [
  {
   "cell_type": "markdown",
   "id": "dEKhPSO82y85",
   "metadata": {
    "id": "dEKhPSO82y85"
   },
   "source": [
    "## 0. Configuartion"
   ]
  },
  {
   "cell_type": "code",
   "execution_count": 1,
   "id": "worthy-resolution",
   "metadata": {
    "id": "worthy-resolution"
   },
   "outputs": [],
   "source": [
    "# %load_ext autoreload\n",
    "import os\n",
    "import sys\n",
    "\n",
    "device = 'cuda'\n",
    "wait_for_v100 = False\n",
    "ds_to_use = [\n",
    "    # 'HP1-FvM',\n",
    "    # 'HP1-RB',\n",
    "    # 'HP2-FvM',\n",
    "    # 'HP2-RB',\n",
    "    # 'HP3-FvM',\n",
    "    # 'HP3-RB',\n",
    "    # 'HP4-FvM',\n",
    "    'HP4-RB',\n",
    "    # 'HP5-FvM',\n",
    "    # 'HP5-RB',\n",
    "    # 'HP6-FvM',\n",
    "    # 'HP6-RB',\n",
    "    # 'HP7-FvM',\n",
    "    # 'HP7-RB'\n",
    "]\n",
    "home = os.getenv(\"HOME\")\n",
    "use_gdrive = False\n",
    "trained_model_directory = 'trained_model'\n",
    "# os.environ['WANDB_API_KEY'] = '6cec6a71175dec59b32a9067a0664dec76208f2a'\n",
    "# os.environ['WANDB_NAME'] = 'GermanWaveToVec Training'\n",
    "# os.environ['WANDB_ENTITY'] ='wandb.ai/elunrast'\n",
    "# os.environ['WANDB_PROJECT'] ='GermanWaveToVec'\n",
    "\n",
    "## ----- Training arguments  ----- ##\n",
    "per_device_train_batch_size = 4\n",
    "# TODO: aus freiem Grafikkarten Speicher ableiten (Graphikkarte mit 11GB)\n",
    "per_device_eval_batch_size  = per_device_train_batch_size // 2\n",
    "gradient_accumulation_steps = 2\n",
    "logging_steps               = 100\n",
    "max_steps                   = per_device_train_batch_size * logging_steps\n",
    "max_trainingset_size        = max_steps * per_device_train_batch_size # TODO freiem Grafikkarten Speicher ableiten\n",
    "max_steps                   = max_trainingset_size // per_device_train_batch_size # Schritte pro Epoche\n",
    "warmup_steps                = max_steps // 4\n",
    "save_steps                  = max_steps // 2\n",
    "eval_steps                  = save_steps\n",
    "max_sample_size             = 1200   # None -> no restriction\n",
    "max_trainingset_size        = per_device_train_batch_size * max_steps   # None -> no restriction\n",
    "fixed_training_set_size     = 100 * per_device_eval_batch_size          # None -> 20% der Originaldatensatz Größe \n",
    "num_train_epochs            = 3  # Anzahl Durchläufe für ein Dataset\n",
    "max_rounds                  = 4  # Anzahl Trainingsrunden über alle used_datasets\n",
    "\n",
    "learning_rate = per_device_train_batch_size * ((3e-4)/16)  # 3e-4/4 "
   ]
  },
  {
   "cell_type": "markdown",
   "id": "motivated-budapest",
   "metadata": {
    "id": "motivated-budapest"
   },
   "source": [
    "## 1. Setup Directories"
   ]
  },
  {
   "cell_type": "code",
   "execution_count": 2,
   "id": "stuffed-silicon",
   "metadata": {
    "colab": {
     "base_uri": "https://localhost:8080/"
    },
    "executionInfo": {
     "elapsed": 48755,
     "status": "ok",
     "timestamp": 1620812177354,
     "user": {
      "displayName": "Elius Tibelius",
      "photoUrl": "",
      "userId": "00452752923460326984"
     },
     "user_tz": -120
    },
    "id": "stuffed-silicon",
    "outputId": "022a280e-ada5-49f2-fe80-2bd02775ed95"
   },
   "outputs": [
    {
     "name": "stdout",
     "output_type": "stream",
     "text": [
      "runs on colab: False\n"
     ]
    }
   ],
   "source": [
    "local_nlp_base_dir = f'{home}/shared'\n",
    "local_data_base_dir = f'{local_nlp_base_dir}/NLP-Data'\n",
    "local_data_dir = f'{local_data_base_dir}/audio'\n",
    "extern_nlp_base_dir = None\n",
    "extern_data_base_dir = None\n",
    "extern_data_dir = None\n",
    "\n",
    "runs_on_colab = (home == '/root')\n",
    "print( f'runs on colab: {runs_on_colab}')\n",
    "\n",
    "if not runs_on_colab:\n",
    "    os.environ['http_proxy'] = 'http://192.168.8.50:3128'\n",
    "    os.environ['https_proxy'] = 'http://192.168.8.50:3128'\n",
    "else:\n",
    "    # to get access to the datasets we use gdrive\n",
    "    use_gdrive = True\n",
    "    # install packages\n",
    "    !pip install datasets==1.4.1\n",
    "    !pip install transformers==4.4.0\n",
    "    !pip install jiwer\n",
    "    !pip install torchaudio\n",
    "    !pip install librosa\n",
    "    # create local directories\n",
    "    !mkdir $local_nlp_base_dir\n",
    "    !mkdir $local_data_base_dir\n",
    "\n",
    "if use_gdrive:\n",
    "    gdrive_base = '/content/gdrive'    \n",
    "    extern_nlp_base_dir = f'{gdrive_base}/MyDrive'\n",
    "    extern_data_base_dir = f'{extern_nlp_base_dir}/NLP-Data'\n",
    "    extern_data_dir = f'{extern_data_base_dir}/audio'\n",
    "\n",
    "    if not os.path.isdir(gdrive_base):\n",
    "        from google.colab import drive\n",
    "        drive.mount(gdrive_base)\n",
    "\n",
    "if not os.path.isdir(local_data_dir):\n",
    "    !mkdir $local_data_dir\n",
    "\n",
    "if extern_nlp_base_dir:\n",
    "    model_dir = f'{extern_nlp_base_dir}/NLP-Models/GermanWave2Vec'\n",
    "else:\n",
    "    model_dir = f'{local_nlp_base_dir}/NLP-Models/GermanWave2Vec'\n",
    "\n",
    "# Use the Model from this Directory (Base: .../NLP-Models/GermanWave2Vec/)\n",
    "# None -> Start from 'facebook/wav2vec2-large-xlsr-53-german'\n",
    "trained_model_path = f'{model_dir}/{trained_model_directory}'\n",
    "\n",
    "git_views_dir = f'{local_nlp_base_dir}/gitviews/extern'\n",
    "git_view_path = f'{git_views_dir}/GermanWave2Vec'\n",
    "\n",
    "if not os.path.isdir(git_views_dir):\n",
    "    !mkdir $git_views_dir\n",
    "    !cd $git_views_dir; git clone https://github.com/ElUnrast/GermanWave2Vec.git"
   ]
  },
  {
   "cell_type": "code",
   "execution_count": 3,
   "id": "4wLJpgjxOFRM",
   "metadata": {
    "colab": {
     "base_uri": "https://localhost:8080/"
    },
    "executionInfo": {
     "elapsed": 1773,
     "status": "ok",
     "timestamp": 1620812249370,
     "user": {
      "displayName": "Elius Tibelius",
      "photoUrl": "",
      "userId": "00452752923460326984"
     },
     "user_tz": -120
    },
    "id": "4wLJpgjxOFRM",
    "outputId": "48670cda-fe17-40f7-d7ad-967f07b28354"
   },
   "outputs": [
    {
     "name": "stdout",
     "output_type": "stream",
     "text": [
      "Script-Path: /home/ki-mo/shared/gitviews/extern/GermanWave2Vec/python\n"
     ]
    }
   ],
   "source": [
    "if runs_on_colab:\n",
    "    !cd $git_view_path; git fetch --all; git reset --hard origin/main\n",
    "\n",
    "script_path = f'{git_views_dir}/GermanWave2Vec/python'\n",
    "print(f'Script-Path: {script_path}')\n",
    "sys.path.insert(0, script_path)"
   ]
  },
  {
   "cell_type": "markdown",
   "id": "better-footwear",
   "metadata": {
    "id": "better-footwear"
   },
   "source": [
    "## 2. Check Runtime Properties"
   ]
  },
  {
   "cell_type": "code",
   "execution_count": 4,
   "id": "accompanied-wright",
   "metadata": {
    "colab": {
     "base_uri": "https://localhost:8080/"
    },
    "executionInfo": {
     "elapsed": 591,
     "status": "ok",
     "timestamp": 1620812267985,
     "user": {
      "displayName": "Elius Tibelius",
      "photoUrl": "",
      "userId": "00452752923460326984"
     },
     "user_tz": -120
    },
    "id": "accompanied-wright",
    "outputId": "a6984eb8-cb57-4fa0-8dae-f817850837ae"
   },
   "outputs": [
    {
     "name": "stdout",
     "output_type": "stream",
     "text": [
      "Thu Jun 10 22:06:48 2021       \n",
      "+-----------------------------------------------------------------------------+\n",
      "| NVIDIA-SMI 460.73.01    Driver Version: 460.73.01    CUDA Version: 11.2     |\n",
      "|-------------------------------+----------------------+----------------------+\n",
      "| GPU  Name        Persistence-M| Bus-Id        Disp.A | Volatile Uncorr. ECC |\n",
      "| Fan  Temp  Perf  Pwr:Usage/Cap|         Memory-Usage | GPU-Util  Compute M. |\n",
      "|                               |                      |               MIG M. |\n",
      "|===============================+======================+======================|\n",
      "|   0  GeForce RTX 208...  Off  | 00000000:09:00.0 Off |                  N/A |\n",
      "| 35%   38C    P8    14W / 260W |     86MiB / 11016MiB |      0%      Default |\n",
      "|                               |                      |                  N/A |\n",
      "+-------------------------------+----------------------+----------------------+\n",
      "                                                                               \n",
      "+-----------------------------------------------------------------------------+\n",
      "| Processes:                                                                  |\n",
      "|  GPU   GI   CI        PID   Type   Process name                  GPU Memory |\n",
      "|        ID   ID                                                   Usage      |\n",
      "|=============================================================================|\n",
      "|    0   N/A  N/A      1153      G   /usr/lib/xorg/Xorg                 27MiB |\n",
      "|    0   N/A  N/A      1271      G   /usr/bin/gnome-shell               56MiB |\n",
      "+-----------------------------------------------------------------------------+\n"
     ]
    }
   ],
   "source": [
    "if 'cuda' == device:\n",
    "    gpu_info = !nvidia-smi\n",
    "    gpu_info = '\\n'.join(gpu_info)\n",
    "\n",
    "    if runs_on_colab:\n",
    "        if wait_for_v100 and not gpu_info.find('V100') >= 0:\n",
    "            print('The current GPU is not a V100')\n",
    "            print('Since you want to wait for a V100 the current session is aborted')\n",
    "            raise ValueError\n",
    "\n",
    "        if gpu_info.find('failed') >= 0:\n",
    "            print('For training, please use a VM with GPU!')\n",
    "            raise ValueError\n",
    "            \n",
    "        from psutil import virtual_memory\n",
    "        ram_gb = virtual_memory().total / 1e9\n",
    "        print('Your runtime has {:.1f} gigabytes of available RAM\\n'.format(ram_gb))\n",
    "\n",
    "        if ram_gb < 20:\n",
    "            print('To enable a high-RAM runtime, select the Runtime > \"Change runtime type\"')\n",
    "            print('menu, and then select High-RAM in the Runtime shape dropdown. Then, ')\n",
    "            print('re-execute this cell.')\n",
    "        else:\n",
    "            print('You are using a high-RAM runtime!')\n",
    "            \n",
    "    print(gpu_info)"
   ]
  },
  {
   "cell_type": "markdown",
   "id": "connected-liver",
   "metadata": {
    "id": "connected-liver"
   },
   "source": [
    "## 3 Install packages and do Imports"
   ]
  },
  {
   "cell_type": "code",
   "execution_count": 5,
   "id": "copyrighted-peeing",
   "metadata": {
    "id": "copyrighted-peeing"
   },
   "outputs": [],
   "source": [
    "from dataclasses import dataclass, field\n",
    "from typing import Any, Dict, List, Optional, Union\n",
    "\n",
    "import torch\n",
    "import torchaudio\n",
    "from torch import nn\n",
    "from torch.cuda.amp import autocast\n",
    "\n",
    "from transformers import Wav2Vec2ForCTC, Wav2Vec2Processor, Wav2Vec2CTCTokenizer, Wav2Vec2FeatureExtractor\n",
    "from transformers import Trainer, TrainingArguments\n",
    "from transformers.trainer_utils import get_last_checkpoint, is_main_process\n",
    "from transformers.trainer_pt_utils import LengthGroupedSampler, DistributedLengthGroupedSampler\n",
    "\n",
    "import json\n",
    "import collections\n",
    "import librosa\n",
    "import numpy as np\n",
    "import pandas as pd\n",
    "import sklearn\n",
    "import jiwer\n",
    "from jiwer import wer\n",
    "from datasets import load_metric\n",
    "from tqdm.notebook import tqdm_notebook\n",
    "from sklearn.model_selection import train_test_split"
   ]
  },
  {
   "cell_type": "code",
   "execution_count": 6,
   "id": "7desxN6tZVU3",
   "metadata": {
    "id": "7desxN6tZVU3"
   },
   "outputs": [],
   "source": [
    "# %aimport SnippetDatasets\n",
    "# %aimport GermanSpeechDatasetWidgetFactory\n",
    "# %aimport GermanSpeechToTextTranslater\n",
    "# %autoreload 2\n",
    "from SnippetDatasets import SnippetDatasets\n",
    "from GermanSpeechDatasetWidgetFactory import GermanSpeechDatasetWidgetFactory\n",
    "from GermanSpeechToTextTranslater import GermanSpeechToTextTranslater"
   ]
  },
  {
   "cell_type": "markdown",
   "id": "certified-singing",
   "metadata": {
    "id": "certified-singing"
   },
   "source": [
    "## 4 Initialize Helper Classes"
   ]
  },
  {
   "cell_type": "code",
   "execution_count": 7,
   "id": "unexpected-ideal",
   "metadata": {
    "id": "unexpected-ideal",
    "scrolled": true
   },
   "outputs": [],
   "source": [
    "my_datasets = SnippetDatasets(\n",
    "    runs_on_colab, \n",
    "    local_audio_base_dir=local_data_dir, \n",
    "    git_repository=git_view_path,\n",
    "    extern_audio_base_dir=extern_data_dir\n",
    ")"
   ]
  },
  {
   "cell_type": "code",
   "execution_count": 8,
   "id": "measured-craps",
   "metadata": {
    "colab": {
     "base_uri": "https://localhost:8080/",
     "height": 151,
     "referenced_widgets": [
      "7b46e89a13764745915b7802aaedc5ee",
      "7d8e46c71b3e45cfa775157a66ac5a52",
      "78f2db221c504bfeb80d08123dde7808",
      "03c3d21fb26343a8b6fec43119e854ce",
      "449bce20528d4f0fa84a533edf31868f",
      "f6212268701e4b5485254734029c7eda",
      "da0a96e9b4194da4b5b242dc2d716bd9",
      "03ea4a943dfa478e9a1a87e251c05af6"
     ]
    },
    "executionInfo": {
     "elapsed": 77594,
     "status": "ok",
     "timestamp": 1620812368354,
     "user": {
      "displayName": "Elius Tibelius",
      "photoUrl": "",
      "userId": "00452752923460326984"
     },
     "user_tz": -120
    },
    "id": "measured-craps",
    "outputId": "e7a3968e-7107-4634-eab1-9ec5a4a2e424",
    "scrolled": true
   },
   "outputs": [
    {
     "name": "stdout",
     "output_type": "stream",
     "text": [
      "Initialize Model from Path: /home/ki-mo/shared/NLP-Models/GermanWave2Vec/trained_model\n",
      "Using Model: /home/ki-mo/shared/NLP-Models/GermanWave2Vec/trained_model\n",
      "Loading processor\n",
      "Loading metric\n",
      "json loaded: {'trained_epochs': 195}\n",
      "Saved Epoch: 195\n",
      "Loading model. Epoche 195\n"
     ]
    }
   ],
   "source": [
    "model_path = None\n",
    "checkpoint = None\n",
    "\n",
    "if checkpoint:\n",
    "    model_path = f'{trained_model_path}/{checkpoint}'\n",
    "elif os.path.isfile(f'{trained_model_path}/pytorch_model.bin'):\n",
    "    model_path = trained_model_path\n",
    "\n",
    "print(f'Initialize Model from Path: {model_path}')\n",
    "translator = GermanSpeechToTextTranslater(model_name=model_path, ds_handler=my_datasets)"
   ]
  },
  {
   "cell_type": "markdown",
   "id": "XHvPPiWru_IC",
   "metadata": {
    "id": "XHvPPiWru_IC"
   },
   "source": [
    "## 4. Choose Dataset"
   ]
  },
  {
   "cell_type": "code",
   "execution_count": 9,
   "id": "A2FODbnsFmoC",
   "metadata": {
    "colab": {
     "base_uri": "https://localhost:8080/",
     "height": 237
    },
    "executionInfo": {
     "elapsed": 890,
     "status": "error",
     "timestamp": 1620852931702,
     "user": {
      "displayName": "Elius Tibelius",
      "photoUrl": "",
      "userId": "00452752923460326984"
     },
     "user_tz": -120
    },
    "id": "A2FODbnsFmoC",
    "outputId": "ce71c4b2-5ec1-41e9-a7cb-6ba14db9178d",
    "scrolled": false
   },
   "outputs": [
    {
     "name": "stdout",
     "output_type": "stream",
     "text": [
      "Please choose Datasets to use\n"
     ]
    },
    {
     "data": {
      "application/vnd.jupyter.widget-view+json": {
       "model_id": "a70878d0c3a443e3b729e98867793395",
       "version_major": 2,
       "version_minor": 0
      },
      "text/plain": [
       "Box(children=(Checkbox(value=False, description='HP1-FvM', indent=False), Checkbox(value=False, description='H…"
      ]
     },
     "metadata": {},
     "output_type": "display_data"
    }
   ],
   "source": [
    "widget_factory = GermanSpeechDatasetWidgetFactory(my_datasets, ds_to_use)\n",
    "print('Please choose Datasets to use')\n",
    "ds_checkboxes_widget = widget_factory.create_dataset_choice_widget()\n",
    "display(ds_checkboxes_widget)"
   ]
  },
  {
   "cell_type": "code",
   "execution_count": null,
   "id": "governmental-found",
   "metadata": {
    "scrolled": true
   },
   "outputs": [
    {
     "name": "stdout",
     "output_type": "stream",
     "text": [
      "======================================\n",
      "Starting round 1 of 4\n",
      "-----------------------------\n",
      "Loading Dataset: common-voice-de-01v30 - /home/ki-mo/shared/gitviews/extern/GermanWave2Vec/datasets/common-voice-de-01v30/content-translated-with_original.csv\n",
      "Pruning Dataset common-voice-de-01v30 with 11813 Entries\n",
      " - 11813 Entries left after Length Cut (min=31, max=4000)\n",
      " - 11813 Entries left after Action Cut\n",
      "Dataset - common-voice-de-01v30 loaded with 11813 Entries\n",
      "**************************************\n",
      "Starting round 1 of 4, epoche 1 of 3\n",
      "Splitting Dataset common-voice-de-01v30 with 11813 Entries\n",
      "aktual trained epoches: 195\n",
      "old trained epoches: 167\n",
      "old word error rate: 34.4068497195158%\n",
      "Translate all\n"
     ]
    },
    {
     "data": {
      "application/vnd.jupyter.widget-view+json": {
       "model_id": "14bf3f67a75b464d861616e618d1b0b7",
       "version_major": 2,
       "version_minor": 0
      },
      "text/plain": [
       "HBox(children=(FloatProgress(value=0.0, max=11813.0), HTML(value='')))"
      ]
     },
     "metadata": {},
     "output_type": "display_data"
    },
    {
     "name": "stdout",
     "output_type": "stream",
     "text": [
      "\n",
      "Save new translations to: /home/ki-mo/shared/gitviews/extern/GermanWave2Vec/datasets/common-voice-de-01v30/content-translated-with_original.csv\n",
      "Calculate WER\n",
      "WER: 33.5719%\n",
      "No. of bad translated snippets: 9145\n",
      "Saving diff files\n",
      "Actual number of bad translated 9145\n",
      "Actual WER: 33.5719%\n",
      " - 9145 Entries left after Length Cut (min=31, max=1200)\n",
      " - 1600 left after Entries Max Samples Cut (max=1600)\n",
      "Creating Trainer for common-voice-de-01v30\n"
     ]
    },
    {
     "name": "stderr",
     "output_type": "stream",
     "text": [
      "W&B installed but not logged in. Run `wandb login` or set the WANDB_API_KEY env variable.\n"
     ]
    },
    {
     "name": "stdout",
     "output_type": "stream",
     "text": [
      "Training of Dataset: common-voice-de-01v30\n"
     ]
    },
    {
     "data": {
      "text/html": [
       "\n",
       "    <div>\n",
       "        <style>\n",
       "            /* Turns off some styling */\n",
       "            progress {\n",
       "                /* gets rid of default border in Firefox and Opera. */\n",
       "                border: none;\n",
       "                /* Needs to be in here for Safari polyfill so background images work as expected. */\n",
       "                background-size: auto;\n",
       "            }\n",
       "        </style>\n",
       "      \n",
       "      <progress value='400' max='400' style='width:300px; height:20px; vertical-align: middle;'></progress>\n",
       "      [400/400 04:29, Epoch 2/2]\n",
       "    </div>\n",
       "    <table border=\"1\" class=\"dataframe\">\n",
       "  <thead>\n",
       "    <tr style=\"text-align: left;\">\n",
       "      <th>Step</th>\n",
       "      <th>Training Loss</th>\n",
       "      <th>Validation Loss</th>\n",
       "      <th>Wer</th>\n",
       "      <th>Runtime</th>\n",
       "      <th>Samples Per Second</th>\n",
       "    </tr>\n",
       "  </thead>\n",
       "  <tbody>\n",
       "    <tr>\n",
       "      <td>100</td>\n",
       "      <td>0.946600</td>\n",
       "      <td>1.049614</td>\n",
       "      <td>0.387640</td>\n",
       "      <td>2.358400</td>\n",
       "      <td>8.480000</td>\n",
       "    </tr>\n",
       "    <tr>\n",
       "      <td>200</td>\n",
       "      <td>0.736700</td>\n",
       "      <td>0.781069</td>\n",
       "      <td>0.348315</td>\n",
       "      <td>2.346800</td>\n",
       "      <td>8.522000</td>\n",
       "    </tr>\n",
       "    <tr>\n",
       "      <td>300</td>\n",
       "      <td>0.639500</td>\n",
       "      <td>0.741366</td>\n",
       "      <td>0.325843</td>\n",
       "      <td>2.349200</td>\n",
       "      <td>8.514000</td>\n",
       "    </tr>\n",
       "    <tr>\n",
       "      <td>400</td>\n",
       "      <td>0.579900</td>\n",
       "      <td>0.731519</td>\n",
       "      <td>0.320225</td>\n",
       "      <td>2.374200</td>\n",
       "      <td>8.424000</td>\n",
       "    </tr>\n",
       "  </tbody>\n",
       "</table><p>"
      ],
      "text/plain": [
       "<IPython.core.display.HTML object>"
      ]
     },
     "metadata": {},
     "output_type": "display_data"
    },
    {
     "name": "stdout",
     "output_type": "stream",
     "text": [
      "Save Model\n",
      "**************************************\n",
      "Starting round 1 of 4, epoche 2 of 3\n",
      "Splitting Dataset common-voice-de-01v30 with 11813 Entries\n",
      "aktual trained epoches: 196\n",
      "old trained epoches: 195\n",
      "old word error rate: 33.57189253026277%\n",
      "Translate all\n"
     ]
    },
    {
     "data": {
      "application/vnd.jupyter.widget-view+json": {
       "model_id": "bb9cfa4db61148b2aea1ff6b551801db",
       "version_major": 2,
       "version_minor": 0
      },
      "text/plain": [
       "HBox(children=(FloatProgress(value=0.0, max=11813.0), HTML(value='')))"
      ]
     },
     "metadata": {},
     "output_type": "display_data"
    },
    {
     "name": "stdout",
     "output_type": "stream",
     "text": [
      "\n",
      "Save new translations to: /home/ki-mo/shared/gitviews/extern/GermanWave2Vec/datasets/common-voice-de-01v30/content-translated-with_original.csv\n",
      "Calculate WER\n"
     ]
    },
    {
     "name": "stderr",
     "output_type": "stream",
     "text": [
      "W&B installed but not logged in. Run `wandb login` or set the WANDB_API_KEY env variable.\n"
     ]
    },
    {
     "name": "stdout",
     "output_type": "stream",
     "text": [
      "WER: 25.1137%\n",
      "No. of bad translated snippets: 7865\n",
      "Saving diff files\n",
      "Actual number of bad translated 7865\n",
      "Actual WER: 25.1137%\n",
      " - 7865 Entries left after Length Cut (min=31, max=1200)\n",
      " - 1600 left after Entries Max Samples Cut (max=1600)\n",
      "Creating Trainer for common-voice-de-01v30\n",
      "Training of Dataset: common-voice-de-01v30\n"
     ]
    },
    {
     "data": {
      "text/html": [
       "\n",
       "    <div>\n",
       "        <style>\n",
       "            /* Turns off some styling */\n",
       "            progress {\n",
       "                /* gets rid of default border in Firefox and Opera. */\n",
       "                border: none;\n",
       "                /* Needs to be in here for Safari polyfill so background images work as expected. */\n",
       "                background-size: auto;\n",
       "            }\n",
       "        </style>\n",
       "      \n",
       "      <progress value='400' max='400' style='width:300px; height:20px; vertical-align: middle;'></progress>\n",
       "      [400/400 04:46, Epoch 2/2]\n",
       "    </div>\n",
       "    <table border=\"1\" class=\"dataframe\">\n",
       "  <thead>\n",
       "    <tr style=\"text-align: left;\">\n",
       "      <th>Step</th>\n",
       "      <th>Training Loss</th>\n",
       "      <th>Validation Loss</th>\n",
       "      <th>Wer</th>\n",
       "      <th>Runtime</th>\n",
       "      <th>Samples Per Second</th>\n",
       "    </tr>\n",
       "  </thead>\n",
       "  <tbody>\n",
       "    <tr>\n",
       "      <td>100</td>\n",
       "      <td>0.663500</td>\n",
       "      <td>0.721724</td>\n",
       "      <td>0.308989</td>\n",
       "      <td>2.423600</td>\n",
       "      <td>8.252000</td>\n",
       "    </tr>\n",
       "    <tr>\n",
       "      <td>200</td>\n",
       "      <td>0.628100</td>\n",
       "      <td>0.704724</td>\n",
       "      <td>0.286517</td>\n",
       "      <td>2.432000</td>\n",
       "      <td>8.224000</td>\n",
       "    </tr>\n",
       "    <tr>\n",
       "      <td>300</td>\n",
       "      <td>0.601100</td>\n",
       "      <td>0.677726</td>\n",
       "      <td>0.292135</td>\n",
       "      <td>2.417600</td>\n",
       "      <td>8.273000</td>\n",
       "    </tr>\n",
       "    <tr>\n",
       "      <td>400</td>\n",
       "      <td>0.580400</td>\n",
       "      <td>0.674209</td>\n",
       "      <td>0.280899</td>\n",
       "      <td>2.401000</td>\n",
       "      <td>8.330000</td>\n",
       "    </tr>\n",
       "  </tbody>\n",
       "</table><p>"
      ],
      "text/plain": [
       "<IPython.core.display.HTML object>"
      ]
     },
     "metadata": {},
     "output_type": "display_data"
    },
    {
     "name": "stdout",
     "output_type": "stream",
     "text": [
      "Save Model\n",
      "**************************************\n",
      "Starting round 1 of 4, epoche 3 of 3\n",
      "Splitting Dataset common-voice-de-01v30 with 11813 Entries\n",
      "aktual trained epoches: 197\n",
      "old trained epoches: 196\n",
      "old word error rate: 25.113669914378505%\n",
      "Translate all\n"
     ]
    },
    {
     "data": {
      "application/vnd.jupyter.widget-view+json": {
       "model_id": "5b98252601f64a5883eba868dad9102e",
       "version_major": 2,
       "version_minor": 0
      },
      "text/plain": [
       "HBox(children=(FloatProgress(value=0.0, max=11813.0), HTML(value='')))"
      ]
     },
     "metadata": {},
     "output_type": "display_data"
    },
    {
     "name": "stdout",
     "output_type": "stream",
     "text": [
      "\n",
      "Save new translations to: /home/ki-mo/shared/gitviews/extern/GermanWave2Vec/datasets/common-voice-de-01v30/content-translated-with_original.csv\n",
      "Calculate WER\n"
     ]
    },
    {
     "name": "stderr",
     "output_type": "stream",
     "text": [
      "W&B installed but not logged in. Run `wandb login` or set the WANDB_API_KEY env variable.\n"
     ]
    },
    {
     "name": "stdout",
     "output_type": "stream",
     "text": [
      "WER: 23.0847%\n",
      "No. of bad translated snippets: 7557\n",
      "Saving diff files\n",
      "Actual number of bad translated 7557\n",
      "Actual WER: 23.0847%\n",
      " - 7557 Entries left after Length Cut (min=31, max=1200)\n",
      " - 1600 left after Entries Max Samples Cut (max=1600)\n",
      "Creating Trainer for common-voice-de-01v30\n",
      "Training of Dataset: common-voice-de-01v30\n"
     ]
    },
    {
     "data": {
      "text/html": [
       "\n",
       "    <div>\n",
       "        <style>\n",
       "            /* Turns off some styling */\n",
       "            progress {\n",
       "                /* gets rid of default border in Firefox and Opera. */\n",
       "                border: none;\n",
       "                /* Needs to be in here for Safari polyfill so background images work as expected. */\n",
       "                background-size: auto;\n",
       "            }\n",
       "        </style>\n",
       "      \n",
       "      <progress value='400' max='400' style='width:300px; height:20px; vertical-align: middle;'></progress>\n",
       "      [400/400 04:47, Epoch 2/2]\n",
       "    </div>\n",
       "    <table border=\"1\" class=\"dataframe\">\n",
       "  <thead>\n",
       "    <tr style=\"text-align: left;\">\n",
       "      <th>Step</th>\n",
       "      <th>Training Loss</th>\n",
       "      <th>Validation Loss</th>\n",
       "      <th>Wer</th>\n",
       "      <th>Runtime</th>\n",
       "      <th>Samples Per Second</th>\n",
       "    </tr>\n",
       "  </thead>\n",
       "  <tbody>\n",
       "    <tr>\n",
       "      <td>100</td>\n",
       "      <td>0.640300</td>\n",
       "      <td>0.669011</td>\n",
       "      <td>0.264045</td>\n",
       "      <td>2.426500</td>\n",
       "      <td>8.242000</td>\n",
       "    </tr>\n",
       "    <tr>\n",
       "      <td>200</td>\n",
       "      <td>0.570200</td>\n",
       "      <td>0.670591</td>\n",
       "      <td>0.297753</td>\n",
       "      <td>2.391700</td>\n",
       "      <td>8.362000</td>\n",
       "    </tr>\n",
       "    <tr>\n",
       "      <td>300</td>\n",
       "      <td>0.604000</td>\n",
       "      <td>0.644487</td>\n",
       "      <td>0.286517</td>\n",
       "      <td>2.410700</td>\n",
       "      <td>8.296000</td>\n",
       "    </tr>\n",
       "    <tr>\n",
       "      <td>400</td>\n",
       "      <td>0.523700</td>\n",
       "      <td>0.649668</td>\n",
       "      <td>0.269663</td>\n",
       "      <td>2.439200</td>\n",
       "      <td>8.199000</td>\n",
       "    </tr>\n",
       "  </tbody>\n",
       "</table><p>"
      ],
      "text/plain": [
       "<IPython.core.display.HTML object>"
      ]
     },
     "metadata": {},
     "output_type": "display_data"
    },
    {
     "name": "stdout",
     "output_type": "stream",
     "text": [
      "Save Model\n",
      "final check und update of common-voice-de-01v30\n",
      "aktual trained epoches: 198\n",
      "old trained epoches: 197\n",
      "old word error rate: 23.084735754354888%\n",
      "Translate all\n"
     ]
    },
    {
     "data": {
      "application/vnd.jupyter.widget-view+json": {
       "model_id": "b1bb116102794d4e9a66061616555b43",
       "version_major": 2,
       "version_minor": 0
      },
      "text/plain": [
       "HBox(children=(FloatProgress(value=0.0, max=11813.0), HTML(value='')))"
      ]
     },
     "metadata": {},
     "output_type": "display_data"
    },
    {
     "name": "stdout",
     "output_type": "stream",
     "text": [
      "\n",
      "Save new translations to: /home/ki-mo/shared/gitviews/extern/GermanWave2Vec/datasets/common-voice-de-01v30/content-translated-with_original.csv\n",
      "Calculate WER\n",
      "WER: 21.9120%\n",
      "No. of bad translated snippets: 7353\n",
      "Saving diff files\n",
      "Actual number of bad translated 7353\n",
      "Actual WER: 21.9120\n",
      "-----------------------------\n",
      "Loading Dataset: common-voice-de-02v30 - /home/ki-mo/shared/gitviews/extern/GermanWave2Vec/datasets/common-voice-de-02v30/content-translated-with_original.csv\n",
      "Pruning Dataset common-voice-de-02v30 with 11906 Entries\n",
      " - 11906 Entries left after Length Cut (min=31, max=4000)\n",
      " - 11906 Entries left after Action Cut\n",
      "Dataset - common-voice-de-02v30 loaded with 11906 Entries\n",
      "**************************************\n",
      "Starting round 1 of 4, epoche 1 of 3\n",
      "Splitting Dataset common-voice-de-02v30 with 11906 Entries\n",
      "aktual trained epoches: 198\n",
      "old trained epoches: 167\n",
      "old word error rate: 32.07975417277743%\n",
      "Translate all\n"
     ]
    },
    {
     "data": {
      "application/vnd.jupyter.widget-view+json": {
       "model_id": "afda8e72a76e4537ad05299a441ab1d9",
       "version_major": 2,
       "version_minor": 0
      },
      "text/plain": [
       "HBox(children=(FloatProgress(value=0.0, max=11906.0), HTML(value='')))"
      ]
     },
     "metadata": {},
     "output_type": "display_data"
    },
    {
     "name": "stdout",
     "output_type": "stream",
     "text": [
      "\n",
      "Save new translations to: /home/ki-mo/shared/gitviews/extern/GermanWave2Vec/datasets/common-voice-de-02v30/content-translated-with_original.csv\n",
      "Calculate WER\n"
     ]
    },
    {
     "name": "stderr",
     "output_type": "stream",
     "text": [
      "W&B installed but not logged in. Run `wandb login` or set the WANDB_API_KEY env variable.\n"
     ]
    },
    {
     "name": "stdout",
     "output_type": "stream",
     "text": [
      "WER: 21.3236%\n",
      "No. of bad translated snippets: 7577\n",
      "Saving diff files\n",
      "Actual number of bad translated 7577\n",
      "Actual WER: 21.3236%\n",
      " - 7577 Entries left after Length Cut (min=31, max=1200)\n",
      " - 1600 left after Entries Max Samples Cut (max=1600)\n",
      "Creating Trainer for common-voice-de-02v30\n",
      "Training of Dataset: common-voice-de-02v30\n"
     ]
    },
    {
     "data": {
      "text/html": [
       "\n",
       "    <div>\n",
       "        <style>\n",
       "            /* Turns off some styling */\n",
       "            progress {\n",
       "                /* gets rid of default border in Firefox and Opera. */\n",
       "                border: none;\n",
       "                /* Needs to be in here for Safari polyfill so background images work as expected. */\n",
       "                background-size: auto;\n",
       "            }\n",
       "        </style>\n",
       "      \n",
       "      <progress value='400' max='400' style='width:300px; height:20px; vertical-align: middle;'></progress>\n",
       "      [400/400 04:35, Epoch 2/2]\n",
       "    </div>\n",
       "    <table border=\"1\" class=\"dataframe\">\n",
       "  <thead>\n",
       "    <tr style=\"text-align: left;\">\n",
       "      <th>Step</th>\n",
       "      <th>Training Loss</th>\n",
       "      <th>Validation Loss</th>\n",
       "      <th>Wer</th>\n",
       "      <th>Runtime</th>\n",
       "      <th>Samples Per Second</th>\n",
       "    </tr>\n",
       "  </thead>\n",
       "  <tbody>\n",
       "    <tr>\n",
       "      <td>100</td>\n",
       "      <td>0.559000</td>\n",
       "      <td>0.216704</td>\n",
       "      <td>0.294416</td>\n",
       "      <td>2.398600</td>\n",
       "      <td>8.338000</td>\n",
       "    </tr>\n",
       "    <tr>\n",
       "      <td>200</td>\n",
       "      <td>0.493200</td>\n",
       "      <td>0.214856</td>\n",
       "      <td>0.258883</td>\n",
       "      <td>2.389000</td>\n",
       "      <td>8.372000</td>\n",
       "    </tr>\n",
       "    <tr>\n",
       "      <td>300</td>\n",
       "      <td>0.487600</td>\n",
       "      <td>0.212165</td>\n",
       "      <td>0.253807</td>\n",
       "      <td>2.387200</td>\n",
       "      <td>8.378000</td>\n",
       "    </tr>\n",
       "    <tr>\n",
       "      <td>400</td>\n",
       "      <td>0.499200</td>\n",
       "      <td>0.210392</td>\n",
       "      <td>0.248731</td>\n",
       "      <td>2.397500</td>\n",
       "      <td>8.342000</td>\n",
       "    </tr>\n",
       "  </tbody>\n",
       "</table><p>"
      ],
      "text/plain": [
       "<IPython.core.display.HTML object>"
      ]
     },
     "metadata": {},
     "output_type": "display_data"
    },
    {
     "name": "stdout",
     "output_type": "stream",
     "text": [
      "Save Model\n",
      "**************************************\n",
      "Starting round 1 of 4, epoche 2 of 3\n",
      "Splitting Dataset common-voice-de-02v30 with 11906 Entries\n",
      "aktual trained epoches: 199\n",
      "old trained epoches: 198\n",
      "old word error rate: 21.323649230625975%\n",
      "Translate all\n"
     ]
    },
    {
     "data": {
      "application/vnd.jupyter.widget-view+json": {
       "model_id": "6b46010e6dbc4731b9e90ae454c89b72",
       "version_major": 2,
       "version_minor": 0
      },
      "text/plain": [
       "HBox(children=(FloatProgress(value=0.0, max=11906.0), HTML(value='')))"
      ]
     },
     "metadata": {},
     "output_type": "display_data"
    },
    {
     "name": "stdout",
     "output_type": "stream",
     "text": [
      "\n",
      "Save new translations to: /home/ki-mo/shared/gitviews/extern/GermanWave2Vec/datasets/common-voice-de-02v30/content-translated-with_original.csv\n",
      "Calculate WER\n"
     ]
    },
    {
     "name": "stderr",
     "output_type": "stream",
     "text": [
      "W&B installed but not logged in. Run `wandb login` or set the WANDB_API_KEY env variable.\n"
     ]
    },
    {
     "name": "stdout",
     "output_type": "stream",
     "text": [
      "WER: 20.1434%\n",
      "No. of bad translated snippets: 7367\n",
      "Saving diff files\n",
      "Actual number of bad translated 7367\n",
      "Actual WER: 20.1434%\n",
      " - 7367 Entries left after Length Cut (min=31, max=1200)\n",
      " - 1600 left after Entries Max Samples Cut (max=1600)\n",
      "Creating Trainer for common-voice-de-02v30\n",
      "Training of Dataset: common-voice-de-02v30\n"
     ]
    },
    {
     "data": {
      "text/html": [
       "\n",
       "    <div>\n",
       "        <style>\n",
       "            /* Turns off some styling */\n",
       "            progress {\n",
       "                /* gets rid of default border in Firefox and Opera. */\n",
       "                border: none;\n",
       "                /* Needs to be in here for Safari polyfill so background images work as expected. */\n",
       "                background-size: auto;\n",
       "            }\n",
       "        </style>\n",
       "      \n",
       "      <progress value='400' max='400' style='width:300px; height:20px; vertical-align: middle;'></progress>\n",
       "      [400/400 04:38, Epoch 2/2]\n",
       "    </div>\n",
       "    <table border=\"1\" class=\"dataframe\">\n",
       "  <thead>\n",
       "    <tr style=\"text-align: left;\">\n",
       "      <th>Step</th>\n",
       "      <th>Training Loss</th>\n",
       "      <th>Validation Loss</th>\n",
       "      <th>Wer</th>\n",
       "      <th>Runtime</th>\n",
       "      <th>Samples Per Second</th>\n",
       "    </tr>\n",
       "  </thead>\n",
       "  <tbody>\n",
       "    <tr>\n",
       "      <td>100</td>\n",
       "      <td>0.499200</td>\n",
       "      <td>0.212969</td>\n",
       "      <td>0.248731</td>\n",
       "      <td>2.406100</td>\n",
       "      <td>8.312000</td>\n",
       "    </tr>\n",
       "    <tr>\n",
       "      <td>200</td>\n",
       "      <td>0.531800</td>\n",
       "      <td>0.204572</td>\n",
       "      <td>0.238579</td>\n",
       "      <td>2.404900</td>\n",
       "      <td>8.316000</td>\n",
       "    </tr>\n",
       "    <tr>\n",
       "      <td>300</td>\n",
       "      <td>0.495200</td>\n",
       "      <td>0.203714</td>\n",
       "      <td>0.248731</td>\n",
       "      <td>2.389900</td>\n",
       "      <td>8.369000</td>\n",
       "    </tr>\n",
       "    <tr>\n",
       "      <td>400</td>\n",
       "      <td>0.457300</td>\n",
       "      <td>0.201429</td>\n",
       "      <td>0.238579</td>\n",
       "      <td>2.384200</td>\n",
       "      <td>8.389000</td>\n",
       "    </tr>\n",
       "  </tbody>\n",
       "</table><p>"
      ],
      "text/plain": [
       "<IPython.core.display.HTML object>"
      ]
     },
     "metadata": {},
     "output_type": "display_data"
    },
    {
     "name": "stdout",
     "output_type": "stream",
     "text": [
      "Save Model\n",
      "**************************************\n",
      "Starting round 1 of 4, epoche 3 of 3\n",
      "Splitting Dataset common-voice-de-02v30 with 11906 Entries\n",
      "aktual trained epoches: 200\n",
      "old trained epoches: 199\n",
      "old word error rate: 20.143399213166653%\n",
      "Translate all\n"
     ]
    },
    {
     "data": {
      "application/vnd.jupyter.widget-view+json": {
       "model_id": "8513c03c1ad64db19ec59369e82802fa",
       "version_major": 2,
       "version_minor": 0
      },
      "text/plain": [
       "HBox(children=(FloatProgress(value=0.0, max=11906.0), HTML(value='')))"
      ]
     },
     "metadata": {},
     "output_type": "display_data"
    },
    {
     "name": "stdout",
     "output_type": "stream",
     "text": [
      "\n",
      "Save new translations to: /home/ki-mo/shared/gitviews/extern/GermanWave2Vec/datasets/common-voice-de-02v30/content-translated-with_original.csv\n",
      "Calculate WER\n"
     ]
    },
    {
     "name": "stderr",
     "output_type": "stream",
     "text": [
      "W&B installed but not logged in. Run `wandb login` or set the WANDB_API_KEY env variable.\n"
     ]
    },
    {
     "name": "stdout",
     "output_type": "stream",
     "text": [
      "WER: 19.5707%\n",
      "No. of bad translated snippets: 7271\n",
      "Saving diff files\n",
      "Actual number of bad translated 7271\n",
      "Actual WER: 19.5707%\n",
      " - 7271 Entries left after Length Cut (min=31, max=1200)\n",
      " - 1600 left after Entries Max Samples Cut (max=1600)\n",
      "Creating Trainer for common-voice-de-02v30\n",
      "Training of Dataset: common-voice-de-02v30\n"
     ]
    },
    {
     "data": {
      "text/html": [
       "\n",
       "    <div>\n",
       "        <style>\n",
       "            /* Turns off some styling */\n",
       "            progress {\n",
       "                /* gets rid of default border in Firefox and Opera. */\n",
       "                border: none;\n",
       "                /* Needs to be in here for Safari polyfill so background images work as expected. */\n",
       "                background-size: auto;\n",
       "            }\n",
       "        </style>\n",
       "      \n",
       "      <progress value='400' max='400' style='width:300px; height:20px; vertical-align: middle;'></progress>\n",
       "      [400/400 04:37, Epoch 2/2]\n",
       "    </div>\n",
       "    <table border=\"1\" class=\"dataframe\">\n",
       "  <thead>\n",
       "    <tr style=\"text-align: left;\">\n",
       "      <th>Step</th>\n",
       "      <th>Training Loss</th>\n",
       "      <th>Validation Loss</th>\n",
       "      <th>Wer</th>\n",
       "      <th>Runtime</th>\n",
       "      <th>Samples Per Second</th>\n",
       "    </tr>\n",
       "  </thead>\n",
       "  <tbody>\n",
       "    <tr>\n",
       "      <td>100</td>\n",
       "      <td>0.490600</td>\n",
       "      <td>0.194966</td>\n",
       "      <td>0.233503</td>\n",
       "      <td>2.394700</td>\n",
       "      <td>8.352000</td>\n",
       "    </tr>\n",
       "    <tr>\n",
       "      <td>200</td>\n",
       "      <td>0.492200</td>\n",
       "      <td>0.187084</td>\n",
       "      <td>0.223350</td>\n",
       "      <td>2.396300</td>\n",
       "      <td>8.346000</td>\n",
       "    </tr>\n",
       "    <tr>\n",
       "      <td>300</td>\n",
       "      <td>0.460600</td>\n",
       "      <td>0.176637</td>\n",
       "      <td>0.223350</td>\n",
       "      <td>2.410600</td>\n",
       "      <td>8.297000</td>\n",
       "    </tr>\n",
       "    <tr>\n",
       "      <td>400</td>\n",
       "      <td>0.473600</td>\n",
       "      <td>0.179411</td>\n",
       "      <td>0.228426</td>\n",
       "      <td>2.416600</td>\n",
       "      <td>8.276000</td>\n",
       "    </tr>\n",
       "  </tbody>\n",
       "</table><p>"
      ],
      "text/plain": [
       "<IPython.core.display.HTML object>"
      ]
     },
     "metadata": {},
     "output_type": "display_data"
    },
    {
     "name": "stdout",
     "output_type": "stream",
     "text": [
      "Save Model\n",
      "final check und update of common-voice-de-02v30\n",
      "aktual trained epoches: 201\n",
      "old trained epoches: 200\n",
      "old word error rate: 19.570733524221893%\n",
      "Translate all\n"
     ]
    },
    {
     "data": {
      "application/vnd.jupyter.widget-view+json": {
       "model_id": "3cccf777002b4c4585526062bbd58c00",
       "version_major": 2,
       "version_minor": 0
      },
      "text/plain": [
       "HBox(children=(FloatProgress(value=0.0, max=11906.0), HTML(value='')))"
      ]
     },
     "metadata": {},
     "output_type": "display_data"
    },
    {
     "name": "stdout",
     "output_type": "stream",
     "text": [
      "\n",
      "Save new translations to: /home/ki-mo/shared/gitviews/extern/GermanWave2Vec/datasets/common-voice-de-02v30/content-translated-with_original.csv\n",
      "Calculate WER\n",
      "WER: 18.8793%\n",
      "No. of bad translated snippets: 7120\n",
      "Saving diff files\n",
      "Actual number of bad translated 7120\n",
      "Actual WER: 18.8793\n",
      "-----------------------------\n",
      "Loading Dataset: common-voice-de-03v30 - /home/ki-mo/shared/gitviews/extern/GermanWave2Vec/datasets/common-voice-de-03v30/content-translated-with_original.csv\n",
      "Pruning Dataset common-voice-de-03v30 with 11954 Entries\n",
      " - 11954 Entries left after Length Cut (min=31, max=4000)\n",
      " - 11954 Entries left after Action Cut\n",
      "Dataset - common-voice-de-03v30 loaded with 11954 Entries\n",
      "**************************************\n",
      "Starting round 1 of 4, epoche 1 of 3\n",
      "Splitting Dataset common-voice-de-03v30 with 11954 Entries\n",
      "aktual trained epoches: 201\n",
      "old trained epoches: 167\n",
      "old word error rate: 30.69812149188907%\n",
      "Translate all\n"
     ]
    },
    {
     "data": {
      "application/vnd.jupyter.widget-view+json": {
       "model_id": "d8fb8f94a3284581aadf16509694e658",
       "version_major": 2,
       "version_minor": 0
      },
      "text/plain": [
       "HBox(children=(FloatProgress(value=0.0, max=11954.0), HTML(value='')))"
      ]
     },
     "metadata": {},
     "output_type": "display_data"
    },
    {
     "name": "stdout",
     "output_type": "stream",
     "text": [
      "\n",
      "Save new translations to: /home/ki-mo/shared/gitviews/extern/GermanWave2Vec/datasets/common-voice-de-03v30/content-translated-with_original.csv\n",
      "Calculate WER\n"
     ]
    },
    {
     "name": "stderr",
     "output_type": "stream",
     "text": [
      "W&B installed but not logged in. Run `wandb login` or set the WANDB_API_KEY env variable.\n"
     ]
    },
    {
     "name": "stdout",
     "output_type": "stream",
     "text": [
      "WER: 19.0046%\n",
      "No. of bad translated snippets: 7010\n",
      "Saving diff files\n",
      "Actual number of bad translated 7010\n",
      "Actual WER: 19.0046%\n",
      " - 7010 Entries left after Length Cut (min=31, max=1200)\n",
      " - 1600 left after Entries Max Samples Cut (max=1600)\n",
      "Creating Trainer for common-voice-de-03v30\n",
      "Training of Dataset: common-voice-de-03v30\n"
     ]
    },
    {
     "data": {
      "text/html": [
       "\n",
       "    <div>\n",
       "        <style>\n",
       "            /* Turns off some styling */\n",
       "            progress {\n",
       "                /* gets rid of default border in Firefox and Opera. */\n",
       "                border: none;\n",
       "                /* Needs to be in here for Safari polyfill so background images work as expected. */\n",
       "                background-size: auto;\n",
       "            }\n",
       "        </style>\n",
       "      \n",
       "      <progress value='400' max='400' style='width:300px; height:20px; vertical-align: middle;'></progress>\n",
       "      [400/400 04:26, Epoch 2/2]\n",
       "    </div>\n",
       "    <table border=\"1\" class=\"dataframe\">\n",
       "  <thead>\n",
       "    <tr style=\"text-align: left;\">\n",
       "      <th>Step</th>\n",
       "      <th>Training Loss</th>\n",
       "      <th>Validation Loss</th>\n",
       "      <th>Wer</th>\n",
       "      <th>Runtime</th>\n",
       "      <th>Samples Per Second</th>\n",
       "    </tr>\n",
       "  </thead>\n",
       "  <tbody>\n",
       "    <tr>\n",
       "      <td>100</td>\n",
       "      <td>0.498000</td>\n",
       "      <td>0.200399</td>\n",
       "      <td>0.189655</td>\n",
       "      <td>2.329500</td>\n",
       "      <td>8.585000</td>\n",
       "    </tr>\n",
       "    <tr>\n",
       "      <td>200</td>\n",
       "      <td>0.501400</td>\n",
       "      <td>0.199815</td>\n",
       "      <td>0.189655</td>\n",
       "      <td>2.333300</td>\n",
       "      <td>8.571000</td>\n",
       "    </tr>\n",
       "    <tr>\n",
       "      <td>300</td>\n",
       "      <td>0.475200</td>\n",
       "      <td>0.193517</td>\n",
       "      <td>0.185345</td>\n",
       "      <td>2.318500</td>\n",
       "      <td>8.626000</td>\n",
       "    </tr>\n",
       "    <tr>\n",
       "      <td>400</td>\n",
       "      <td>0.464400</td>\n",
       "      <td>0.194908</td>\n",
       "      <td>0.189655</td>\n",
       "      <td>2.327600</td>\n",
       "      <td>8.593000</td>\n",
       "    </tr>\n",
       "  </tbody>\n",
       "</table><p>"
      ],
      "text/plain": [
       "<IPython.core.display.HTML object>"
      ]
     },
     "metadata": {},
     "output_type": "display_data"
    },
    {
     "name": "stdout",
     "output_type": "stream",
     "text": [
      "Save Model\n",
      "**************************************\n",
      "Starting round 1 of 4, epoche 2 of 3\n",
      "Splitting Dataset common-voice-de-03v30 with 11954 Entries\n",
      "aktual trained epoches: 202\n",
      "old trained epoches: 201\n",
      "old word error rate: 19.0046161696472%\n",
      "Translate all\n"
     ]
    },
    {
     "data": {
      "application/vnd.jupyter.widget-view+json": {
       "model_id": "c4365ba88c444386a84febe4d5331fed",
       "version_major": 2,
       "version_minor": 0
      },
      "text/plain": [
       "HBox(children=(FloatProgress(value=0.0, max=11954.0), HTML(value='')))"
      ]
     },
     "metadata": {},
     "output_type": "display_data"
    },
    {
     "name": "stdout",
     "output_type": "stream",
     "text": [
      "\n",
      "Save new translations to: /home/ki-mo/shared/gitviews/extern/GermanWave2Vec/datasets/common-voice-de-03v30/content-translated-with_original.csv\n",
      "Calculate WER\n"
     ]
    },
    {
     "name": "stderr",
     "output_type": "stream",
     "text": [
      "W&B installed but not logged in. Run `wandb login` or set the WANDB_API_KEY env variable.\n"
     ]
    },
    {
     "name": "stdout",
     "output_type": "stream",
     "text": [
      "WER: 18.2048%\n",
      "No. of bad translated snippets: 6812\n",
      "Saving diff files\n",
      "Actual number of bad translated 6812\n",
      "Actual WER: 18.2048%\n",
      " - 6812 Entries left after Length Cut (min=31, max=1200)\n",
      " - 1600 left after Entries Max Samples Cut (max=1600)\n",
      "Creating Trainer for common-voice-de-03v30\n",
      "Training of Dataset: common-voice-de-03v30\n"
     ]
    },
    {
     "data": {
      "text/html": [
       "\n",
       "    <div>\n",
       "        <style>\n",
       "            /* Turns off some styling */\n",
       "            progress {\n",
       "                /* gets rid of default border in Firefox and Opera. */\n",
       "                border: none;\n",
       "                /* Needs to be in here for Safari polyfill so background images work as expected. */\n",
       "                background-size: auto;\n",
       "            }\n",
       "        </style>\n",
       "      \n",
       "      <progress value='400' max='400' style='width:300px; height:20px; vertical-align: middle;'></progress>\n",
       "      [400/400 04:25, Epoch 2/2]\n",
       "    </div>\n",
       "    <table border=\"1\" class=\"dataframe\">\n",
       "  <thead>\n",
       "    <tr style=\"text-align: left;\">\n",
       "      <th>Step</th>\n",
       "      <th>Training Loss</th>\n",
       "      <th>Validation Loss</th>\n",
       "      <th>Wer</th>\n",
       "      <th>Runtime</th>\n",
       "      <th>Samples Per Second</th>\n",
       "    </tr>\n",
       "  </thead>\n",
       "  <tbody>\n",
       "    <tr>\n",
       "      <td>100</td>\n",
       "      <td>0.491500</td>\n",
       "      <td>0.193069</td>\n",
       "      <td>0.189655</td>\n",
       "      <td>2.319400</td>\n",
       "      <td>8.623000</td>\n",
       "    </tr>\n",
       "    <tr>\n",
       "      <td>200</td>\n",
       "      <td>0.477200</td>\n",
       "      <td>0.188550</td>\n",
       "      <td>0.193966</td>\n",
       "      <td>2.324300</td>\n",
       "      <td>8.605000</td>\n",
       "    </tr>\n",
       "    <tr>\n",
       "      <td>300</td>\n",
       "      <td>0.455200</td>\n",
       "      <td>0.188733</td>\n",
       "      <td>0.193966</td>\n",
       "      <td>2.314000</td>\n",
       "      <td>8.643000</td>\n",
       "    </tr>\n",
       "    <tr>\n",
       "      <td>400</td>\n",
       "      <td>0.451200</td>\n",
       "      <td>0.188533</td>\n",
       "      <td>0.193966</td>\n",
       "      <td>2.324600</td>\n",
       "      <td>8.604000</td>\n",
       "    </tr>\n",
       "  </tbody>\n",
       "</table><p>"
      ],
      "text/plain": [
       "<IPython.core.display.HTML object>"
      ]
     },
     "metadata": {},
     "output_type": "display_data"
    },
    {
     "name": "stdout",
     "output_type": "stream",
     "text": [
      "Save Model\n",
      "**************************************\n",
      "Starting round 1 of 4, epoche 3 of 3\n",
      "Splitting Dataset common-voice-de-03v30 with 11954 Entries\n",
      "aktual trained epoches: 203\n",
      "old trained epoches: 202\n",
      "old word error rate: 18.204796544399482%\n",
      "Translate all\n"
     ]
    },
    {
     "data": {
      "application/vnd.jupyter.widget-view+json": {
       "model_id": "2ecc74a05603438fb657412db4887da0",
       "version_major": 2,
       "version_minor": 0
      },
      "text/plain": [
       "HBox(children=(FloatProgress(value=0.0, max=11954.0), HTML(value='')))"
      ]
     },
     "metadata": {},
     "output_type": "display_data"
    },
    {
     "name": "stdout",
     "output_type": "stream",
     "text": [
      "\n",
      "Save new translations to: /home/ki-mo/shared/gitviews/extern/GermanWave2Vec/datasets/common-voice-de-03v30/content-translated-with_original.csv\n",
      "Calculate WER\n"
     ]
    },
    {
     "name": "stderr",
     "output_type": "stream",
     "text": [
      "W&B installed but not logged in. Run `wandb login` or set the WANDB_API_KEY env variable.\n"
     ]
    },
    {
     "name": "stdout",
     "output_type": "stream",
     "text": [
      "WER: 17.4145%\n",
      "No. of bad translated snippets: 6601\n",
      "Saving diff files\n",
      "Actual number of bad translated 6601\n",
      "Actual WER: 17.4145%\n",
      " - 6601 Entries left after Length Cut (min=31, max=1200)\n",
      " - 1600 left after Entries Max Samples Cut (max=1600)\n",
      "Creating Trainer for common-voice-de-03v30\n",
      "Training of Dataset: common-voice-de-03v30\n"
     ]
    },
    {
     "data": {
      "text/html": [
       "\n",
       "    <div>\n",
       "        <style>\n",
       "            /* Turns off some styling */\n",
       "            progress {\n",
       "                /* gets rid of default border in Firefox and Opera. */\n",
       "                border: none;\n",
       "                /* Needs to be in here for Safari polyfill so background images work as expected. */\n",
       "                background-size: auto;\n",
       "            }\n",
       "        </style>\n",
       "      \n",
       "      <progress value='400' max='400' style='width:300px; height:20px; vertical-align: middle;'></progress>\n",
       "      [400/400 04:30, Epoch 2/2]\n",
       "    </div>\n",
       "    <table border=\"1\" class=\"dataframe\">\n",
       "  <thead>\n",
       "    <tr style=\"text-align: left;\">\n",
       "      <th>Step</th>\n",
       "      <th>Training Loss</th>\n",
       "      <th>Validation Loss</th>\n",
       "      <th>Wer</th>\n",
       "      <th>Runtime</th>\n",
       "      <th>Samples Per Second</th>\n",
       "    </tr>\n",
       "  </thead>\n",
       "  <tbody>\n",
       "    <tr>\n",
       "      <td>100</td>\n",
       "      <td>0.462600</td>\n",
       "      <td>0.183578</td>\n",
       "      <td>0.193966</td>\n",
       "      <td>2.323500</td>\n",
       "      <td>8.608000</td>\n",
       "    </tr>\n",
       "    <tr>\n",
       "      <td>200</td>\n",
       "      <td>0.485000</td>\n",
       "      <td>0.182600</td>\n",
       "      <td>0.181034</td>\n",
       "      <td>2.330300</td>\n",
       "      <td>8.583000</td>\n",
       "    </tr>\n",
       "    <tr>\n",
       "      <td>300</td>\n",
       "      <td>0.453000</td>\n",
       "      <td>0.177143</td>\n",
       "      <td>0.176724</td>\n",
       "      <td>2.337700</td>\n",
       "      <td>8.556000</td>\n",
       "    </tr>\n",
       "    <tr>\n",
       "      <td>400</td>\n",
       "      <td>0.454600</td>\n",
       "      <td>0.177959</td>\n",
       "      <td>0.185345</td>\n",
       "      <td>2.315200</td>\n",
       "      <td>8.639000</td>\n",
       "    </tr>\n",
       "  </tbody>\n",
       "</table><p>"
      ],
      "text/plain": [
       "<IPython.core.display.HTML object>"
      ]
     },
     "metadata": {},
     "output_type": "display_data"
    },
    {
     "name": "stdout",
     "output_type": "stream",
     "text": [
      "Save Model\n",
      "final check und update of common-voice-de-03v30\n",
      "aktual trained epoches: 204\n",
      "old trained epoches: 203\n",
      "old word error rate: 17.414470327166573%\n",
      "Translate all\n"
     ]
    },
    {
     "data": {
      "application/vnd.jupyter.widget-view+json": {
       "model_id": "cc593f2e873a45dd8a8edac933353181",
       "version_major": 2,
       "version_minor": 0
      },
      "text/plain": [
       "HBox(children=(FloatProgress(value=0.0, max=11954.0), HTML(value='')))"
      ]
     },
     "metadata": {},
     "output_type": "display_data"
    },
    {
     "name": "stdout",
     "output_type": "stream",
     "text": [
      "\n",
      "Save new translations to: /home/ki-mo/shared/gitviews/extern/GermanWave2Vec/datasets/common-voice-de-03v30/content-translated-with_original.csv\n",
      "Calculate WER\n",
      "WER: 16.8686%\n",
      "No. of bad translated snippets: 6515\n",
      "Saving diff files\n",
      "Actual number of bad translated 6515\n",
      "Actual WER: 16.8686\n",
      "-----------------------------\n",
      "Loading Dataset: common-voice-de-04v30 - /home/ki-mo/shared/gitviews/extern/GermanWave2Vec/datasets/common-voice-de-04v30/content-translated-with_original.csv\n",
      "Pruning Dataset common-voice-de-04v30 with 12162 Entries\n",
      " - 12162 Entries left after Length Cut (min=31, max=4000)\n",
      " - 12162 Entries left after Action Cut\n",
      "Dataset - common-voice-de-04v30 loaded with 12162 Entries\n",
      "**************************************\n",
      "Starting round 1 of 4, epoche 1 of 3\n",
      "Splitting Dataset common-voice-de-04v30 with 12162 Entries\n",
      "aktual trained epoches: 204\n",
      "old trained epoches: 167\n",
      "old word error rate: 29.259593731066886%\n",
      "Translate all\n"
     ]
    },
    {
     "data": {
      "application/vnd.jupyter.widget-view+json": {
       "model_id": "9aa57e335ae4496ebe9a8fee48daad6b",
       "version_major": 2,
       "version_minor": 0
      },
      "text/plain": [
       "HBox(children=(FloatProgress(value=0.0, max=12162.0), HTML(value='')))"
      ]
     },
     "metadata": {},
     "output_type": "display_data"
    },
    {
     "name": "stdout",
     "output_type": "stream",
     "text": [
      "\n",
      "Save new translations to: /home/ki-mo/shared/gitviews/extern/GermanWave2Vec/datasets/common-voice-de-04v30/content-translated-with_original.csv\n",
      "Calculate WER\n"
     ]
    },
    {
     "name": "stderr",
     "output_type": "stream",
     "text": [
      "W&B installed but not logged in. Run `wandb login` or set the WANDB_API_KEY env variable.\n"
     ]
    },
    {
     "name": "stdout",
     "output_type": "stream",
     "text": [
      "WER: 17.0087%\n",
      "No. of bad translated snippets: 6821\n",
      "Saving diff files\n",
      "Actual number of bad translated 6821\n",
      "Actual WER: 17.0087%\n",
      " - 6821 Entries left after Length Cut (min=31, max=1200)\n",
      " - 1600 left after Entries Max Samples Cut (max=1600)\n",
      "Creating Trainer for common-voice-de-04v30\n",
      "Training of Dataset: common-voice-de-04v30\n"
     ]
    },
    {
     "data": {
      "text/html": [
       "\n",
       "    <div>\n",
       "        <style>\n",
       "            /* Turns off some styling */\n",
       "            progress {\n",
       "                /* gets rid of default border in Firefox and Opera. */\n",
       "                border: none;\n",
       "                /* Needs to be in here for Safari polyfill so background images work as expected. */\n",
       "                background-size: auto;\n",
       "            }\n",
       "        </style>\n",
       "      \n",
       "      <progress value='400' max='400' style='width:300px; height:20px; vertical-align: middle;'></progress>\n",
       "      [400/400 04:23, Epoch 2/2]\n",
       "    </div>\n",
       "    <table border=\"1\" class=\"dataframe\">\n",
       "  <thead>\n",
       "    <tr style=\"text-align: left;\">\n",
       "      <th>Step</th>\n",
       "      <th>Training Loss</th>\n",
       "      <th>Validation Loss</th>\n",
       "      <th>Wer</th>\n",
       "      <th>Runtime</th>\n",
       "      <th>Samples Per Second</th>\n",
       "    </tr>\n",
       "  </thead>\n",
       "  <tbody>\n",
       "    <tr>\n",
       "      <td>100</td>\n",
       "      <td>0.463300</td>\n",
       "      <td>0.168155</td>\n",
       "      <td>0.293578</td>\n",
       "      <td>2.403600</td>\n",
       "      <td>8.321000</td>\n",
       "    </tr>\n",
       "    <tr>\n",
       "      <td>200</td>\n",
       "      <td>0.465000</td>\n",
       "      <td>0.167545</td>\n",
       "      <td>0.288991</td>\n",
       "      <td>2.387600</td>\n",
       "      <td>8.377000</td>\n",
       "    </tr>\n",
       "    <tr>\n",
       "      <td>300</td>\n",
       "      <td>0.430500</td>\n",
       "      <td>0.163555</td>\n",
       "      <td>0.275229</td>\n",
       "      <td>2.384100</td>\n",
       "      <td>8.389000</td>\n",
       "    </tr>\n",
       "    <tr>\n",
       "      <td>400</td>\n",
       "      <td>0.446100</td>\n",
       "      <td>0.159013</td>\n",
       "      <td>0.275229</td>\n",
       "      <td>2.393500</td>\n",
       "      <td>8.356000</td>\n",
       "    </tr>\n",
       "  </tbody>\n",
       "</table><p>"
      ],
      "text/plain": [
       "<IPython.core.display.HTML object>"
      ]
     },
     "metadata": {},
     "output_type": "display_data"
    },
    {
     "name": "stdout",
     "output_type": "stream",
     "text": [
      "Save Model\n",
      "**************************************\n",
      "Starting round 1 of 4, epoche 2 of 3\n",
      "Splitting Dataset common-voice-de-04v30 with 12162 Entries\n",
      "aktual trained epoches: 205\n",
      "old trained epoches: 204\n",
      "old word error rate: 17.008653505412727%\n",
      "Translate all\n"
     ]
    },
    {
     "data": {
      "application/vnd.jupyter.widget-view+json": {
       "model_id": "258526ab68044faab2901c0647e468f0",
       "version_major": 2,
       "version_minor": 0
      },
      "text/plain": [
       "HBox(children=(FloatProgress(value=0.0, max=12162.0), HTML(value='')))"
      ]
     },
     "metadata": {},
     "output_type": "display_data"
    },
    {
     "name": "stdout",
     "output_type": "stream",
     "text": [
      "\n",
      "Save new translations to: /home/ki-mo/shared/gitviews/extern/GermanWave2Vec/datasets/common-voice-de-04v30/content-translated-with_original.csv\n",
      "Calculate WER\n"
     ]
    },
    {
     "name": "stderr",
     "output_type": "stream",
     "text": [
      "W&B installed but not logged in. Run `wandb login` or set the WANDB_API_KEY env variable.\n"
     ]
    },
    {
     "name": "stdout",
     "output_type": "stream",
     "text": [
      "WER: 16.4645%\n",
      "No. of bad translated snippets: 6731\n",
      "Saving diff files\n",
      "Actual number of bad translated 6731\n",
      "Actual WER: 16.4645%\n",
      " - 6731 Entries left after Length Cut (min=31, max=1200)\n",
      " - 1600 left after Entries Max Samples Cut (max=1600)\n",
      "Creating Trainer for common-voice-de-04v30\n",
      "Training of Dataset: common-voice-de-04v30\n"
     ]
    },
    {
     "data": {
      "text/html": [
       "\n",
       "    <div>\n",
       "        <style>\n",
       "            /* Turns off some styling */\n",
       "            progress {\n",
       "                /* gets rid of default border in Firefox and Opera. */\n",
       "                border: none;\n",
       "                /* Needs to be in here for Safari polyfill so background images work as expected. */\n",
       "                background-size: auto;\n",
       "            }\n",
       "        </style>\n",
       "      \n",
       "      <progress value='400' max='400' style='width:300px; height:20px; vertical-align: middle;'></progress>\n",
       "      [400/400 04:26, Epoch 2/2]\n",
       "    </div>\n",
       "    <table border=\"1\" class=\"dataframe\">\n",
       "  <thead>\n",
       "    <tr style=\"text-align: left;\">\n",
       "      <th>Step</th>\n",
       "      <th>Training Loss</th>\n",
       "      <th>Validation Loss</th>\n",
       "      <th>Wer</th>\n",
       "      <th>Runtime</th>\n",
       "      <th>Samples Per Second</th>\n",
       "    </tr>\n",
       "  </thead>\n",
       "  <tbody>\n",
       "    <tr>\n",
       "      <td>100</td>\n",
       "      <td>0.435000</td>\n",
       "      <td>0.155590</td>\n",
       "      <td>0.270642</td>\n",
       "      <td>2.393400</td>\n",
       "      <td>8.356000</td>\n",
       "    </tr>\n",
       "    <tr>\n",
       "      <td>200</td>\n",
       "      <td>0.402600</td>\n",
       "      <td>0.159763</td>\n",
       "      <td>0.270642</td>\n",
       "      <td>2.394800</td>\n",
       "      <td>8.351000</td>\n",
       "    </tr>\n",
       "    <tr>\n",
       "      <td>300</td>\n",
       "      <td>0.410700</td>\n",
       "      <td>0.152743</td>\n",
       "      <td>0.266055</td>\n",
       "      <td>2.376300</td>\n",
       "      <td>8.416000</td>\n",
       "    </tr>\n",
       "    <tr>\n",
       "      <td>400</td>\n",
       "      <td>0.379500</td>\n",
       "      <td>0.149304</td>\n",
       "      <td>0.270642</td>\n",
       "      <td>2.377400</td>\n",
       "      <td>8.413000</td>\n",
       "    </tr>\n",
       "  </tbody>\n",
       "</table><p>"
      ],
      "text/plain": [
       "<IPython.core.display.HTML object>"
      ]
     },
     "metadata": {},
     "output_type": "display_data"
    },
    {
     "name": "stdout",
     "output_type": "stream",
     "text": [
      "Save Model\n",
      "**************************************\n",
      "Starting round 1 of 4, epoche 3 of 3\n",
      "Splitting Dataset common-voice-de-04v30 with 12162 Entries\n",
      "aktual trained epoches: 206\n",
      "old trained epoches: 205\n",
      "old word error rate: 16.464522914070805%\n",
      "Translate all\n"
     ]
    },
    {
     "data": {
      "application/vnd.jupyter.widget-view+json": {
       "model_id": "2e9525272da44965b78cab888e3053da",
       "version_major": 2,
       "version_minor": 0
      },
      "text/plain": [
       "HBox(children=(FloatProgress(value=0.0, max=12162.0), HTML(value='')))"
      ]
     },
     "metadata": {},
     "output_type": "display_data"
    },
    {
     "name": "stdout",
     "output_type": "stream",
     "text": [
      "\n",
      "Save new translations to: /home/ki-mo/shared/gitviews/extern/GermanWave2Vec/datasets/common-voice-de-04v30/content-translated-with_original.csv\n",
      "Calculate WER\n"
     ]
    },
    {
     "name": "stderr",
     "output_type": "stream",
     "text": [
      "W&B installed but not logged in. Run `wandb login` or set the WANDB_API_KEY env variable.\n"
     ]
    },
    {
     "name": "stdout",
     "output_type": "stream",
     "text": [
      "WER: 15.8015%\n",
      "No. of bad translated snippets: 6555\n",
      "Saving diff files\n",
      "Actual number of bad translated 6555\n",
      "Actual WER: 15.8015%\n",
      " - 6555 Entries left after Length Cut (min=31, max=1200)\n",
      " - 1600 left after Entries Max Samples Cut (max=1600)\n",
      "Creating Trainer for common-voice-de-04v30\n",
      "Training of Dataset: common-voice-de-04v30\n"
     ]
    },
    {
     "data": {
      "text/html": [
       "\n",
       "    <div>\n",
       "        <style>\n",
       "            /* Turns off some styling */\n",
       "            progress {\n",
       "                /* gets rid of default border in Firefox and Opera. */\n",
       "                border: none;\n",
       "                /* Needs to be in here for Safari polyfill so background images work as expected. */\n",
       "                background-size: auto;\n",
       "            }\n",
       "        </style>\n",
       "      \n",
       "      <progress value='400' max='400' style='width:300px; height:20px; vertical-align: middle;'></progress>\n",
       "      [400/400 04:23, Epoch 2/2]\n",
       "    </div>\n",
       "    <table border=\"1\" class=\"dataframe\">\n",
       "  <thead>\n",
       "    <tr style=\"text-align: left;\">\n",
       "      <th>Step</th>\n",
       "      <th>Training Loss</th>\n",
       "      <th>Validation Loss</th>\n",
       "      <th>Wer</th>\n",
       "      <th>Runtime</th>\n",
       "      <th>Samples Per Second</th>\n",
       "    </tr>\n",
       "  </thead>\n",
       "  <tbody>\n",
       "    <tr>\n",
       "      <td>100</td>\n",
       "      <td>0.433900</td>\n",
       "      <td>0.145146</td>\n",
       "      <td>0.252294</td>\n",
       "      <td>2.373600</td>\n",
       "      <td>8.426000</td>\n",
       "    </tr>\n",
       "    <tr>\n",
       "      <td>200</td>\n",
       "      <td>0.444900</td>\n",
       "      <td>0.149648</td>\n",
       "      <td>0.270642</td>\n",
       "      <td>2.398500</td>\n",
       "      <td>8.339000</td>\n",
       "    </tr>\n",
       "    <tr>\n",
       "      <td>300</td>\n",
       "      <td>0.413800</td>\n",
       "      <td>0.150024</td>\n",
       "      <td>0.261468</td>\n",
       "      <td>2.357900</td>\n",
       "      <td>8.482000</td>\n",
       "    </tr>\n",
       "    <tr>\n",
       "      <td>400</td>\n",
       "      <td>0.407900</td>\n",
       "      <td>0.147557</td>\n",
       "      <td>0.256881</td>\n",
       "      <td>2.364300</td>\n",
       "      <td>8.459000</td>\n",
       "    </tr>\n",
       "  </tbody>\n",
       "</table><p>"
      ],
      "text/plain": [
       "<IPython.core.display.HTML object>"
      ]
     },
     "metadata": {},
     "output_type": "display_data"
    },
    {
     "name": "stdout",
     "output_type": "stream",
     "text": [
      "Save Model\n",
      "final check und update of common-voice-de-04v30\n",
      "aktual trained epoches: 207\n",
      "old trained epoches: 206\n",
      "old word error rate: 15.80150664730964%\n",
      "Translate all\n"
     ]
    },
    {
     "data": {
      "application/vnd.jupyter.widget-view+json": {
       "model_id": "cf507b901f9c4364825d51b257662fc9",
       "version_major": 2,
       "version_minor": 0
      },
      "text/plain": [
       "HBox(children=(FloatProgress(value=0.0, max=12162.0), HTML(value='')))"
      ]
     },
     "metadata": {},
     "output_type": "display_data"
    },
    {
     "name": "stdout",
     "output_type": "stream",
     "text": [
      "\n",
      "Save new translations to: /home/ki-mo/shared/gitviews/extern/GermanWave2Vec/datasets/common-voice-de-04v30/content-translated-with_original.csv\n",
      "Calculate WER\n",
      "WER: 15.3008%\n",
      "No. of bad translated snippets: 6436\n",
      "Saving diff files\n",
      "Actual number of bad translated 6436\n",
      "Actual WER: 15.3008\n",
      "-----------------------------\n",
      "Loading Dataset: common-voice-de-05v30 - /home/ki-mo/shared/gitviews/extern/GermanWave2Vec/datasets/common-voice-de-05v30/content-translated-with_original.csv\n",
      "Pruning Dataset common-voice-de-05v30 with 11957 Entries\n",
      " - 11957 Entries left after Length Cut (min=31, max=4000)\n",
      " - 11957 Entries left after Action Cut\n",
      "Dataset - common-voice-de-05v30 loaded with 11957 Entries\n",
      "**************************************\n",
      "Starting round 1 of 4, epoche 1 of 3\n",
      "Splitting Dataset common-voice-de-05v30 with 11957 Entries\n",
      "aktual trained epoches: 207\n",
      "old trained epoches: 167\n",
      "old word error rate: 29.009179415855357%\n",
      "Translate all\n"
     ]
    },
    {
     "data": {
      "application/vnd.jupyter.widget-view+json": {
       "model_id": "dc866947a62e473d8d57e98563ef88f4",
       "version_major": 2,
       "version_minor": 0
      },
      "text/plain": [
       "HBox(children=(FloatProgress(value=0.0, max=11957.0), HTML(value='')))"
      ]
     },
     "metadata": {},
     "output_type": "display_data"
    },
    {
     "name": "stdout",
     "output_type": "stream",
     "text": [
      "\n",
      "Save new translations to: /home/ki-mo/shared/gitviews/extern/GermanWave2Vec/datasets/common-voice-de-05v30/content-translated-with_original.csv\n",
      "Calculate WER\n"
     ]
    },
    {
     "name": "stderr",
     "output_type": "stream",
     "text": [
      "W&B installed but not logged in. Run `wandb login` or set the WANDB_API_KEY env variable.\n"
     ]
    },
    {
     "name": "stdout",
     "output_type": "stream",
     "text": [
      "WER: 16.2848%\n",
      "No. of bad translated snippets: 6853\n",
      "Saving diff files\n",
      "Actual number of bad translated 6853\n",
      "Actual WER: 16.2848%\n",
      " - 6853 Entries left after Length Cut (min=31, max=1200)\n",
      " - 1600 left after Entries Max Samples Cut (max=1600)\n",
      "Creating Trainer for common-voice-de-05v30\n",
      "Training of Dataset: common-voice-de-05v30\n"
     ]
    },
    {
     "data": {
      "text/html": [
       "\n",
       "    <div>\n",
       "        <style>\n",
       "            /* Turns off some styling */\n",
       "            progress {\n",
       "                /* gets rid of default border in Firefox and Opera. */\n",
       "                border: none;\n",
       "                /* Needs to be in here for Safari polyfill so background images work as expected. */\n",
       "                background-size: auto;\n",
       "            }\n",
       "        </style>\n",
       "      \n",
       "      <progress value='400' max='400' style='width:300px; height:20px; vertical-align: middle;'></progress>\n",
       "      [400/400 04:24, Epoch 2/2]\n",
       "    </div>\n",
       "    <table border=\"1\" class=\"dataframe\">\n",
       "  <thead>\n",
       "    <tr style=\"text-align: left;\">\n",
       "      <th>Step</th>\n",
       "      <th>Training Loss</th>\n",
       "      <th>Validation Loss</th>\n",
       "      <th>Wer</th>\n",
       "      <th>Runtime</th>\n",
       "      <th>Samples Per Second</th>\n",
       "    </tr>\n",
       "  </thead>\n",
       "  <tbody>\n",
       "    <tr>\n",
       "      <td>100</td>\n",
       "      <td>0.429900</td>\n",
       "      <td>0.204806</td>\n",
       "      <td>0.187793</td>\n",
       "      <td>2.364000</td>\n",
       "      <td>8.460000</td>\n",
       "    </tr>\n",
       "    <tr>\n",
       "      <td>200</td>\n",
       "      <td>0.438600</td>\n",
       "      <td>0.199859</td>\n",
       "      <td>0.187793</td>\n",
       "      <td>2.359400</td>\n",
       "      <td>8.477000</td>\n",
       "    </tr>\n",
       "    <tr>\n",
       "      <td>300</td>\n",
       "      <td>0.406900</td>\n",
       "      <td>0.200342</td>\n",
       "      <td>0.197183</td>\n",
       "      <td>2.328000</td>\n",
       "      <td>8.591000</td>\n",
       "    </tr>\n",
       "    <tr>\n",
       "      <td>400</td>\n",
       "      <td>0.413000</td>\n",
       "      <td>0.198913</td>\n",
       "      <td>0.201878</td>\n",
       "      <td>2.347900</td>\n",
       "      <td>8.518000</td>\n",
       "    </tr>\n",
       "  </tbody>\n",
       "</table><p>"
      ],
      "text/plain": [
       "<IPython.core.display.HTML object>"
      ]
     },
     "metadata": {},
     "output_type": "display_data"
    },
    {
     "name": "stdout",
     "output_type": "stream",
     "text": [
      "Save Model\n",
      "**************************************\n",
      "Starting round 1 of 4, epoche 2 of 3\n",
      "Splitting Dataset common-voice-de-05v30 with 11957 Entries\n",
      "aktual trained epoches: 208\n",
      "old trained epoches: 207\n",
      "old word error rate: 16.284840055632824%\n",
      "Translate all\n"
     ]
    },
    {
     "data": {
      "application/vnd.jupyter.widget-view+json": {
       "model_id": "b20b913b821345e3844b7a4d26cf0cc9",
       "version_major": 2,
       "version_minor": 0
      },
      "text/plain": [
       "HBox(children=(FloatProgress(value=0.0, max=11957.0), HTML(value='')))"
      ]
     },
     "metadata": {},
     "output_type": "display_data"
    },
    {
     "name": "stdout",
     "output_type": "stream",
     "text": [
      "\n",
      "Save new translations to: /home/ki-mo/shared/gitviews/extern/GermanWave2Vec/datasets/common-voice-de-05v30/content-translated-with_original.csv\n",
      "Calculate WER\n"
     ]
    },
    {
     "name": "stderr",
     "output_type": "stream",
     "text": [
      "W&B installed but not logged in. Run `wandb login` or set the WANDB_API_KEY env variable.\n"
     ]
    },
    {
     "name": "stdout",
     "output_type": "stream",
     "text": [
      "WER: 15.6373%\n",
      "No. of bad translated snippets: 6737\n",
      "Saving diff files\n",
      "Actual number of bad translated 6737\n",
      "Actual WER: 15.6373%\n",
      " - 6737 Entries left after Length Cut (min=31, max=1200)\n",
      " - 1600 left after Entries Max Samples Cut (max=1600)\n",
      "Creating Trainer for common-voice-de-05v30\n",
      "Training of Dataset: common-voice-de-05v30\n"
     ]
    },
    {
     "data": {
      "text/html": [
       "\n",
       "    <div>\n",
       "        <style>\n",
       "            /* Turns off some styling */\n",
       "            progress {\n",
       "                /* gets rid of default border in Firefox and Opera. */\n",
       "                border: none;\n",
       "                /* Needs to be in here for Safari polyfill so background images work as expected. */\n",
       "                background-size: auto;\n",
       "            }\n",
       "        </style>\n",
       "      \n",
       "      <progress value='400' max='400' style='width:300px; height:20px; vertical-align: middle;'></progress>\n",
       "      [400/400 04:24, Epoch 2/2]\n",
       "    </div>\n",
       "    <table border=\"1\" class=\"dataframe\">\n",
       "  <thead>\n",
       "    <tr style=\"text-align: left;\">\n",
       "      <th>Step</th>\n",
       "      <th>Training Loss</th>\n",
       "      <th>Validation Loss</th>\n",
       "      <th>Wer</th>\n",
       "      <th>Runtime</th>\n",
       "      <th>Samples Per Second</th>\n",
       "    </tr>\n",
       "  </thead>\n",
       "  <tbody>\n",
       "    <tr>\n",
       "      <td>100</td>\n",
       "      <td>0.406500</td>\n",
       "      <td>0.188157</td>\n",
       "      <td>0.192488</td>\n",
       "      <td>2.346800</td>\n",
       "      <td>8.522000</td>\n",
       "    </tr>\n",
       "    <tr>\n",
       "      <td>200</td>\n",
       "      <td>0.436400</td>\n",
       "      <td>0.187506</td>\n",
       "      <td>0.201878</td>\n",
       "      <td>2.347900</td>\n",
       "      <td>8.518000</td>\n",
       "    </tr>\n",
       "    <tr>\n",
       "      <td>300</td>\n",
       "      <td>0.424200</td>\n",
       "      <td>0.188609</td>\n",
       "      <td>0.192488</td>\n",
       "      <td>2.336600</td>\n",
       "      <td>8.559000</td>\n",
       "    </tr>\n",
       "    <tr>\n",
       "      <td>400</td>\n",
       "      <td>0.381800</td>\n",
       "      <td>0.186885</td>\n",
       "      <td>0.192488</td>\n",
       "      <td>2.311600</td>\n",
       "      <td>8.652000</td>\n",
       "    </tr>\n",
       "  </tbody>\n",
       "</table><p>"
      ],
      "text/plain": [
       "<IPython.core.display.HTML object>"
      ]
     },
     "metadata": {},
     "output_type": "display_data"
    },
    {
     "name": "stdout",
     "output_type": "stream",
     "text": [
      "Save Model\n",
      "**************************************\n",
      "Starting round 1 of 4, epoche 3 of 3\n",
      "Splitting Dataset common-voice-de-05v30 with 11957 Entries\n",
      "aktual trained epoches: 209\n",
      "old trained epoches: 208\n",
      "old word error rate: 15.637273991655077%\n",
      "Translate all\n"
     ]
    },
    {
     "data": {
      "application/vnd.jupyter.widget-view+json": {
       "model_id": "f535ffe6441f4a73b2aba417e7e9dabe",
       "version_major": 2,
       "version_minor": 0
      },
      "text/plain": [
       "HBox(children=(FloatProgress(value=0.0, max=11957.0), HTML(value='')))"
      ]
     },
     "metadata": {},
     "output_type": "display_data"
    },
    {
     "name": "stdout",
     "output_type": "stream",
     "text": [
      "\n",
      "Save new translations to: /home/ki-mo/shared/gitviews/extern/GermanWave2Vec/datasets/common-voice-de-05v30/content-translated-with_original.csv\n",
      "Calculate WER\n"
     ]
    },
    {
     "name": "stderr",
     "output_type": "stream",
     "text": [
      "W&B installed but not logged in. Run `wandb login` or set the WANDB_API_KEY env variable.\n"
     ]
    },
    {
     "name": "stdout",
     "output_type": "stream",
     "text": [
      "WER: 15.1744%\n",
      "No. of bad translated snippets: 6632\n",
      "Saving diff files\n",
      "Actual number of bad translated 6632\n",
      "Actual WER: 15.1744%\n",
      " - 6632 Entries left after Length Cut (min=31, max=1200)\n",
      " - 1600 left after Entries Max Samples Cut (max=1600)\n",
      "Creating Trainer for common-voice-de-05v30\n",
      "Training of Dataset: common-voice-de-05v30\n"
     ]
    },
    {
     "data": {
      "text/html": [
       "\n",
       "    <div>\n",
       "        <style>\n",
       "            /* Turns off some styling */\n",
       "            progress {\n",
       "                /* gets rid of default border in Firefox and Opera. */\n",
       "                border: none;\n",
       "                /* Needs to be in here for Safari polyfill so background images work as expected. */\n",
       "                background-size: auto;\n",
       "            }\n",
       "        </style>\n",
       "      \n",
       "      <progress value='400' max='400' style='width:300px; height:20px; vertical-align: middle;'></progress>\n",
       "      [400/400 04:26, Epoch 2/2]\n",
       "    </div>\n",
       "    <table border=\"1\" class=\"dataframe\">\n",
       "  <thead>\n",
       "    <tr style=\"text-align: left;\">\n",
       "      <th>Step</th>\n",
       "      <th>Training Loss</th>\n",
       "      <th>Validation Loss</th>\n",
       "      <th>Wer</th>\n",
       "      <th>Runtime</th>\n",
       "      <th>Samples Per Second</th>\n",
       "    </tr>\n",
       "  </thead>\n",
       "  <tbody>\n",
       "    <tr>\n",
       "      <td>100</td>\n",
       "      <td>0.405700</td>\n",
       "      <td>0.193983</td>\n",
       "      <td>0.183099</td>\n",
       "      <td>2.351500</td>\n",
       "      <td>8.505000</td>\n",
       "    </tr>\n",
       "    <tr>\n",
       "      <td>200</td>\n",
       "      <td>0.420500</td>\n",
       "      <td>0.197447</td>\n",
       "      <td>0.187793</td>\n",
       "      <td>2.369000</td>\n",
       "      <td>8.442000</td>\n",
       "    </tr>\n",
       "    <tr>\n",
       "      <td>300</td>\n",
       "      <td>0.391200</td>\n",
       "      <td>0.188822</td>\n",
       "      <td>0.178404</td>\n",
       "      <td>2.365600</td>\n",
       "      <td>8.455000</td>\n",
       "    </tr>\n",
       "    <tr>\n",
       "      <td>400</td>\n",
       "      <td>0.379100</td>\n",
       "      <td>0.185211</td>\n",
       "      <td>0.178404</td>\n",
       "      <td>2.366700</td>\n",
       "      <td>8.451000</td>\n",
       "    </tr>\n",
       "  </tbody>\n",
       "</table><p>"
      ],
      "text/plain": [
       "<IPython.core.display.HTML object>"
      ]
     },
     "metadata": {},
     "output_type": "display_data"
    },
    {
     "name": "stdout",
     "output_type": "stream",
     "text": [
      "Save Model\n",
      "final check und update of common-voice-de-05v30\n",
      "aktual trained epoches: 210\n",
      "old trained epoches: 209\n",
      "old word error rate: 15.174408901251738%\n",
      "Translate all\n"
     ]
    },
    {
     "data": {
      "application/vnd.jupyter.widget-view+json": {
       "model_id": "522d641e1ab54ab880ccd43e51508d7d",
       "version_major": 2,
       "version_minor": 0
      },
      "text/plain": [
       "HBox(children=(FloatProgress(value=0.0, max=11957.0), HTML(value='')))"
      ]
     },
     "metadata": {},
     "output_type": "display_data"
    },
    {
     "name": "stdout",
     "output_type": "stream",
     "text": [
      "\n",
      "Save new translations to: /home/ki-mo/shared/gitviews/extern/GermanWave2Vec/datasets/common-voice-de-05v30/content-translated-with_original.csv\n",
      "Calculate WER\n",
      "WER: 14.4846%\n",
      "No. of bad translated snippets: 6464\n",
      "Saving diff files\n",
      "Actual number of bad translated 6464\n",
      "Actual WER: 14.4846\n",
      "-----------------------------\n",
      "Loading Dataset: common-voice-de-06v30 - /home/ki-mo/shared/gitviews/extern/GermanWave2Vec/datasets/common-voice-de-06v30/content-translated-with_original.csv\n",
      "Pruning Dataset common-voice-de-06v30 with 12262 Entries\n",
      " - 12262 Entries left after Length Cut (min=31, max=4000)\n",
      " - 12262 Entries left after Action Cut\n",
      "Dataset - common-voice-de-06v30 loaded with 12262 Entries\n",
      "**************************************\n",
      "Starting round 1 of 4, epoche 1 of 3\n",
      "Splitting Dataset common-voice-de-06v30 with 12262 Entries\n",
      "aktual trained epoches: 210\n",
      "old trained epoches: 167\n",
      "old word error rate: 28.865544890368668%\n",
      "Translate all\n"
     ]
    },
    {
     "data": {
      "application/vnd.jupyter.widget-view+json": {
       "model_id": "8c457a15242c43918e56ab20aea94dbb",
       "version_major": 2,
       "version_minor": 0
      },
      "text/plain": [
       "HBox(children=(FloatProgress(value=0.0, max=12262.0), HTML(value='')))"
      ]
     },
     "metadata": {},
     "output_type": "display_data"
    },
    {
     "name": "stdout",
     "output_type": "stream",
     "text": [
      "\n",
      "Save new translations to: /home/ki-mo/shared/gitviews/extern/GermanWave2Vec/datasets/common-voice-de-06v30/content-translated-with_original.csv\n",
      "Calculate WER\n"
     ]
    },
    {
     "name": "stderr",
     "output_type": "stream",
     "text": [
      "W&B installed but not logged in. Run `wandb login` or set the WANDB_API_KEY env variable.\n"
     ]
    },
    {
     "name": "stdout",
     "output_type": "stream",
     "text": [
      "WER: 15.4811%\n",
      "No. of bad translated snippets: 6967\n",
      "Saving diff files\n",
      "Actual number of bad translated 6967\n",
      "Actual WER: 15.4811%\n",
      " - 6967 Entries left after Length Cut (min=31, max=1200)\n",
      " - 1600 left after Entries Max Samples Cut (max=1600)\n",
      "Creating Trainer for common-voice-de-06v30\n",
      "Training of Dataset: common-voice-de-06v30\n"
     ]
    },
    {
     "data": {
      "text/html": [
       "\n",
       "    <div>\n",
       "        <style>\n",
       "            /* Turns off some styling */\n",
       "            progress {\n",
       "                /* gets rid of default border in Firefox and Opera. */\n",
       "                border: none;\n",
       "                /* Needs to be in here for Safari polyfill so background images work as expected. */\n",
       "                background-size: auto;\n",
       "            }\n",
       "        </style>\n",
       "      \n",
       "      <progress value='400' max='400' style='width:300px; height:20px; vertical-align: middle;'></progress>\n",
       "      [400/400 04:20, Epoch 2/2]\n",
       "    </div>\n",
       "    <table border=\"1\" class=\"dataframe\">\n",
       "  <thead>\n",
       "    <tr style=\"text-align: left;\">\n",
       "      <th>Step</th>\n",
       "      <th>Training Loss</th>\n",
       "      <th>Validation Loss</th>\n",
       "      <th>Wer</th>\n",
       "      <th>Runtime</th>\n",
       "      <th>Samples Per Second</th>\n",
       "    </tr>\n",
       "  </thead>\n",
       "  <tbody>\n",
       "    <tr>\n",
       "      <td>100</td>\n",
       "      <td>0.436300</td>\n",
       "      <td>0.115585</td>\n",
       "      <td>0.185654</td>\n",
       "      <td>2.321000</td>\n",
       "      <td>8.617000</td>\n",
       "    </tr>\n",
       "    <tr>\n",
       "      <td>200</td>\n",
       "      <td>0.443800</td>\n",
       "      <td>0.113448</td>\n",
       "      <td>0.185654</td>\n",
       "      <td>2.314600</td>\n",
       "      <td>8.641000</td>\n",
       "    </tr>\n",
       "    <tr>\n",
       "      <td>300</td>\n",
       "      <td>0.417900</td>\n",
       "      <td>0.109361</td>\n",
       "      <td>0.172996</td>\n",
       "      <td>2.332000</td>\n",
       "      <td>8.576000</td>\n",
       "    </tr>\n",
       "    <tr>\n",
       "      <td>400</td>\n",
       "      <td>0.395400</td>\n",
       "      <td>0.107542</td>\n",
       "      <td>0.177215</td>\n",
       "      <td>2.331500</td>\n",
       "      <td>8.578000</td>\n",
       "    </tr>\n",
       "  </tbody>\n",
       "</table><p>"
      ],
      "text/plain": [
       "<IPython.core.display.HTML object>"
      ]
     },
     "metadata": {},
     "output_type": "display_data"
    },
    {
     "name": "stdout",
     "output_type": "stream",
     "text": [
      "Save Model\n",
      "**************************************\n",
      "Starting round 1 of 4, epoche 2 of 3\n",
      "Splitting Dataset common-voice-de-06v30 with 12262 Entries\n",
      "aktual trained epoches: 211\n",
      "old trained epoches: 210\n",
      "old word error rate: 15.481145096882276%\n",
      "Translate all\n"
     ]
    },
    {
     "data": {
      "application/vnd.jupyter.widget-view+json": {
       "model_id": "63d2aa4e44894b74a8618a82dba49481",
       "version_major": 2,
       "version_minor": 0
      },
      "text/plain": [
       "HBox(children=(FloatProgress(value=0.0, max=12262.0), HTML(value='')))"
      ]
     },
     "metadata": {},
     "output_type": "display_data"
    },
    {
     "name": "stdout",
     "output_type": "stream",
     "text": [
      "\n",
      "Save new translations to: /home/ki-mo/shared/gitviews/extern/GermanWave2Vec/datasets/common-voice-de-06v30/content-translated-with_original.csv\n",
      "Calculate WER\n"
     ]
    },
    {
     "name": "stderr",
     "output_type": "stream",
     "text": [
      "W&B installed but not logged in. Run `wandb login` or set the WANDB_API_KEY env variable.\n"
     ]
    },
    {
     "name": "stdout",
     "output_type": "stream",
     "text": [
      "WER: 15.0576%\n",
      "No. of bad translated snippets: 6870\n",
      "Saving diff files\n",
      "Actual number of bad translated 6870\n",
      "Actual WER: 15.0576%\n",
      " - 6870 Entries left after Length Cut (min=31, max=1200)\n",
      " - 1600 left after Entries Max Samples Cut (max=1600)\n",
      "Creating Trainer for common-voice-de-06v30\n",
      "Training of Dataset: common-voice-de-06v30\n"
     ]
    },
    {
     "data": {
      "text/html": [
       "\n",
       "    <div>\n",
       "        <style>\n",
       "            /* Turns off some styling */\n",
       "            progress {\n",
       "                /* gets rid of default border in Firefox and Opera. */\n",
       "                border: none;\n",
       "                /* Needs to be in here for Safari polyfill so background images work as expected. */\n",
       "                background-size: auto;\n",
       "            }\n",
       "        </style>\n",
       "      \n",
       "      <progress value='400' max='400' style='width:300px; height:20px; vertical-align: middle;'></progress>\n",
       "      [400/400 04:20, Epoch 2/2]\n",
       "    </div>\n",
       "    <table border=\"1\" class=\"dataframe\">\n",
       "  <thead>\n",
       "    <tr style=\"text-align: left;\">\n",
       "      <th>Step</th>\n",
       "      <th>Training Loss</th>\n",
       "      <th>Validation Loss</th>\n",
       "      <th>Wer</th>\n",
       "      <th>Runtime</th>\n",
       "      <th>Samples Per Second</th>\n",
       "    </tr>\n",
       "  </thead>\n",
       "  <tbody>\n",
       "    <tr>\n",
       "      <td>100</td>\n",
       "      <td>0.440600</td>\n",
       "      <td>0.107263</td>\n",
       "      <td>0.172996</td>\n",
       "      <td>2.327500</td>\n",
       "      <td>8.593000</td>\n",
       "    </tr>\n",
       "    <tr>\n",
       "      <td>200</td>\n",
       "      <td>0.420000</td>\n",
       "      <td>0.107318</td>\n",
       "      <td>0.185654</td>\n",
       "      <td>2.315100</td>\n",
       "      <td>8.639000</td>\n",
       "    </tr>\n",
       "    <tr>\n",
       "      <td>300</td>\n",
       "      <td>0.411800</td>\n",
       "      <td>0.104150</td>\n",
       "      <td>0.177215</td>\n",
       "      <td>2.322600</td>\n",
       "      <td>8.611000</td>\n",
       "    </tr>\n",
       "    <tr>\n",
       "      <td>400</td>\n",
       "      <td>0.416400</td>\n",
       "      <td>0.105232</td>\n",
       "      <td>0.177215</td>\n",
       "      <td>2.319100</td>\n",
       "      <td>8.624000</td>\n",
       "    </tr>\n",
       "  </tbody>\n",
       "</table><p>"
      ],
      "text/plain": [
       "<IPython.core.display.HTML object>"
      ]
     },
     "metadata": {},
     "output_type": "display_data"
    },
    {
     "name": "stdout",
     "output_type": "stream",
     "text": [
      "Save Model\n",
      "**************************************\n",
      "Starting round 1 of 4, epoche 3 of 3\n",
      "Splitting Dataset common-voice-de-06v30 with 12262 Entries\n",
      "aktual trained epoches: 212\n",
      "old trained epoches: 211\n",
      "old word error rate: 15.057581472779189%\n",
      "Translate all\n"
     ]
    },
    {
     "data": {
      "application/vnd.jupyter.widget-view+json": {
       "model_id": "34423f57b50e467f8950e5411aa35b2b",
       "version_major": 2,
       "version_minor": 0
      },
      "text/plain": [
       "HBox(children=(FloatProgress(value=0.0, max=12262.0), HTML(value='')))"
      ]
     },
     "metadata": {},
     "output_type": "display_data"
    },
    {
     "name": "stdout",
     "output_type": "stream",
     "text": [
      "\n",
      "Save new translations to: /home/ki-mo/shared/gitviews/extern/GermanWave2Vec/datasets/common-voice-de-06v30/content-translated-with_original.csv\n",
      "Calculate WER\n"
     ]
    },
    {
     "name": "stderr",
     "output_type": "stream",
     "text": [
      "W&B installed but not logged in. Run `wandb login` or set the WANDB_API_KEY env variable.\n"
     ]
    },
    {
     "name": "stdout",
     "output_type": "stream",
     "text": [
      "WER: 14.6730%\n",
      "No. of bad translated snippets: 6769\n",
      "Saving diff files\n",
      "Actual number of bad translated 6769\n",
      "Actual WER: 14.6730%\n",
      " - 6769 Entries left after Length Cut (min=31, max=1200)\n",
      " - 1600 left after Entries Max Samples Cut (max=1600)\n",
      "Creating Trainer for common-voice-de-06v30\n",
      "Training of Dataset: common-voice-de-06v30\n"
     ]
    },
    {
     "data": {
      "text/html": [
       "\n",
       "    <div>\n",
       "        <style>\n",
       "            /* Turns off some styling */\n",
       "            progress {\n",
       "                /* gets rid of default border in Firefox and Opera. */\n",
       "                border: none;\n",
       "                /* Needs to be in here for Safari polyfill so background images work as expected. */\n",
       "                background-size: auto;\n",
       "            }\n",
       "        </style>\n",
       "      \n",
       "      <progress value='400' max='400' style='width:300px; height:20px; vertical-align: middle;'></progress>\n",
       "      [400/400 04:18, Epoch 2/2]\n",
       "    </div>\n",
       "    <table border=\"1\" class=\"dataframe\">\n",
       "  <thead>\n",
       "    <tr style=\"text-align: left;\">\n",
       "      <th>Step</th>\n",
       "      <th>Training Loss</th>\n",
       "      <th>Validation Loss</th>\n",
       "      <th>Wer</th>\n",
       "      <th>Runtime</th>\n",
       "      <th>Samples Per Second</th>\n",
       "    </tr>\n",
       "  </thead>\n",
       "  <tbody>\n",
       "    <tr>\n",
       "      <td>100</td>\n",
       "      <td>0.403100</td>\n",
       "      <td>0.100545</td>\n",
       "      <td>0.172996</td>\n",
       "      <td>2.322200</td>\n",
       "      <td>8.613000</td>\n",
       "    </tr>\n",
       "    <tr>\n",
       "      <td>200</td>\n",
       "      <td>0.410400</td>\n",
       "      <td>0.094190</td>\n",
       "      <td>0.164557</td>\n",
       "      <td>2.303000</td>\n",
       "      <td>8.684000</td>\n",
       "    </tr>\n",
       "    <tr>\n",
       "      <td>300</td>\n",
       "      <td>0.378500</td>\n",
       "      <td>0.091547</td>\n",
       "      <td>0.160338</td>\n",
       "      <td>2.314300</td>\n",
       "      <td>8.642000</td>\n",
       "    </tr>\n",
       "    <tr>\n",
       "      <td>400</td>\n",
       "      <td>0.391200</td>\n",
       "      <td>0.090908</td>\n",
       "      <td>0.160338</td>\n",
       "      <td>2.301100</td>\n",
       "      <td>8.692000</td>\n",
       "    </tr>\n",
       "  </tbody>\n",
       "</table><p>"
      ],
      "text/plain": [
       "<IPython.core.display.HTML object>"
      ]
     },
     "metadata": {},
     "output_type": "display_data"
    },
    {
     "name": "stdout",
     "output_type": "stream",
     "text": [
      "Save Model\n",
      "final check und update of common-voice-de-06v30\n",
      "aktual trained epoches: 213\n",
      "old trained epoches: 212\n",
      "old word error rate: 14.673002560347282%\n",
      "Translate all\n"
     ]
    },
    {
     "data": {
      "application/vnd.jupyter.widget-view+json": {
       "model_id": "7c2fa8f7fdc34fd08dd36e73756de407",
       "version_major": 2,
       "version_minor": 0
      },
      "text/plain": [
       "HBox(children=(FloatProgress(value=0.0, max=12262.0), HTML(value='')))"
      ]
     },
     "metadata": {},
     "output_type": "display_data"
    },
    {
     "name": "stdout",
     "output_type": "stream",
     "text": [
      "\n",
      "Save new translations to: /home/ki-mo/shared/gitviews/extern/GermanWave2Vec/datasets/common-voice-de-06v30/content-translated-with_original.csv\n",
      "Calculate WER\n",
      "WER: 14.0640%\n",
      "No. of bad translated snippets: 6621\n",
      "Saving diff files\n",
      "Actual number of bad translated 6621\n",
      "Actual WER: 14.0640\n",
      "-----------------------------\n",
      "Loading Dataset: common-voice-de-07v30 - /home/ki-mo/shared/gitviews/extern/GermanWave2Vec/datasets/common-voice-de-07v30/content-translated-with_original.csv\n",
      "Pruning Dataset common-voice-de-07v30 with 12163 Entries\n",
      " - 12163 Entries left after Length Cut (min=31, max=4000)\n",
      " - 12163 Entries left after Action Cut\n",
      "Dataset - common-voice-de-07v30 loaded with 12163 Entries\n",
      "**************************************\n",
      "Starting round 1 of 4, epoche 1 of 3\n",
      "Splitting Dataset common-voice-de-07v30 with 12163 Entries\n",
      "aktual trained epoches: 213\n",
      "old trained epoches: 167\n",
      "old word error rate: 28.612456239649497%\n",
      "Translate all\n"
     ]
    },
    {
     "data": {
      "application/vnd.jupyter.widget-view+json": {
       "model_id": "a6801fc52b6240eba52558f62bfa183e",
       "version_major": 2,
       "version_minor": 0
      },
      "text/plain": [
       "HBox(children=(FloatProgress(value=0.0, max=12163.0), HTML(value='')))"
      ]
     },
     "metadata": {},
     "output_type": "display_data"
    },
    {
     "name": "stdout",
     "output_type": "stream",
     "text": [
      "\n",
      "Save new translations to: /home/ki-mo/shared/gitviews/extern/GermanWave2Vec/datasets/common-voice-de-07v30/content-translated-with_original.csv\n",
      "Calculate WER\n"
     ]
    },
    {
     "name": "stderr",
     "output_type": "stream",
     "text": [
      "W&B installed but not logged in. Run `wandb login` or set the WANDB_API_KEY env variable.\n"
     ]
    },
    {
     "name": "stdout",
     "output_type": "stream",
     "text": [
      "WER: 14.8492%\n",
      "No. of bad translated snippets: 6954\n",
      "Saving diff files\n",
      "Actual number of bad translated 6954\n",
      "Actual WER: 14.8492%\n",
      " - 6954 Entries left after Length Cut (min=31, max=1200)\n",
      " - 1600 left after Entries Max Samples Cut (max=1600)\n",
      "Creating Trainer for common-voice-de-07v30\n",
      "Training of Dataset: common-voice-de-07v30\n"
     ]
    },
    {
     "data": {
      "text/html": [
       "\n",
       "    <div>\n",
       "        <style>\n",
       "            /* Turns off some styling */\n",
       "            progress {\n",
       "                /* gets rid of default border in Firefox and Opera. */\n",
       "                border: none;\n",
       "                /* Needs to be in here for Safari polyfill so background images work as expected. */\n",
       "                background-size: auto;\n",
       "            }\n",
       "        </style>\n",
       "      \n",
       "      <progress value='400' max='400' style='width:300px; height:20px; vertical-align: middle;'></progress>\n",
       "      [400/400 04:19, Epoch 2/2]\n",
       "    </div>\n",
       "    <table border=\"1\" class=\"dataframe\">\n",
       "  <thead>\n",
       "    <tr style=\"text-align: left;\">\n",
       "      <th>Step</th>\n",
       "      <th>Training Loss</th>\n",
       "      <th>Validation Loss</th>\n",
       "      <th>Wer</th>\n",
       "      <th>Runtime</th>\n",
       "      <th>Samples Per Second</th>\n",
       "    </tr>\n",
       "  </thead>\n",
       "  <tbody>\n",
       "    <tr>\n",
       "      <td>100</td>\n",
       "      <td>0.419100</td>\n",
       "      <td>0.193630</td>\n",
       "      <td>0.184397</td>\n",
       "      <td>2.317100</td>\n",
       "      <td>8.632000</td>\n",
       "    </tr>\n",
       "    <tr>\n",
       "      <td>200</td>\n",
       "      <td>0.411600</td>\n",
       "      <td>0.185674</td>\n",
       "      <td>0.180851</td>\n",
       "      <td>2.311800</td>\n",
       "      <td>8.651000</td>\n",
       "    </tr>\n",
       "    <tr>\n",
       "      <td>300</td>\n",
       "      <td>0.403200</td>\n",
       "      <td>0.187477</td>\n",
       "      <td>0.177305</td>\n",
       "      <td>2.303200</td>\n",
       "      <td>8.683000</td>\n",
       "    </tr>\n",
       "    <tr>\n",
       "      <td>400</td>\n",
       "      <td>0.398000</td>\n",
       "      <td>0.186401</td>\n",
       "      <td>0.177305</td>\n",
       "      <td>2.294700</td>\n",
       "      <td>8.716000</td>\n",
       "    </tr>\n",
       "  </tbody>\n",
       "</table><p>"
      ],
      "text/plain": [
       "<IPython.core.display.HTML object>"
      ]
     },
     "metadata": {},
     "output_type": "display_data"
    },
    {
     "name": "stdout",
     "output_type": "stream",
     "text": [
      "Save Model\n",
      "**************************************\n",
      "Starting round 1 of 4, epoche 2 of 3\n",
      "Splitting Dataset common-voice-de-07v30 with 12163 Entries\n",
      "aktual trained epoches: 214\n",
      "old trained epoches: 213\n",
      "old word error rate: 14.849170911682705%\n",
      "Translate all\n"
     ]
    },
    {
     "data": {
      "application/vnd.jupyter.widget-view+json": {
       "model_id": "2441915630af40049ad206b728a2d542",
       "version_major": 2,
       "version_minor": 0
      },
      "text/plain": [
       "HBox(children=(FloatProgress(value=0.0, max=12163.0), HTML(value='')))"
      ]
     },
     "metadata": {},
     "output_type": "display_data"
    },
    {
     "name": "stdout",
     "output_type": "stream",
     "text": [
      "\n",
      "Save new translations to: /home/ki-mo/shared/gitviews/extern/GermanWave2Vec/datasets/common-voice-de-07v30/content-translated-with_original.csv\n",
      "Calculate WER\n"
     ]
    },
    {
     "name": "stderr",
     "output_type": "stream",
     "text": [
      "W&B installed but not logged in. Run `wandb login` or set the WANDB_API_KEY env variable.\n"
     ]
    },
    {
     "name": "stdout",
     "output_type": "stream",
     "text": [
      "WER: 14.4739%\n",
      "No. of bad translated snippets: 6895\n",
      "Saving diff files\n",
      "Actual number of bad translated 6895\n",
      "Actual WER: 14.4739%\n",
      " - 6895 Entries left after Length Cut (min=31, max=1200)\n",
      " - 1600 left after Entries Max Samples Cut (max=1600)\n",
      "Creating Trainer for common-voice-de-07v30\n",
      "Training of Dataset: common-voice-de-07v30\n"
     ]
    },
    {
     "data": {
      "text/html": [
       "\n",
       "    <div>\n",
       "        <style>\n",
       "            /* Turns off some styling */\n",
       "            progress {\n",
       "                /* gets rid of default border in Firefox and Opera. */\n",
       "                border: none;\n",
       "                /* Needs to be in here for Safari polyfill so background images work as expected. */\n",
       "                background-size: auto;\n",
       "            }\n",
       "        </style>\n",
       "      \n",
       "      <progress value='400' max='400' style='width:300px; height:20px; vertical-align: middle;'></progress>\n",
       "      [400/400 04:18, Epoch 2/2]\n",
       "    </div>\n",
       "    <table border=\"1\" class=\"dataframe\">\n",
       "  <thead>\n",
       "    <tr style=\"text-align: left;\">\n",
       "      <th>Step</th>\n",
       "      <th>Training Loss</th>\n",
       "      <th>Validation Loss</th>\n",
       "      <th>Wer</th>\n",
       "      <th>Runtime</th>\n",
       "      <th>Samples Per Second</th>\n",
       "    </tr>\n",
       "  </thead>\n",
       "  <tbody>\n",
       "    <tr>\n",
       "      <td>100</td>\n",
       "      <td>0.409700</td>\n",
       "      <td>0.182335</td>\n",
       "      <td>0.177305</td>\n",
       "      <td>2.304900</td>\n",
       "      <td>8.677000</td>\n",
       "    </tr>\n",
       "    <tr>\n",
       "      <td>200</td>\n",
       "      <td>0.381300</td>\n",
       "      <td>0.184166</td>\n",
       "      <td>0.187943</td>\n",
       "      <td>2.256900</td>\n",
       "      <td>8.862000</td>\n",
       "    </tr>\n",
       "    <tr>\n",
       "      <td>300</td>\n",
       "      <td>0.390500</td>\n",
       "      <td>0.182882</td>\n",
       "      <td>0.187943</td>\n",
       "      <td>2.243900</td>\n",
       "      <td>8.913000</td>\n",
       "    </tr>\n",
       "    <tr>\n",
       "      <td>400</td>\n",
       "      <td>0.389400</td>\n",
       "      <td>0.182494</td>\n",
       "      <td>0.180851</td>\n",
       "      <td>2.254100</td>\n",
       "      <td>8.873000</td>\n",
       "    </tr>\n",
       "  </tbody>\n",
       "</table><p>"
      ],
      "text/plain": [
       "<IPython.core.display.HTML object>"
      ]
     },
     "metadata": {},
     "output_type": "display_data"
    },
    {
     "name": "stdout",
     "output_type": "stream",
     "text": [
      "Save Model\n",
      "**************************************\n",
      "Starting round 1 of 4, epoche 3 of 3\n",
      "Splitting Dataset common-voice-de-07v30 with 12163 Entries\n",
      "aktual trained epoches: 215\n",
      "old trained epoches: 214\n",
      "old word error rate: 14.47393245707817%\n",
      "Translate all\n"
     ]
    },
    {
     "data": {
      "application/vnd.jupyter.widget-view+json": {
       "model_id": "5d65b00f5f9943cab72a67f0fd143bf8",
       "version_major": 2,
       "version_minor": 0
      },
      "text/plain": [
       "HBox(children=(FloatProgress(value=0.0, max=12163.0), HTML(value='')))"
      ]
     },
     "metadata": {},
     "output_type": "display_data"
    },
    {
     "name": "stdout",
     "output_type": "stream",
     "text": [
      "\n",
      "Save new translations to: /home/ki-mo/shared/gitviews/extern/GermanWave2Vec/datasets/common-voice-de-07v30/content-translated-with_original.csv\n",
      "Calculate WER\n"
     ]
    },
    {
     "name": "stderr",
     "output_type": "stream",
     "text": [
      "W&B installed but not logged in. Run `wandb login` or set the WANDB_API_KEY env variable.\n"
     ]
    },
    {
     "name": "stdout",
     "output_type": "stream",
     "text": [
      "WER: 13.9058%\n",
      "No. of bad translated snippets: 6722\n",
      "Saving diff files\n",
      "Actual number of bad translated 6722\n",
      "Actual WER: 13.9058%\n",
      " - 6722 Entries left after Length Cut (min=31, max=1200)\n",
      " - 1600 left after Entries Max Samples Cut (max=1600)\n",
      "Creating Trainer for common-voice-de-07v30\n",
      "Training of Dataset: common-voice-de-07v30\n"
     ]
    },
    {
     "data": {
      "text/html": [
       "\n",
       "    <div>\n",
       "        <style>\n",
       "            /* Turns off some styling */\n",
       "            progress {\n",
       "                /* gets rid of default border in Firefox and Opera. */\n",
       "                border: none;\n",
       "                /* Needs to be in here for Safari polyfill so background images work as expected. */\n",
       "                background-size: auto;\n",
       "            }\n",
       "        </style>\n",
       "      \n",
       "      <progress value='400' max='400' style='width:300px; height:20px; vertical-align: middle;'></progress>\n",
       "      [400/400 04:22, Epoch 2/2]\n",
       "    </div>\n",
       "    <table border=\"1\" class=\"dataframe\">\n",
       "  <thead>\n",
       "    <tr style=\"text-align: left;\">\n",
       "      <th>Step</th>\n",
       "      <th>Training Loss</th>\n",
       "      <th>Validation Loss</th>\n",
       "      <th>Wer</th>\n",
       "      <th>Runtime</th>\n",
       "      <th>Samples Per Second</th>\n",
       "    </tr>\n",
       "  </thead>\n",
       "  <tbody>\n",
       "    <tr>\n",
       "      <td>100</td>\n",
       "      <td>0.391400</td>\n",
       "      <td>0.188805</td>\n",
       "      <td>0.180851</td>\n",
       "      <td>2.299500</td>\n",
       "      <td>8.697000</td>\n",
       "    </tr>\n",
       "    <tr>\n",
       "      <td>200</td>\n",
       "      <td>0.371900</td>\n",
       "      <td>0.181423</td>\n",
       "      <td>0.177305</td>\n",
       "      <td>2.298500</td>\n",
       "      <td>8.701000</td>\n",
       "    </tr>\n",
       "    <tr>\n",
       "      <td>300</td>\n",
       "      <td>0.377300</td>\n",
       "      <td>0.189818</td>\n",
       "      <td>0.173759</td>\n",
       "      <td>2.300400</td>\n",
       "      <td>8.694000</td>\n",
       "    </tr>\n",
       "    <tr>\n",
       "      <td>400</td>\n",
       "      <td>0.382900</td>\n",
       "      <td>0.190123</td>\n",
       "      <td>0.173759</td>\n",
       "      <td>2.271300</td>\n",
       "      <td>8.805000</td>\n",
       "    </tr>\n",
       "  </tbody>\n",
       "</table><p>"
      ],
      "text/plain": [
       "<IPython.core.display.HTML object>"
      ]
     },
     "metadata": {},
     "output_type": "display_data"
    },
    {
     "name": "stdout",
     "output_type": "stream",
     "text": [
      "Save Model\n",
      "final check und update of common-voice-de-07v30\n",
      "aktual trained epoches: 216\n",
      "old trained epoches: 215\n",
      "old word error rate: 13.905834014632203%\n",
      "Translate all\n"
     ]
    },
    {
     "data": {
      "application/vnd.jupyter.widget-view+json": {
       "model_id": "1e614e962c8a4b0d881fd6c76718d05f",
       "version_major": 2,
       "version_minor": 0
      },
      "text/plain": [
       "HBox(children=(FloatProgress(value=0.0, max=12163.0), HTML(value='')))"
      ]
     },
     "metadata": {},
     "output_type": "display_data"
    },
    {
     "name": "stdout",
     "output_type": "stream",
     "text": [
      "\n",
      "Save new translations to: /home/ki-mo/shared/gitviews/extern/GermanWave2Vec/datasets/common-voice-de-07v30/content-translated-with_original.csv\n",
      "Calculate WER\n",
      "WER: 13.5736%\n",
      "No. of bad translated snippets: 6651\n",
      "Saving diff files\n",
      "Actual number of bad translated 6651\n",
      "Actual WER: 13.5736\n",
      "-----------------------------\n",
      "Loading Dataset: common-voice-de-08v30 - /home/ki-mo/shared/gitviews/extern/GermanWave2Vec/datasets/common-voice-de-08v30/content-translated-with_original.csv\n",
      "Pruning Dataset common-voice-de-08v30 with 11815 Entries\n",
      " - 11815 Entries left after Length Cut (min=31, max=4000)\n",
      " - 11815 Entries left after Action Cut\n",
      "Dataset - common-voice-de-08v30 loaded with 11815 Entries\n",
      "**************************************\n",
      "Starting round 1 of 4, epoche 1 of 3\n",
      "Splitting Dataset common-voice-de-08v30 with 11815 Entries\n",
      "aktual trained epoches: 216\n",
      "old trained epoches: 167\n",
      "old word error rate: 28.656023345723327%\n",
      "Translate all\n"
     ]
    },
    {
     "data": {
      "application/vnd.jupyter.widget-view+json": {
       "model_id": "fc5ea2d15498440296612bcfa5f2156f",
       "version_major": 2,
       "version_minor": 0
      },
      "text/plain": [
       "HBox(children=(FloatProgress(value=0.0, max=11815.0), HTML(value='')))"
      ]
     },
     "metadata": {},
     "output_type": "display_data"
    },
    {
     "name": "stdout",
     "output_type": "stream",
     "text": [
      "\n",
      "Save new translations to: /home/ki-mo/shared/gitviews/extern/GermanWave2Vec/datasets/common-voice-de-08v30/content-translated-with_original.csv\n",
      "Calculate WER\n"
     ]
    },
    {
     "name": "stderr",
     "output_type": "stream",
     "text": [
      "W&B installed but not logged in. Run `wandb login` or set the WANDB_API_KEY env variable.\n"
     ]
    },
    {
     "name": "stdout",
     "output_type": "stream",
     "text": [
      "WER: 14.9330%\n",
      "No. of bad translated snippets: 6850\n",
      "Saving diff files\n",
      "Actual number of bad translated 6850\n",
      "Actual WER: 14.9330%\n",
      " - 6850 Entries left after Length Cut (min=31, max=1200)\n",
      " - 1600 left after Entries Max Samples Cut (max=1600)\n",
      "Creating Trainer for common-voice-de-08v30\n",
      "Training of Dataset: common-voice-de-08v30\n"
     ]
    },
    {
     "data": {
      "text/html": [
       "\n",
       "    <div>\n",
       "        <style>\n",
       "            /* Turns off some styling */\n",
       "            progress {\n",
       "                /* gets rid of default border in Firefox and Opera. */\n",
       "                border: none;\n",
       "                /* Needs to be in here for Safari polyfill so background images work as expected. */\n",
       "                background-size: auto;\n",
       "            }\n",
       "        </style>\n",
       "      \n",
       "      <progress value='400' max='400' style='width:300px; height:20px; vertical-align: middle;'></progress>\n",
       "      [400/400 04:13, Epoch 2/2]\n",
       "    </div>\n",
       "    <table border=\"1\" class=\"dataframe\">\n",
       "  <thead>\n",
       "    <tr style=\"text-align: left;\">\n",
       "      <th>Step</th>\n",
       "      <th>Training Loss</th>\n",
       "      <th>Validation Loss</th>\n",
       "      <th>Wer</th>\n",
       "      <th>Runtime</th>\n",
       "      <th>Samples Per Second</th>\n",
       "    </tr>\n",
       "  </thead>\n",
       "  <tbody>\n",
       "    <tr>\n",
       "      <td>100</td>\n",
       "      <td>0.421500</td>\n",
       "      <td>0.116911</td>\n",
       "      <td>0.199187</td>\n",
       "      <td>2.274500</td>\n",
       "      <td>8.793000</td>\n",
       "    </tr>\n",
       "    <tr>\n",
       "      <td>200</td>\n",
       "      <td>0.407900</td>\n",
       "      <td>0.115532</td>\n",
       "      <td>0.207317</td>\n",
       "      <td>2.284500</td>\n",
       "      <td>8.755000</td>\n",
       "    </tr>\n",
       "    <tr>\n",
       "      <td>300</td>\n",
       "      <td>0.397900</td>\n",
       "      <td>0.112225</td>\n",
       "      <td>0.199187</td>\n",
       "      <td>2.267600</td>\n",
       "      <td>8.820000</td>\n",
       "    </tr>\n",
       "    <tr>\n",
       "      <td>400</td>\n",
       "      <td>0.382100</td>\n",
       "      <td>0.112127</td>\n",
       "      <td>0.211382</td>\n",
       "      <td>2.273900</td>\n",
       "      <td>8.795000</td>\n",
       "    </tr>\n",
       "  </tbody>\n",
       "</table><p>"
      ],
      "text/plain": [
       "<IPython.core.display.HTML object>"
      ]
     },
     "metadata": {},
     "output_type": "display_data"
    },
    {
     "name": "stdout",
     "output_type": "stream",
     "text": [
      "Save Model\n",
      "**************************************\n",
      "Starting round 1 of 4, epoche 2 of 3\n",
      "Splitting Dataset common-voice-de-08v30 with 11815 Entries\n",
      "aktual trained epoches: 217\n",
      "old trained epoches: 216\n",
      "old word error rate: 14.932955598393916%\n",
      "Translate all\n"
     ]
    },
    {
     "data": {
      "application/vnd.jupyter.widget-view+json": {
       "model_id": "e4ad503870114d68aa1963694513827f",
       "version_major": 2,
       "version_minor": 0
      },
      "text/plain": [
       "HBox(children=(FloatProgress(value=0.0, max=11815.0), HTML(value='')))"
      ]
     },
     "metadata": {},
     "output_type": "display_data"
    },
    {
     "name": "stdout",
     "output_type": "stream",
     "text": [
      "\n",
      "Save new translations to: /home/ki-mo/shared/gitviews/extern/GermanWave2Vec/datasets/common-voice-de-08v30/content-translated-with_original.csv\n",
      "Calculate WER\n"
     ]
    },
    {
     "name": "stderr",
     "output_type": "stream",
     "text": [
      "W&B installed but not logged in. Run `wandb login` or set the WANDB_API_KEY env variable.\n"
     ]
    },
    {
     "name": "stdout",
     "output_type": "stream",
     "text": [
      "WER: 14.3568%\n",
      "No. of bad translated snippets: 6727\n",
      "Saving diff files\n",
      "Actual number of bad translated 6727\n",
      "Actual WER: 14.3568%\n",
      " - 6727 Entries left after Length Cut (min=31, max=1200)\n",
      " - 1600 left after Entries Max Samples Cut (max=1600)\n",
      "Creating Trainer for common-voice-de-08v30\n",
      "Training of Dataset: common-voice-de-08v30\n"
     ]
    },
    {
     "data": {
      "text/html": [
       "\n",
       "    <div>\n",
       "        <style>\n",
       "            /* Turns off some styling */\n",
       "            progress {\n",
       "                /* gets rid of default border in Firefox and Opera. */\n",
       "                border: none;\n",
       "                /* Needs to be in here for Safari polyfill so background images work as expected. */\n",
       "                background-size: auto;\n",
       "            }\n",
       "        </style>\n",
       "      \n",
       "      <progress value='400' max='400' style='width:300px; height:20px; vertical-align: middle;'></progress>\n",
       "      [400/400 04:10, Epoch 2/2]\n",
       "    </div>\n",
       "    <table border=\"1\" class=\"dataframe\">\n",
       "  <thead>\n",
       "    <tr style=\"text-align: left;\">\n",
       "      <th>Step</th>\n",
       "      <th>Training Loss</th>\n",
       "      <th>Validation Loss</th>\n",
       "      <th>Wer</th>\n",
       "      <th>Runtime</th>\n",
       "      <th>Samples Per Second</th>\n",
       "    </tr>\n",
       "  </thead>\n",
       "  <tbody>\n",
       "    <tr>\n",
       "      <td>100</td>\n",
       "      <td>0.413700</td>\n",
       "      <td>0.112975</td>\n",
       "      <td>0.207317</td>\n",
       "      <td>2.253900</td>\n",
       "      <td>8.874000</td>\n",
       "    </tr>\n",
       "    <tr>\n",
       "      <td>200</td>\n",
       "      <td>0.401800</td>\n",
       "      <td>0.109105</td>\n",
       "      <td>0.195122</td>\n",
       "      <td>2.235700</td>\n",
       "      <td>8.946000</td>\n",
       "    </tr>\n",
       "    <tr>\n",
       "      <td>300</td>\n",
       "      <td>0.396900</td>\n",
       "      <td>0.110244</td>\n",
       "      <td>0.199187</td>\n",
       "      <td>2.245400</td>\n",
       "      <td>8.907000</td>\n",
       "    </tr>\n",
       "    <tr>\n",
       "      <td>400</td>\n",
       "      <td>0.399200</td>\n",
       "      <td>0.108930</td>\n",
       "      <td>0.199187</td>\n",
       "      <td>2.242100</td>\n",
       "      <td>8.920000</td>\n",
       "    </tr>\n",
       "  </tbody>\n",
       "</table><p>"
      ],
      "text/plain": [
       "<IPython.core.display.HTML object>"
      ]
     },
     "metadata": {},
     "output_type": "display_data"
    },
    {
     "name": "stdout",
     "output_type": "stream",
     "text": [
      "Save Model\n",
      "**************************************\n",
      "Starting round 1 of 4, epoche 3 of 3\n",
      "Splitting Dataset common-voice-de-08v30 with 11815 Entries\n",
      "aktual trained epoches: 218\n",
      "old trained epoches: 217\n",
      "old word error rate: 14.356767810166893%\n",
      "Translate all\n"
     ]
    },
    {
     "data": {
      "application/vnd.jupyter.widget-view+json": {
       "model_id": "d1abe4de145f49fcaccbfb7834dca4f3",
       "version_major": 2,
       "version_minor": 0
      },
      "text/plain": [
       "HBox(children=(FloatProgress(value=0.0, max=11815.0), HTML(value='')))"
      ]
     },
     "metadata": {},
     "output_type": "display_data"
    },
    {
     "name": "stdout",
     "output_type": "stream",
     "text": [
      "\n",
      "Save new translations to: /home/ki-mo/shared/gitviews/extern/GermanWave2Vec/datasets/common-voice-de-08v30/content-translated-with_original.csv\n",
      "Calculate WER\n"
     ]
    },
    {
     "name": "stderr",
     "output_type": "stream",
     "text": [
      "W&B installed but not logged in. Run `wandb login` or set the WANDB_API_KEY env variable.\n"
     ]
    },
    {
     "name": "stdout",
     "output_type": "stream",
     "text": [
      "WER: 14.0735%\n",
      "No. of bad translated snippets: 6638\n",
      "Saving diff files\n",
      "Actual number of bad translated 6638\n",
      "Actual WER: 14.0735%\n",
      " - 6638 Entries left after Length Cut (min=31, max=1200)\n",
      " - 1600 left after Entries Max Samples Cut (max=1600)\n",
      "Creating Trainer for common-voice-de-08v30\n",
      "Training of Dataset: common-voice-de-08v30\n"
     ]
    },
    {
     "data": {
      "text/html": [
       "\n",
       "    <div>\n",
       "        <style>\n",
       "            /* Turns off some styling */\n",
       "            progress {\n",
       "                /* gets rid of default border in Firefox and Opera. */\n",
       "                border: none;\n",
       "                /* Needs to be in here for Safari polyfill so background images work as expected. */\n",
       "                background-size: auto;\n",
       "            }\n",
       "        </style>\n",
       "      \n",
       "      <progress value='400' max='400' style='width:300px; height:20px; vertical-align: middle;'></progress>\n",
       "      [400/400 04:12, Epoch 2/2]\n",
       "    </div>\n",
       "    <table border=\"1\" class=\"dataframe\">\n",
       "  <thead>\n",
       "    <tr style=\"text-align: left;\">\n",
       "      <th>Step</th>\n",
       "      <th>Training Loss</th>\n",
       "      <th>Validation Loss</th>\n",
       "      <th>Wer</th>\n",
       "      <th>Runtime</th>\n",
       "      <th>Samples Per Second</th>\n",
       "    </tr>\n",
       "  </thead>\n",
       "  <tbody>\n",
       "    <tr>\n",
       "      <td>100</td>\n",
       "      <td>0.395800</td>\n",
       "      <td>0.109007</td>\n",
       "      <td>0.199187</td>\n",
       "      <td>2.248400</td>\n",
       "      <td>8.895000</td>\n",
       "    </tr>\n",
       "    <tr>\n",
       "      <td>200</td>\n",
       "      <td>0.399700</td>\n",
       "      <td>0.103477</td>\n",
       "      <td>0.203252</td>\n",
       "      <td>2.249700</td>\n",
       "      <td>8.890000</td>\n",
       "    </tr>\n",
       "    <tr>\n",
       "      <td>300</td>\n",
       "      <td>0.387000</td>\n",
       "      <td>0.105735</td>\n",
       "      <td>0.195122</td>\n",
       "      <td>2.252800</td>\n",
       "      <td>8.878000</td>\n",
       "    </tr>\n",
       "    <tr>\n",
       "      <td>400</td>\n",
       "      <td>0.397500</td>\n",
       "      <td>0.104833</td>\n",
       "      <td>0.191057</td>\n",
       "      <td>2.254900</td>\n",
       "      <td>8.870000</td>\n",
       "    </tr>\n",
       "  </tbody>\n",
       "</table><p>"
      ],
      "text/plain": [
       "<IPython.core.display.HTML object>"
      ]
     },
     "metadata": {},
     "output_type": "display_data"
    },
    {
     "name": "stdout",
     "output_type": "stream",
     "text": [
      "Save Model\n",
      "final check und update of common-voice-de-08v30\n",
      "aktual trained epoches: 219\n",
      "old trained epoches: 218\n",
      "old word error rate: 14.073466605604251%\n",
      "Translate all\n"
     ]
    },
    {
     "data": {
      "application/vnd.jupyter.widget-view+json": {
       "model_id": "307a3e215d4b49a0aeefae816101da9f",
       "version_major": 2,
       "version_minor": 0
      },
      "text/plain": [
       "HBox(children=(FloatProgress(value=0.0, max=11815.0), HTML(value='')))"
      ]
     },
     "metadata": {},
     "output_type": "display_data"
    },
    {
     "name": "stdout",
     "output_type": "stream",
     "text": [
      "\n",
      "Save new translations to: /home/ki-mo/shared/gitviews/extern/GermanWave2Vec/datasets/common-voice-de-08v30/content-translated-with_original.csv\n",
      "Calculate WER\n",
      "WER: 13.5793%\n",
      "No. of bad translated snippets: 6511\n",
      "Saving diff files\n",
      "Actual number of bad translated 6511\n",
      "Actual WER: 13.5793\n",
      "-----------------------------\n",
      "Loading Dataset: common-voice-de-09v30 - /home/ki-mo/shared/gitviews/extern/GermanWave2Vec/datasets/common-voice-de-09v30/content-translated-with_original.csv\n",
      "Pruning Dataset common-voice-de-09v30 with 12443 Entries\n",
      " - 12443 Entries left after Length Cut (min=31, max=4000)\n",
      " - 12443 Entries left after Action Cut\n",
      "Dataset - common-voice-de-09v30 loaded with 12443 Entries\n",
      "**************************************\n",
      "Starting round 1 of 4, epoche 1 of 3\n",
      "Splitting Dataset common-voice-de-09v30 with 12443 Entries\n",
      "aktual trained epoches: 219\n",
      "old trained epoches: 167\n",
      "old word error rate: 28.410771818200235%\n",
      "Translate all\n"
     ]
    },
    {
     "data": {
      "application/vnd.jupyter.widget-view+json": {
       "model_id": "d64eeb45fa5149cfab4bf8a986605da4",
       "version_major": 2,
       "version_minor": 0
      },
      "text/plain": [
       "HBox(children=(FloatProgress(value=0.0, max=12443.0), HTML(value='')))"
      ]
     },
     "metadata": {},
     "output_type": "display_data"
    },
    {
     "name": "stdout",
     "output_type": "stream",
     "text": [
      "\n",
      "Save new translations to: /home/ki-mo/shared/gitviews/extern/GermanWave2Vec/datasets/common-voice-de-09v30/content-translated-with_original.csv\n",
      "Calculate WER\n"
     ]
    },
    {
     "name": "stderr",
     "output_type": "stream",
     "text": [
      "W&B installed but not logged in. Run `wandb login` or set the WANDB_API_KEY env variable.\n"
     ]
    },
    {
     "name": "stdout",
     "output_type": "stream",
     "text": [
      "WER: 14.2135%\n",
      "No. of bad translated snippets: 7116\n",
      "Saving diff files\n",
      "Actual number of bad translated 7116\n",
      "Actual WER: 14.2135%\n",
      " - 7116 Entries left after Length Cut (min=31, max=1200)\n",
      " - 1600 left after Entries Max Samples Cut (max=1600)\n",
      "Creating Trainer for common-voice-de-09v30\n",
      "Training of Dataset: common-voice-de-09v30\n"
     ]
    },
    {
     "data": {
      "text/html": [
       "\n",
       "    <div>\n",
       "        <style>\n",
       "            /* Turns off some styling */\n",
       "            progress {\n",
       "                /* gets rid of default border in Firefox and Opera. */\n",
       "                border: none;\n",
       "                /* Needs to be in here for Safari polyfill so background images work as expected. */\n",
       "                background-size: auto;\n",
       "            }\n",
       "        </style>\n",
       "      \n",
       "      <progress value='400' max='400' style='width:300px; height:20px; vertical-align: middle;'></progress>\n",
       "      [400/400 04:08, Epoch 2/2]\n",
       "    </div>\n",
       "    <table border=\"1\" class=\"dataframe\">\n",
       "  <thead>\n",
       "    <tr style=\"text-align: left;\">\n",
       "      <th>Step</th>\n",
       "      <th>Training Loss</th>\n",
       "      <th>Validation Loss</th>\n",
       "      <th>Wer</th>\n",
       "      <th>Runtime</th>\n",
       "      <th>Samples Per Second</th>\n",
       "    </tr>\n",
       "  </thead>\n",
       "  <tbody>\n",
       "    <tr>\n",
       "      <td>100</td>\n",
       "      <td>0.420500</td>\n",
       "      <td>0.051603</td>\n",
       "      <td>0.112727</td>\n",
       "      <td>2.243900</td>\n",
       "      <td>8.913000</td>\n",
       "    </tr>\n",
       "    <tr>\n",
       "      <td>200</td>\n",
       "      <td>0.410000</td>\n",
       "      <td>0.055410</td>\n",
       "      <td>0.116364</td>\n",
       "      <td>2.240400</td>\n",
       "      <td>8.927000</td>\n",
       "    </tr>\n",
       "    <tr>\n",
       "      <td>300</td>\n",
       "      <td>0.379400</td>\n",
       "      <td>0.054363</td>\n",
       "      <td>0.101818</td>\n",
       "      <td>2.268000</td>\n",
       "      <td>8.818000</td>\n",
       "    </tr>\n",
       "    <tr>\n",
       "      <td>400</td>\n",
       "      <td>0.400200</td>\n",
       "      <td>0.053837</td>\n",
       "      <td>0.109091</td>\n",
       "      <td>2.264800</td>\n",
       "      <td>8.831000</td>\n",
       "    </tr>\n",
       "  </tbody>\n",
       "</table><p>"
      ],
      "text/plain": [
       "<IPython.core.display.HTML object>"
      ]
     },
     "metadata": {},
     "output_type": "display_data"
    },
    {
     "name": "stdout",
     "output_type": "stream",
     "text": [
      "Save Model\n",
      "**************************************\n",
      "Starting round 1 of 4, epoche 2 of 3\n",
      "Splitting Dataset common-voice-de-09v30 with 12443 Entries\n",
      "aktual trained epoches: 220\n",
      "old trained epoches: 219\n",
      "old word error rate: 14.213491114668395%\n",
      "Translate all\n"
     ]
    },
    {
     "data": {
      "application/vnd.jupyter.widget-view+json": {
       "model_id": "ebd01700a2db4b04a13213fde2b8205b",
       "version_major": 2,
       "version_minor": 0
      },
      "text/plain": [
       "HBox(children=(FloatProgress(value=0.0, max=12443.0), HTML(value='')))"
      ]
     },
     "metadata": {},
     "output_type": "display_data"
    },
    {
     "name": "stdout",
     "output_type": "stream",
     "text": [
      "\n",
      "Save new translations to: /home/ki-mo/shared/gitviews/extern/GermanWave2Vec/datasets/common-voice-de-09v30/content-translated-with_original.csv\n",
      "Calculate WER\n"
     ]
    },
    {
     "name": "stderr",
     "output_type": "stream",
     "text": [
      "W&B installed but not logged in. Run `wandb login` or set the WANDB_API_KEY env variable.\n"
     ]
    },
    {
     "name": "stdout",
     "output_type": "stream",
     "text": [
      "WER: 13.6765%\n",
      "No. of bad translated snippets: 6970\n",
      "Saving diff files\n",
      "Actual number of bad translated 6970\n",
      "Actual WER: 13.6765%\n",
      " - 6970 Entries left after Length Cut (min=31, max=1200)\n",
      " - 1600 left after Entries Max Samples Cut (max=1600)\n",
      "Creating Trainer for common-voice-de-09v30\n",
      "Training of Dataset: common-voice-de-09v30\n"
     ]
    },
    {
     "data": {
      "text/html": [
       "\n",
       "    <div>\n",
       "        <style>\n",
       "            /* Turns off some styling */\n",
       "            progress {\n",
       "                /* gets rid of default border in Firefox and Opera. */\n",
       "                border: none;\n",
       "                /* Needs to be in here for Safari polyfill so background images work as expected. */\n",
       "                background-size: auto;\n",
       "            }\n",
       "        </style>\n",
       "      \n",
       "      <progress value='400' max='400' style='width:300px; height:20px; vertical-align: middle;'></progress>\n",
       "      [400/400 04:11, Epoch 2/2]\n",
       "    </div>\n",
       "    <table border=\"1\" class=\"dataframe\">\n",
       "  <thead>\n",
       "    <tr style=\"text-align: left;\">\n",
       "      <th>Step</th>\n",
       "      <th>Training Loss</th>\n",
       "      <th>Validation Loss</th>\n",
       "      <th>Wer</th>\n",
       "      <th>Runtime</th>\n",
       "      <th>Samples Per Second</th>\n",
       "    </tr>\n",
       "  </thead>\n",
       "  <tbody>\n",
       "    <tr>\n",
       "      <td>100</td>\n",
       "      <td>0.418000</td>\n",
       "      <td>0.052979</td>\n",
       "      <td>0.109091</td>\n",
       "      <td>2.236300</td>\n",
       "      <td>8.943000</td>\n",
       "    </tr>\n",
       "    <tr>\n",
       "      <td>200</td>\n",
       "      <td>0.370600</td>\n",
       "      <td>0.051316</td>\n",
       "      <td>0.101818</td>\n",
       "      <td>2.236600</td>\n",
       "      <td>8.942000</td>\n",
       "    </tr>\n",
       "    <tr>\n",
       "      <td>300</td>\n",
       "      <td>0.364100</td>\n",
       "      <td>0.050463</td>\n",
       "      <td>0.101818</td>\n",
       "      <td>2.239900</td>\n",
       "      <td>8.929000</td>\n",
       "    </tr>\n",
       "    <tr>\n",
       "      <td>400</td>\n",
       "      <td>0.373700</td>\n",
       "      <td>0.049893</td>\n",
       "      <td>0.098182</td>\n",
       "      <td>2.288800</td>\n",
       "      <td>8.738000</td>\n",
       "    </tr>\n",
       "  </tbody>\n",
       "</table><p>"
      ],
      "text/plain": [
       "<IPython.core.display.HTML object>"
      ]
     },
     "metadata": {},
     "output_type": "display_data"
    },
    {
     "name": "stdout",
     "output_type": "stream",
     "text": [
      "Save Model\n",
      "**************************************\n",
      "Starting round 1 of 4, epoche 3 of 3\n",
      "Splitting Dataset common-voice-de-09v30 with 12443 Entries\n",
      "aktual trained epoches: 221\n",
      "old trained epoches: 220\n",
      "old word error rate: 13.676521245770095%\n",
      "Translate all\n"
     ]
    },
    {
     "data": {
      "application/vnd.jupyter.widget-view+json": {
       "model_id": "ecc840aab74d4b83ad9ac5a62b70b8da",
       "version_major": 2,
       "version_minor": 0
      },
      "text/plain": [
       "HBox(children=(FloatProgress(value=0.0, max=12443.0), HTML(value='')))"
      ]
     },
     "metadata": {},
     "output_type": "display_data"
    },
    {
     "name": "stdout",
     "output_type": "stream",
     "text": [
      "\n",
      "Save new translations to: /home/ki-mo/shared/gitviews/extern/GermanWave2Vec/datasets/common-voice-de-09v30/content-translated-with_original.csv\n",
      "Calculate WER\n"
     ]
    },
    {
     "name": "stderr",
     "output_type": "stream",
     "text": [
      "W&B installed but not logged in. Run `wandb login` or set the WANDB_API_KEY env variable.\n"
     ]
    },
    {
     "name": "stdout",
     "output_type": "stream",
     "text": [
      "WER: 13.1365%\n",
      "No. of bad translated snippets: 6812\n",
      "Saving diff files\n",
      "Actual number of bad translated 6812\n",
      "Actual WER: 13.1365%\n",
      " - 6812 Entries left after Length Cut (min=31, max=1200)\n",
      " - 1600 left after Entries Max Samples Cut (max=1600)\n",
      "Creating Trainer for common-voice-de-09v30\n",
      "Training of Dataset: common-voice-de-09v30\n"
     ]
    },
    {
     "data": {
      "text/html": [
       "\n",
       "    <div>\n",
       "        <style>\n",
       "            /* Turns off some styling */\n",
       "            progress {\n",
       "                /* gets rid of default border in Firefox and Opera. */\n",
       "                border: none;\n",
       "                /* Needs to be in here for Safari polyfill so background images work as expected. */\n",
       "                background-size: auto;\n",
       "            }\n",
       "        </style>\n",
       "      \n",
       "      <progress value='400' max='400' style='width:300px; height:20px; vertical-align: middle;'></progress>\n",
       "      [400/400 04:12, Epoch 2/2]\n",
       "    </div>\n",
       "    <table border=\"1\" class=\"dataframe\">\n",
       "  <thead>\n",
       "    <tr style=\"text-align: left;\">\n",
       "      <th>Step</th>\n",
       "      <th>Training Loss</th>\n",
       "      <th>Validation Loss</th>\n",
       "      <th>Wer</th>\n",
       "      <th>Runtime</th>\n",
       "      <th>Samples Per Second</th>\n",
       "    </tr>\n",
       "  </thead>\n",
       "  <tbody>\n",
       "    <tr>\n",
       "      <td>100</td>\n",
       "      <td>0.372300</td>\n",
       "      <td>0.049298</td>\n",
       "      <td>0.094545</td>\n",
       "      <td>2.225200</td>\n",
       "      <td>8.988000</td>\n",
       "    </tr>\n",
       "    <tr>\n",
       "      <td>200</td>\n",
       "      <td>0.375500</td>\n",
       "      <td>0.047765</td>\n",
       "      <td>0.090909</td>\n",
       "      <td>2.235900</td>\n",
       "      <td>8.945000</td>\n",
       "    </tr>\n",
       "    <tr>\n",
       "      <td>300</td>\n",
       "      <td>0.370900</td>\n",
       "      <td>0.048116</td>\n",
       "      <td>0.087273</td>\n",
       "      <td>2.228000</td>\n",
       "      <td>8.977000</td>\n",
       "    </tr>\n",
       "    <tr>\n",
       "      <td>400</td>\n",
       "      <td>0.344600</td>\n",
       "      <td>0.048003</td>\n",
       "      <td>0.087273</td>\n",
       "      <td>2.267200</td>\n",
       "      <td>8.822000</td>\n",
       "    </tr>\n",
       "  </tbody>\n",
       "</table><p>"
      ],
      "text/plain": [
       "<IPython.core.display.HTML object>"
      ]
     },
     "metadata": {},
     "output_type": "display_data"
    },
    {
     "name": "stdout",
     "output_type": "stream",
     "text": [
      "Save Model\n",
      "final check und update of common-voice-de-09v30\n",
      "aktual trained epoches: 222\n",
      "old trained epoches: 221\n",
      "old word error rate: 13.136511924783692%\n",
      "Translate all\n"
     ]
    },
    {
     "data": {
      "application/vnd.jupyter.widget-view+json": {
       "model_id": "0d78f37268e744838001149f3571c94f",
       "version_major": 2,
       "version_minor": 0
      },
      "text/plain": [
       "HBox(children=(FloatProgress(value=0.0, max=12443.0), HTML(value='')))"
      ]
     },
     "metadata": {},
     "output_type": "display_data"
    },
    {
     "name": "stdout",
     "output_type": "stream",
     "text": [
      "\n",
      "Save new translations to: /home/ki-mo/shared/gitviews/extern/GermanWave2Vec/datasets/common-voice-de-09v30/content-translated-with_original.csv\n",
      "Calculate WER\n",
      "WER: 12.7343%\n",
      "No. of bad translated snippets: 6685\n",
      "Saving diff files\n",
      "Actual number of bad translated 6685\n",
      "Actual WER: 12.7343\n",
      "-----------------------------\n",
      "Loading Dataset: common-voice-de-10v30 - /home/ki-mo/shared/gitviews/extern/GermanWave2Vec/datasets/common-voice-de-10v30/content-translated-with_original.csv\n",
      "Pruning Dataset common-voice-de-10v30 with 12643 Entries\n",
      " - 12643 Entries left after Length Cut (min=31, max=4000)\n",
      " - 12643 Entries left after Action Cut\n",
      "Dataset - common-voice-de-10v30 loaded with 12643 Entries\n",
      "**************************************\n",
      "Starting round 1 of 4, epoche 1 of 3\n",
      "Splitting Dataset common-voice-de-10v30 with 12643 Entries\n",
      "aktual trained epoches: 222\n",
      "old trained epoches: 167\n",
      "old word error rate: 28.970133675886157%\n",
      "Translate all\n"
     ]
    },
    {
     "data": {
      "application/vnd.jupyter.widget-view+json": {
       "model_id": "5d7f25074d03415c81c1f2fe067768ec",
       "version_major": 2,
       "version_minor": 0
      },
      "text/plain": [
       "HBox(children=(FloatProgress(value=0.0, max=12643.0), HTML(value='')))"
      ]
     },
     "metadata": {},
     "output_type": "display_data"
    },
    {
     "name": "stdout",
     "output_type": "stream",
     "text": [
      "\n",
      "Save new translations to: /home/ki-mo/shared/gitviews/extern/GermanWave2Vec/datasets/common-voice-de-10v30/content-translated-with_original.csv\n",
      "Calculate WER\n"
     ]
    },
    {
     "name": "stderr",
     "output_type": "stream",
     "text": [
      "W&B installed but not logged in. Run `wandb login` or set the WANDB_API_KEY env variable.\n"
     ]
    },
    {
     "name": "stdout",
     "output_type": "stream",
     "text": [
      "WER: 14.1715%\n",
      "No. of bad translated snippets: 7039\n",
      "Saving diff files\n",
      "Actual number of bad translated 7039\n",
      "Actual WER: 14.1715%\n",
      " - 7039 Entries left after Length Cut (min=31, max=1200)\n",
      " - 1600 left after Entries Max Samples Cut (max=1600)\n",
      "Creating Trainer for common-voice-de-10v30\n",
      "Training of Dataset: common-voice-de-10v30\n"
     ]
    },
    {
     "data": {
      "text/html": [
       "\n",
       "    <div>\n",
       "        <style>\n",
       "            /* Turns off some styling */\n",
       "            progress {\n",
       "                /* gets rid of default border in Firefox and Opera. */\n",
       "                border: none;\n",
       "                /* Needs to be in here for Safari polyfill so background images work as expected. */\n",
       "                background-size: auto;\n",
       "            }\n",
       "        </style>\n",
       "      \n",
       "      <progress value='400' max='400' style='width:300px; height:20px; vertical-align: middle;'></progress>\n",
       "      [400/400 04:05, Epoch 2/2]\n",
       "    </div>\n",
       "    <table border=\"1\" class=\"dataframe\">\n",
       "  <thead>\n",
       "    <tr style=\"text-align: left;\">\n",
       "      <th>Step</th>\n",
       "      <th>Training Loss</th>\n",
       "      <th>Validation Loss</th>\n",
       "      <th>Wer</th>\n",
       "      <th>Runtime</th>\n",
       "      <th>Samples Per Second</th>\n",
       "    </tr>\n",
       "  </thead>\n",
       "  <tbody>\n",
       "    <tr>\n",
       "      <td>100</td>\n",
       "      <td>0.427500</td>\n",
       "      <td>0.141210</td>\n",
       "      <td>0.206897</td>\n",
       "      <td>2.277500</td>\n",
       "      <td>8.782000</td>\n",
       "    </tr>\n",
       "    <tr>\n",
       "      <td>200</td>\n",
       "      <td>0.414000</td>\n",
       "      <td>0.134269</td>\n",
       "      <td>0.210728</td>\n",
       "      <td>2.286400</td>\n",
       "      <td>8.747000</td>\n",
       "    </tr>\n",
       "    <tr>\n",
       "      <td>300</td>\n",
       "      <td>0.409900</td>\n",
       "      <td>0.131749</td>\n",
       "      <td>0.206897</td>\n",
       "      <td>2.280800</td>\n",
       "      <td>8.769000</td>\n",
       "    </tr>\n",
       "    <tr>\n",
       "      <td>400</td>\n",
       "      <td>0.417600</td>\n",
       "      <td>0.131020</td>\n",
       "      <td>0.210728</td>\n",
       "      <td>2.274000</td>\n",
       "      <td>8.795000</td>\n",
       "    </tr>\n",
       "  </tbody>\n",
       "</table><p>"
      ],
      "text/plain": [
       "<IPython.core.display.HTML object>"
      ]
     },
     "metadata": {},
     "output_type": "display_data"
    },
    {
     "name": "stdout",
     "output_type": "stream",
     "text": [
      "Save Model\n",
      "**************************************\n",
      "Starting round 1 of 4, epoche 2 of 3\n",
      "Splitting Dataset common-voice-de-10v30 with 12643 Entries\n",
      "aktual trained epoches: 223\n",
      "old trained epoches: 222\n",
      "old word error rate: 14.171450363293324%\n",
      "Translate all\n"
     ]
    },
    {
     "data": {
      "application/vnd.jupyter.widget-view+json": {
       "model_id": "1d03f9ca4fc04c4eb4d1889d52af41dd",
       "version_major": 2,
       "version_minor": 0
      },
      "text/plain": [
       "HBox(children=(FloatProgress(value=0.0, max=12643.0), HTML(value='')))"
      ]
     },
     "metadata": {},
     "output_type": "display_data"
    },
    {
     "name": "stdout",
     "output_type": "stream",
     "text": [
      "\n",
      "Save new translations to: /home/ki-mo/shared/gitviews/extern/GermanWave2Vec/datasets/common-voice-de-10v30/content-translated-with_original.csv\n",
      "Calculate WER\n"
     ]
    },
    {
     "name": "stderr",
     "output_type": "stream",
     "text": [
      "W&B installed but not logged in. Run `wandb login` or set the WANDB_API_KEY env variable.\n"
     ]
    },
    {
     "name": "stdout",
     "output_type": "stream",
     "text": [
      "WER: 13.7078%\n",
      "No. of bad translated snippets: 6901\n",
      "Saving diff files\n",
      "Actual number of bad translated 6901\n",
      "Actual WER: 13.7078%\n",
      " - 6901 Entries left after Length Cut (min=31, max=1200)\n",
      " - 1600 left after Entries Max Samples Cut (max=1600)\n",
      "Creating Trainer for common-voice-de-10v30\n",
      "Training of Dataset: common-voice-de-10v30\n"
     ]
    },
    {
     "data": {
      "text/html": [
       "\n",
       "    <div>\n",
       "        <style>\n",
       "            /* Turns off some styling */\n",
       "            progress {\n",
       "                /* gets rid of default border in Firefox and Opera. */\n",
       "                border: none;\n",
       "                /* Needs to be in here for Safari polyfill so background images work as expected. */\n",
       "                background-size: auto;\n",
       "            }\n",
       "        </style>\n",
       "      \n",
       "      <progress value='400' max='400' style='width:300px; height:20px; vertical-align: middle;'></progress>\n",
       "      [400/400 04:08, Epoch 2/2]\n",
       "    </div>\n",
       "    <table border=\"1\" class=\"dataframe\">\n",
       "  <thead>\n",
       "    <tr style=\"text-align: left;\">\n",
       "      <th>Step</th>\n",
       "      <th>Training Loss</th>\n",
       "      <th>Validation Loss</th>\n",
       "      <th>Wer</th>\n",
       "      <th>Runtime</th>\n",
       "      <th>Samples Per Second</th>\n",
       "    </tr>\n",
       "  </thead>\n",
       "  <tbody>\n",
       "    <tr>\n",
       "      <td>100</td>\n",
       "      <td>0.435900</td>\n",
       "      <td>0.130449</td>\n",
       "      <td>0.214559</td>\n",
       "      <td>2.307000</td>\n",
       "      <td>8.669000</td>\n",
       "    </tr>\n",
       "    <tr>\n",
       "      <td>200</td>\n",
       "      <td>0.426700</td>\n",
       "      <td>0.131867</td>\n",
       "      <td>0.191571</td>\n",
       "      <td>2.310000</td>\n",
       "      <td>8.658000</td>\n",
       "    </tr>\n",
       "    <tr>\n",
       "      <td>300</td>\n",
       "      <td>0.406900</td>\n",
       "      <td>0.128145</td>\n",
       "      <td>0.210728</td>\n",
       "      <td>2.306000</td>\n",
       "      <td>8.673000</td>\n",
       "    </tr>\n",
       "    <tr>\n",
       "      <td>400</td>\n",
       "      <td>0.404300</td>\n",
       "      <td>0.128691</td>\n",
       "      <td>0.210728</td>\n",
       "      <td>2.311500</td>\n",
       "      <td>8.652000</td>\n",
       "    </tr>\n",
       "  </tbody>\n",
       "</table><p>"
      ],
      "text/plain": [
       "<IPython.core.display.HTML object>"
      ]
     },
     "metadata": {},
     "output_type": "display_data"
    },
    {
     "name": "stdout",
     "output_type": "stream",
     "text": [
      "Save Model\n",
      "**************************************\n",
      "Starting round 1 of 4, epoche 3 of 3\n",
      "Splitting Dataset common-voice-de-10v30 with 12643 Entries\n",
      "aktual trained epoches: 224\n",
      "old trained epoches: 223\n",
      "old word error rate: 13.70779976717113%\n",
      "Translate all\n"
     ]
    },
    {
     "data": {
      "application/vnd.jupyter.widget-view+json": {
       "model_id": "5640a7e61bce4791aceb09044fa75194",
       "version_major": 2,
       "version_minor": 0
      },
      "text/plain": [
       "HBox(children=(FloatProgress(value=0.0, max=12643.0), HTML(value='')))"
      ]
     },
     "metadata": {},
     "output_type": "display_data"
    },
    {
     "name": "stdout",
     "output_type": "stream",
     "text": [
      "\n",
      "Save new translations to: /home/ki-mo/shared/gitviews/extern/GermanWave2Vec/datasets/common-voice-de-10v30/content-translated-with_original.csv\n",
      "Calculate WER\n"
     ]
    },
    {
     "name": "stderr",
     "output_type": "stream",
     "text": [
      "W&B installed but not logged in. Run `wandb login` or set the WANDB_API_KEY env variable.\n"
     ]
    },
    {
     "name": "stdout",
     "output_type": "stream",
     "text": [
      "WER: 13.3666%\n",
      "No. of bad translated snippets: 6830\n",
      "Saving diff files\n",
      "Actual number of bad translated 6830\n",
      "Actual WER: 13.3666%\n",
      " - 6830 Entries left after Length Cut (min=31, max=1200)\n",
      " - 1600 left after Entries Max Samples Cut (max=1600)\n",
      "Creating Trainer for common-voice-de-10v30\n",
      "Training of Dataset: common-voice-de-10v30\n"
     ]
    },
    {
     "data": {
      "text/html": [
       "\n",
       "    <div>\n",
       "        <style>\n",
       "            /* Turns off some styling */\n",
       "            progress {\n",
       "                /* gets rid of default border in Firefox and Opera. */\n",
       "                border: none;\n",
       "                /* Needs to be in here for Safari polyfill so background images work as expected. */\n",
       "                background-size: auto;\n",
       "            }\n",
       "        </style>\n",
       "      \n",
       "      <progress value='400' max='400' style='width:300px; height:20px; vertical-align: middle;'></progress>\n",
       "      [400/400 04:08, Epoch 2/2]\n",
       "    </div>\n",
       "    <table border=\"1\" class=\"dataframe\">\n",
       "  <thead>\n",
       "    <tr style=\"text-align: left;\">\n",
       "      <th>Step</th>\n",
       "      <th>Training Loss</th>\n",
       "      <th>Validation Loss</th>\n",
       "      <th>Wer</th>\n",
       "      <th>Runtime</th>\n",
       "      <th>Samples Per Second</th>\n",
       "    </tr>\n",
       "  </thead>\n",
       "  <tbody>\n",
       "    <tr>\n",
       "      <td>100</td>\n",
       "      <td>0.419600</td>\n",
       "      <td>0.130888</td>\n",
       "      <td>0.199234</td>\n",
       "      <td>2.295100</td>\n",
       "      <td>8.714000</td>\n",
       "    </tr>\n",
       "    <tr>\n",
       "      <td>200</td>\n",
       "      <td>0.402300</td>\n",
       "      <td>0.128949</td>\n",
       "      <td>0.214559</td>\n",
       "      <td>2.315900</td>\n",
       "      <td>8.636000</td>\n",
       "    </tr>\n",
       "    <tr>\n",
       "      <td>300</td>\n",
       "      <td>0.399500</td>\n",
       "      <td>0.128260</td>\n",
       "      <td>0.206897</td>\n",
       "      <td>2.277700</td>\n",
       "      <td>8.781000</td>\n",
       "    </tr>\n",
       "    <tr>\n",
       "      <td>400</td>\n",
       "      <td>0.386200</td>\n",
       "      <td>0.128940</td>\n",
       "      <td>0.206897</td>\n",
       "      <td>2.269400</td>\n",
       "      <td>8.813000</td>\n",
       "    </tr>\n",
       "  </tbody>\n",
       "</table><p>"
      ],
      "text/plain": [
       "<IPython.core.display.HTML object>"
      ]
     },
     "metadata": {},
     "output_type": "display_data"
    },
    {
     "name": "stdout",
     "output_type": "stream",
     "text": [
      "Save Model\n",
      "final check und update of common-voice-de-10v30\n",
      "aktual trained epoches: 225\n",
      "old trained epoches: 224\n",
      "old word error rate: 13.366585042752197%\n",
      "Translate all\n"
     ]
    },
    {
     "data": {
      "application/vnd.jupyter.widget-view+json": {
       "model_id": "6a779976471f4cf78168e828a8e60631",
       "version_major": 2,
       "version_minor": 0
      },
      "text/plain": [
       "HBox(children=(FloatProgress(value=0.0, max=12643.0), HTML(value='')))"
      ]
     },
     "metadata": {},
     "output_type": "display_data"
    },
    {
     "name": "stdout",
     "output_type": "stream",
     "text": [
      "\n",
      "Save new translations to: /home/ki-mo/shared/gitviews/extern/GermanWave2Vec/datasets/common-voice-de-10v30/content-translated-with_original.csv\n",
      "Calculate WER\n",
      "WER: 12.9019%\n",
      "No. of bad translated snippets: 6671\n",
      "Saving diff files\n",
      "Actual number of bad translated 6671\n",
      "Actual WER: 12.9019\n",
      "======================================\n",
      "Starting round 2 of 4\n",
      "-----------------------------\n",
      "Loading Dataset: common-voice-de-01v30 - /home/ki-mo/shared/gitviews/extern/GermanWave2Vec/datasets/common-voice-de-01v30/content-translated-with_original.csv\n",
      "Pruning Dataset common-voice-de-01v30 with 11813 Entries\n",
      " - 11813 Entries left after Length Cut (min=31, max=4000)\n",
      " - 11813 Entries left after Action Cut\n",
      "Dataset - common-voice-de-01v30 loaded with 11813 Entries\n",
      "**************************************\n",
      "Starting round 2 of 4, epoche 1 of 3\n",
      "Splitting Dataset common-voice-de-01v30 with 11813 Entries\n",
      "aktual trained epoches: 225\n",
      "old trained epoches: 198\n",
      "old word error rate: 21.91201653380573%\n",
      "Translate all\n"
     ]
    },
    {
     "data": {
      "application/vnd.jupyter.widget-view+json": {
       "model_id": "572da55b402a49a393baa2dea8529f1c",
       "version_major": 2,
       "version_minor": 0
      },
      "text/plain": [
       "HBox(children=(FloatProgress(value=0.0, max=11813.0), HTML(value='')))"
      ]
     },
     "metadata": {},
     "output_type": "display_data"
    },
    {
     "name": "stdout",
     "output_type": "stream",
     "text": [
      "\n",
      "Save new translations to: /home/ki-mo/shared/gitviews/extern/GermanWave2Vec/datasets/common-voice-de-01v30/content-translated-with_original.csv\n",
      "Calculate WER\n"
     ]
    },
    {
     "name": "stderr",
     "output_type": "stream",
     "text": [
      "W&B installed but not logged in. Run `wandb login` or set the WANDB_API_KEY env variable.\n"
     ]
    },
    {
     "name": "stdout",
     "output_type": "stream",
     "text": [
      "WER: 16.2693%\n",
      "No. of bad translated snippets: 6176\n",
      "Saving diff files\n",
      "Actual number of bad translated 6176\n",
      "Actual WER: 16.2693%\n",
      " - 6176 Entries left after Length Cut (min=31, max=1200)\n",
      " - 1600 left after Entries Max Samples Cut (max=1600)\n",
      "Creating Trainer for common-voice-de-01v30\n",
      "Training of Dataset: common-voice-de-01v30\n"
     ]
    },
    {
     "data": {
      "text/html": [
       "\n",
       "    <div>\n",
       "        <style>\n",
       "            /* Turns off some styling */\n",
       "            progress {\n",
       "                /* gets rid of default border in Firefox and Opera. */\n",
       "                border: none;\n",
       "                /* Needs to be in here for Safari polyfill so background images work as expected. */\n",
       "                background-size: auto;\n",
       "            }\n",
       "        </style>\n",
       "      \n",
       "      <progress value='400' max='400' style='width:300px; height:20px; vertical-align: middle;'></progress>\n",
       "      [400/400 04:52, Epoch 2/2]\n",
       "    </div>\n",
       "    <table border=\"1\" class=\"dataframe\">\n",
       "  <thead>\n",
       "    <tr style=\"text-align: left;\">\n",
       "      <th>Step</th>\n",
       "      <th>Training Loss</th>\n",
       "      <th>Validation Loss</th>\n",
       "      <th>Wer</th>\n",
       "      <th>Runtime</th>\n",
       "      <th>Samples Per Second</th>\n",
       "    </tr>\n",
       "  </thead>\n",
       "  <tbody>\n",
       "    <tr>\n",
       "      <td>100</td>\n",
       "      <td>0.576100</td>\n",
       "      <td>0.458282</td>\n",
       "      <td>0.219101</td>\n",
       "      <td>2.452600</td>\n",
       "      <td>8.155000</td>\n",
       "    </tr>\n",
       "    <tr>\n",
       "      <td>200</td>\n",
       "      <td>0.455500</td>\n",
       "      <td>0.462080</td>\n",
       "      <td>0.219101</td>\n",
       "      <td>2.406600</td>\n",
       "      <td>8.310000</td>\n",
       "    </tr>\n",
       "    <tr>\n",
       "      <td>300</td>\n",
       "      <td>0.523700</td>\n",
       "      <td>0.450341</td>\n",
       "      <td>0.185393</td>\n",
       "      <td>2.444700</td>\n",
       "      <td>8.181000</td>\n",
       "    </tr>\n",
       "    <tr>\n",
       "      <td>400</td>\n",
       "      <td>0.478600</td>\n",
       "      <td>0.444257</td>\n",
       "      <td>0.185393</td>\n",
       "      <td>2.415000</td>\n",
       "      <td>8.281000</td>\n",
       "    </tr>\n",
       "  </tbody>\n",
       "</table><p>"
      ],
      "text/plain": [
       "<IPython.core.display.HTML object>"
      ]
     },
     "metadata": {},
     "output_type": "display_data"
    },
    {
     "name": "stdout",
     "output_type": "stream",
     "text": [
      "Save Model\n",
      "**************************************\n",
      "Starting round 2 of 4, epoche 2 of 3\n",
      "Splitting Dataset common-voice-de-01v30 with 11813 Entries\n",
      "aktual trained epoches: 226\n",
      "old trained epoches: 225\n",
      "old word error rate: 16.269264836138177%\n",
      "Translate all\n"
     ]
    },
    {
     "data": {
      "application/vnd.jupyter.widget-view+json": {
       "model_id": "ab5f3b9cc11b4594853e7fbbe1bd9c13",
       "version_major": 2,
       "version_minor": 0
      },
      "text/plain": [
       "HBox(children=(FloatProgress(value=0.0, max=11813.0), HTML(value='')))"
      ]
     },
     "metadata": {},
     "output_type": "display_data"
    },
    {
     "name": "stdout",
     "output_type": "stream",
     "text": [
      "\n",
      "Save new translations to: /home/ki-mo/shared/gitviews/extern/GermanWave2Vec/datasets/common-voice-de-01v30/content-translated-with_original.csv\n",
      "Calculate WER\n"
     ]
    },
    {
     "name": "stderr",
     "output_type": "stream",
     "text": [
      "W&B installed but not logged in. Run `wandb login` or set the WANDB_API_KEY env variable.\n"
     ]
    },
    {
     "name": "stdout",
     "output_type": "stream",
     "text": [
      "WER: 15.7874%\n",
      "No. of bad translated snippets: 6076\n",
      "Saving diff files\n",
      "Actual number of bad translated 6076\n",
      "Actual WER: 15.7874%\n",
      " - 6076 Entries left after Length Cut (min=31, max=1200)\n",
      " - 1600 left after Entries Max Samples Cut (max=1600)\n",
      "Creating Trainer for common-voice-de-01v30\n",
      "Training of Dataset: common-voice-de-01v30\n"
     ]
    },
    {
     "data": {
      "text/html": [
       "\n",
       "    <div>\n",
       "        <style>\n",
       "            /* Turns off some styling */\n",
       "            progress {\n",
       "                /* gets rid of default border in Firefox and Opera. */\n",
       "                border: none;\n",
       "                /* Needs to be in here for Safari polyfill so background images work as expected. */\n",
       "                background-size: auto;\n",
       "            }\n",
       "        </style>\n",
       "      \n",
       "      <progress value='400' max='400' style='width:300px; height:20px; vertical-align: middle;'></progress>\n",
       "      [400/400 04:50, Epoch 2/2]\n",
       "    </div>\n",
       "    <table border=\"1\" class=\"dataframe\">\n",
       "  <thead>\n",
       "    <tr style=\"text-align: left;\">\n",
       "      <th>Step</th>\n",
       "      <th>Training Loss</th>\n",
       "      <th>Validation Loss</th>\n",
       "      <th>Wer</th>\n",
       "      <th>Runtime</th>\n",
       "      <th>Samples Per Second</th>\n",
       "    </tr>\n",
       "  </thead>\n",
       "  <tbody>\n",
       "    <tr>\n",
       "      <td>100</td>\n",
       "      <td>0.446200</td>\n",
       "      <td>0.447654</td>\n",
       "      <td>0.185393</td>\n",
       "      <td>2.434300</td>\n",
       "      <td>8.216000</td>\n",
       "    </tr>\n",
       "    <tr>\n",
       "      <td>200</td>\n",
       "      <td>0.528300</td>\n",
       "      <td>0.446801</td>\n",
       "      <td>0.191011</td>\n",
       "      <td>2.459500</td>\n",
       "      <td>8.132000</td>\n",
       "    </tr>\n",
       "    <tr>\n",
       "      <td>300</td>\n",
       "      <td>0.422500</td>\n",
       "      <td>0.448355</td>\n",
       "      <td>0.191011</td>\n",
       "      <td>2.431900</td>\n",
       "      <td>8.224000</td>\n",
       "    </tr>\n",
       "    <tr>\n",
       "      <td>400</td>\n",
       "      <td>0.497800</td>\n",
       "      <td>0.433459</td>\n",
       "      <td>0.191011</td>\n",
       "      <td>2.434500</td>\n",
       "      <td>8.215000</td>\n",
       "    </tr>\n",
       "  </tbody>\n",
       "</table><p>"
      ],
      "text/plain": [
       "<IPython.core.display.HTML object>"
      ]
     },
     "metadata": {},
     "output_type": "display_data"
    },
    {
     "name": "stdout",
     "output_type": "stream",
     "text": [
      "Save Model\n",
      "**************************************\n",
      "Starting round 2 of 4, epoche 3 of 3\n",
      "Splitting Dataset common-voice-de-01v30 with 11813 Entries\n",
      "aktual trained epoches: 227\n",
      "old trained epoches: 226\n",
      "old word error rate: 15.78742249778565%\n",
      "Translate all\n"
     ]
    },
    {
     "data": {
      "application/vnd.jupyter.widget-view+json": {
       "model_id": "4d9a79f15b0b48c79e9f24d9d7851231",
       "version_major": 2,
       "version_minor": 0
      },
      "text/plain": [
       "HBox(children=(FloatProgress(value=0.0, max=11813.0), HTML(value='')))"
      ]
     },
     "metadata": {},
     "output_type": "display_data"
    },
    {
     "name": "stdout",
     "output_type": "stream",
     "text": [
      "\n",
      "Save new translations to: /home/ki-mo/shared/gitviews/extern/GermanWave2Vec/datasets/common-voice-de-01v30/content-translated-with_original.csv\n",
      "Calculate WER\n"
     ]
    },
    {
     "name": "stderr",
     "output_type": "stream",
     "text": [
      "W&B installed but not logged in. Run `wandb login` or set the WANDB_API_KEY env variable.\n"
     ]
    },
    {
     "name": "stdout",
     "output_type": "stream",
     "text": [
      "WER: 15.4379%\n",
      "No. of bad translated snippets: 6021\n",
      "Saving diff files\n",
      "Actual number of bad translated 6021\n",
      "Actual WER: 15.4379%\n",
      " - 6021 Entries left after Length Cut (min=31, max=1200)\n",
      " - 1600 left after Entries Max Samples Cut (max=1600)\n",
      "Creating Trainer for common-voice-de-01v30\n",
      "Training of Dataset: common-voice-de-01v30\n"
     ]
    },
    {
     "data": {
      "text/html": [
       "\n",
       "    <div>\n",
       "        <style>\n",
       "            /* Turns off some styling */\n",
       "            progress {\n",
       "                /* gets rid of default border in Firefox and Opera. */\n",
       "                border: none;\n",
       "                /* Needs to be in here for Safari polyfill so background images work as expected. */\n",
       "                background-size: auto;\n",
       "            }\n",
       "        </style>\n",
       "      \n",
       "      <progress value='400' max='400' style='width:300px; height:20px; vertical-align: middle;'></progress>\n",
       "      [400/400 04:50, Epoch 2/2]\n",
       "    </div>\n",
       "    <table border=\"1\" class=\"dataframe\">\n",
       "  <thead>\n",
       "    <tr style=\"text-align: left;\">\n",
       "      <th>Step</th>\n",
       "      <th>Training Loss</th>\n",
       "      <th>Validation Loss</th>\n",
       "      <th>Wer</th>\n",
       "      <th>Runtime</th>\n",
       "      <th>Samples Per Second</th>\n",
       "    </tr>\n",
       "  </thead>\n",
       "  <tbody>\n",
       "    <tr>\n",
       "      <td>100</td>\n",
       "      <td>0.444800</td>\n",
       "      <td>0.404852</td>\n",
       "      <td>0.196629</td>\n",
       "      <td>2.442800</td>\n",
       "      <td>8.187000</td>\n",
       "    </tr>\n",
       "    <tr>\n",
       "      <td>200</td>\n",
       "      <td>0.464300</td>\n",
       "      <td>0.450246</td>\n",
       "      <td>0.185393</td>\n",
       "      <td>2.443100</td>\n",
       "      <td>8.186000</td>\n",
       "    </tr>\n",
       "    <tr>\n",
       "      <td>300</td>\n",
       "      <td>0.481600</td>\n",
       "      <td>0.425039</td>\n",
       "      <td>0.168539</td>\n",
       "      <td>2.442500</td>\n",
       "      <td>8.188000</td>\n",
       "    </tr>\n",
       "    <tr>\n",
       "      <td>400</td>\n",
       "      <td>0.396200</td>\n",
       "      <td>0.450372</td>\n",
       "      <td>0.174157</td>\n",
       "      <td>2.433700</td>\n",
       "      <td>8.218000</td>\n",
       "    </tr>\n",
       "  </tbody>\n",
       "</table><p>"
      ],
      "text/plain": [
       "<IPython.core.display.HTML object>"
      ]
     },
     "metadata": {},
     "output_type": "display_data"
    },
    {
     "name": "stdout",
     "output_type": "stream",
     "text": [
      "Save Model\n",
      "final check und update of common-voice-de-01v30\n",
      "aktual trained epoches: 228\n",
      "old trained epoches: 227\n",
      "old word error rate: 15.437850605255388%\n",
      "Translate all\n"
     ]
    },
    {
     "data": {
      "application/vnd.jupyter.widget-view+json": {
       "model_id": "e11a11f614b44c79a2130b31dfb6c602",
       "version_major": 2,
       "version_minor": 0
      },
      "text/plain": [
       "HBox(children=(FloatProgress(value=0.0, max=11813.0), HTML(value='')))"
      ]
     },
     "metadata": {},
     "output_type": "display_data"
    },
    {
     "name": "stdout",
     "output_type": "stream",
     "text": [
      "\n",
      "Save new translations to: /home/ki-mo/shared/gitviews/extern/GermanWave2Vec/datasets/common-voice-de-01v30/content-translated-with_original.csv\n",
      "Calculate WER\n",
      "WER: 14.9773%\n",
      "No. of bad translated snippets: 5913\n",
      "Saving diff files\n",
      "Actual number of bad translated 5913\n",
      "Actual WER: 14.9773\n",
      "-----------------------------\n",
      "Loading Dataset: common-voice-de-02v30 - /home/ki-mo/shared/gitviews/extern/GermanWave2Vec/datasets/common-voice-de-02v30/content-translated-with_original.csv\n",
      "Pruning Dataset common-voice-de-02v30 with 11906 Entries\n",
      " - 11906 Entries left after Length Cut (min=31, max=4000)\n",
      " - 11906 Entries left after Action Cut\n",
      "Dataset - common-voice-de-02v30 loaded with 11906 Entries\n",
      "**************************************\n",
      "Starting round 2 of 4, epoche 1 of 3\n",
      "Splitting Dataset common-voice-de-02v30 with 11906 Entries\n",
      "aktual trained epoches: 228\n",
      "old trained epoches: 201\n",
      "old word error rate: 18.879344460739812%\n",
      "Translate all\n"
     ]
    },
    {
     "data": {
      "application/vnd.jupyter.widget-view+json": {
       "model_id": "7ab28f9393f34fab9312aa64a4364ac1",
       "version_major": 2,
       "version_minor": 0
      },
      "text/plain": [
       "HBox(children=(FloatProgress(value=0.0, max=11906.0), HTML(value='')))"
      ]
     },
     "metadata": {},
     "output_type": "display_data"
    },
    {
     "name": "stdout",
     "output_type": "stream",
     "text": [
      "\n",
      "Save new translations to: /home/ki-mo/shared/gitviews/extern/GermanWave2Vec/datasets/common-voice-de-02v30/content-translated-with_original.csv\n",
      "Calculate WER\n"
     ]
    },
    {
     "name": "stderr",
     "output_type": "stream",
     "text": [
      "W&B installed but not logged in. Run `wandb login` or set the WANDB_API_KEY env variable.\n"
     ]
    },
    {
     "name": "stdout",
     "output_type": "stream",
     "text": [
      "WER: 14.3702%\n",
      "No. of bad translated snippets: 6053\n",
      "Saving diff files\n",
      "Actual number of bad translated 6053\n",
      "Actual WER: 14.3702%\n",
      " - 6053 Entries left after Length Cut (min=31, max=1200)\n",
      " - 1600 left after Entries Max Samples Cut (max=1600)\n",
      "Creating Trainer for common-voice-de-02v30\n",
      "Training of Dataset: common-voice-de-02v30\n"
     ]
    },
    {
     "data": {
      "text/html": [
       "\n",
       "    <div>\n",
       "        <style>\n",
       "            /* Turns off some styling */\n",
       "            progress {\n",
       "                /* gets rid of default border in Firefox and Opera. */\n",
       "                border: none;\n",
       "                /* Needs to be in here for Safari polyfill so background images work as expected. */\n",
       "                background-size: auto;\n",
       "            }\n",
       "        </style>\n",
       "      \n",
       "      <progress value='400' max='400' style='width:300px; height:20px; vertical-align: middle;'></progress>\n",
       "      [400/400 04:42, Epoch 2/2]\n",
       "    </div>\n",
       "    <table border=\"1\" class=\"dataframe\">\n",
       "  <thead>\n",
       "    <tr style=\"text-align: left;\">\n",
       "      <th>Step</th>\n",
       "      <th>Training Loss</th>\n",
       "      <th>Validation Loss</th>\n",
       "      <th>Wer</th>\n",
       "      <th>Runtime</th>\n",
       "      <th>Samples Per Second</th>\n",
       "    </tr>\n",
       "  </thead>\n",
       "  <tbody>\n",
       "    <tr>\n",
       "      <td>100</td>\n",
       "      <td>0.405700</td>\n",
       "      <td>0.096308</td>\n",
       "      <td>0.172589</td>\n",
       "      <td>2.418200</td>\n",
       "      <td>8.271000</td>\n",
       "    </tr>\n",
       "    <tr>\n",
       "      <td>200</td>\n",
       "      <td>0.384700</td>\n",
       "      <td>0.092469</td>\n",
       "      <td>0.162437</td>\n",
       "      <td>2.373300</td>\n",
       "      <td>8.427000</td>\n",
       "    </tr>\n",
       "    <tr>\n",
       "      <td>300</td>\n",
       "      <td>0.385200</td>\n",
       "      <td>0.097733</td>\n",
       "      <td>0.182741</td>\n",
       "      <td>2.424600</td>\n",
       "      <td>8.249000</td>\n",
       "    </tr>\n",
       "    <tr>\n",
       "      <td>400</td>\n",
       "      <td>0.367000</td>\n",
       "      <td>0.097280</td>\n",
       "      <td>0.177665</td>\n",
       "      <td>2.412700</td>\n",
       "      <td>8.289000</td>\n",
       "    </tr>\n",
       "  </tbody>\n",
       "</table><p>"
      ],
      "text/plain": [
       "<IPython.core.display.HTML object>"
      ]
     },
     "metadata": {},
     "output_type": "display_data"
    },
    {
     "name": "stdout",
     "output_type": "stream",
     "text": [
      "Save Model\n",
      "**************************************\n",
      "Starting round 2 of 4, epoche 2 of 3\n",
      "Splitting Dataset common-voice-de-02v30 with 11906 Entries\n",
      "aktual trained epoches: 229\n",
      "old trained epoches: 228\n",
      "old word error rate: 14.370184137626%\n",
      "Translate all\n"
     ]
    },
    {
     "data": {
      "application/vnd.jupyter.widget-view+json": {
       "model_id": "8e77381b5a4d4b44bfaf71f25a2c7f38",
       "version_major": 2,
       "version_minor": 0
      },
      "text/plain": [
       "HBox(children=(FloatProgress(value=0.0, max=11906.0), HTML(value='')))"
      ]
     },
     "metadata": {},
     "output_type": "display_data"
    },
    {
     "name": "stdout",
     "output_type": "stream",
     "text": [
      "\n",
      "Save new translations to: /home/ki-mo/shared/gitviews/extern/GermanWave2Vec/datasets/common-voice-de-02v30/content-translated-with_original.csv\n",
      "Calculate WER\n"
     ]
    },
    {
     "name": "stderr",
     "output_type": "stream",
     "text": [
      "W&B installed but not logged in. Run `wandb login` or set the WANDB_API_KEY env variable.\n"
     ]
    },
    {
     "name": "stdout",
     "output_type": "stream",
     "text": [
      "WER: 13.8674%\n",
      "No. of bad translated snippets: 5922\n",
      "Saving diff files\n",
      "Actual number of bad translated 5922\n",
      "Actual WER: 13.8674%\n",
      " - 5922 Entries left after Length Cut (min=31, max=1200)\n",
      " - 1600 left after Entries Max Samples Cut (max=1600)\n",
      "Creating Trainer for common-voice-de-02v30\n",
      "Training of Dataset: common-voice-de-02v30\n"
     ]
    },
    {
     "data": {
      "text/html": [
       "\n",
       "    <div>\n",
       "        <style>\n",
       "            /* Turns off some styling */\n",
       "            progress {\n",
       "                /* gets rid of default border in Firefox and Opera. */\n",
       "                border: none;\n",
       "                /* Needs to be in here for Safari polyfill so background images work as expected. */\n",
       "                background-size: auto;\n",
       "            }\n",
       "        </style>\n",
       "      \n",
       "      <progress value='400' max='400' style='width:300px; height:20px; vertical-align: middle;'></progress>\n",
       "      [400/400 04:37, Epoch 2/2]\n",
       "    </div>\n",
       "    <table border=\"1\" class=\"dataframe\">\n",
       "  <thead>\n",
       "    <tr style=\"text-align: left;\">\n",
       "      <th>Step</th>\n",
       "      <th>Training Loss</th>\n",
       "      <th>Validation Loss</th>\n",
       "      <th>Wer</th>\n",
       "      <th>Runtime</th>\n",
       "      <th>Samples Per Second</th>\n",
       "    </tr>\n",
       "  </thead>\n",
       "  <tbody>\n",
       "    <tr>\n",
       "      <td>100</td>\n",
       "      <td>0.399900</td>\n",
       "      <td>0.095880</td>\n",
       "      <td>0.167513</td>\n",
       "      <td>2.402300</td>\n",
       "      <td>8.325000</td>\n",
       "    </tr>\n",
       "    <tr>\n",
       "      <td>200</td>\n",
       "      <td>0.397300</td>\n",
       "      <td>0.084551</td>\n",
       "      <td>0.162437</td>\n",
       "      <td>2.423100</td>\n",
       "      <td>8.254000</td>\n",
       "    </tr>\n",
       "    <tr>\n",
       "      <td>300</td>\n",
       "      <td>0.387500</td>\n",
       "      <td>0.085478</td>\n",
       "      <td>0.147208</td>\n",
       "      <td>2.423500</td>\n",
       "      <td>8.252000</td>\n",
       "    </tr>\n",
       "    <tr>\n",
       "      <td>400</td>\n",
       "      <td>0.362000</td>\n",
       "      <td>0.086763</td>\n",
       "      <td>0.167513</td>\n",
       "      <td>2.371900</td>\n",
       "      <td>8.432000</td>\n",
       "    </tr>\n",
       "  </tbody>\n",
       "</table><p>"
      ],
      "text/plain": [
       "<IPython.core.display.HTML object>"
      ]
     },
     "metadata": {},
     "output_type": "display_data"
    },
    {
     "name": "stdout",
     "output_type": "stream",
     "text": [
      "Save Model\n",
      "**************************************\n",
      "Starting round 2 of 4, epoche 3 of 3\n",
      "Splitting Dataset common-voice-de-02v30 with 11906 Entries\n",
      "aktual trained epoches: 230\n",
      "old trained epoches: 229\n",
      "old word error rate: 13.867355727820843%\n",
      "Translate all\n"
     ]
    },
    {
     "data": {
      "application/vnd.jupyter.widget-view+json": {
       "model_id": "6a88bb13fe6445a0b3a615d10a1b3fea",
       "version_major": 2,
       "version_minor": 0
      },
      "text/plain": [
       "HBox(children=(FloatProgress(value=0.0, max=11906.0), HTML(value='')))"
      ]
     },
     "metadata": {},
     "output_type": "display_data"
    },
    {
     "name": "stdout",
     "output_type": "stream",
     "text": [
      "\n",
      "Save new translations to: /home/ki-mo/shared/gitviews/extern/GermanWave2Vec/datasets/common-voice-de-02v30/content-translated-with_original.csv\n",
      "Calculate WER\n"
     ]
    },
    {
     "name": "stderr",
     "output_type": "stream",
     "text": [
      "W&B installed but not logged in. Run `wandb login` or set the WANDB_API_KEY env variable.\n"
     ]
    },
    {
     "name": "stdout",
     "output_type": "stream",
     "text": [
      "WER: 13.4879%\n",
      "No. of bad translated snippets: 5832\n",
      "Saving diff files\n",
      "Actual number of bad translated 5832\n",
      "Actual WER: 13.4879%\n",
      " - 5832 Entries left after Length Cut (min=31, max=1200)\n",
      " - 1600 left after Entries Max Samples Cut (max=1600)\n",
      "Creating Trainer for common-voice-de-02v30\n",
      "Training of Dataset: common-voice-de-02v30\n"
     ]
    },
    {
     "data": {
      "text/html": [
       "\n",
       "    <div>\n",
       "        <style>\n",
       "            /* Turns off some styling */\n",
       "            progress {\n",
       "                /* gets rid of default border in Firefox and Opera. */\n",
       "                border: none;\n",
       "                /* Needs to be in here for Safari polyfill so background images work as expected. */\n",
       "                background-size: auto;\n",
       "            }\n",
       "        </style>\n",
       "      \n",
       "      <progress value='400' max='400' style='width:300px; height:20px; vertical-align: middle;'></progress>\n",
       "      [400/400 04:39, Epoch 2/2]\n",
       "    </div>\n",
       "    <table border=\"1\" class=\"dataframe\">\n",
       "  <thead>\n",
       "    <tr style=\"text-align: left;\">\n",
       "      <th>Step</th>\n",
       "      <th>Training Loss</th>\n",
       "      <th>Validation Loss</th>\n",
       "      <th>Wer</th>\n",
       "      <th>Runtime</th>\n",
       "      <th>Samples Per Second</th>\n",
       "    </tr>\n",
       "  </thead>\n",
       "  <tbody>\n",
       "    <tr>\n",
       "      <td>100</td>\n",
       "      <td>0.369500</td>\n",
       "      <td>0.086755</td>\n",
       "      <td>0.147208</td>\n",
       "      <td>2.417000</td>\n",
       "      <td>8.275000</td>\n",
       "    </tr>\n",
       "    <tr>\n",
       "      <td>200</td>\n",
       "      <td>0.391400</td>\n",
       "      <td>0.092147</td>\n",
       "      <td>0.152284</td>\n",
       "      <td>2.406100</td>\n",
       "      <td>8.312000</td>\n",
       "    </tr>\n",
       "    <tr>\n",
       "      <td>300</td>\n",
       "      <td>0.399600</td>\n",
       "      <td>0.092319</td>\n",
       "      <td>0.142132</td>\n",
       "      <td>2.373000</td>\n",
       "      <td>8.428000</td>\n",
       "    </tr>\n",
       "    <tr>\n",
       "      <td>400</td>\n",
       "      <td>0.351200</td>\n",
       "      <td>0.085899</td>\n",
       "      <td>0.137056</td>\n",
       "      <td>2.414400</td>\n",
       "      <td>8.284000</td>\n",
       "    </tr>\n",
       "  </tbody>\n",
       "</table><p>"
      ],
      "text/plain": [
       "<IPython.core.display.HTML object>"
      ]
     },
     "metadata": {},
     "output_type": "display_data"
    },
    {
     "name": "stdout",
     "output_type": "stream",
     "text": [
      "Save Model\n",
      "final check und update of common-voice-de-02v30\n",
      "aktual trained epoches: 231\n",
      "old trained epoches: 230\n",
      "old word error rate: 13.487906511162326%\n",
      "Translate all\n"
     ]
    },
    {
     "data": {
      "application/vnd.jupyter.widget-view+json": {
       "model_id": "894b40a42a854e4b8ccc35b16d7d5e6f",
       "version_major": 2,
       "version_minor": 0
      },
      "text/plain": [
       "HBox(children=(FloatProgress(value=0.0, max=11906.0), HTML(value='')))"
      ]
     },
     "metadata": {},
     "output_type": "display_data"
    },
    {
     "name": "stdout",
     "output_type": "stream",
     "text": [
      "\n",
      "Save new translations to: /home/ki-mo/shared/gitviews/extern/GermanWave2Vec/datasets/common-voice-de-02v30/content-translated-with_original.csv\n",
      "Calculate WER\n",
      "WER: 13.1690%\n",
      "No. of bad translated snippets: 5768\n",
      "Saving diff files\n",
      "Actual number of bad translated 5768\n",
      "Actual WER: 13.1690\n",
      "-----------------------------\n",
      "Loading Dataset: common-voice-de-03v30 - /home/ki-mo/shared/gitviews/extern/GermanWave2Vec/datasets/common-voice-de-03v30/content-translated-with_original.csv\n",
      "Pruning Dataset common-voice-de-03v30 with 11954 Entries\n",
      " - 11954 Entries left after Length Cut (min=31, max=4000)\n",
      " - 11954 Entries left after Action Cut\n",
      "Dataset - common-voice-de-03v30 loaded with 11954 Entries\n",
      "**************************************\n",
      "Starting round 2 of 4, epoche 1 of 3\n",
      "Splitting Dataset common-voice-de-03v30 with 11954 Entries\n",
      "aktual trained epoches: 231\n",
      "old trained epoches: 204\n",
      "old word error rate: 16.868599366315014%\n",
      "Translate all\n"
     ]
    },
    {
     "data": {
      "application/vnd.jupyter.widget-view+json": {
       "model_id": "01d7bd643f3146de89f87460fa50521b",
       "version_major": 2,
       "version_minor": 0
      },
      "text/plain": [
       "HBox(children=(FloatProgress(value=0.0, max=11954.0), HTML(value='')))"
      ]
     },
     "metadata": {},
     "output_type": "display_data"
    },
    {
     "name": "stdout",
     "output_type": "stream",
     "text": [
      "\n",
      "Save new translations to: /home/ki-mo/shared/gitviews/extern/GermanWave2Vec/datasets/common-voice-de-03v30/content-translated-with_original.csv\n",
      "Calculate WER\n"
     ]
    },
    {
     "name": "stderr",
     "output_type": "stream",
     "text": [
      "W&B installed but not logged in. Run `wandb login` or set the WANDB_API_KEY env variable.\n"
     ]
    },
    {
     "name": "stdout",
     "output_type": "stream",
     "text": [
      "WER: 13.6100%\n",
      "No. of bad translated snippets: 5747\n",
      "Saving diff files\n",
      "Actual number of bad translated 5747\n",
      "Actual WER: 13.6100%\n",
      " - 5747 Entries left after Length Cut (min=31, max=1200)\n",
      " - 1600 left after Entries Max Samples Cut (max=1600)\n",
      "Creating Trainer for common-voice-de-03v30\n",
      "Training of Dataset: common-voice-de-03v30\n"
     ]
    },
    {
     "data": {
      "text/html": [
       "\n",
       "    <div>\n",
       "        <style>\n",
       "            /* Turns off some styling */\n",
       "            progress {\n",
       "                /* gets rid of default border in Firefox and Opera. */\n",
       "                border: none;\n",
       "                /* Needs to be in here for Safari polyfill so background images work as expected. */\n",
       "                background-size: auto;\n",
       "            }\n",
       "        </style>\n",
       "      \n",
       "      <progress value='400' max='400' style='width:300px; height:20px; vertical-align: middle;'></progress>\n",
       "      [400/400 04:31, Epoch 2/2]\n",
       "    </div>\n",
       "    <table border=\"1\" class=\"dataframe\">\n",
       "  <thead>\n",
       "    <tr style=\"text-align: left;\">\n",
       "      <th>Step</th>\n",
       "      <th>Training Loss</th>\n",
       "      <th>Validation Loss</th>\n",
       "      <th>Wer</th>\n",
       "      <th>Runtime</th>\n",
       "      <th>Samples Per Second</th>\n",
       "    </tr>\n",
       "  </thead>\n",
       "  <tbody>\n",
       "    <tr>\n",
       "      <td>100</td>\n",
       "      <td>0.418500</td>\n",
       "      <td>0.145019</td>\n",
       "      <td>0.129310</td>\n",
       "      <td>2.306600</td>\n",
       "      <td>8.671000</td>\n",
       "    </tr>\n",
       "    <tr>\n",
       "      <td>200</td>\n",
       "      <td>0.370300</td>\n",
       "      <td>0.146971</td>\n",
       "      <td>0.129310</td>\n",
       "      <td>2.325600</td>\n",
       "      <td>8.600000</td>\n",
       "    </tr>\n",
       "    <tr>\n",
       "      <td>300</td>\n",
       "      <td>0.364000</td>\n",
       "      <td>0.148968</td>\n",
       "      <td>0.129310</td>\n",
       "      <td>2.331300</td>\n",
       "      <td>8.579000</td>\n",
       "    </tr>\n",
       "    <tr>\n",
       "      <td>400</td>\n",
       "      <td>0.368000</td>\n",
       "      <td>0.147974</td>\n",
       "      <td>0.129310</td>\n",
       "      <td>2.329300</td>\n",
       "      <td>8.586000</td>\n",
       "    </tr>\n",
       "  </tbody>\n",
       "</table><p>"
      ],
      "text/plain": [
       "<IPython.core.display.HTML object>"
      ]
     },
     "metadata": {},
     "output_type": "display_data"
    },
    {
     "name": "stdout",
     "output_type": "stream",
     "text": [
      "Save Model\n",
      "**************************************\n",
      "Starting round 2 of 4, epoche 2 of 3\n",
      "Splitting Dataset common-voice-de-03v30 with 11954 Entries\n",
      "aktual trained epoches: 232\n",
      "old trained epoches: 231\n",
      "old word error rate: 13.60998706523158%\n",
      "Translate all\n"
     ]
    },
    {
     "data": {
      "application/vnd.jupyter.widget-view+json": {
       "model_id": "c6f5d59c009c4fb685b68d5d4b629a5c",
       "version_major": 2,
       "version_minor": 0
      },
      "text/plain": [
       "HBox(children=(FloatProgress(value=0.0, max=11954.0), HTML(value='')))"
      ]
     },
     "metadata": {},
     "output_type": "display_data"
    },
    {
     "name": "stdout",
     "output_type": "stream",
     "text": [
      "\n",
      "Save new translations to: /home/ki-mo/shared/gitviews/extern/GermanWave2Vec/datasets/common-voice-de-03v30/content-translated-with_original.csv\n",
      "Calculate WER\n"
     ]
    },
    {
     "name": "stderr",
     "output_type": "stream",
     "text": [
      "W&B installed but not logged in. Run `wandb login` or set the WANDB_API_KEY env variable.\n"
     ]
    },
    {
     "name": "stdout",
     "output_type": "stream",
     "text": [
      "WER: 13.2208%\n",
      "No. of bad translated snippets: 5619\n",
      "Saving diff files\n",
      "Actual number of bad translated 5619\n",
      "Actual WER: 13.2208%\n",
      " - 5619 Entries left after Length Cut (min=31, max=1200)\n",
      " - 1600 left after Entries Max Samples Cut (max=1600)\n",
      "Creating Trainer for common-voice-de-03v30\n",
      "Training of Dataset: common-voice-de-03v30\n"
     ]
    },
    {
     "data": {
      "text/html": [
       "\n",
       "    <div>\n",
       "        <style>\n",
       "            /* Turns off some styling */\n",
       "            progress {\n",
       "                /* gets rid of default border in Firefox and Opera. */\n",
       "                border: none;\n",
       "                /* Needs to be in here for Safari polyfill so background images work as expected. */\n",
       "                background-size: auto;\n",
       "            }\n",
       "        </style>\n",
       "      \n",
       "      <progress value='400' max='400' style='width:300px; height:20px; vertical-align: middle;'></progress>\n",
       "      [400/400 04:29, Epoch 2/2]\n",
       "    </div>\n",
       "    <table border=\"1\" class=\"dataframe\">\n",
       "  <thead>\n",
       "    <tr style=\"text-align: left;\">\n",
       "      <th>Step</th>\n",
       "      <th>Training Loss</th>\n",
       "      <th>Validation Loss</th>\n",
       "      <th>Wer</th>\n",
       "      <th>Runtime</th>\n",
       "      <th>Samples Per Second</th>\n",
       "    </tr>\n",
       "  </thead>\n",
       "  <tbody>\n",
       "    <tr>\n",
       "      <td>100</td>\n",
       "      <td>0.411500</td>\n",
       "      <td>0.148086</td>\n",
       "      <td>0.142241</td>\n",
       "      <td>2.309000</td>\n",
       "      <td>8.662000</td>\n",
       "    </tr>\n",
       "    <tr>\n",
       "      <td>200</td>\n",
       "      <td>0.392600</td>\n",
       "      <td>0.149034</td>\n",
       "      <td>0.137931</td>\n",
       "      <td>2.298200</td>\n",
       "      <td>8.702000</td>\n",
       "    </tr>\n",
       "    <tr>\n",
       "      <td>300</td>\n",
       "      <td>0.393000</td>\n",
       "      <td>0.150150</td>\n",
       "      <td>0.142241</td>\n",
       "      <td>2.323200</td>\n",
       "      <td>8.609000</td>\n",
       "    </tr>\n",
       "    <tr>\n",
       "      <td>400</td>\n",
       "      <td>0.369300</td>\n",
       "      <td>0.149852</td>\n",
       "      <td>0.137931</td>\n",
       "      <td>2.279900</td>\n",
       "      <td>8.772000</td>\n",
       "    </tr>\n",
       "  </tbody>\n",
       "</table><p>"
      ],
      "text/plain": [
       "<IPython.core.display.HTML object>"
      ]
     },
     "metadata": {},
     "output_type": "display_data"
    },
    {
     "name": "stdout",
     "output_type": "stream",
     "text": [
      "Save Model\n",
      "**************************************\n",
      "Starting round 2 of 4, epoche 3 of 3\n",
      "Splitting Dataset common-voice-de-03v30 with 11954 Entries\n",
      "aktual trained epoches: 233\n",
      "old trained epoches: 232\n",
      "old word error rate: 13.22075733662438%\n",
      "Translate all\n"
     ]
    },
    {
     "data": {
      "application/vnd.jupyter.widget-view+json": {
       "model_id": "0cde56d5a4004996981ae5bba267b622",
       "version_major": 2,
       "version_minor": 0
      },
      "text/plain": [
       "HBox(children=(FloatProgress(value=0.0, max=11954.0), HTML(value='')))"
      ]
     },
     "metadata": {},
     "output_type": "display_data"
    },
    {
     "name": "stdout",
     "output_type": "stream",
     "text": [
      "\n",
      "Save new translations to: /home/ki-mo/shared/gitviews/extern/GermanWave2Vec/datasets/common-voice-de-03v30/content-translated-with_original.csv\n",
      "Calculate WER\n"
     ]
    },
    {
     "name": "stderr",
     "output_type": "stream",
     "text": [
      "W&B installed but not logged in. Run `wandb login` or set the WANDB_API_KEY env variable.\n"
     ]
    },
    {
     "name": "stdout",
     "output_type": "stream",
     "text": [
      "WER: 12.8042%\n",
      "No. of bad translated snippets: 5567\n",
      "Saving diff files\n",
      "Actual number of bad translated 5567\n",
      "Actual WER: 12.8042%\n",
      " - 5567 Entries left after Length Cut (min=31, max=1200)\n",
      " - 1600 left after Entries Max Samples Cut (max=1600)\n",
      "Creating Trainer for common-voice-de-03v30\n",
      "Training of Dataset: common-voice-de-03v30\n"
     ]
    },
    {
     "data": {
      "text/html": [
       "\n",
       "    <div>\n",
       "        <style>\n",
       "            /* Turns off some styling */\n",
       "            progress {\n",
       "                /* gets rid of default border in Firefox and Opera. */\n",
       "                border: none;\n",
       "                /* Needs to be in here for Safari polyfill so background images work as expected. */\n",
       "                background-size: auto;\n",
       "            }\n",
       "        </style>\n",
       "      \n",
       "      <progress value='400' max='400' style='width:300px; height:20px; vertical-align: middle;'></progress>\n",
       "      [400/400 04:33, Epoch 2/2]\n",
       "    </div>\n",
       "    <table border=\"1\" class=\"dataframe\">\n",
       "  <thead>\n",
       "    <tr style=\"text-align: left;\">\n",
       "      <th>Step</th>\n",
       "      <th>Training Loss</th>\n",
       "      <th>Validation Loss</th>\n",
       "      <th>Wer</th>\n",
       "      <th>Runtime</th>\n",
       "      <th>Samples Per Second</th>\n",
       "    </tr>\n",
       "  </thead>\n",
       "  <tbody>\n",
       "    <tr>\n",
       "      <td>100</td>\n",
       "      <td>0.401400</td>\n",
       "      <td>0.144412</td>\n",
       "      <td>0.129310</td>\n",
       "      <td>2.317300</td>\n",
       "      <td>8.631000</td>\n",
       "    </tr>\n",
       "    <tr>\n",
       "      <td>200</td>\n",
       "      <td>0.374800</td>\n",
       "      <td>0.143119</td>\n",
       "      <td>0.142241</td>\n",
       "      <td>2.314600</td>\n",
       "      <td>8.641000</td>\n",
       "    </tr>\n",
       "    <tr>\n",
       "      <td>300</td>\n",
       "      <td>0.395000</td>\n",
       "      <td>0.140160</td>\n",
       "      <td>0.125000</td>\n",
       "      <td>2.316500</td>\n",
       "      <td>8.634000</td>\n",
       "    </tr>\n",
       "    <tr>\n",
       "      <td>400</td>\n",
       "      <td>0.362800</td>\n",
       "      <td>0.140748</td>\n",
       "      <td>0.133621</td>\n",
       "      <td>2.317200</td>\n",
       "      <td>8.631000</td>\n",
       "    </tr>\n",
       "  </tbody>\n",
       "</table><p>"
      ],
      "text/plain": [
       "<IPython.core.display.HTML object>"
      ]
     },
     "metadata": {},
     "output_type": "display_data"
    },
    {
     "name": "stdout",
     "output_type": "stream",
     "text": [
      "Save Model\n",
      "final check und update of common-voice-de-03v30\n",
      "aktual trained epoches: 234\n",
      "old trained epoches: 233\n",
      "old word error rate: 12.804234059974606%\n",
      "Translate all\n"
     ]
    },
    {
     "data": {
      "application/vnd.jupyter.widget-view+json": {
       "model_id": "2da7fa80328f49ba9c2c318c402906af",
       "version_major": 2,
       "version_minor": 0
      },
      "text/plain": [
       "HBox(children=(FloatProgress(value=0.0, max=11954.0), HTML(value='')))"
      ]
     },
     "metadata": {},
     "output_type": "display_data"
    },
    {
     "name": "stdout",
     "output_type": "stream",
     "text": [
      "\n",
      "Save new translations to: /home/ki-mo/shared/gitviews/extern/GermanWave2Vec/datasets/common-voice-de-03v30/content-translated-with_original.csv\n",
      "Calculate WER\n",
      "WER: 12.3948%\n",
      "No. of bad translated snippets: 5415\n",
      "Saving diff files\n",
      "Actual number of bad translated 5415\n",
      "Actual WER: 12.3948\n",
      "-----------------------------\n",
      "Loading Dataset: common-voice-de-04v30 - /home/ki-mo/shared/gitviews/extern/GermanWave2Vec/datasets/common-voice-de-04v30/content-translated-with_original.csv\n",
      "Pruning Dataset common-voice-de-04v30 with 12162 Entries\n",
      " - 12162 Entries left after Length Cut (min=31, max=4000)\n",
      " - 12162 Entries left after Action Cut\n",
      "Dataset - common-voice-de-04v30 loaded with 12162 Entries\n",
      "**************************************\n",
      "Starting round 2 of 4, epoche 1 of 3\n",
      "Splitting Dataset common-voice-de-04v30 with 12162 Entries\n",
      "aktual trained epoches: 234\n",
      "old trained epoches: 207\n",
      "old word error rate: 15.300815052755517%\n",
      "Translate all\n"
     ]
    },
    {
     "data": {
      "application/vnd.jupyter.widget-view+json": {
       "model_id": "c4c4c4156dd34abfb72fc4d36da8c962",
       "version_major": 2,
       "version_minor": 0
      },
      "text/plain": [
       "HBox(children=(FloatProgress(value=0.0, max=12162.0), HTML(value='')))"
      ]
     },
     "metadata": {},
     "output_type": "display_data"
    },
    {
     "name": "stdout",
     "output_type": "stream",
     "text": [
      "\n",
      "Save new translations to: /home/ki-mo/shared/gitviews/extern/GermanWave2Vec/datasets/common-voice-de-04v30/content-translated-with_original.csv\n",
      "Calculate WER\n",
      "WER: 12.5116%\n",
      "No. of bad translated snippets: 5643\n",
      "Saving diff files\n",
      "Actual number of bad translated 5643\n",
      "Actual WER: 12.5116%\n",
      " - 5643 Entries left after Length Cut (min=31, max=1200)\n",
      " - 1600 left after Entries Max Samples Cut (max=1600)\n",
      "Creating Trainer for common-voice-de-04v30\n"
     ]
    },
    {
     "name": "stderr",
     "output_type": "stream",
     "text": [
      "W&B installed but not logged in. Run `wandb login` or set the WANDB_API_KEY env variable.\n"
     ]
    },
    {
     "name": "stdout",
     "output_type": "stream",
     "text": [
      "Training of Dataset: common-voice-de-04v30\n"
     ]
    },
    {
     "data": {
      "text/html": [
       "\n",
       "    <div>\n",
       "        <style>\n",
       "            /* Turns off some styling */\n",
       "            progress {\n",
       "                /* gets rid of default border in Firefox and Opera. */\n",
       "                border: none;\n",
       "                /* Needs to be in here for Safari polyfill so background images work as expected. */\n",
       "                background-size: auto;\n",
       "            }\n",
       "        </style>\n",
       "      \n",
       "      <progress value='400' max='400' style='width:300px; height:20px; vertical-align: middle;'></progress>\n",
       "      [400/400 04:27, Epoch 2/2]\n",
       "    </div>\n",
       "    <table border=\"1\" class=\"dataframe\">\n",
       "  <thead>\n",
       "    <tr style=\"text-align: left;\">\n",
       "      <th>Step</th>\n",
       "      <th>Training Loss</th>\n",
       "      <th>Validation Loss</th>\n",
       "      <th>Wer</th>\n",
       "      <th>Runtime</th>\n",
       "      <th>Samples Per Second</th>\n",
       "    </tr>\n",
       "  </thead>\n",
       "  <tbody>\n",
       "    <tr>\n",
       "      <td>100</td>\n",
       "      <td>0.409700</td>\n",
       "      <td>0.115415</td>\n",
       "      <td>0.206422</td>\n",
       "      <td>2.399400</td>\n",
       "      <td>8.335000</td>\n",
       "    </tr>\n",
       "    <tr>\n",
       "      <td>200</td>\n",
       "      <td>0.370300</td>\n",
       "      <td>0.112101</td>\n",
       "      <td>0.211009</td>\n",
       "      <td>2.386300</td>\n",
       "      <td>8.381000</td>\n",
       "    </tr>\n",
       "    <tr>\n",
       "      <td>300</td>\n",
       "      <td>0.395200</td>\n",
       "      <td>0.111023</td>\n",
       "      <td>0.215596</td>\n",
       "      <td>2.346400</td>\n",
       "      <td>8.524000</td>\n",
       "    </tr>\n",
       "    <tr>\n",
       "      <td>400</td>\n",
       "      <td>0.361400</td>\n",
       "      <td>0.108755</td>\n",
       "      <td>0.201835</td>\n",
       "      <td>2.377900</td>\n",
       "      <td>8.411000</td>\n",
       "    </tr>\n",
       "  </tbody>\n",
       "</table><p>"
      ],
      "text/plain": [
       "<IPython.core.display.HTML object>"
      ]
     },
     "metadata": {},
     "output_type": "display_data"
    },
    {
     "name": "stdout",
     "output_type": "stream",
     "text": [
      "Save Model\n",
      "**************************************\n",
      "Starting round 2 of 4, epoche 2 of 3\n",
      "Splitting Dataset common-voice-de-04v30 with 12162 Entries\n",
      "aktual trained epoches: 235\n",
      "old trained epoches: 234\n",
      "old word error rate: 12.51157420638096%\n",
      "Translate all\n"
     ]
    },
    {
     "data": {
      "application/vnd.jupyter.widget-view+json": {
       "model_id": "2259a9cad68b452a832d86a4d0d5ed96",
       "version_major": 2,
       "version_minor": 0
      },
      "text/plain": [
       "HBox(children=(FloatProgress(value=0.0, max=12162.0), HTML(value='')))"
      ]
     },
     "metadata": {},
     "output_type": "display_data"
    },
    {
     "name": "stdout",
     "output_type": "stream",
     "text": [
      "\n",
      "Save new translations to: /home/ki-mo/shared/gitviews/extern/GermanWave2Vec/datasets/common-voice-de-04v30/content-translated-with_original.csv\n",
      "Calculate WER\n"
     ]
    },
    {
     "name": "stderr",
     "output_type": "stream",
     "text": [
      "W&B installed but not logged in. Run `wandb login` or set the WANDB_API_KEY env variable.\n"
     ]
    },
    {
     "name": "stdout",
     "output_type": "stream",
     "text": [
      "WER: 12.1881%\n",
      "No. of bad translated snippets: 5592\n",
      "Saving diff files\n",
      "Actual number of bad translated 5592\n",
      "Actual WER: 12.1881%\n",
      " - 5592 Entries left after Length Cut (min=31, max=1200)\n",
      " - 1600 left after Entries Max Samples Cut (max=1600)\n",
      "Creating Trainer for common-voice-de-04v30\n",
      "Training of Dataset: common-voice-de-04v30\n"
     ]
    },
    {
     "data": {
      "text/html": [
       "\n",
       "    <div>\n",
       "        <style>\n",
       "            /* Turns off some styling */\n",
       "            progress {\n",
       "                /* gets rid of default border in Firefox and Opera. */\n",
       "                border: none;\n",
       "                /* Needs to be in here for Safari polyfill so background images work as expected. */\n",
       "                background-size: auto;\n",
       "            }\n",
       "        </style>\n",
       "      \n",
       "      <progress value='400' max='400' style='width:300px; height:20px; vertical-align: middle;'></progress>\n",
       "      [400/400 04:25, Epoch 2/2]\n",
       "    </div>\n",
       "    <table border=\"1\" class=\"dataframe\">\n",
       "  <thead>\n",
       "    <tr style=\"text-align: left;\">\n",
       "      <th>Step</th>\n",
       "      <th>Training Loss</th>\n",
       "      <th>Validation Loss</th>\n",
       "      <th>Wer</th>\n",
       "      <th>Runtime</th>\n",
       "      <th>Samples Per Second</th>\n",
       "    </tr>\n",
       "  </thead>\n",
       "  <tbody>\n",
       "    <tr>\n",
       "      <td>100</td>\n",
       "      <td>0.364200</td>\n",
       "      <td>0.111583</td>\n",
       "      <td>0.211009</td>\n",
       "      <td>2.383700</td>\n",
       "      <td>8.390000</td>\n",
       "    </tr>\n",
       "    <tr>\n",
       "      <td>200</td>\n",
       "      <td>0.380700</td>\n",
       "      <td>0.111062</td>\n",
       "      <td>0.215596</td>\n",
       "      <td>2.338800</td>\n",
       "      <td>8.551000</td>\n",
       "    </tr>\n",
       "    <tr>\n",
       "      <td>300</td>\n",
       "      <td>0.359200</td>\n",
       "      <td>0.110359</td>\n",
       "      <td>0.206422</td>\n",
       "      <td>2.334900</td>\n",
       "      <td>8.566000</td>\n",
       "    </tr>\n",
       "    <tr>\n",
       "      <td>400</td>\n",
       "      <td>0.350000</td>\n",
       "      <td>0.109073</td>\n",
       "      <td>0.197248</td>\n",
       "      <td>2.403600</td>\n",
       "      <td>8.321000</td>\n",
       "    </tr>\n",
       "  </tbody>\n",
       "</table><p>"
      ],
      "text/plain": [
       "<IPython.core.display.HTML object>"
      ]
     },
     "metadata": {},
     "output_type": "display_data"
    },
    {
     "name": "stdout",
     "output_type": "stream",
     "text": [
      "Save Model\n",
      "**************************************\n",
      "Starting round 2 of 4, epoche 3 of 3\n",
      "Splitting Dataset common-voice-de-04v30 with 12162 Entries\n",
      "aktual trained epoches: 236\n",
      "old trained epoches: 235\n",
      "old word error rate: 12.188067993461289%\n",
      "Translate all\n"
     ]
    },
    {
     "data": {
      "application/vnd.jupyter.widget-view+json": {
       "model_id": "f8e3bd152a0f4489adb3bb55fe266bf9",
       "version_major": 2,
       "version_minor": 0
      },
      "text/plain": [
       "HBox(children=(FloatProgress(value=0.0, max=12162.0), HTML(value='')))"
      ]
     },
     "metadata": {},
     "output_type": "display_data"
    },
    {
     "name": "stdout",
     "output_type": "stream",
     "text": [
      "\n",
      "Save new translations to: /home/ki-mo/shared/gitviews/extern/GermanWave2Vec/datasets/common-voice-de-04v30/content-translated-with_original.csv\n",
      "Calculate WER\n"
     ]
    },
    {
     "name": "stderr",
     "output_type": "stream",
     "text": [
      "W&B installed but not logged in. Run `wandb login` or set the WANDB_API_KEY env variable.\n"
     ]
    },
    {
     "name": "stdout",
     "output_type": "stream",
     "text": [
      "WER: 11.7205%\n",
      "No. of bad translated snippets: 5471\n",
      "Saving diff files\n",
      "Actual number of bad translated 5471\n",
      "Actual WER: 11.7205%\n",
      " - 5471 Entries left after Length Cut (min=31, max=1200)\n",
      " - 1600 left after Entries Max Samples Cut (max=1600)\n",
      "Creating Trainer for common-voice-de-04v30\n",
      "Training of Dataset: common-voice-de-04v30\n"
     ]
    },
    {
     "data": {
      "text/html": [
       "\n",
       "    <div>\n",
       "        <style>\n",
       "            /* Turns off some styling */\n",
       "            progress {\n",
       "                /* gets rid of default border in Firefox and Opera. */\n",
       "                border: none;\n",
       "                /* Needs to be in here for Safari polyfill so background images work as expected. */\n",
       "                background-size: auto;\n",
       "            }\n",
       "        </style>\n",
       "      \n",
       "      <progress value='400' max='400' style='width:300px; height:20px; vertical-align: middle;'></progress>\n",
       "      [400/400 04:29, Epoch 2/2]\n",
       "    </div>\n",
       "    <table border=\"1\" class=\"dataframe\">\n",
       "  <thead>\n",
       "    <tr style=\"text-align: left;\">\n",
       "      <th>Step</th>\n",
       "      <th>Training Loss</th>\n",
       "      <th>Validation Loss</th>\n",
       "      <th>Wer</th>\n",
       "      <th>Runtime</th>\n",
       "      <th>Samples Per Second</th>\n",
       "    </tr>\n",
       "  </thead>\n",
       "  <tbody>\n",
       "    <tr>\n",
       "      <td>100</td>\n",
       "      <td>0.382100</td>\n",
       "      <td>0.108118</td>\n",
       "      <td>0.183486</td>\n",
       "      <td>2.401300</td>\n",
       "      <td>8.329000</td>\n",
       "    </tr>\n",
       "    <tr>\n",
       "      <td>200</td>\n",
       "      <td>0.356600</td>\n",
       "      <td>0.105029</td>\n",
       "      <td>0.201835</td>\n",
       "      <td>2.402000</td>\n",
       "      <td>8.326000</td>\n",
       "    </tr>\n",
       "    <tr>\n",
       "      <td>300</td>\n",
       "      <td>0.362600</td>\n",
       "      <td>0.103485</td>\n",
       "      <td>0.211009</td>\n",
       "      <td>2.382200</td>\n",
       "      <td>8.396000</td>\n",
       "    </tr>\n",
       "    <tr>\n",
       "      <td>400</td>\n",
       "      <td>0.350700</td>\n",
       "      <td>0.104394</td>\n",
       "      <td>0.201835</td>\n",
       "      <td>2.389500</td>\n",
       "      <td>8.370000</td>\n",
       "    </tr>\n",
       "  </tbody>\n",
       "</table><p>"
      ],
      "text/plain": [
       "<IPython.core.display.HTML object>"
      ]
     },
     "metadata": {},
     "output_type": "display_data"
    },
    {
     "name": "stdout",
     "output_type": "stream",
     "text": [
      "Save Model\n",
      "final check und update of common-voice-de-04v30\n",
      "aktual trained epoches: 237\n",
      "old trained epoches: 236\n",
      "old word error rate: 11.720527212245225%\n",
      "Translate all\n"
     ]
    },
    {
     "data": {
      "application/vnd.jupyter.widget-view+json": {
       "model_id": "b1de8573093b4e09867df5228bcea887",
       "version_major": 2,
       "version_minor": 0
      },
      "text/plain": [
       "HBox(children=(FloatProgress(value=0.0, max=12162.0), HTML(value='')))"
      ]
     },
     "metadata": {},
     "output_type": "display_data"
    },
    {
     "name": "stdout",
     "output_type": "stream",
     "text": [
      "\n",
      "Save new translations to: /home/ki-mo/shared/gitviews/extern/GermanWave2Vec/datasets/common-voice-de-04v30/content-translated-with_original.csv\n",
      "Calculate WER\n",
      "WER: 11.4427%\n",
      "No. of bad translated snippets: 5397\n",
      "Saving diff files\n",
      "Actual number of bad translated 5397\n",
      "Actual WER: 11.4427\n",
      "-----------------------------\n",
      "Loading Dataset: common-voice-de-05v30 - /home/ki-mo/shared/gitviews/extern/GermanWave2Vec/datasets/common-voice-de-05v30/content-translated-with_original.csv\n",
      "Pruning Dataset common-voice-de-05v30 with 11957 Entries\n",
      " - 11957 Entries left after Length Cut (min=31, max=4000)\n",
      " - 11957 Entries left after Action Cut\n",
      "Dataset - common-voice-de-05v30 loaded with 11957 Entries\n",
      "**************************************\n",
      "Starting round 2 of 4, epoche 1 of 3\n",
      "Splitting Dataset common-voice-de-05v30 with 11957 Entries\n",
      "aktual trained epoches: 237\n",
      "old trained epoches: 210\n",
      "old word error rate: 14.484561891515996%\n",
      "Translate all\n"
     ]
    },
    {
     "data": {
      "application/vnd.jupyter.widget-view+json": {
       "model_id": "cf5787060188477189b738851944a00c",
       "version_major": 2,
       "version_minor": 0
      },
      "text/plain": [
       "HBox(children=(FloatProgress(value=0.0, max=11957.0), HTML(value='')))"
      ]
     },
     "metadata": {},
     "output_type": "display_data"
    },
    {
     "name": "stdout",
     "output_type": "stream",
     "text": [
      "\n",
      "Save new translations to: /home/ki-mo/shared/gitviews/extern/GermanWave2Vec/datasets/common-voice-de-05v30/content-translated-with_original.csv\n",
      "Calculate WER\n"
     ]
    },
    {
     "name": "stderr",
     "output_type": "stream",
     "text": [
      "W&B installed but not logged in. Run `wandb login` or set the WANDB_API_KEY env variable.\n"
     ]
    },
    {
     "name": "stdout",
     "output_type": "stream",
     "text": [
      "WER: 12.1480%\n",
      "No. of bad translated snippets: 5776\n",
      "Saving diff files\n",
      "Actual number of bad translated 5776\n",
      "Actual WER: 12.1480%\n",
      " - 5776 Entries left after Length Cut (min=31, max=1200)\n",
      " - 1600 left after Entries Max Samples Cut (max=1600)\n",
      "Creating Trainer for common-voice-de-05v30\n",
      "Training of Dataset: common-voice-de-05v30\n"
     ]
    },
    {
     "data": {
      "text/html": [
       "\n",
       "    <div>\n",
       "        <style>\n",
       "            /* Turns off some styling */\n",
       "            progress {\n",
       "                /* gets rid of default border in Firefox and Opera. */\n",
       "                border: none;\n",
       "                /* Needs to be in here for Safari polyfill so background images work as expected. */\n",
       "                background-size: auto;\n",
       "            }\n",
       "        </style>\n",
       "      \n",
       "      <progress value='400' max='400' style='width:300px; height:20px; vertical-align: middle;'></progress>\n",
       "      [400/400 04:26, Epoch 2/2]\n",
       "    </div>\n",
       "    <table border=\"1\" class=\"dataframe\">\n",
       "  <thead>\n",
       "    <tr style=\"text-align: left;\">\n",
       "      <th>Step</th>\n",
       "      <th>Training Loss</th>\n",
       "      <th>Validation Loss</th>\n",
       "      <th>Wer</th>\n",
       "      <th>Runtime</th>\n",
       "      <th>Samples Per Second</th>\n",
       "    </tr>\n",
       "  </thead>\n",
       "  <tbody>\n",
       "    <tr>\n",
       "      <td>100</td>\n",
       "      <td>0.379900</td>\n",
       "      <td>0.150236</td>\n",
       "      <td>0.173709</td>\n",
       "      <td>2.359800</td>\n",
       "      <td>8.475000</td>\n",
       "    </tr>\n",
       "    <tr>\n",
       "      <td>200</td>\n",
       "      <td>0.370400</td>\n",
       "      <td>0.149364</td>\n",
       "      <td>0.159624</td>\n",
       "      <td>2.355400</td>\n",
       "      <td>8.491000</td>\n",
       "    </tr>\n",
       "    <tr>\n",
       "      <td>300</td>\n",
       "      <td>0.362600</td>\n",
       "      <td>0.146209</td>\n",
       "      <td>0.164319</td>\n",
       "      <td>2.345800</td>\n",
       "      <td>8.526000</td>\n",
       "    </tr>\n",
       "    <tr>\n",
       "      <td>400</td>\n",
       "      <td>0.362400</td>\n",
       "      <td>0.144452</td>\n",
       "      <td>0.164319</td>\n",
       "      <td>2.360800</td>\n",
       "      <td>8.472000</td>\n",
       "    </tr>\n",
       "  </tbody>\n",
       "</table><p>"
      ],
      "text/plain": [
       "<IPython.core.display.HTML object>"
      ]
     },
     "metadata": {},
     "output_type": "display_data"
    },
    {
     "name": "stdout",
     "output_type": "stream",
     "text": [
      "Save Model\n",
      "**************************************\n",
      "Starting round 2 of 4, epoche 2 of 3\n",
      "Splitting Dataset common-voice-de-05v30 with 11957 Entries\n",
      "aktual trained epoches: 238\n",
      "old trained epoches: 237\n",
      "old word error rate: 12.147983310152991%\n",
      "Translate all\n"
     ]
    },
    {
     "data": {
      "application/vnd.jupyter.widget-view+json": {
       "model_id": "589ce938699a4d4c8adea2aea0a70a3e",
       "version_major": 2,
       "version_minor": 0
      },
      "text/plain": [
       "HBox(children=(FloatProgress(value=0.0, max=11957.0), HTML(value='')))"
      ]
     },
     "metadata": {},
     "output_type": "display_data"
    },
    {
     "name": "stdout",
     "output_type": "stream",
     "text": [
      "\n",
      "Save new translations to: /home/ki-mo/shared/gitviews/extern/GermanWave2Vec/datasets/common-voice-de-05v30/content-translated-with_original.csv\n",
      "Calculate WER\n"
     ]
    },
    {
     "name": "stderr",
     "output_type": "stream",
     "text": [
      "W&B installed but not logged in. Run `wandb login` or set the WANDB_API_KEY env variable.\n"
     ]
    },
    {
     "name": "stdout",
     "output_type": "stream",
     "text": [
      "WER: 11.8086%\n",
      "No. of bad translated snippets: 5675\n",
      "Saving diff files\n",
      "Actual number of bad translated 5675\n",
      "Actual WER: 11.8086%\n",
      " - 5675 Entries left after Length Cut (min=31, max=1200)\n",
      " - 1600 left after Entries Max Samples Cut (max=1600)\n",
      "Creating Trainer for common-voice-de-05v30\n",
      "Training of Dataset: common-voice-de-05v30\n"
     ]
    },
    {
     "data": {
      "text/html": [
       "\n",
       "    <div>\n",
       "        <style>\n",
       "            /* Turns off some styling */\n",
       "            progress {\n",
       "                /* gets rid of default border in Firefox and Opera. */\n",
       "                border: none;\n",
       "                /* Needs to be in here for Safari polyfill so background images work as expected. */\n",
       "                background-size: auto;\n",
       "            }\n",
       "        </style>\n",
       "      \n",
       "      <progress value='400' max='400' style='width:300px; height:20px; vertical-align: middle;'></progress>\n",
       "      [400/400 04:25, Epoch 2/2]\n",
       "    </div>\n",
       "    <table border=\"1\" class=\"dataframe\">\n",
       "  <thead>\n",
       "    <tr style=\"text-align: left;\">\n",
       "      <th>Step</th>\n",
       "      <th>Training Loss</th>\n",
       "      <th>Validation Loss</th>\n",
       "      <th>Wer</th>\n",
       "      <th>Runtime</th>\n",
       "      <th>Samples Per Second</th>\n",
       "    </tr>\n",
       "  </thead>\n",
       "  <tbody>\n",
       "    <tr>\n",
       "      <td>100</td>\n",
       "      <td>0.378700</td>\n",
       "      <td>0.135582</td>\n",
       "      <td>0.173709</td>\n",
       "      <td>2.341000</td>\n",
       "      <td>8.543000</td>\n",
       "    </tr>\n",
       "    <tr>\n",
       "      <td>200</td>\n",
       "      <td>0.350600</td>\n",
       "      <td>0.127810</td>\n",
       "      <td>0.178404</td>\n",
       "      <td>2.355000</td>\n",
       "      <td>8.493000</td>\n",
       "    </tr>\n",
       "    <tr>\n",
       "      <td>300</td>\n",
       "      <td>0.326900</td>\n",
       "      <td>0.126738</td>\n",
       "      <td>0.178404</td>\n",
       "      <td>2.361600</td>\n",
       "      <td>8.469000</td>\n",
       "    </tr>\n",
       "    <tr>\n",
       "      <td>400</td>\n",
       "      <td>0.344200</td>\n",
       "      <td>0.124621</td>\n",
       "      <td>0.183099</td>\n",
       "      <td>2.372900</td>\n",
       "      <td>8.429000</td>\n",
       "    </tr>\n",
       "  </tbody>\n",
       "</table><p>"
      ],
      "text/plain": [
       "<IPython.core.display.HTML object>"
      ]
     },
     "metadata": {},
     "output_type": "display_data"
    },
    {
     "name": "stdout",
     "output_type": "stream",
     "text": [
      "Save Model\n",
      "**************************************\n",
      "Starting round 2 of 4, epoche 3 of 3\n",
      "Splitting Dataset common-voice-de-05v30 with 11957 Entries\n",
      "aktual trained epoches: 239\n",
      "old trained epoches: 238\n",
      "old word error rate: 11.808623087621697%\n",
      "Translate all\n"
     ]
    },
    {
     "data": {
      "application/vnd.jupyter.widget-view+json": {
       "model_id": "dc4714f89f3f4083a55757e289c7b587",
       "version_major": 2,
       "version_minor": 0
      },
      "text/plain": [
       "HBox(children=(FloatProgress(value=0.0, max=11957.0), HTML(value='')))"
      ]
     },
     "metadata": {},
     "output_type": "display_data"
    },
    {
     "name": "stdout",
     "output_type": "stream",
     "text": [
      "\n",
      "Save new translations to: /home/ki-mo/shared/gitviews/extern/GermanWave2Vec/datasets/common-voice-de-05v30/content-translated-with_original.csv\n",
      "Calculate WER\n"
     ]
    },
    {
     "name": "stderr",
     "output_type": "stream",
     "text": [
      "W&B installed but not logged in. Run `wandb login` or set the WANDB_API_KEY env variable.\n"
     ]
    },
    {
     "name": "stdout",
     "output_type": "stream",
     "text": [
      "WER: 11.3380%\n",
      "No. of bad translated snippets: 5528\n",
      "Saving diff files\n",
      "Actual number of bad translated 5528\n",
      "Actual WER: 11.3380%\n",
      " - 5528 Entries left after Length Cut (min=31, max=1200)\n",
      " - 1600 left after Entries Max Samples Cut (max=1600)\n",
      "Creating Trainer for common-voice-de-05v30\n",
      "Training of Dataset: common-voice-de-05v30\n"
     ]
    },
    {
     "data": {
      "text/html": [
       "\n",
       "    <div>\n",
       "        <style>\n",
       "            /* Turns off some styling */\n",
       "            progress {\n",
       "                /* gets rid of default border in Firefox and Opera. */\n",
       "                border: none;\n",
       "                /* Needs to be in here for Safari polyfill so background images work as expected. */\n",
       "                background-size: auto;\n",
       "            }\n",
       "        </style>\n",
       "      \n",
       "      <progress value='400' max='400' style='width:300px; height:20px; vertical-align: middle;'></progress>\n",
       "      [400/400 04:29, Epoch 2/2]\n",
       "    </div>\n",
       "    <table border=\"1\" class=\"dataframe\">\n",
       "  <thead>\n",
       "    <tr style=\"text-align: left;\">\n",
       "      <th>Step</th>\n",
       "      <th>Training Loss</th>\n",
       "      <th>Validation Loss</th>\n",
       "      <th>Wer</th>\n",
       "      <th>Runtime</th>\n",
       "      <th>Samples Per Second</th>\n",
       "    </tr>\n",
       "  </thead>\n",
       "  <tbody>\n",
       "    <tr>\n",
       "      <td>100</td>\n",
       "      <td>0.350500</td>\n",
       "      <td>0.121806</td>\n",
       "      <td>0.183099</td>\n",
       "      <td>2.362200</td>\n",
       "      <td>8.467000</td>\n",
       "    </tr>\n",
       "    <tr>\n",
       "      <td>200</td>\n",
       "      <td>0.364300</td>\n",
       "      <td>0.124669</td>\n",
       "      <td>0.178404</td>\n",
       "      <td>2.366400</td>\n",
       "      <td>8.452000</td>\n",
       "    </tr>\n",
       "    <tr>\n",
       "      <td>300</td>\n",
       "      <td>0.334300</td>\n",
       "      <td>0.125293</td>\n",
       "      <td>0.178404</td>\n",
       "      <td>2.367400</td>\n",
       "      <td>8.448000</td>\n",
       "    </tr>\n",
       "    <tr>\n",
       "      <td>400</td>\n",
       "      <td>0.370900</td>\n",
       "      <td>0.125916</td>\n",
       "      <td>0.178404</td>\n",
       "      <td>2.381500</td>\n",
       "      <td>8.398000</td>\n",
       "    </tr>\n",
       "  </tbody>\n",
       "</table><p>"
      ],
      "text/plain": [
       "<IPython.core.display.HTML object>"
      ]
     },
     "metadata": {},
     "output_type": "display_data"
    },
    {
     "name": "stdout",
     "output_type": "stream",
     "text": [
      "Save Model\n",
      "final check und update of common-voice-de-05v30\n",
      "aktual trained epoches: 240\n",
      "old trained epoches: 239\n",
      "old word error rate: 11.337969401947149%\n",
      "Translate all\n"
     ]
    },
    {
     "data": {
      "application/vnd.jupyter.widget-view+json": {
       "model_id": "3f8f681836044a0c98c474f566d2f2b7",
       "version_major": 2,
       "version_minor": 0
      },
      "text/plain": [
       "HBox(children=(FloatProgress(value=0.0, max=11957.0), HTML(value='')))"
      ]
     },
     "metadata": {},
     "output_type": "display_data"
    },
    {
     "name": "stdout",
     "output_type": "stream",
     "text": [
      "\n",
      "Save new translations to: /home/ki-mo/shared/gitviews/extern/GermanWave2Vec/datasets/common-voice-de-05v30/content-translated-with_original.csv\n",
      "Calculate WER\n",
      "WER: 11.0398%\n",
      "No. of bad translated snippets: 5456\n",
      "Saving diff files\n",
      "Actual number of bad translated 5456\n",
      "Actual WER: 11.0398\n",
      "-----------------------------\n",
      "Loading Dataset: common-voice-de-06v30 - /home/ki-mo/shared/gitviews/extern/GermanWave2Vec/datasets/common-voice-de-06v30/content-translated-with_original.csv\n",
      "Pruning Dataset common-voice-de-06v30 with 12262 Entries\n",
      " - 12262 Entries left after Length Cut (min=31, max=4000)\n",
      " - 12262 Entries left after Action Cut\n",
      "Dataset - common-voice-de-06v30 loaded with 12262 Entries\n",
      "**************************************\n",
      "Starting round 2 of 4, epoche 1 of 3\n",
      "Splitting Dataset common-voice-de-06v30 with 12262 Entries\n",
      "aktual trained epoches: 240\n",
      "old trained epoches: 213\n",
      "old word error rate: 14.063998145592095%\n",
      "Translate all\n"
     ]
    },
    {
     "data": {
      "application/vnd.jupyter.widget-view+json": {
       "model_id": "7d3b7d18f5b74d7f83c469b72544f673",
       "version_major": 2,
       "version_minor": 0
      },
      "text/plain": [
       "HBox(children=(FloatProgress(value=0.0, max=12262.0), HTML(value='')))"
      ]
     },
     "metadata": {},
     "output_type": "display_data"
    },
    {
     "name": "stdout",
     "output_type": "stream",
     "text": [
      "\n",
      "Save new translations to: /home/ki-mo/shared/gitviews/extern/GermanWave2Vec/datasets/common-voice-de-06v30/content-translated-with_original.csv\n",
      "Calculate WER\n"
     ]
    },
    {
     "name": "stderr",
     "output_type": "stream",
     "text": [
      "W&B installed but not logged in. Run `wandb login` or set the WANDB_API_KEY env variable.\n"
     ]
    },
    {
     "name": "stdout",
     "output_type": "stream",
     "text": [
      "WER: 12.1864%\n",
      "No. of bad translated snippets: 5985\n",
      "Saving diff files\n",
      "Actual number of bad translated 5985\n",
      "Actual WER: 12.1864%\n",
      " - 5985 Entries left after Length Cut (min=31, max=1200)\n",
      " - 1600 left after Entries Max Samples Cut (max=1600)\n",
      "Creating Trainer for common-voice-de-06v30\n",
      "Training of Dataset: common-voice-de-06v30\n"
     ]
    },
    {
     "data": {
      "text/html": [
       "\n",
       "    <div>\n",
       "        <style>\n",
       "            /* Turns off some styling */\n",
       "            progress {\n",
       "                /* gets rid of default border in Firefox and Opera. */\n",
       "                border: none;\n",
       "                /* Needs to be in here for Safari polyfill so background images work as expected. */\n",
       "                background-size: auto;\n",
       "            }\n",
       "        </style>\n",
       "      \n",
       "      <progress value='400' max='400' style='width:300px; height:20px; vertical-align: middle;'></progress>\n",
       "      [400/400 04:17, Epoch 2/2]\n",
       "    </div>\n",
       "    <table border=\"1\" class=\"dataframe\">\n",
       "  <thead>\n",
       "    <tr style=\"text-align: left;\">\n",
       "      <th>Step</th>\n",
       "      <th>Training Loss</th>\n",
       "      <th>Validation Loss</th>\n",
       "      <th>Wer</th>\n",
       "      <th>Runtime</th>\n",
       "      <th>Samples Per Second</th>\n",
       "    </tr>\n",
       "  </thead>\n",
       "  <tbody>\n",
       "    <tr>\n",
       "      <td>100</td>\n",
       "      <td>0.398800</td>\n",
       "      <td>0.080229</td>\n",
       "      <td>0.122363</td>\n",
       "      <td>2.296000</td>\n",
       "      <td>8.711000</td>\n",
       "    </tr>\n",
       "    <tr>\n",
       "      <td>200</td>\n",
       "      <td>0.371800</td>\n",
       "      <td>0.083127</td>\n",
       "      <td>0.147679</td>\n",
       "      <td>2.302000</td>\n",
       "      <td>8.688000</td>\n",
       "    </tr>\n",
       "    <tr>\n",
       "      <td>300</td>\n",
       "      <td>0.347600</td>\n",
       "      <td>0.082882</td>\n",
       "      <td>0.143460</td>\n",
       "      <td>2.304000</td>\n",
       "      <td>8.681000</td>\n",
       "    </tr>\n",
       "    <tr>\n",
       "      <td>400</td>\n",
       "      <td>0.363200</td>\n",
       "      <td>0.080987</td>\n",
       "      <td>0.143460</td>\n",
       "      <td>2.306300</td>\n",
       "      <td>8.672000</td>\n",
       "    </tr>\n",
       "  </tbody>\n",
       "</table><p>"
      ],
      "text/plain": [
       "<IPython.core.display.HTML object>"
      ]
     },
     "metadata": {},
     "output_type": "display_data"
    },
    {
     "name": "stdout",
     "output_type": "stream",
     "text": [
      "Save Model\n",
      "**************************************\n",
      "Starting round 2 of 4, epoche 2 of 3\n",
      "Splitting Dataset common-voice-de-06v30 with 12262 Entries\n",
      "aktual trained epoches: 241\n",
      "old trained epoches: 240\n",
      "old word error rate: 12.186410140239598%\n",
      "Translate all\n"
     ]
    },
    {
     "data": {
      "application/vnd.jupyter.widget-view+json": {
       "model_id": "cf298db9e9f14d5d944eb8ede5831140",
       "version_major": 2,
       "version_minor": 0
      },
      "text/plain": [
       "HBox(children=(FloatProgress(value=0.0, max=12262.0), HTML(value='')))"
      ]
     },
     "metadata": {},
     "output_type": "display_data"
    },
    {
     "name": "stdout",
     "output_type": "stream",
     "text": [
      "\n",
      "Save new translations to: /home/ki-mo/shared/gitviews/extern/GermanWave2Vec/datasets/common-voice-de-06v30/content-translated-with_original.csv\n",
      "Calculate WER\n"
     ]
    },
    {
     "name": "stderr",
     "output_type": "stream",
     "text": [
      "W&B installed but not logged in. Run `wandb login` or set the WANDB_API_KEY env variable.\n"
     ]
    },
    {
     "name": "stdout",
     "output_type": "stream",
     "text": [
      "WER: 11.8197%\n",
      "No. of bad translated snippets: 5857\n",
      "Saving diff files\n",
      "Actual number of bad translated 5857\n",
      "Actual WER: 11.8197%\n",
      " - 5857 Entries left after Length Cut (min=31, max=1200)\n",
      " - 1600 left after Entries Max Samples Cut (max=1600)\n",
      "Creating Trainer for common-voice-de-06v30\n",
      "Training of Dataset: common-voice-de-06v30\n"
     ]
    },
    {
     "data": {
      "text/html": [
       "\n",
       "    <div>\n",
       "        <style>\n",
       "            /* Turns off some styling */\n",
       "            progress {\n",
       "                /* gets rid of default border in Firefox and Opera. */\n",
       "                border: none;\n",
       "                /* Needs to be in here for Safari polyfill so background images work as expected. */\n",
       "                background-size: auto;\n",
       "            }\n",
       "        </style>\n",
       "      \n",
       "      <progress value='400' max='400' style='width:300px; height:20px; vertical-align: middle;'></progress>\n",
       "      [400/400 04:24, Epoch 2/2]\n",
       "    </div>\n",
       "    <table border=\"1\" class=\"dataframe\">\n",
       "  <thead>\n",
       "    <tr style=\"text-align: left;\">\n",
       "      <th>Step</th>\n",
       "      <th>Training Loss</th>\n",
       "      <th>Validation Loss</th>\n",
       "      <th>Wer</th>\n",
       "      <th>Runtime</th>\n",
       "      <th>Samples Per Second</th>\n",
       "    </tr>\n",
       "  </thead>\n",
       "  <tbody>\n",
       "    <tr>\n",
       "      <td>100</td>\n",
       "      <td>0.358200</td>\n",
       "      <td>0.077534</td>\n",
       "      <td>0.139241</td>\n",
       "      <td>2.315200</td>\n",
       "      <td>8.639000</td>\n",
       "    </tr>\n",
       "    <tr>\n",
       "      <td>200</td>\n",
       "      <td>0.366800</td>\n",
       "      <td>0.075781</td>\n",
       "      <td>0.147679</td>\n",
       "      <td>2.333000</td>\n",
       "      <td>8.573000</td>\n",
       "    </tr>\n",
       "    <tr>\n",
       "      <td>300</td>\n",
       "      <td>0.350900</td>\n",
       "      <td>0.073777</td>\n",
       "      <td>0.135021</td>\n",
       "      <td>2.328500</td>\n",
       "      <td>8.589000</td>\n",
       "    </tr>\n",
       "    <tr>\n",
       "      <td>400</td>\n",
       "      <td>0.340600</td>\n",
       "      <td>0.075341</td>\n",
       "      <td>0.135021</td>\n",
       "      <td>2.342200</td>\n",
       "      <td>8.539000</td>\n",
       "    </tr>\n",
       "  </tbody>\n",
       "</table><p>"
      ],
      "text/plain": [
       "<IPython.core.display.HTML object>"
      ]
     },
     "metadata": {},
     "output_type": "display_data"
    },
    {
     "name": "stdout",
     "output_type": "stream",
     "text": [
      "Save Model\n",
      "**************************************\n",
      "Starting round 2 of 4, epoche 3 of 3\n",
      "Splitting Dataset common-voice-de-06v30 with 12262 Entries\n",
      "aktual trained epoches: 242\n",
      "old trained epoches: 241\n",
      "old word error rate: 11.819743122359313%\n",
      "Translate all\n"
     ]
    },
    {
     "data": {
      "application/vnd.jupyter.widget-view+json": {
       "model_id": "8655b15a1b3b432792d8788fcd624ae9",
       "version_major": 2,
       "version_minor": 0
      },
      "text/plain": [
       "HBox(children=(FloatProgress(value=0.0, max=12262.0), HTML(value='')))"
      ]
     },
     "metadata": {},
     "output_type": "display_data"
    },
    {
     "name": "stdout",
     "output_type": "stream",
     "text": [
      "\n",
      "Save new translations to: /home/ki-mo/shared/gitviews/extern/GermanWave2Vec/datasets/common-voice-de-06v30/content-translated-with_original.csv\n",
      "Calculate WER\n"
     ]
    },
    {
     "name": "stderr",
     "output_type": "stream",
     "text": [
      "W&B installed but not logged in. Run `wandb login` or set the WANDB_API_KEY env variable.\n"
     ]
    },
    {
     "name": "stdout",
     "output_type": "stream",
     "text": [
      "WER: 11.3962%\n",
      "No. of bad translated snippets: 5763\n",
      "Saving diff files\n",
      "Actual number of bad translated 5763\n",
      "Actual WER: 11.3962%\n",
      " - 5763 Entries left after Length Cut (min=31, max=1200)\n",
      " - 1600 left after Entries Max Samples Cut (max=1600)\n",
      "Creating Trainer for common-voice-de-06v30\n",
      "Training of Dataset: common-voice-de-06v30\n"
     ]
    },
    {
     "data": {
      "text/html": [
       "\n",
       "    <div>\n",
       "        <style>\n",
       "            /* Turns off some styling */\n",
       "            progress {\n",
       "                /* gets rid of default border in Firefox and Opera. */\n",
       "                border: none;\n",
       "                /* Needs to be in here for Safari polyfill so background images work as expected. */\n",
       "                background-size: auto;\n",
       "            }\n",
       "        </style>\n",
       "      \n",
       "      <progress value='400' max='400' style='width:300px; height:20px; vertical-align: middle;'></progress>\n",
       "      [400/400 04:21, Epoch 2/2]\n",
       "    </div>\n",
       "    <table border=\"1\" class=\"dataframe\">\n",
       "  <thead>\n",
       "    <tr style=\"text-align: left;\">\n",
       "      <th>Step</th>\n",
       "      <th>Training Loss</th>\n",
       "      <th>Validation Loss</th>\n",
       "      <th>Wer</th>\n",
       "      <th>Runtime</th>\n",
       "      <th>Samples Per Second</th>\n",
       "    </tr>\n",
       "  </thead>\n",
       "  <tbody>\n",
       "    <tr>\n",
       "      <td>100</td>\n",
       "      <td>0.348200</td>\n",
       "      <td>0.070355</td>\n",
       "      <td>0.130802</td>\n",
       "      <td>2.319500</td>\n",
       "      <td>8.623000</td>\n",
       "    </tr>\n",
       "    <tr>\n",
       "      <td>200</td>\n",
       "      <td>0.369200</td>\n",
       "      <td>0.071897</td>\n",
       "      <td>0.122363</td>\n",
       "      <td>2.327000</td>\n",
       "      <td>8.595000</td>\n",
       "    </tr>\n",
       "    <tr>\n",
       "      <td>300</td>\n",
       "      <td>0.355400</td>\n",
       "      <td>0.072717</td>\n",
       "      <td>0.130802</td>\n",
       "      <td>2.319000</td>\n",
       "      <td>8.624000</td>\n",
       "    </tr>\n",
       "    <tr>\n",
       "      <td>400</td>\n",
       "      <td>0.346700</td>\n",
       "      <td>0.072614</td>\n",
       "      <td>0.135021</td>\n",
       "      <td>2.335600</td>\n",
       "      <td>8.563000</td>\n",
       "    </tr>\n",
       "  </tbody>\n",
       "</table><p>"
      ],
      "text/plain": [
       "<IPython.core.display.HTML object>"
      ]
     },
     "metadata": {},
     "output_type": "display_data"
    },
    {
     "name": "stdout",
     "output_type": "stream",
     "text": [
      "Save Model\n",
      "final check und update of common-voice-de-06v30\n",
      "aktual trained epoches: 243\n",
      "old trained epoches: 242\n",
      "old word error rate: 11.396179498256224%\n",
      "Translate all\n"
     ]
    },
    {
     "data": {
      "application/vnd.jupyter.widget-view+json": {
       "model_id": "106129b1f517435ea4b6343c9525cad4",
       "version_major": 2,
       "version_minor": 0
      },
      "text/plain": [
       "HBox(children=(FloatProgress(value=0.0, max=12262.0), HTML(value='')))"
      ]
     },
     "metadata": {},
     "output_type": "display_data"
    },
    {
     "name": "stdout",
     "output_type": "stream",
     "text": [
      "\n",
      "Save new translations to: /home/ki-mo/shared/gitviews/extern/GermanWave2Vec/datasets/common-voice-de-06v30/content-translated-with_original.csv\n",
      "Calculate WER\n",
      "WER: 11.1022%\n",
      "No. of bad translated snippets: 5663\n",
      "Saving diff files\n",
      "Actual number of bad translated 5663\n",
      "Actual WER: 11.1022\n",
      "-----------------------------\n",
      "Loading Dataset: common-voice-de-07v30 - /home/ki-mo/shared/gitviews/extern/GermanWave2Vec/datasets/common-voice-de-07v30/content-translated-with_original.csv\n",
      "Pruning Dataset common-voice-de-07v30 with 12163 Entries\n",
      " - 12163 Entries left after Length Cut (min=31, max=4000)\n",
      " - 12163 Entries left after Action Cut\n",
      "Dataset - common-voice-de-07v30 loaded with 12163 Entries\n",
      "**************************************\n",
      "Starting round 2 of 4, epoche 1 of 3\n",
      "Splitting Dataset common-voice-de-07v30 with 12163 Entries\n",
      "aktual trained epoches: 243\n",
      "old trained epoches: 216\n",
      "old word error rate: 13.573569796448862%\n",
      "Translate all\n"
     ]
    },
    {
     "data": {
      "application/vnd.jupyter.widget-view+json": {
       "model_id": "6784e3fab10948d497ebc777babd6c77",
       "version_major": 2,
       "version_minor": 0
      },
      "text/plain": [
       "HBox(children=(FloatProgress(value=0.0, max=12163.0), HTML(value='')))"
      ]
     },
     "metadata": {},
     "output_type": "display_data"
    },
    {
     "name": "stdout",
     "output_type": "stream",
     "text": [
      "\n",
      "Save new translations to: /home/ki-mo/shared/gitviews/extern/GermanWave2Vec/datasets/common-voice-de-07v30/content-translated-with_original.csv\n",
      "Calculate WER\n"
     ]
    },
    {
     "name": "stderr",
     "output_type": "stream",
     "text": [
      "W&B installed but not logged in. Run `wandb login` or set the WANDB_API_KEY env variable.\n"
     ]
    },
    {
     "name": "stdout",
     "output_type": "stream",
     "text": [
      "WER: 11.6355%\n",
      "No. of bad translated snippets: 5927\n",
      "Saving diff files\n",
      "Actual number of bad translated 5927\n",
      "Actual WER: 11.6355%\n",
      " - 5927 Entries left after Length Cut (min=31, max=1200)\n",
      " - 1600 left after Entries Max Samples Cut (max=1600)\n",
      "Creating Trainer for common-voice-de-07v30\n",
      "Training of Dataset: common-voice-de-07v30\n"
     ]
    },
    {
     "data": {
      "text/html": [
       "\n",
       "    <div>\n",
       "        <style>\n",
       "            /* Turns off some styling */\n",
       "            progress {\n",
       "                /* gets rid of default border in Firefox and Opera. */\n",
       "                border: none;\n",
       "                /* Needs to be in here for Safari polyfill so background images work as expected. */\n",
       "                background-size: auto;\n",
       "            }\n",
       "        </style>\n",
       "      \n",
       "      <progress value='400' max='400' style='width:300px; height:20px; vertical-align: middle;'></progress>\n",
       "      [400/400 04:20, Epoch 2/2]\n",
       "    </div>\n",
       "    <table border=\"1\" class=\"dataframe\">\n",
       "  <thead>\n",
       "    <tr style=\"text-align: left;\">\n",
       "      <th>Step</th>\n",
       "      <th>Training Loss</th>\n",
       "      <th>Validation Loss</th>\n",
       "      <th>Wer</th>\n",
       "      <th>Runtime</th>\n",
       "      <th>Samples Per Second</th>\n",
       "    </tr>\n",
       "  </thead>\n",
       "  <tbody>\n",
       "    <tr>\n",
       "      <td>100</td>\n",
       "      <td>0.347700</td>\n",
       "      <td>0.161506</td>\n",
       "      <td>0.163121</td>\n",
       "      <td>2.295900</td>\n",
       "      <td>8.711000</td>\n",
       "    </tr>\n",
       "    <tr>\n",
       "      <td>200</td>\n",
       "      <td>0.344700</td>\n",
       "      <td>0.159798</td>\n",
       "      <td>0.166667</td>\n",
       "      <td>2.310300</td>\n",
       "      <td>8.657000</td>\n",
       "    </tr>\n",
       "    <tr>\n",
       "      <td>300</td>\n",
       "      <td>0.335200</td>\n",
       "      <td>0.163493</td>\n",
       "      <td>0.166667</td>\n",
       "      <td>2.308900</td>\n",
       "      <td>8.662000</td>\n",
       "    </tr>\n",
       "    <tr>\n",
       "      <td>400</td>\n",
       "      <td>0.339000</td>\n",
       "      <td>0.163006</td>\n",
       "      <td>0.166667</td>\n",
       "      <td>2.305400</td>\n",
       "      <td>8.675000</td>\n",
       "    </tr>\n",
       "  </tbody>\n",
       "</table><p>"
      ],
      "text/plain": [
       "<IPython.core.display.HTML object>"
      ]
     },
     "metadata": {},
     "output_type": "display_data"
    },
    {
     "name": "stdout",
     "output_type": "stream",
     "text": [
      "Save Model\n",
      "**************************************\n",
      "Starting round 2 of 4, epoche 2 of 3\n",
      "Splitting Dataset common-voice-de-07v30 with 12163 Entries\n",
      "aktual trained epoches: 244\n",
      "old trained epoches: 243\n",
      "old word error rate: 11.635536549064%\n",
      "Translate all\n"
     ]
    },
    {
     "data": {
      "application/vnd.jupyter.widget-view+json": {
       "model_id": "3c6dd6a1935746c8af7fe6274619372e",
       "version_major": 2,
       "version_minor": 0
      },
      "text/plain": [
       "HBox(children=(FloatProgress(value=0.0, max=12163.0), HTML(value='')))"
      ]
     },
     "metadata": {},
     "output_type": "display_data"
    },
    {
     "name": "stdout",
     "output_type": "stream",
     "text": [
      "\n",
      "Save new translations to: /home/ki-mo/shared/gitviews/extern/GermanWave2Vec/datasets/common-voice-de-07v30/content-translated-with_original.csv\n",
      "Calculate WER\n"
     ]
    },
    {
     "name": "stderr",
     "output_type": "stream",
     "text": [
      "W&B installed but not logged in. Run `wandb login` or set the WANDB_API_KEY env variable.\n"
     ]
    },
    {
     "name": "stdout",
     "output_type": "stream",
     "text": [
      "WER: 11.1723%\n",
      "No. of bad translated snippets: 5767\n",
      "Saving diff files\n",
      "Actual number of bad translated 5767\n",
      "Actual WER: 11.1723%\n",
      " - 5767 Entries left after Length Cut (min=31, max=1200)\n",
      " - 1600 left after Entries Max Samples Cut (max=1600)\n",
      "Creating Trainer for common-voice-de-07v30\n",
      "Training of Dataset: common-voice-de-07v30\n"
     ]
    },
    {
     "data": {
      "text/html": [
       "\n",
       "    <div>\n",
       "        <style>\n",
       "            /* Turns off some styling */\n",
       "            progress {\n",
       "                /* gets rid of default border in Firefox and Opera. */\n",
       "                border: none;\n",
       "                /* Needs to be in here for Safari polyfill so background images work as expected. */\n",
       "                background-size: auto;\n",
       "            }\n",
       "        </style>\n",
       "      \n",
       "      <progress value='400' max='400' style='width:300px; height:20px; vertical-align: middle;'></progress>\n",
       "      [400/400 04:24, Epoch 2/2]\n",
       "    </div>\n",
       "    <table border=\"1\" class=\"dataframe\">\n",
       "  <thead>\n",
       "    <tr style=\"text-align: left;\">\n",
       "      <th>Step</th>\n",
       "      <th>Training Loss</th>\n",
       "      <th>Validation Loss</th>\n",
       "      <th>Wer</th>\n",
       "      <th>Runtime</th>\n",
       "      <th>Samples Per Second</th>\n",
       "    </tr>\n",
       "  </thead>\n",
       "  <tbody>\n",
       "    <tr>\n",
       "      <td>100</td>\n",
       "      <td>0.360900</td>\n",
       "      <td>0.162918</td>\n",
       "      <td>0.159574</td>\n",
       "      <td>2.315700</td>\n",
       "      <td>8.637000</td>\n",
       "    </tr>\n",
       "    <tr>\n",
       "      <td>200</td>\n",
       "      <td>0.343600</td>\n",
       "      <td>0.162395</td>\n",
       "      <td>0.159574</td>\n",
       "      <td>2.320000</td>\n",
       "      <td>8.621000</td>\n",
       "    </tr>\n",
       "    <tr>\n",
       "      <td>300</td>\n",
       "      <td>0.335500</td>\n",
       "      <td>0.162321</td>\n",
       "      <td>0.166667</td>\n",
       "      <td>2.318800</td>\n",
       "      <td>8.625000</td>\n",
       "    </tr>\n",
       "    <tr>\n",
       "      <td>400</td>\n",
       "      <td>0.328200</td>\n",
       "      <td>0.159786</td>\n",
       "      <td>0.159574</td>\n",
       "      <td>2.317500</td>\n",
       "      <td>8.630000</td>\n",
       "    </tr>\n",
       "  </tbody>\n",
       "</table><p>"
      ],
      "text/plain": [
       "<IPython.core.display.HTML object>"
      ]
     },
     "metadata": {},
     "output_type": "display_data"
    },
    {
     "name": "stdout",
     "output_type": "stream",
     "text": [
      "Save Model\n",
      "**************************************\n",
      "Starting round 2 of 4, epoche 3 of 3\n",
      "Splitting Dataset common-voice-de-07v30 with 12163 Entries\n",
      "aktual trained epoches: 245\n",
      "old trained epoches: 244\n",
      "old word error rate: 11.172253317401422%\n",
      "Translate all\n"
     ]
    },
    {
     "data": {
      "application/vnd.jupyter.widget-view+json": {
       "model_id": "9c0e83881fa949c19924b4948e7317a3",
       "version_major": 2,
       "version_minor": 0
      },
      "text/plain": [
       "HBox(children=(FloatProgress(value=0.0, max=12163.0), HTML(value='')))"
      ]
     },
     "metadata": {},
     "output_type": "display_data"
    },
    {
     "name": "stdout",
     "output_type": "stream",
     "text": [
      "\n",
      "Save new translations to: /home/ki-mo/shared/gitviews/extern/GermanWave2Vec/datasets/common-voice-de-07v30/content-translated-with_original.csv\n",
      "Calculate WER\n"
     ]
    },
    {
     "name": "stderr",
     "output_type": "stream",
     "text": [
      "W&B installed but not logged in. Run `wandb login` or set the WANDB_API_KEY env variable.\n"
     ]
    },
    {
     "name": "stdout",
     "output_type": "stream",
     "text": [
      "WER: 10.8777%\n",
      "No. of bad translated snippets: 5713\n",
      "Saving diff files\n",
      "Actual number of bad translated 5713\n",
      "Actual WER: 10.8777%\n",
      " - 5713 Entries left after Length Cut (min=31, max=1200)\n",
      " - 1600 left after Entries Max Samples Cut (max=1600)\n",
      "Creating Trainer for common-voice-de-07v30\n",
      "Training of Dataset: common-voice-de-07v30\n"
     ]
    },
    {
     "data": {
      "text/html": [
       "\n",
       "    <div>\n",
       "        <style>\n",
       "            /* Turns off some styling */\n",
       "            progress {\n",
       "                /* gets rid of default border in Firefox and Opera. */\n",
       "                border: none;\n",
       "                /* Needs to be in here for Safari polyfill so background images work as expected. */\n",
       "                background-size: auto;\n",
       "            }\n",
       "        </style>\n",
       "      \n",
       "      <progress value='400' max='400' style='width:300px; height:20px; vertical-align: middle;'></progress>\n",
       "      [400/400 04:23, Epoch 2/2]\n",
       "    </div>\n",
       "    <table border=\"1\" class=\"dataframe\">\n",
       "  <thead>\n",
       "    <tr style=\"text-align: left;\">\n",
       "      <th>Step</th>\n",
       "      <th>Training Loss</th>\n",
       "      <th>Validation Loss</th>\n",
       "      <th>Wer</th>\n",
       "      <th>Runtime</th>\n",
       "      <th>Samples Per Second</th>\n",
       "    </tr>\n",
       "  </thead>\n",
       "  <tbody>\n",
       "    <tr>\n",
       "      <td>100</td>\n",
       "      <td>0.378300</td>\n",
       "      <td>0.157682</td>\n",
       "      <td>0.163121</td>\n",
       "      <td>2.332800</td>\n",
       "      <td>8.573000</td>\n",
       "    </tr>\n",
       "    <tr>\n",
       "      <td>200</td>\n",
       "      <td>0.353200</td>\n",
       "      <td>0.151914</td>\n",
       "      <td>0.166667</td>\n",
       "      <td>2.322700</td>\n",
       "      <td>8.611000</td>\n",
       "    </tr>\n",
       "    <tr>\n",
       "      <td>300</td>\n",
       "      <td>0.322000</td>\n",
       "      <td>0.147712</td>\n",
       "      <td>0.152482</td>\n",
       "      <td>2.311600</td>\n",
       "      <td>8.652000</td>\n",
       "    </tr>\n",
       "    <tr>\n",
       "      <td>400</td>\n",
       "      <td>0.364100</td>\n",
       "      <td>0.149443</td>\n",
       "      <td>0.159574</td>\n",
       "      <td>2.329200</td>\n",
       "      <td>8.587000</td>\n",
       "    </tr>\n",
       "  </tbody>\n",
       "</table><p>"
      ],
      "text/plain": [
       "<IPython.core.display.HTML object>"
      ]
     },
     "metadata": {},
     "output_type": "display_data"
    },
    {
     "name": "stdout",
     "output_type": "stream",
     "text": [
      "Save Model\n",
      "final check und update of common-voice-de-07v30\n",
      "aktual trained epoches: 246\n",
      "old trained epoches: 245\n",
      "old word error rate: 10.8777225751001%\n",
      "Translate all\n"
     ]
    },
    {
     "data": {
      "application/vnd.jupyter.widget-view+json": {
       "model_id": "9e95617ed0fc4aa5b31606f87ad0a1fb",
       "version_major": 2,
       "version_minor": 0
      },
      "text/plain": [
       "HBox(children=(FloatProgress(value=0.0, max=12163.0), HTML(value='')))"
      ]
     },
     "metadata": {},
     "output_type": "display_data"
    },
    {
     "name": "stdout",
     "output_type": "stream",
     "text": [
      "\n",
      "Save new translations to: /home/ki-mo/shared/gitviews/extern/GermanWave2Vec/datasets/common-voice-de-07v30/content-translated-with_original.csv\n",
      "Calculate WER\n",
      "WER: 10.4993%\n",
      "No. of bad translated snippets: 5593\n",
      "Saving diff files\n",
      "Actual number of bad translated 5593\n",
      "Actual WER: 10.4993\n",
      "-----------------------------\n",
      "Loading Dataset: common-voice-de-08v30 - /home/ki-mo/shared/gitviews/extern/GermanWave2Vec/datasets/common-voice-de-08v30/content-translated-with_original.csv\n",
      "Pruning Dataset common-voice-de-08v30 with 11815 Entries\n",
      " - 11815 Entries left after Length Cut (min=31, max=4000)\n",
      " - 11815 Entries left after Action Cut\n",
      "Dataset - common-voice-de-08v30 loaded with 11815 Entries\n",
      "**************************************\n",
      "Starting round 2 of 4, epoche 1 of 3\n",
      "Splitting Dataset common-voice-de-08v30 with 11815 Entries\n",
      "aktual trained epoches: 246\n",
      "old trained epoches: 219\n",
      "old word error rate: 13.579287060803255%\n",
      "Translate all\n"
     ]
    },
    {
     "data": {
      "application/vnd.jupyter.widget-view+json": {
       "model_id": "dc401f907c964661b0723823133ad497",
       "version_major": 2,
       "version_minor": 0
      },
      "text/plain": [
       "HBox(children=(FloatProgress(value=0.0, max=11815.0), HTML(value='')))"
      ]
     },
     "metadata": {},
     "output_type": "display_data"
    },
    {
     "name": "stdout",
     "output_type": "stream",
     "text": [
      "\n",
      "Save new translations to: /home/ki-mo/shared/gitviews/extern/GermanWave2Vec/datasets/common-voice-de-08v30/content-translated-with_original.csv\n",
      "Calculate WER\n"
     ]
    },
    {
     "name": "stderr",
     "output_type": "stream",
     "text": [
      "W&B installed but not logged in. Run `wandb login` or set the WANDB_API_KEY env variable.\n"
     ]
    },
    {
     "name": "stdout",
     "output_type": "stream",
     "text": [
      "WER: 11.6377%\n",
      "No. of bad translated snippets: 5862\n",
      "Saving diff files\n",
      "Actual number of bad translated 5862\n",
      "Actual WER: 11.6377%\n",
      " - 5862 Entries left after Length Cut (min=31, max=1200)\n",
      " - 1600 left after Entries Max Samples Cut (max=1600)\n",
      "Creating Trainer for common-voice-de-08v30\n",
      "Training of Dataset: common-voice-de-08v30\n"
     ]
    },
    {
     "data": {
      "text/html": [
       "\n",
       "    <div>\n",
       "        <style>\n",
       "            /* Turns off some styling */\n",
       "            progress {\n",
       "                /* gets rid of default border in Firefox and Opera. */\n",
       "                border: none;\n",
       "                /* Needs to be in here for Safari polyfill so background images work as expected. */\n",
       "                background-size: auto;\n",
       "            }\n",
       "        </style>\n",
       "      \n",
       "      <progress value='400' max='400' style='width:300px; height:20px; vertical-align: middle;'></progress>\n",
       "      [400/400 04:16, Epoch 2/2]\n",
       "    </div>\n",
       "    <table border=\"1\" class=\"dataframe\">\n",
       "  <thead>\n",
       "    <tr style=\"text-align: left;\">\n",
       "      <th>Step</th>\n",
       "      <th>Training Loss</th>\n",
       "      <th>Validation Loss</th>\n",
       "      <th>Wer</th>\n",
       "      <th>Runtime</th>\n",
       "      <th>Samples Per Second</th>\n",
       "    </tr>\n",
       "  </thead>\n",
       "  <tbody>\n",
       "    <tr>\n",
       "      <td>100</td>\n",
       "      <td>0.387100</td>\n",
       "      <td>0.088992</td>\n",
       "      <td>0.154472</td>\n",
       "      <td>2.296700</td>\n",
       "      <td>8.708000</td>\n",
       "    </tr>\n",
       "    <tr>\n",
       "      <td>200</td>\n",
       "      <td>0.359600</td>\n",
       "      <td>0.086817</td>\n",
       "      <td>0.162602</td>\n",
       "      <td>2.290500</td>\n",
       "      <td>8.732000</td>\n",
       "    </tr>\n",
       "    <tr>\n",
       "      <td>300</td>\n",
       "      <td>0.330500</td>\n",
       "      <td>0.089005</td>\n",
       "      <td>0.174797</td>\n",
       "      <td>2.288300</td>\n",
       "      <td>8.740000</td>\n",
       "    </tr>\n",
       "    <tr>\n",
       "      <td>400</td>\n",
       "      <td>0.351400</td>\n",
       "      <td>0.086786</td>\n",
       "      <td>0.174797</td>\n",
       "      <td>2.311600</td>\n",
       "      <td>8.652000</td>\n",
       "    </tr>\n",
       "  </tbody>\n",
       "</table><p>"
      ],
      "text/plain": [
       "<IPython.core.display.HTML object>"
      ]
     },
     "metadata": {},
     "output_type": "display_data"
    },
    {
     "name": "stdout",
     "output_type": "stream",
     "text": [
      "Save Model\n",
      "**************************************\n",
      "Starting round 2 of 4, epoche 2 of 3\n",
      "Splitting Dataset common-voice-de-08v30 with 11815 Entries\n",
      "aktual trained epoches: 247\n",
      "old trained epoches: 246\n",
      "old word error rate: 11.637715271638992%\n",
      "Translate all\n"
     ]
    },
    {
     "data": {
      "application/vnd.jupyter.widget-view+json": {
       "model_id": "448db691a4ea4f3c8e985aadb9ceeea8",
       "version_major": 2,
       "version_minor": 0
      },
      "text/plain": [
       "HBox(children=(FloatProgress(value=0.0, max=11815.0), HTML(value='')))"
      ]
     },
     "metadata": {},
     "output_type": "display_data"
    },
    {
     "name": "stdout",
     "output_type": "stream",
     "text": [
      "\n",
      "Save new translations to: /home/ki-mo/shared/gitviews/extern/GermanWave2Vec/datasets/common-voice-de-08v30/content-translated-with_original.csv\n",
      "Calculate WER\n"
     ]
    },
    {
     "name": "stderr",
     "output_type": "stream",
     "text": [
      "W&B installed but not logged in. Run `wandb login` or set the WANDB_API_KEY env variable.\n"
     ]
    },
    {
     "name": "stdout",
     "output_type": "stream",
     "text": [
      "WER: 11.2873%\n",
      "No. of bad translated snippets: 5788\n",
      "Saving diff files\n",
      "Actual number of bad translated 5788\n",
      "Actual WER: 11.2873%\n",
      " - 5788 Entries left after Length Cut (min=31, max=1200)\n",
      " - 1600 left after Entries Max Samples Cut (max=1600)\n",
      "Creating Trainer for common-voice-de-08v30\n",
      "Training of Dataset: common-voice-de-08v30\n"
     ]
    },
    {
     "data": {
      "text/html": [
       "\n",
       "    <div>\n",
       "        <style>\n",
       "            /* Turns off some styling */\n",
       "            progress {\n",
       "                /* gets rid of default border in Firefox and Opera. */\n",
       "                border: none;\n",
       "                /* Needs to be in here for Safari polyfill so background images work as expected. */\n",
       "                background-size: auto;\n",
       "            }\n",
       "        </style>\n",
       "      \n",
       "      <progress value='400' max='400' style='width:300px; height:20px; vertical-align: middle;'></progress>\n",
       "      [400/400 04:14, Epoch 2/2]\n",
       "    </div>\n",
       "    <table border=\"1\" class=\"dataframe\">\n",
       "  <thead>\n",
       "    <tr style=\"text-align: left;\">\n",
       "      <th>Step</th>\n",
       "      <th>Training Loss</th>\n",
       "      <th>Validation Loss</th>\n",
       "      <th>Wer</th>\n",
       "      <th>Runtime</th>\n",
       "      <th>Samples Per Second</th>\n",
       "    </tr>\n",
       "  </thead>\n",
       "  <tbody>\n",
       "    <tr>\n",
       "      <td>100</td>\n",
       "      <td>0.379600</td>\n",
       "      <td>0.086043</td>\n",
       "      <td>0.166667</td>\n",
       "      <td>2.292300</td>\n",
       "      <td>8.725000</td>\n",
       "    </tr>\n",
       "    <tr>\n",
       "      <td>200</td>\n",
       "      <td>0.355400</td>\n",
       "      <td>0.087867</td>\n",
       "      <td>0.170732</td>\n",
       "      <td>2.283800</td>\n",
       "      <td>8.757000</td>\n",
       "    </tr>\n",
       "    <tr>\n",
       "      <td>300</td>\n",
       "      <td>0.324900</td>\n",
       "      <td>0.086473</td>\n",
       "      <td>0.170732</td>\n",
       "      <td>2.296500</td>\n",
       "      <td>8.709000</td>\n",
       "    </tr>\n",
       "    <tr>\n",
       "      <td>400</td>\n",
       "      <td>0.349000</td>\n",
       "      <td>0.085249</td>\n",
       "      <td>0.170732</td>\n",
       "      <td>2.268500</td>\n",
       "      <td>8.816000</td>\n",
       "    </tr>\n",
       "  </tbody>\n",
       "</table><p>"
      ],
      "text/plain": [
       "<IPython.core.display.HTML object>"
      ]
     },
     "metadata": {},
     "output_type": "display_data"
    },
    {
     "name": "stdout",
     "output_type": "stream",
     "text": [
      "Save Model\n",
      "**************************************\n",
      "Starting round 2 of 4, epoche 3 of 3\n",
      "Splitting Dataset common-voice-de-08v30 with 11815 Entries\n",
      "aktual trained epoches: 248\n",
      "old trained epoches: 247\n",
      "old word error rate: 11.287316413364149%\n",
      "Translate all\n"
     ]
    },
    {
     "data": {
      "application/vnd.jupyter.widget-view+json": {
       "model_id": "8a656315f1054347a1cd3dae855feb12",
       "version_major": 2,
       "version_minor": 0
      },
      "text/plain": [
       "HBox(children=(FloatProgress(value=0.0, max=11815.0), HTML(value='')))"
      ]
     },
     "metadata": {},
     "output_type": "display_data"
    },
    {
     "name": "stdout",
     "output_type": "stream",
     "text": [
      "\n",
      "Save new translations to: /home/ki-mo/shared/gitviews/extern/GermanWave2Vec/datasets/common-voice-de-08v30/content-translated-with_original.csv\n",
      "Calculate WER\n"
     ]
    },
    {
     "name": "stderr",
     "output_type": "stream",
     "text": [
      "W&B installed but not logged in. Run `wandb login` or set the WANDB_API_KEY env variable.\n"
     ]
    },
    {
     "name": "stdout",
     "output_type": "stream",
     "text": [
      "WER: 10.9891%\n",
      "No. of bad translated snippets: 5652\n",
      "Saving diff files\n",
      "Actual number of bad translated 5652\n",
      "Actual WER: 10.9891%\n",
      " - 5652 Entries left after Length Cut (min=31, max=1200)\n",
      " - 1600 left after Entries Max Samples Cut (max=1600)\n",
      "Creating Trainer for common-voice-de-08v30\n",
      "Training of Dataset: common-voice-de-08v30\n"
     ]
    },
    {
     "data": {
      "text/html": [
       "\n",
       "    <div>\n",
       "        <style>\n",
       "            /* Turns off some styling */\n",
       "            progress {\n",
       "                /* gets rid of default border in Firefox and Opera. */\n",
       "                border: none;\n",
       "                /* Needs to be in here for Safari polyfill so background images work as expected. */\n",
       "                background-size: auto;\n",
       "            }\n",
       "        </style>\n",
       "      \n",
       "      <progress value='400' max='400' style='width:300px; height:20px; vertical-align: middle;'></progress>\n",
       "      [400/400 04:17, Epoch 2/2]\n",
       "    </div>\n",
       "    <table border=\"1\" class=\"dataframe\">\n",
       "  <thead>\n",
       "    <tr style=\"text-align: left;\">\n",
       "      <th>Step</th>\n",
       "      <th>Training Loss</th>\n",
       "      <th>Validation Loss</th>\n",
       "      <th>Wer</th>\n",
       "      <th>Runtime</th>\n",
       "      <th>Samples Per Second</th>\n",
       "    </tr>\n",
       "  </thead>\n",
       "  <tbody>\n",
       "    <tr>\n",
       "      <td>100</td>\n",
       "      <td>0.353200</td>\n",
       "      <td>0.079211</td>\n",
       "      <td>0.162602</td>\n",
       "      <td>2.264400</td>\n",
       "      <td>8.832000</td>\n",
       "    </tr>\n",
       "    <tr>\n",
       "      <td>200</td>\n",
       "      <td>0.361400</td>\n",
       "      <td>0.080757</td>\n",
       "      <td>0.162602</td>\n",
       "      <td>2.311900</td>\n",
       "      <td>8.651000</td>\n",
       "    </tr>\n",
       "    <tr>\n",
       "      <td>300</td>\n",
       "      <td>0.339500</td>\n",
       "      <td>0.085245</td>\n",
       "      <td>0.166667</td>\n",
       "      <td>2.273600</td>\n",
       "      <td>8.797000</td>\n",
       "    </tr>\n",
       "    <tr>\n",
       "      <td>400</td>\n",
       "      <td>0.331200</td>\n",
       "      <td>0.085251</td>\n",
       "      <td>0.166667</td>\n",
       "      <td>2.285600</td>\n",
       "      <td>8.750000</td>\n",
       "    </tr>\n",
       "  </tbody>\n",
       "</table><p>"
      ],
      "text/plain": [
       "<IPython.core.display.HTML object>"
      ]
     },
     "metadata": {},
     "output_type": "display_data"
    },
    {
     "name": "stdout",
     "output_type": "stream",
     "text": [
      "Save Model\n",
      "final check und update of common-voice-de-08v30\n",
      "aktual trained epoches: 249\n",
      "old trained epoches: 248\n",
      "old word error rate: 10.989104619087685%\n",
      "Translate all\n"
     ]
    },
    {
     "data": {
      "application/vnd.jupyter.widget-view+json": {
       "model_id": "f29da2cf5ccf4a05823168e4e317ba78",
       "version_major": 2,
       "version_minor": 0
      },
      "text/plain": [
       "HBox(children=(FloatProgress(value=0.0, max=11815.0), HTML(value='')))"
      ]
     },
     "metadata": {},
     "output_type": "display_data"
    },
    {
     "name": "stdout",
     "output_type": "stream",
     "text": [
      "\n",
      "Save new translations to: /home/ki-mo/shared/gitviews/extern/GermanWave2Vec/datasets/common-voice-de-08v30/content-translated-with_original.csv\n",
      "Calculate WER\n",
      "WER: 10.5631%\n",
      "No. of bad translated snippets: 5532\n",
      "Saving diff files\n",
      "Actual number of bad translated 5532\n",
      "Actual WER: 10.5631\n",
      "-----------------------------\n",
      "Loading Dataset: common-voice-de-09v30 - /home/ki-mo/shared/gitviews/extern/GermanWave2Vec/datasets/common-voice-de-09v30/content-translated-with_original.csv\n",
      "Pruning Dataset common-voice-de-09v30 with 12443 Entries\n",
      " - 12443 Entries left after Length Cut (min=31, max=4000)\n",
      " - 12443 Entries left after Action Cut\n",
      "Dataset - common-voice-de-09v30 loaded with 12443 Entries\n",
      "**************************************\n",
      "Starting round 2 of 4, epoche 1 of 3\n",
      "Splitting Dataset common-voice-de-09v30 with 12443 Entries\n",
      "aktual trained epoches: 249\n",
      "old trained epoches: 222\n",
      "old word error rate: 12.734291098457984%\n",
      "Translate all\n"
     ]
    },
    {
     "data": {
      "application/vnd.jupyter.widget-view+json": {
       "model_id": "a1321853b92a439bbda4a35c4860600b",
       "version_major": 2,
       "version_minor": 0
      },
      "text/plain": [
       "HBox(children=(FloatProgress(value=0.0, max=12443.0), HTML(value='')))"
      ]
     },
     "metadata": {},
     "output_type": "display_data"
    },
    {
     "name": "stdout",
     "output_type": "stream",
     "text": [
      "\n",
      "Save new translations to: /home/ki-mo/shared/gitviews/extern/GermanWave2Vec/datasets/common-voice-de-09v30/content-translated-with_original.csv\n",
      "Calculate WER\n"
     ]
    },
    {
     "name": "stderr",
     "output_type": "stream",
     "text": [
      "W&B installed but not logged in. Run `wandb login` or set the WANDB_API_KEY env variable.\n"
     ]
    },
    {
     "name": "stdout",
     "output_type": "stream",
     "text": [
      "WER: 11.0646%\n",
      "No. of bad translated snippets: 6036\n",
      "Saving diff files\n",
      "Actual number of bad translated 6036\n",
      "Actual WER: 11.0646%\n",
      " - 6036 Entries left after Length Cut (min=31, max=1200)\n",
      " - 1600 left after Entries Max Samples Cut (max=1600)\n",
      "Creating Trainer for common-voice-de-09v30\n",
      "Training of Dataset: common-voice-de-09v30\n"
     ]
    },
    {
     "data": {
      "text/html": [
       "\n",
       "    <div>\n",
       "        <style>\n",
       "            /* Turns off some styling */\n",
       "            progress {\n",
       "                /* gets rid of default border in Firefox and Opera. */\n",
       "                border: none;\n",
       "                /* Needs to be in here for Safari polyfill so background images work as expected. */\n",
       "                background-size: auto;\n",
       "            }\n",
       "        </style>\n",
       "      \n",
       "      <progress value='400' max='400' style='width:300px; height:20px; vertical-align: middle;'></progress>\n",
       "      [400/400 04:16, Epoch 2/2]\n",
       "    </div>\n",
       "    <table border=\"1\" class=\"dataframe\">\n",
       "  <thead>\n",
       "    <tr style=\"text-align: left;\">\n",
       "      <th>Step</th>\n",
       "      <th>Training Loss</th>\n",
       "      <th>Validation Loss</th>\n",
       "      <th>Wer</th>\n",
       "      <th>Runtime</th>\n",
       "      <th>Samples Per Second</th>\n",
       "    </tr>\n",
       "  </thead>\n",
       "  <tbody>\n",
       "    <tr>\n",
       "      <td>100</td>\n",
       "      <td>0.369600</td>\n",
       "      <td>0.042713</td>\n",
       "      <td>0.069091</td>\n",
       "      <td>2.297100</td>\n",
       "      <td>8.707000</td>\n",
       "    </tr>\n",
       "    <tr>\n",
       "      <td>200</td>\n",
       "      <td>0.371900</td>\n",
       "      <td>0.041085</td>\n",
       "      <td>0.058182</td>\n",
       "      <td>2.305000</td>\n",
       "      <td>8.677000</td>\n",
       "    </tr>\n",
       "    <tr>\n",
       "      <td>300</td>\n",
       "      <td>0.354400</td>\n",
       "      <td>0.041792</td>\n",
       "      <td>0.065455</td>\n",
       "      <td>2.289800</td>\n",
       "      <td>8.734000</td>\n",
       "    </tr>\n",
       "    <tr>\n",
       "      <td>400</td>\n",
       "      <td>0.354700</td>\n",
       "      <td>0.042122</td>\n",
       "      <td>0.065455</td>\n",
       "      <td>2.319500</td>\n",
       "      <td>8.623000</td>\n",
       "    </tr>\n",
       "  </tbody>\n",
       "</table><p>"
      ],
      "text/plain": [
       "<IPython.core.display.HTML object>"
      ]
     },
     "metadata": {},
     "output_type": "display_data"
    },
    {
     "name": "stdout",
     "output_type": "stream",
     "text": [
      "Save Model\n",
      "**************************************\n",
      "Starting round 2 of 4, epoche 2 of 3\n",
      "Splitting Dataset common-voice-de-09v30 with 12443 Entries\n",
      "aktual trained epoches: 250\n",
      "old trained epoches: 249\n",
      "old word error rate: 11.064618751393082%\n",
      "Translate all\n"
     ]
    },
    {
     "data": {
      "application/vnd.jupyter.widget-view+json": {
       "model_id": "966d7221c5984f2baa91140526ceb2d7",
       "version_major": 2,
       "version_minor": 0
      },
      "text/plain": [
       "HBox(children=(FloatProgress(value=0.0, max=12443.0), HTML(value='')))"
      ]
     },
     "metadata": {},
     "output_type": "display_data"
    },
    {
     "name": "stdout",
     "output_type": "stream",
     "text": [
      "\n",
      "Save new translations to: /home/ki-mo/shared/gitviews/extern/GermanWave2Vec/datasets/common-voice-de-09v30/content-translated-with_original.csv\n",
      "Calculate WER\n"
     ]
    },
    {
     "name": "stderr",
     "output_type": "stream",
     "text": [
      "W&B installed but not logged in. Run `wandb login` or set the WANDB_API_KEY env variable.\n"
     ]
    },
    {
     "name": "stdout",
     "output_type": "stream",
     "text": [
      "WER: 10.6735%\n",
      "No. of bad translated snippets: 5928\n",
      "Saving diff files\n",
      "Actual number of bad translated 5928\n",
      "Actual WER: 10.6735%\n",
      " - 5928 Entries left after Length Cut (min=31, max=1200)\n",
      " - 1600 left after Entries Max Samples Cut (max=1600)\n",
      "Creating Trainer for common-voice-de-09v30\n",
      "Training of Dataset: common-voice-de-09v30\n"
     ]
    },
    {
     "data": {
      "text/html": [
       "\n",
       "    <div>\n",
       "        <style>\n",
       "            /* Turns off some styling */\n",
       "            progress {\n",
       "                /* gets rid of default border in Firefox and Opera. */\n",
       "                border: none;\n",
       "                /* Needs to be in here for Safari polyfill so background images work as expected. */\n",
       "                background-size: auto;\n",
       "            }\n",
       "        </style>\n",
       "      \n",
       "      <progress value='400' max='400' style='width:300px; height:20px; vertical-align: middle;'></progress>\n",
       "      [400/400 04:15, Epoch 2/2]\n",
       "    </div>\n",
       "    <table border=\"1\" class=\"dataframe\">\n",
       "  <thead>\n",
       "    <tr style=\"text-align: left;\">\n",
       "      <th>Step</th>\n",
       "      <th>Training Loss</th>\n",
       "      <th>Validation Loss</th>\n",
       "      <th>Wer</th>\n",
       "      <th>Runtime</th>\n",
       "      <th>Samples Per Second</th>\n",
       "    </tr>\n",
       "  </thead>\n",
       "  <tbody>\n",
       "    <tr>\n",
       "      <td>100</td>\n",
       "      <td>0.363000</td>\n",
       "      <td>0.042582</td>\n",
       "      <td>0.058182</td>\n",
       "      <td>2.282500</td>\n",
       "      <td>8.762000</td>\n",
       "    </tr>\n",
       "    <tr>\n",
       "      <td>200</td>\n",
       "      <td>0.355700</td>\n",
       "      <td>0.040905</td>\n",
       "      <td>0.058182</td>\n",
       "      <td>2.283000</td>\n",
       "      <td>8.760000</td>\n",
       "    </tr>\n",
       "    <tr>\n",
       "      <td>300</td>\n",
       "      <td>0.323400</td>\n",
       "      <td>0.040769</td>\n",
       "      <td>0.058182</td>\n",
       "      <td>2.287500</td>\n",
       "      <td>8.743000</td>\n",
       "    </tr>\n",
       "    <tr>\n",
       "      <td>400</td>\n",
       "      <td>0.331200</td>\n",
       "      <td>0.040926</td>\n",
       "      <td>0.058182</td>\n",
       "      <td>2.295400</td>\n",
       "      <td>8.713000</td>\n",
       "    </tr>\n",
       "  </tbody>\n",
       "</table><p>"
      ],
      "text/plain": [
       "<IPython.core.display.HTML object>"
      ]
     },
     "metadata": {},
     "output_type": "display_data"
    },
    {
     "name": "stdout",
     "output_type": "stream",
     "text": [
      "Save Model\n",
      "**************************************\n",
      "Starting round 2 of 4, epoche 3 of 3\n",
      "Splitting Dataset common-voice-de-09v30 with 12443 Entries\n",
      "aktual trained epoches: 251\n",
      "old trained epoches: 250\n",
      "old word error rate: 10.673542582723753%\n",
      "Translate all\n"
     ]
    },
    {
     "data": {
      "application/vnd.jupyter.widget-view+json": {
       "model_id": "c9a3a06fafa34911a87c613018eb2b3d",
       "version_major": 2,
       "version_minor": 0
      },
      "text/plain": [
       "HBox(children=(FloatProgress(value=0.0, max=12443.0), HTML(value='')))"
      ]
     },
     "metadata": {},
     "output_type": "display_data"
    },
    {
     "name": "stdout",
     "output_type": "stream",
     "text": [
      "\n",
      "Save new translations to: /home/ki-mo/shared/gitviews/extern/GermanWave2Vec/datasets/common-voice-de-09v30/content-translated-with_original.csv\n",
      "Calculate WER\n"
     ]
    },
    {
     "name": "stderr",
     "output_type": "stream",
     "text": [
      "W&B installed but not logged in. Run `wandb login` or set the WANDB_API_KEY env variable.\n"
     ]
    },
    {
     "name": "stdout",
     "output_type": "stream",
     "text": [
      "WER: 10.4314%\n",
      "No. of bad translated snippets: 5849\n",
      "Saving diff files\n",
      "Actual number of bad translated 5849\n",
      "Actual WER: 10.4314%\n",
      " - 5849 Entries left after Length Cut (min=31, max=1200)\n",
      " - 1600 left after Entries Max Samples Cut (max=1600)\n",
      "Creating Trainer for common-voice-de-09v30\n",
      "Training of Dataset: common-voice-de-09v30\n"
     ]
    },
    {
     "data": {
      "text/html": [
       "\n",
       "    <div>\n",
       "        <style>\n",
       "            /* Turns off some styling */\n",
       "            progress {\n",
       "                /* gets rid of default border in Firefox and Opera. */\n",
       "                border: none;\n",
       "                /* Needs to be in here for Safari polyfill so background images work as expected. */\n",
       "                background-size: auto;\n",
       "            }\n",
       "        </style>\n",
       "      \n",
       "      <progress value='400' max='400' style='width:300px; height:20px; vertical-align: middle;'></progress>\n",
       "      [400/400 04:15, Epoch 2/2]\n",
       "    </div>\n",
       "    <table border=\"1\" class=\"dataframe\">\n",
       "  <thead>\n",
       "    <tr style=\"text-align: left;\">\n",
       "      <th>Step</th>\n",
       "      <th>Training Loss</th>\n",
       "      <th>Validation Loss</th>\n",
       "      <th>Wer</th>\n",
       "      <th>Runtime</th>\n",
       "      <th>Samples Per Second</th>\n",
       "    </tr>\n",
       "  </thead>\n",
       "  <tbody>\n",
       "    <tr>\n",
       "      <td>100</td>\n",
       "      <td>0.340400</td>\n",
       "      <td>0.039255</td>\n",
       "      <td>0.058182</td>\n",
       "      <td>2.289800</td>\n",
       "      <td>8.734000</td>\n",
       "    </tr>\n",
       "    <tr>\n",
       "      <td>200</td>\n",
       "      <td>0.342500</td>\n",
       "      <td>0.040523</td>\n",
       "      <td>0.050909</td>\n",
       "      <td>2.293300</td>\n",
       "      <td>8.721000</td>\n",
       "    </tr>\n",
       "    <tr>\n",
       "      <td>300</td>\n",
       "      <td>0.326000</td>\n",
       "      <td>0.040377</td>\n",
       "      <td>0.050909</td>\n",
       "      <td>2.291300</td>\n",
       "      <td>8.729000</td>\n",
       "    </tr>\n",
       "    <tr>\n",
       "      <td>400</td>\n",
       "      <td>0.343900</td>\n",
       "      <td>0.039872</td>\n",
       "      <td>0.050909</td>\n",
       "      <td>2.297900</td>\n",
       "      <td>8.703000</td>\n",
       "    </tr>\n",
       "  </tbody>\n",
       "</table><p>"
      ],
      "text/plain": [
       "<IPython.core.display.HTML object>"
      ]
     },
     "metadata": {},
     "output_type": "display_data"
    },
    {
     "name": "stdout",
     "output_type": "stream",
     "text": [
      "Save Model\n",
      "final check und update of common-voice-de-09v30\n",
      "aktual trained epoches: 252\n",
      "old trained epoches: 251\n",
      "old word error rate: 10.431399566371502%\n",
      "Translate all\n"
     ]
    },
    {
     "data": {
      "application/vnd.jupyter.widget-view+json": {
       "model_id": "21dd91d915c548aab8b9c9fd79b4c410",
       "version_major": 2,
       "version_minor": 0
      },
      "text/plain": [
       "HBox(children=(FloatProgress(value=0.0, max=12443.0), HTML(value='')))"
      ]
     },
     "metadata": {},
     "output_type": "display_data"
    },
    {
     "name": "stdout",
     "output_type": "stream",
     "text": [
      "\n",
      "Save new translations to: /home/ki-mo/shared/gitviews/extern/GermanWave2Vec/datasets/common-voice-de-09v30/content-translated-with_original.csv\n",
      "Calculate WER\n",
      "WER: 10.0697%\n",
      "No. of bad translated snippets: 5715\n",
      "Saving diff files\n",
      "Actual number of bad translated 5715\n",
      "Actual WER: 10.0697\n",
      "-----------------------------\n",
      "Loading Dataset: common-voice-de-10v30 - /home/ki-mo/shared/gitviews/extern/GermanWave2Vec/datasets/common-voice-de-10v30/content-translated-with_original.csv\n",
      "Pruning Dataset common-voice-de-10v30 with 12643 Entries\n",
      " - 12643 Entries left after Length Cut (min=31, max=4000)\n",
      " - 12643 Entries left after Action Cut\n",
      "Dataset - common-voice-de-10v30 loaded with 12643 Entries\n",
      "**************************************\n",
      "Starting round 2 of 4, epoche 1 of 3\n",
      "Splitting Dataset common-voice-de-10v30 with 12643 Entries\n",
      "aktual trained epoches: 252\n",
      "old trained epoches: 225\n",
      "old word error rate: 12.901930873911125%\n",
      "Translate all\n"
     ]
    },
    {
     "data": {
      "application/vnd.jupyter.widget-view+json": {
       "model_id": "4d98f48b8dcb4c75ae1159939c4cefdc",
       "version_major": 2,
       "version_minor": 0
      },
      "text/plain": [
       "HBox(children=(FloatProgress(value=0.0, max=12643.0), HTML(value='')))"
      ]
     },
     "metadata": {},
     "output_type": "display_data"
    },
    {
     "name": "stdout",
     "output_type": "stream",
     "text": [
      "\n",
      "Save new translations to: /home/ki-mo/shared/gitviews/extern/GermanWave2Vec/datasets/common-voice-de-10v30/content-translated-with_original.csv\n",
      "Calculate WER\n"
     ]
    },
    {
     "name": "stderr",
     "output_type": "stream",
     "text": [
      "W&B installed but not logged in. Run `wandb login` or set the WANDB_API_KEY env variable.\n"
     ]
    },
    {
     "name": "stdout",
     "output_type": "stream",
     "text": [
      "WER: 11.5300%\n",
      "No. of bad translated snippets: 6206\n",
      "Saving diff files\n",
      "Actual number of bad translated 6206\n",
      "Actual WER: 11.5300%\n",
      " - 6206 Entries left after Length Cut (min=31, max=1200)\n",
      " - 1600 left after Entries Max Samples Cut (max=1600)\n",
      "Creating Trainer for common-voice-de-10v30\n",
      "Training of Dataset: common-voice-de-10v30\n"
     ]
    },
    {
     "data": {
      "text/html": [
       "\n",
       "    <div>\n",
       "        <style>\n",
       "            /* Turns off some styling */\n",
       "            progress {\n",
       "                /* gets rid of default border in Firefox and Opera. */\n",
       "                border: none;\n",
       "                /* Needs to be in here for Safari polyfill so background images work as expected. */\n",
       "                background-size: auto;\n",
       "            }\n",
       "        </style>\n",
       "      \n",
       "      <progress value='400' max='400' style='width:300px; height:20px; vertical-align: middle;'></progress>\n",
       "      [400/400 04:11, Epoch 2/2]\n",
       "    </div>\n",
       "    <table border=\"1\" class=\"dataframe\">\n",
       "  <thead>\n",
       "    <tr style=\"text-align: left;\">\n",
       "      <th>Step</th>\n",
       "      <th>Training Loss</th>\n",
       "      <th>Validation Loss</th>\n",
       "      <th>Wer</th>\n",
       "      <th>Runtime</th>\n",
       "      <th>Samples Per Second</th>\n",
       "    </tr>\n",
       "  </thead>\n",
       "  <tbody>\n",
       "    <tr>\n",
       "      <td>100</td>\n",
       "      <td>0.371200</td>\n",
       "      <td>0.116902</td>\n",
       "      <td>0.183908</td>\n",
       "      <td>2.327300</td>\n",
       "      <td>8.594000</td>\n",
       "    </tr>\n",
       "    <tr>\n",
       "      <td>200</td>\n",
       "      <td>0.365000</td>\n",
       "      <td>0.116317</td>\n",
       "      <td>0.180077</td>\n",
       "      <td>2.348700</td>\n",
       "      <td>8.515000</td>\n",
       "    </tr>\n",
       "    <tr>\n",
       "      <td>300</td>\n",
       "      <td>0.352100</td>\n",
       "      <td>0.113778</td>\n",
       "      <td>0.172414</td>\n",
       "      <td>2.339400</td>\n",
       "      <td>8.549000</td>\n",
       "    </tr>\n",
       "    <tr>\n",
       "      <td>400</td>\n",
       "      <td>0.355600</td>\n",
       "      <td>0.113342</td>\n",
       "      <td>0.168582</td>\n",
       "      <td>2.343300</td>\n",
       "      <td>8.535000</td>\n",
       "    </tr>\n",
       "  </tbody>\n",
       "</table><p>"
      ],
      "text/plain": [
       "<IPython.core.display.HTML object>"
      ]
     },
     "metadata": {},
     "output_type": "display_data"
    },
    {
     "name": "stdout",
     "output_type": "stream",
     "text": [
      "Save Model\n",
      "**************************************\n",
      "Starting round 2 of 4, epoche 2 of 3\n",
      "Splitting Dataset common-voice-de-10v30 with 12643 Entries\n",
      "aktual trained epoches: 253\n",
      "old trained epoches: 252\n",
      "old word error rate: 11.530046967203242%\n",
      "Translate all\n"
     ]
    },
    {
     "data": {
      "application/vnd.jupyter.widget-view+json": {
       "model_id": "297afb18f13548dfaec49c29bae863c5",
       "version_major": 2,
       "version_minor": 0
      },
      "text/plain": [
       "HBox(children=(FloatProgress(value=0.0, max=12643.0), HTML(value='')))"
      ]
     },
     "metadata": {},
     "output_type": "display_data"
    },
    {
     "name": "stdout",
     "output_type": "stream",
     "text": [
      "\n",
      "Save new translations to: /home/ki-mo/shared/gitviews/extern/GermanWave2Vec/datasets/common-voice-de-10v30/content-translated-with_original.csv\n",
      "Calculate WER\n"
     ]
    },
    {
     "name": "stderr",
     "output_type": "stream",
     "text": [
      "W&B installed but not logged in. Run `wandb login` or set the WANDB_API_KEY env variable.\n"
     ]
    },
    {
     "name": "stdout",
     "output_type": "stream",
     "text": [
      "WER: 11.2521%\n",
      "No. of bad translated snippets: 6129\n",
      "Saving diff files\n",
      "Actual number of bad translated 6129\n",
      "Actual WER: 11.2521%\n",
      " - 6129 Entries left after Length Cut (min=31, max=1200)\n",
      " - 1600 left after Entries Max Samples Cut (max=1600)\n",
      "Creating Trainer for common-voice-de-10v30\n",
      "Training of Dataset: common-voice-de-10v30\n"
     ]
    },
    {
     "data": {
      "text/html": [
       "\n",
       "    <div>\n",
       "        <style>\n",
       "            /* Turns off some styling */\n",
       "            progress {\n",
       "                /* gets rid of default border in Firefox and Opera. */\n",
       "                border: none;\n",
       "                /* Needs to be in here for Safari polyfill so background images work as expected. */\n",
       "                background-size: auto;\n",
       "            }\n",
       "        </style>\n",
       "      \n",
       "      <progress value='400' max='400' style='width:300px; height:20px; vertical-align: middle;'></progress>\n",
       "      [400/400 04:16, Epoch 2/2]\n",
       "    </div>\n",
       "    <table border=\"1\" class=\"dataframe\">\n",
       "  <thead>\n",
       "    <tr style=\"text-align: left;\">\n",
       "      <th>Step</th>\n",
       "      <th>Training Loss</th>\n",
       "      <th>Validation Loss</th>\n",
       "      <th>Wer</th>\n",
       "      <th>Runtime</th>\n",
       "      <th>Samples Per Second</th>\n",
       "    </tr>\n",
       "  </thead>\n",
       "  <tbody>\n",
       "    <tr>\n",
       "      <td>100</td>\n",
       "      <td>0.356500</td>\n",
       "      <td>0.109297</td>\n",
       "      <td>0.164751</td>\n",
       "      <td>2.333900</td>\n",
       "      <td>8.569000</td>\n",
       "    </tr>\n",
       "    <tr>\n",
       "      <td>200</td>\n",
       "      <td>0.373500</td>\n",
       "      <td>0.107687</td>\n",
       "      <td>0.160920</td>\n",
       "      <td>2.345900</td>\n",
       "      <td>8.525000</td>\n",
       "    </tr>\n",
       "    <tr>\n",
       "      <td>300</td>\n",
       "      <td>0.369400</td>\n",
       "      <td>0.106493</td>\n",
       "      <td>0.160920</td>\n",
       "      <td>2.344300</td>\n",
       "      <td>8.531000</td>\n",
       "    </tr>\n",
       "    <tr>\n",
       "      <td>400</td>\n",
       "      <td>0.349000</td>\n",
       "      <td>0.107472</td>\n",
       "      <td>0.160920</td>\n",
       "      <td>2.344500</td>\n",
       "      <td>8.531000</td>\n",
       "    </tr>\n",
       "  </tbody>\n",
       "</table><p>"
      ],
      "text/plain": [
       "<IPython.core.display.HTML object>"
      ]
     },
     "metadata": {},
     "output_type": "display_data"
    },
    {
     "name": "stdout",
     "output_type": "stream",
     "text": [
      "Save Model\n",
      "**************************************\n",
      "Starting round 2 of 4, epoche 3 of 3\n",
      "Splitting Dataset common-voice-de-10v30 with 12643 Entries\n",
      "aktual trained epoches: 254\n",
      "old trained epoches: 253\n",
      "old word error rate: 11.252057324073702%\n",
      "Translate all\n"
     ]
    },
    {
     "data": {
      "application/vnd.jupyter.widget-view+json": {
       "model_id": "fac4b417e5274f08aa6a5a906d405cd8",
       "version_major": 2,
       "version_minor": 0
      },
      "text/plain": [
       "HBox(children=(FloatProgress(value=0.0, max=12643.0), HTML(value='')))"
      ]
     },
     "metadata": {},
     "output_type": "display_data"
    },
    {
     "name": "stdout",
     "output_type": "stream",
     "text": [
      "\n",
      "Save new translations to: /home/ki-mo/shared/gitviews/extern/GermanWave2Vec/datasets/common-voice-de-10v30/content-translated-with_original.csv\n",
      "Calculate WER\n"
     ]
    },
    {
     "name": "stderr",
     "output_type": "stream",
     "text": [
      "W&B installed but not logged in. Run `wandb login` or set the WANDB_API_KEY env variable.\n"
     ]
    },
    {
     "name": "stdout",
     "output_type": "stream",
     "text": [
      "WER: 10.8165%\n",
      "No. of bad translated snippets: 5992\n",
      "Saving diff files\n",
      "Actual number of bad translated 5992\n",
      "Actual WER: 10.8165%\n",
      " - 5992 Entries left after Length Cut (min=31, max=1200)\n",
      " - 1600 left after Entries Max Samples Cut (max=1600)\n",
      "Creating Trainer for common-voice-de-10v30\n",
      "Training of Dataset: common-voice-de-10v30\n"
     ]
    },
    {
     "data": {
      "text/html": [
       "\n",
       "    <div>\n",
       "        <style>\n",
       "            /* Turns off some styling */\n",
       "            progress {\n",
       "                /* gets rid of default border in Firefox and Opera. */\n",
       "                border: none;\n",
       "                /* Needs to be in here for Safari polyfill so background images work as expected. */\n",
       "                background-size: auto;\n",
       "            }\n",
       "        </style>\n",
       "      \n",
       "      <progress value='400' max='400' style='width:300px; height:20px; vertical-align: middle;'></progress>\n",
       "      [400/400 04:12, Epoch 2/2]\n",
       "    </div>\n",
       "    <table border=\"1\" class=\"dataframe\">\n",
       "  <thead>\n",
       "    <tr style=\"text-align: left;\">\n",
       "      <th>Step</th>\n",
       "      <th>Training Loss</th>\n",
       "      <th>Validation Loss</th>\n",
       "      <th>Wer</th>\n",
       "      <th>Runtime</th>\n",
       "      <th>Samples Per Second</th>\n",
       "    </tr>\n",
       "  </thead>\n",
       "  <tbody>\n",
       "    <tr>\n",
       "      <td>100</td>\n",
       "      <td>0.363700</td>\n",
       "      <td>0.106736</td>\n",
       "      <td>0.164751</td>\n",
       "      <td>2.327700</td>\n",
       "      <td>8.592000</td>\n",
       "    </tr>\n",
       "    <tr>\n",
       "      <td>200</td>\n",
       "      <td>0.372300</td>\n",
       "      <td>0.105410</td>\n",
       "      <td>0.157088</td>\n",
       "      <td>2.333300</td>\n",
       "      <td>8.572000</td>\n",
       "    </tr>\n",
       "    <tr>\n",
       "      <td>300</td>\n",
       "      <td>0.342500</td>\n",
       "      <td>0.100098</td>\n",
       "      <td>0.149425</td>\n",
       "      <td>2.332900</td>\n",
       "      <td>8.573000</td>\n",
       "    </tr>\n",
       "    <tr>\n",
       "      <td>400</td>\n",
       "      <td>0.376200</td>\n",
       "      <td>0.100953</td>\n",
       "      <td>0.153257</td>\n",
       "      <td>2.336400</td>\n",
       "      <td>8.560000</td>\n",
       "    </tr>\n",
       "  </tbody>\n",
       "</table><p>"
      ],
      "text/plain": [
       "<IPython.core.display.HTML object>"
      ]
     },
     "metadata": {},
     "output_type": "display_data"
    },
    {
     "name": "stdout",
     "output_type": "stream",
     "text": [
      "Save Model\n",
      "final check und update of common-voice-de-10v30\n",
      "aktual trained epoches: 255\n",
      "old trained epoches: 254\n",
      "old word error rate: 10.816506764080124%\n",
      "Translate all\n"
     ]
    },
    {
     "data": {
      "application/vnd.jupyter.widget-view+json": {
       "model_id": "abb29a93e5b348b7adebdba16326dd0a",
       "version_major": 2,
       "version_minor": 0
      },
      "text/plain": [
       "HBox(children=(FloatProgress(value=0.0, max=12643.0), HTML(value='')))"
      ]
     },
     "metadata": {},
     "output_type": "display_data"
    },
    {
     "name": "stdout",
     "output_type": "stream",
     "text": [
      "\n",
      "Save new translations to: /home/ki-mo/shared/gitviews/extern/GermanWave2Vec/datasets/common-voice-de-10v30/content-translated-with_original.csv\n",
      "Calculate WER\n",
      "WER: 10.5365%\n",
      "No. of bad translated snippets: 5895\n",
      "Saving diff files\n",
      "Actual number of bad translated 5895\n",
      "Actual WER: 10.5365\n",
      "======================================\n",
      "Starting round 3 of 4\n",
      "-----------------------------\n",
      "Loading Dataset: common-voice-de-01v30 - /home/ki-mo/shared/gitviews/extern/GermanWave2Vec/datasets/common-voice-de-01v30/content-translated-with_original.csv\n",
      "Pruning Dataset common-voice-de-01v30 with 11813 Entries\n",
      " - 11813 Entries left after Length Cut (min=31, max=4000)\n",
      " - 11794 Entries left after Action Cut\n",
      "Dataset - common-voice-de-01v30 loaded with 11794 Entries\n",
      "**************************************\n",
      "Starting round 3 of 4, epoche 1 of 3\n",
      "Splitting Dataset common-voice-de-01v30 with 11794 Entries\n",
      "aktual trained epoches: 255\n",
      "old trained epoches: 228\n",
      "old word error rate: 14.977266017124299%\n",
      "Translate all\n"
     ]
    },
    {
     "data": {
      "application/vnd.jupyter.widget-view+json": {
       "model_id": "241ccd9fd60249f2a077d68c2432f8e2",
       "version_major": 2,
       "version_minor": 0
      },
      "text/plain": [
       "HBox(children=(FloatProgress(value=0.0, max=11794.0), HTML(value='')))"
      ]
     },
     "metadata": {},
     "output_type": "display_data"
    },
    {
     "name": "stdout",
     "output_type": "stream",
     "text": [
      "\n",
      "Save new translations to: /home/ki-mo/shared/gitviews/extern/GermanWave2Vec/datasets/common-voice-de-01v30/content-translated-with_original.csv\n",
      "Calculate WER\n"
     ]
    },
    {
     "name": "stderr",
     "output_type": "stream",
     "text": [
      "W&B installed but not logged in. Run `wandb login` or set the WANDB_API_KEY env variable.\n"
     ]
    },
    {
     "name": "stdout",
     "output_type": "stream",
     "text": [
      "WER: 13.5578%\n",
      "No. of bad translated snippets: 5544\n",
      "Saving diff files\n",
      "Actual number of bad translated 5544\n",
      "Actual WER: 13.5578%\n",
      " - 5544 Entries left after Length Cut (min=31, max=1200)\n",
      " - 1600 left after Entries Max Samples Cut (max=1600)\n",
      "Creating Trainer for common-voice-de-01v30\n",
      "Training of Dataset: common-voice-de-01v30\n"
     ]
    },
    {
     "data": {
      "text/html": [
       "\n",
       "    <div>\n",
       "        <style>\n",
       "            /* Turns off some styling */\n",
       "            progress {\n",
       "                /* gets rid of default border in Firefox and Opera. */\n",
       "                border: none;\n",
       "                /* Needs to be in here for Safari polyfill so background images work as expected. */\n",
       "                background-size: auto;\n",
       "            }\n",
       "        </style>\n",
       "      \n",
       "      <progress value='400' max='400' style='width:300px; height:20px; vertical-align: middle;'></progress>\n",
       "      [400/400 04:54, Epoch 2/2]\n",
       "    </div>\n",
       "    <table border=\"1\" class=\"dataframe\">\n",
       "  <thead>\n",
       "    <tr style=\"text-align: left;\">\n",
       "      <th>Step</th>\n",
       "      <th>Training Loss</th>\n",
       "      <th>Validation Loss</th>\n",
       "      <th>Wer</th>\n",
       "      <th>Runtime</th>\n",
       "      <th>Samples Per Second</th>\n",
       "    </tr>\n",
       "  </thead>\n",
       "  <tbody>\n",
       "    <tr>\n",
       "      <td>100</td>\n",
       "      <td>0.427100</td>\n",
       "      <td>0.209297</td>\n",
       "      <td>0.145251</td>\n",
       "      <td>2.476200</td>\n",
       "      <td>8.077000</td>\n",
       "    </tr>\n",
       "    <tr>\n",
       "      <td>200</td>\n",
       "      <td>0.447900</td>\n",
       "      <td>0.203859</td>\n",
       "      <td>0.139665</td>\n",
       "      <td>2.473500</td>\n",
       "      <td>8.086000</td>\n",
       "    </tr>\n",
       "    <tr>\n",
       "      <td>300</td>\n",
       "      <td>0.375100</td>\n",
       "      <td>0.193063</td>\n",
       "      <td>0.145251</td>\n",
       "      <td>2.486600</td>\n",
       "      <td>8.043000</td>\n",
       "    </tr>\n",
       "    <tr>\n",
       "      <td>400</td>\n",
       "      <td>0.438500</td>\n",
       "      <td>0.192543</td>\n",
       "      <td>0.150838</td>\n",
       "      <td>2.494800</td>\n",
       "      <td>8.017000</td>\n",
       "    </tr>\n",
       "  </tbody>\n",
       "</table><p>"
      ],
      "text/plain": [
       "<IPython.core.display.HTML object>"
      ]
     },
     "metadata": {},
     "output_type": "display_data"
    },
    {
     "name": "stdout",
     "output_type": "stream",
     "text": [
      "Save Model\n",
      "**************************************\n",
      "Starting round 3 of 4, epoche 2 of 3\n",
      "Splitting Dataset common-voice-de-01v30 with 11794 Entries\n",
      "aktual trained epoches: 256\n",
      "old trained epoches: 255\n",
      "old word error rate: 13.55780022446689%\n",
      "Translate all\n"
     ]
    },
    {
     "data": {
      "application/vnd.jupyter.widget-view+json": {
       "model_id": "703dacfea8374dbf96c35bbbb43f98c9",
       "version_major": 2,
       "version_minor": 0
      },
      "text/plain": [
       "HBox(children=(FloatProgress(value=0.0, max=11794.0), HTML(value='')))"
      ]
     },
     "metadata": {},
     "output_type": "display_data"
    },
    {
     "name": "stdout",
     "output_type": "stream",
     "text": [
      "\n",
      "Save new translations to: /home/ki-mo/shared/gitviews/extern/GermanWave2Vec/datasets/common-voice-de-01v30/content-translated-with_original.csv\n",
      "Calculate WER\n"
     ]
    },
    {
     "name": "stderr",
     "output_type": "stream",
     "text": [
      "W&B installed but not logged in. Run `wandb login` or set the WANDB_API_KEY env variable.\n"
     ]
    },
    {
     "name": "stdout",
     "output_type": "stream",
     "text": [
      "WER: 12.9269%\n",
      "No. of bad translated snippets: 5388\n",
      "Saving diff files\n",
      "Actual number of bad translated 5388\n",
      "Actual WER: 12.9269%\n",
      " - 5388 Entries left after Length Cut (min=31, max=1200)\n",
      " - 1600 left after Entries Max Samples Cut (max=1600)\n",
      "Creating Trainer for common-voice-de-01v30\n",
      "Training of Dataset: common-voice-de-01v30\n"
     ]
    },
    {
     "data": {
      "text/html": [
       "\n",
       "    <div>\n",
       "        <style>\n",
       "            /* Turns off some styling */\n",
       "            progress {\n",
       "                /* gets rid of default border in Firefox and Opera. */\n",
       "                border: none;\n",
       "                /* Needs to be in here for Safari polyfill so background images work as expected. */\n",
       "                background-size: auto;\n",
       "            }\n",
       "        </style>\n",
       "      \n",
       "      <progress value='400' max='400' style='width:300px; height:20px; vertical-align: middle;'></progress>\n",
       "      [400/400 04:57, Epoch 2/2]\n",
       "    </div>\n",
       "    <table border=\"1\" class=\"dataframe\">\n",
       "  <thead>\n",
       "    <tr style=\"text-align: left;\">\n",
       "      <th>Step</th>\n",
       "      <th>Training Loss</th>\n",
       "      <th>Validation Loss</th>\n",
       "      <th>Wer</th>\n",
       "      <th>Runtime</th>\n",
       "      <th>Samples Per Second</th>\n",
       "    </tr>\n",
       "  </thead>\n",
       "  <tbody>\n",
       "    <tr>\n",
       "      <td>100</td>\n",
       "      <td>0.494200</td>\n",
       "      <td>0.188574</td>\n",
       "      <td>0.139665</td>\n",
       "      <td>2.495900</td>\n",
       "      <td>8.013000</td>\n",
       "    </tr>\n",
       "    <tr>\n",
       "      <td>200</td>\n",
       "      <td>0.403600</td>\n",
       "      <td>0.189170</td>\n",
       "      <td>0.145251</td>\n",
       "      <td>2.515700</td>\n",
       "      <td>7.950000</td>\n",
       "    </tr>\n",
       "    <tr>\n",
       "      <td>300</td>\n",
       "      <td>0.434800</td>\n",
       "      <td>0.181115</td>\n",
       "      <td>0.145251</td>\n",
       "      <td>2.491100</td>\n",
       "      <td>8.029000</td>\n",
       "    </tr>\n",
       "    <tr>\n",
       "      <td>400</td>\n",
       "      <td>0.411900</td>\n",
       "      <td>0.185092</td>\n",
       "      <td>0.139665</td>\n",
       "      <td>2.516000</td>\n",
       "      <td>7.949000</td>\n",
       "    </tr>\n",
       "  </tbody>\n",
       "</table><p>"
      ],
      "text/plain": [
       "<IPython.core.display.HTML object>"
      ]
     },
     "metadata": {},
     "output_type": "display_data"
    },
    {
     "name": "stdout",
     "output_type": "stream",
     "text": [
      "Save Model\n",
      "**************************************\n",
      "Starting round 3 of 4, epoche 3 of 3\n",
      "Splitting Dataset common-voice-de-01v30 with 11794 Entries\n",
      "aktual trained epoches: 257\n",
      "old trained epoches: 256\n",
      "old word error rate: 12.926930119912575%\n",
      "Translate all\n"
     ]
    },
    {
     "data": {
      "application/vnd.jupyter.widget-view+json": {
       "model_id": "a500a35e75554d25b3ff8b33efadc8c5",
       "version_major": 2,
       "version_minor": 0
      },
      "text/plain": [
       "HBox(children=(FloatProgress(value=0.0, max=11794.0), HTML(value='')))"
      ]
     },
     "metadata": {},
     "output_type": "display_data"
    },
    {
     "name": "stdout",
     "output_type": "stream",
     "text": [
      "\n",
      "Save new translations to: /home/ki-mo/shared/gitviews/extern/GermanWave2Vec/datasets/common-voice-de-01v30/content-translated-with_original.csv\n",
      "Calculate WER\n"
     ]
    },
    {
     "name": "stderr",
     "output_type": "stream",
     "text": [
      "W&B installed but not logged in. Run `wandb login` or set the WANDB_API_KEY env variable.\n"
     ]
    },
    {
     "name": "stdout",
     "output_type": "stream",
     "text": [
      "WER: 12.7414%\n",
      "No. of bad translated snippets: 5371\n",
      "Saving diff files\n",
      "Actual number of bad translated 5371\n",
      "Actual WER: 12.7414%\n",
      " - 5371 Entries left after Length Cut (min=31, max=1200)\n",
      " - 1600 left after Entries Max Samples Cut (max=1600)\n",
      "Creating Trainer for common-voice-de-01v30\n",
      "Training of Dataset: common-voice-de-01v30\n"
     ]
    },
    {
     "data": {
      "text/html": [
       "\n",
       "    <div>\n",
       "        <style>\n",
       "            /* Turns off some styling */\n",
       "            progress {\n",
       "                /* gets rid of default border in Firefox and Opera. */\n",
       "                border: none;\n",
       "                /* Needs to be in here for Safari polyfill so background images work as expected. */\n",
       "                background-size: auto;\n",
       "            }\n",
       "        </style>\n",
       "      \n",
       "      <progress value='400' max='400' style='width:300px; height:20px; vertical-align: middle;'></progress>\n",
       "      [400/400 05:01, Epoch 2/2]\n",
       "    </div>\n",
       "    <table border=\"1\" class=\"dataframe\">\n",
       "  <thead>\n",
       "    <tr style=\"text-align: left;\">\n",
       "      <th>Step</th>\n",
       "      <th>Training Loss</th>\n",
       "      <th>Validation Loss</th>\n",
       "      <th>Wer</th>\n",
       "      <th>Runtime</th>\n",
       "      <th>Samples Per Second</th>\n",
       "    </tr>\n",
       "  </thead>\n",
       "  <tbody>\n",
       "    <tr>\n",
       "      <td>100</td>\n",
       "      <td>0.450700</td>\n",
       "      <td>0.186646</td>\n",
       "      <td>0.139665</td>\n",
       "      <td>2.511200</td>\n",
       "      <td>7.964000</td>\n",
       "    </tr>\n",
       "    <tr>\n",
       "      <td>200</td>\n",
       "      <td>0.398200</td>\n",
       "      <td>0.155758</td>\n",
       "      <td>0.150838</td>\n",
       "      <td>2.500000</td>\n",
       "      <td>8.000000</td>\n",
       "    </tr>\n",
       "    <tr>\n",
       "      <td>300</td>\n",
       "      <td>0.406700</td>\n",
       "      <td>0.155748</td>\n",
       "      <td>0.156425</td>\n",
       "      <td>2.515800</td>\n",
       "      <td>7.950000</td>\n",
       "    </tr>\n",
       "    <tr>\n",
       "      <td>400</td>\n",
       "      <td>0.379700</td>\n",
       "      <td>0.137829</td>\n",
       "      <td>0.167598</td>\n",
       "      <td>2.458000</td>\n",
       "      <td>8.137000</td>\n",
       "    </tr>\n",
       "  </tbody>\n",
       "</table><p>"
      ],
      "text/plain": [
       "<IPython.core.display.HTML object>"
      ]
     },
     "metadata": {},
     "output_type": "display_data"
    },
    {
     "name": "stdout",
     "output_type": "stream",
     "text": [
      "Save Model\n",
      "final check und update of common-voice-de-01v30\n",
      "aktual trained epoches: 258\n",
      "old trained epoches: 257\n",
      "old word error rate: 12.741449583554848%\n",
      "Translate all\n"
     ]
    },
    {
     "data": {
      "application/vnd.jupyter.widget-view+json": {
       "model_id": "f2d90c8789b7494199c6bd97f8a57d76",
       "version_major": 2,
       "version_minor": 0
      },
      "text/plain": [
       "HBox(children=(FloatProgress(value=0.0, max=11794.0), HTML(value='')))"
      ]
     },
     "metadata": {},
     "output_type": "display_data"
    },
    {
     "name": "stdout",
     "output_type": "stream",
     "text": [
      "\n",
      "Save new translations to: /home/ki-mo/shared/gitviews/extern/GermanWave2Vec/datasets/common-voice-de-01v30/content-translated-with_original.csv\n",
      "Calculate WER\n",
      "WER: 12.2275%\n",
      "No. of bad translated snippets: 5215\n",
      "Saving diff files\n",
      "Actual number of bad translated 5215\n",
      "Actual WER: 12.2275\n",
      "-----------------------------\n",
      "Loading Dataset: common-voice-de-02v30 - /home/ki-mo/shared/gitviews/extern/GermanWave2Vec/datasets/common-voice-de-02v30/content-translated-with_original.csv\n",
      "Pruning Dataset common-voice-de-02v30 with 11906 Entries\n",
      " - 11906 Entries left after Length Cut (min=31, max=4000)\n",
      " - 11906 Entries left after Action Cut\n",
      "Dataset - common-voice-de-02v30 loaded with 11906 Entries\n",
      "**************************************\n",
      "Starting round 3 of 4, epoche 1 of 3\n",
      "Splitting Dataset common-voice-de-02v30 with 11906 Entries\n",
      "aktual trained epoches: 258\n",
      "old trained epoches: 231\n",
      "old word error rate: 13.168982936424797%\n",
      "Translate all\n"
     ]
    },
    {
     "data": {
      "application/vnd.jupyter.widget-view+json": {
       "model_id": "bf96ed5d1e51412f95b7fa0efbd330ca",
       "version_major": 2,
       "version_minor": 0
      },
      "text/plain": [
       "HBox(children=(FloatProgress(value=0.0, max=11906.0), HTML(value='')))"
      ]
     },
     "metadata": {},
     "output_type": "display_data"
    },
    {
     "name": "stdout",
     "output_type": "stream",
     "text": [
      "\n",
      "Save new translations to: /home/ki-mo/shared/gitviews/extern/GermanWave2Vec/datasets/common-voice-de-02v30/content-translated-with_original.csv\n",
      "Calculate WER\n"
     ]
    },
    {
     "name": "stderr",
     "output_type": "stream",
     "text": [
      "W&B installed but not logged in. Run `wandb login` or set the WANDB_API_KEY env variable.\n"
     ]
    },
    {
     "name": "stdout",
     "output_type": "stream",
     "text": [
      "WER: 11.8991%\n",
      "No. of bad translated snippets: 5339\n",
      "Saving diff files\n",
      "Actual number of bad translated 5339\n",
      "Actual WER: 11.8991%\n",
      " - 5339 Entries left after Length Cut (min=31, max=1200)\n",
      " - 1600 left after Entries Max Samples Cut (max=1600)\n",
      "Creating Trainer for common-voice-de-02v30\n",
      "Training of Dataset: common-voice-de-02v30\n"
     ]
    },
    {
     "data": {
      "text/html": [
       "\n",
       "    <div>\n",
       "        <style>\n",
       "            /* Turns off some styling */\n",
       "            progress {\n",
       "                /* gets rid of default border in Firefox and Opera. */\n",
       "                border: none;\n",
       "                /* Needs to be in here for Safari polyfill so background images work as expected. */\n",
       "                background-size: auto;\n",
       "            }\n",
       "        </style>\n",
       "      \n",
       "      <progress value='400' max='400' style='width:300px; height:20px; vertical-align: middle;'></progress>\n",
       "      [400/400 04:44, Epoch 2/2]\n",
       "    </div>\n",
       "    <table border=\"1\" class=\"dataframe\">\n",
       "  <thead>\n",
       "    <tr style=\"text-align: left;\">\n",
       "      <th>Step</th>\n",
       "      <th>Training Loss</th>\n",
       "      <th>Validation Loss</th>\n",
       "      <th>Wer</th>\n",
       "      <th>Runtime</th>\n",
       "      <th>Samples Per Second</th>\n",
       "    </tr>\n",
       "  </thead>\n",
       "  <tbody>\n",
       "    <tr>\n",
       "      <td>100</td>\n",
       "      <td>0.355900</td>\n",
       "      <td>0.075510</td>\n",
       "      <td>0.116751</td>\n",
       "      <td>2.458000</td>\n",
       "      <td>8.137000</td>\n",
       "    </tr>\n",
       "    <tr>\n",
       "      <td>200</td>\n",
       "      <td>0.371200</td>\n",
       "      <td>0.077004</td>\n",
       "      <td>0.131980</td>\n",
       "      <td>2.431400</td>\n",
       "      <td>8.226000</td>\n",
       "    </tr>\n",
       "    <tr>\n",
       "      <td>300</td>\n",
       "      <td>0.345000</td>\n",
       "      <td>0.078537</td>\n",
       "      <td>0.126904</td>\n",
       "      <td>2.423100</td>\n",
       "      <td>8.254000</td>\n",
       "    </tr>\n",
       "    <tr>\n",
       "      <td>400</td>\n",
       "      <td>0.350800</td>\n",
       "      <td>0.078533</td>\n",
       "      <td>0.126904</td>\n",
       "      <td>2.419800</td>\n",
       "      <td>8.265000</td>\n",
       "    </tr>\n",
       "  </tbody>\n",
       "</table><p>"
      ],
      "text/plain": [
       "<IPython.core.display.HTML object>"
      ]
     },
     "metadata": {},
     "output_type": "display_data"
    },
    {
     "name": "stdout",
     "output_type": "stream",
     "text": [
      "Save Model\n",
      "**************************************\n",
      "Starting round 3 of 4, epoche 2 of 3\n",
      "Splitting Dataset common-voice-de-02v30 with 11906 Entries\n",
      "aktual trained epoches: 259\n",
      "old trained epoches: 258\n",
      "old word error rate: 11.899108410736318%\n",
      "Translate all\n"
     ]
    },
    {
     "data": {
      "application/vnd.jupyter.widget-view+json": {
       "model_id": "9a294bfadd51404ca6b9b2c232e8686a",
       "version_major": 2,
       "version_minor": 0
      },
      "text/plain": [
       "HBox(children=(FloatProgress(value=0.0, max=11906.0), HTML(value='')))"
      ]
     },
     "metadata": {},
     "output_type": "display_data"
    },
    {
     "name": "stdout",
     "output_type": "stream",
     "text": [
      "\n",
      "Save new translations to: /home/ki-mo/shared/gitviews/extern/GermanWave2Vec/datasets/common-voice-de-02v30/content-translated-with_original.csv\n",
      "Calculate WER\n"
     ]
    },
    {
     "name": "stderr",
     "output_type": "stream",
     "text": [
      "W&B installed but not logged in. Run `wandb login` or set the WANDB_API_KEY env variable.\n"
     ]
    },
    {
     "name": "stdout",
     "output_type": "stream",
     "text": [
      "WER: 11.4533%\n",
      "No. of bad translated snippets: 5188\n",
      "Saving diff files\n",
      "Actual number of bad translated 5188\n",
      "Actual WER: 11.4533%\n",
      " - 5188 Entries left after Length Cut (min=31, max=1200)\n",
      " - 1600 left after Entries Max Samples Cut (max=1600)\n",
      "Creating Trainer for common-voice-de-02v30\n",
      "Training of Dataset: common-voice-de-02v30\n"
     ]
    },
    {
     "data": {
      "text/html": [
       "\n",
       "    <div>\n",
       "        <style>\n",
       "            /* Turns off some styling */\n",
       "            progress {\n",
       "                /* gets rid of default border in Firefox and Opera. */\n",
       "                border: none;\n",
       "                /* Needs to be in here for Safari polyfill so background images work as expected. */\n",
       "                background-size: auto;\n",
       "            }\n",
       "        </style>\n",
       "      \n",
       "      <progress value='400' max='400' style='width:300px; height:20px; vertical-align: middle;'></progress>\n",
       "      [400/400 04:50, Epoch 2/2]\n",
       "    </div>\n",
       "    <table border=\"1\" class=\"dataframe\">\n",
       "  <thead>\n",
       "    <tr style=\"text-align: left;\">\n",
       "      <th>Step</th>\n",
       "      <th>Training Loss</th>\n",
       "      <th>Validation Loss</th>\n",
       "      <th>Wer</th>\n",
       "      <th>Runtime</th>\n",
       "      <th>Samples Per Second</th>\n",
       "    </tr>\n",
       "  </thead>\n",
       "  <tbody>\n",
       "    <tr>\n",
       "      <td>100</td>\n",
       "      <td>0.353900</td>\n",
       "      <td>0.077162</td>\n",
       "      <td>0.121827</td>\n",
       "      <td>2.481900</td>\n",
       "      <td>8.058000</td>\n",
       "    </tr>\n",
       "    <tr>\n",
       "      <td>200</td>\n",
       "      <td>0.363900</td>\n",
       "      <td>0.078342</td>\n",
       "      <td>0.116751</td>\n",
       "      <td>2.493600</td>\n",
       "      <td>8.020000</td>\n",
       "    </tr>\n",
       "    <tr>\n",
       "      <td>300</td>\n",
       "      <td>0.356000</td>\n",
       "      <td>0.077471</td>\n",
       "      <td>0.116751</td>\n",
       "      <td>2.474400</td>\n",
       "      <td>8.083000</td>\n",
       "    </tr>\n",
       "    <tr>\n",
       "      <td>400</td>\n",
       "      <td>0.335000</td>\n",
       "      <td>0.075893</td>\n",
       "      <td>0.116751</td>\n",
       "      <td>2.464600</td>\n",
       "      <td>8.115000</td>\n",
       "    </tr>\n",
       "  </tbody>\n",
       "</table><p>"
      ],
      "text/plain": [
       "<IPython.core.display.HTML object>"
      ]
     },
     "metadata": {},
     "output_type": "display_data"
    },
    {
     "name": "stdout",
     "output_type": "stream",
     "text": [
      "Save Model\n",
      "**************************************\n",
      "Starting round 3 of 4, epoche 3 of 3\n",
      "Splitting Dataset common-voice-de-02v30 with 11906 Entries\n",
      "aktual trained epoches: 260\n",
      "old trained epoches: 259\n",
      "old word error rate: 11.453313778895174%\n",
      "Translate all\n"
     ]
    },
    {
     "data": {
      "application/vnd.jupyter.widget-view+json": {
       "model_id": "1421e37cb76f4a938248ec333a5dbd0e",
       "version_major": 2,
       "version_minor": 0
      },
      "text/plain": [
       "HBox(children=(FloatProgress(value=0.0, max=11906.0), HTML(value='')))"
      ]
     },
     "metadata": {},
     "output_type": "display_data"
    },
    {
     "name": "stdout",
     "output_type": "stream",
     "text": [
      "\n",
      "Save new translations to: /home/ki-mo/shared/gitviews/extern/GermanWave2Vec/datasets/common-voice-de-02v30/content-translated-with_original.csv\n",
      "Calculate WER\n"
     ]
    },
    {
     "name": "stderr",
     "output_type": "stream",
     "text": [
      "W&B installed but not logged in. Run `wandb login` or set the WANDB_API_KEY env variable.\n"
     ]
    },
    {
     "name": "stdout",
     "output_type": "stream",
     "text": [
      "WER: 11.1903%\n",
      "No. of bad translated snippets: 5145\n",
      "Saving diff files\n",
      "Actual number of bad translated 5145\n",
      "Actual WER: 11.1903%\n",
      " - 5145 Entries left after Length Cut (min=31, max=1200)\n",
      " - 1600 left after Entries Max Samples Cut (max=1600)\n",
      "Creating Trainer for common-voice-de-02v30\n",
      "Training of Dataset: common-voice-de-02v30\n"
     ]
    },
    {
     "data": {
      "text/html": [
       "\n",
       "    <div>\n",
       "        <style>\n",
       "            /* Turns off some styling */\n",
       "            progress {\n",
       "                /* gets rid of default border in Firefox and Opera. */\n",
       "                border: none;\n",
       "                /* Needs to be in here for Safari polyfill so background images work as expected. */\n",
       "                background-size: auto;\n",
       "            }\n",
       "        </style>\n",
       "      \n",
       "      <progress value='400' max='400' style='width:300px; height:20px; vertical-align: middle;'></progress>\n",
       "      [400/400 04:50, Epoch 2/2]\n",
       "    </div>\n",
       "    <table border=\"1\" class=\"dataframe\">\n",
       "  <thead>\n",
       "    <tr style=\"text-align: left;\">\n",
       "      <th>Step</th>\n",
       "      <th>Training Loss</th>\n",
       "      <th>Validation Loss</th>\n",
       "      <th>Wer</th>\n",
       "      <th>Runtime</th>\n",
       "      <th>Samples Per Second</th>\n",
       "    </tr>\n",
       "  </thead>\n",
       "  <tbody>\n",
       "    <tr>\n",
       "      <td>100</td>\n",
       "      <td>0.358100</td>\n",
       "      <td>0.078121</td>\n",
       "      <td>0.116751</td>\n",
       "      <td>2.486400</td>\n",
       "      <td>8.044000</td>\n",
       "    </tr>\n",
       "    <tr>\n",
       "      <td>200</td>\n",
       "      <td>0.353600</td>\n",
       "      <td>0.075733</td>\n",
       "      <td>0.121827</td>\n",
       "      <td>2.455300</td>\n",
       "      <td>8.146000</td>\n",
       "    </tr>\n",
       "    <tr>\n",
       "      <td>300</td>\n",
       "      <td>0.336500</td>\n",
       "      <td>0.078168</td>\n",
       "      <td>0.116751</td>\n",
       "      <td>2.471600</td>\n",
       "      <td>8.092000</td>\n",
       "    </tr>\n",
       "    <tr>\n",
       "      <td>400</td>\n",
       "      <td>0.331600</td>\n",
       "      <td>0.078036</td>\n",
       "      <td>0.121827</td>\n",
       "      <td>2.462200</td>\n",
       "      <td>8.123000</td>\n",
       "    </tr>\n",
       "  </tbody>\n",
       "</table><p>"
      ],
      "text/plain": [
       "<IPython.core.display.HTML object>"
      ]
     },
     "metadata": {},
     "output_type": "display_data"
    },
    {
     "name": "stdout",
     "output_type": "stream",
     "text": [
      "Save Model\n",
      "final check und update of common-voice-de-02v30\n",
      "aktual trained epoches: 261\n",
      "old trained epoches: 260\n",
      "old word error rate: 11.19026002746933%\n",
      "Translate all\n"
     ]
    },
    {
     "data": {
      "application/vnd.jupyter.widget-view+json": {
       "model_id": "0ba090c9b64f43bc8a310abbb2cdce11",
       "version_major": 2,
       "version_minor": 0
      },
      "text/plain": [
       "HBox(children=(FloatProgress(value=0.0, max=11906.0), HTML(value='')))"
      ]
     },
     "metadata": {},
     "output_type": "display_data"
    },
    {
     "name": "stdout",
     "output_type": "stream",
     "text": [
      "\n",
      "Save new translations to: /home/ki-mo/shared/gitviews/extern/GermanWave2Vec/datasets/common-voice-de-02v30/content-translated-with_original.csv\n",
      "Calculate WER\n",
      "WER: 10.7421%\n",
      "No. of bad translated snippets: 5022\n",
      "Saving diff files\n",
      "Actual number of bad translated 5022\n",
      "Actual WER: 10.7421\n",
      "-----------------------------\n",
      "Loading Dataset: common-voice-de-03v30 - /home/ki-mo/shared/gitviews/extern/GermanWave2Vec/datasets/common-voice-de-03v30/content-translated-with_original.csv\n",
      "Pruning Dataset common-voice-de-03v30 with 11954 Entries\n",
      " - 11954 Entries left after Length Cut (min=31, max=4000)\n",
      " - 11954 Entries left after Action Cut\n",
      "Dataset - common-voice-de-03v30 loaded with 11954 Entries\n",
      "**************************************\n",
      "Starting round 3 of 4, epoche 1 of 3\n",
      "Splitting Dataset common-voice-de-03v30 with 11954 Entries\n",
      "aktual trained epoches: 261\n",
      "old trained epoches: 234\n",
      "old word error rate: 12.394830839335937%\n",
      "Translate all\n"
     ]
    },
    {
     "data": {
      "application/vnd.jupyter.widget-view+json": {
       "model_id": "1f870b6df15649bc966e33c4e394bad3",
       "version_major": 2,
       "version_minor": 0
      },
      "text/plain": [
       "HBox(children=(FloatProgress(value=0.0, max=11954.0), HTML(value='')))"
      ]
     },
     "metadata": {},
     "output_type": "display_data"
    },
    {
     "name": "stdout",
     "output_type": "stream",
     "text": [
      "\n",
      "Save new translations to: /home/ki-mo/shared/gitviews/extern/GermanWave2Vec/datasets/common-voice-de-03v30/content-translated-with_original.csv\n",
      "Calculate WER\n"
     ]
    },
    {
     "name": "stderr",
     "output_type": "stream",
     "text": [
      "W&B installed but not logged in. Run `wandb login` or set the WANDB_API_KEY env variable.\n"
     ]
    },
    {
     "name": "stdout",
     "output_type": "stream",
     "text": [
      "WER: 11.3316%\n",
      "No. of bad translated snippets: 5076\n",
      "Saving diff files\n",
      "Actual number of bad translated 5076\n",
      "Actual WER: 11.3316%\n",
      " - 5076 Entries left after Length Cut (min=31, max=1200)\n",
      " - 1600 left after Entries Max Samples Cut (max=1600)\n",
      "Creating Trainer for common-voice-de-03v30\n",
      "Training of Dataset: common-voice-de-03v30\n"
     ]
    },
    {
     "data": {
      "text/html": [
       "\n",
       "    <div>\n",
       "        <style>\n",
       "            /* Turns off some styling */\n",
       "            progress {\n",
       "                /* gets rid of default border in Firefox and Opera. */\n",
       "                border: none;\n",
       "                /* Needs to be in here for Safari polyfill so background images work as expected. */\n",
       "                background-size: auto;\n",
       "            }\n",
       "        </style>\n",
       "      \n",
       "      <progress value='400' max='400' style='width:300px; height:20px; vertical-align: middle;'></progress>\n",
       "      [400/400 04:41, Epoch 2/2]\n",
       "    </div>\n",
       "    <table border=\"1\" class=\"dataframe\">\n",
       "  <thead>\n",
       "    <tr style=\"text-align: left;\">\n",
       "      <th>Step</th>\n",
       "      <th>Training Loss</th>\n",
       "      <th>Validation Loss</th>\n",
       "      <th>Wer</th>\n",
       "      <th>Runtime</th>\n",
       "      <th>Samples Per Second</th>\n",
       "    </tr>\n",
       "  </thead>\n",
       "  <tbody>\n",
       "    <tr>\n",
       "      <td>100</td>\n",
       "      <td>0.366100</td>\n",
       "      <td>0.127675</td>\n",
       "      <td>0.099138</td>\n",
       "      <td>2.433500</td>\n",
       "      <td>8.218000</td>\n",
       "    </tr>\n",
       "    <tr>\n",
       "      <td>200</td>\n",
       "      <td>0.343900</td>\n",
       "      <td>0.130213</td>\n",
       "      <td>0.099138</td>\n",
       "      <td>2.432400</td>\n",
       "      <td>8.222000</td>\n",
       "    </tr>\n",
       "    <tr>\n",
       "      <td>300</td>\n",
       "      <td>0.340700</td>\n",
       "      <td>0.131223</td>\n",
       "      <td>0.099138</td>\n",
       "      <td>2.424800</td>\n",
       "      <td>8.248000</td>\n",
       "    </tr>\n",
       "    <tr>\n",
       "      <td>400</td>\n",
       "      <td>0.330300</td>\n",
       "      <td>0.130684</td>\n",
       "      <td>0.099138</td>\n",
       "      <td>2.431300</td>\n",
       "      <td>8.226000</td>\n",
       "    </tr>\n",
       "  </tbody>\n",
       "</table><p>"
      ],
      "text/plain": [
       "<IPython.core.display.HTML object>"
      ]
     },
     "metadata": {},
     "output_type": "display_data"
    },
    {
     "name": "stdout",
     "output_type": "stream",
     "text": [
      "Save Model\n",
      "**************************************\n",
      "Starting round 3 of 4, epoche 2 of 3\n",
      "Splitting Dataset common-voice-de-03v30 with 11954 Entries\n",
      "aktual trained epoches: 262\n",
      "old trained epoches: 261\n",
      "old word error rate: 11.331569141677248%\n",
      "Translate all\n"
     ]
    },
    {
     "data": {
      "application/vnd.jupyter.widget-view+json": {
       "model_id": "944c2fa66a954592b6b71b36087d4e1e",
       "version_major": 2,
       "version_minor": 0
      },
      "text/plain": [
       "HBox(children=(FloatProgress(value=0.0, max=11954.0), HTML(value='')))"
      ]
     },
     "metadata": {},
     "output_type": "display_data"
    },
    {
     "name": "stdout",
     "output_type": "stream",
     "text": [
      "\n",
      "Save new translations to: /home/ki-mo/shared/gitviews/extern/GermanWave2Vec/datasets/common-voice-de-03v30/content-translated-with_original.csv\n",
      "Calculate WER\n"
     ]
    },
    {
     "name": "stderr",
     "output_type": "stream",
     "text": [
      "W&B installed but not logged in. Run `wandb login` or set the WANDB_API_KEY env variable.\n"
     ]
    },
    {
     "name": "stdout",
     "output_type": "stream",
     "text": [
      "WER: 10.9910%\n",
      "No. of bad translated snippets: 4970\n",
      "Saving diff files\n",
      "Actual number of bad translated 4970\n",
      "Actual WER: 10.9910%\n",
      " - 4970 Entries left after Length Cut (min=31, max=1200)\n",
      " - 1600 left after Entries Max Samples Cut (max=1600)\n",
      "Creating Trainer for common-voice-de-03v30\n",
      "Training of Dataset: common-voice-de-03v30\n"
     ]
    },
    {
     "data": {
      "text/html": [
       "\n",
       "    <div>\n",
       "        <style>\n",
       "            /* Turns off some styling */\n",
       "            progress {\n",
       "                /* gets rid of default border in Firefox and Opera. */\n",
       "                border: none;\n",
       "                /* Needs to be in here for Safari polyfill so background images work as expected. */\n",
       "                background-size: auto;\n",
       "            }\n",
       "        </style>\n",
       "      \n",
       "      <progress value='400' max='400' style='width:300px; height:20px; vertical-align: middle;'></progress>\n",
       "      [400/400 04:41, Epoch 2/2]\n",
       "    </div>\n",
       "    <table border=\"1\" class=\"dataframe\">\n",
       "  <thead>\n",
       "    <tr style=\"text-align: left;\">\n",
       "      <th>Step</th>\n",
       "      <th>Training Loss</th>\n",
       "      <th>Validation Loss</th>\n",
       "      <th>Wer</th>\n",
       "      <th>Runtime</th>\n",
       "      <th>Samples Per Second</th>\n",
       "    </tr>\n",
       "  </thead>\n",
       "  <tbody>\n",
       "    <tr>\n",
       "      <td>100</td>\n",
       "      <td>0.371700</td>\n",
       "      <td>0.129873</td>\n",
       "      <td>0.099138</td>\n",
       "      <td>2.394300</td>\n",
       "      <td>8.353000</td>\n",
       "    </tr>\n",
       "    <tr>\n",
       "      <td>200</td>\n",
       "      <td>0.368600</td>\n",
       "      <td>0.130037</td>\n",
       "      <td>0.099138</td>\n",
       "      <td>2.386900</td>\n",
       "      <td>8.379000</td>\n",
       "    </tr>\n",
       "    <tr>\n",
       "      <td>300</td>\n",
       "      <td>0.345100</td>\n",
       "      <td>0.129397</td>\n",
       "      <td>0.099138</td>\n",
       "      <td>2.377900</td>\n",
       "      <td>8.411000</td>\n",
       "    </tr>\n",
       "    <tr>\n",
       "      <td>400</td>\n",
       "      <td>0.344800</td>\n",
       "      <td>0.128902</td>\n",
       "      <td>0.099138</td>\n",
       "      <td>2.413600</td>\n",
       "      <td>8.286000</td>\n",
       "    </tr>\n",
       "  </tbody>\n",
       "</table><p>"
      ],
      "text/plain": [
       "<IPython.core.display.HTML object>"
      ]
     },
     "metadata": {},
     "output_type": "display_data"
    },
    {
     "name": "stdout",
     "output_type": "stream",
     "text": [
      "Save Model\n",
      "**************************************\n",
      "Starting round 3 of 4, epoche 3 of 3\n",
      "Splitting Dataset common-voice-de-03v30 with 11954 Entries\n",
      "aktual trained epoches: 263\n",
      "old trained epoches: 262\n",
      "old word error rate: 10.99099312914595%\n",
      "Translate all\n"
     ]
    },
    {
     "data": {
      "application/vnd.jupyter.widget-view+json": {
       "model_id": "38e9f1d1e3e940c59cb7a2f7f73ff4b3",
       "version_major": 2,
       "version_minor": 0
      },
      "text/plain": [
       "HBox(children=(FloatProgress(value=0.0, max=11954.0), HTML(value='')))"
      ]
     },
     "metadata": {},
     "output_type": "display_data"
    },
    {
     "name": "stdout",
     "output_type": "stream",
     "text": [
      "\n",
      "Save new translations to: /home/ki-mo/shared/gitviews/extern/GermanWave2Vec/datasets/common-voice-de-03v30/content-translated-with_original.csv\n",
      "Calculate WER\n"
     ]
    },
    {
     "name": "stderr",
     "output_type": "stream",
     "text": [
      "W&B installed but not logged in. Run `wandb login` or set the WANDB_API_KEY env variable.\n"
     ]
    },
    {
     "name": "stdout",
     "output_type": "stream",
     "text": [
      "WER: 10.6302%\n",
      "No. of bad translated snippets: 4890\n",
      "Saving diff files\n",
      "Actual number of bad translated 4890\n",
      "Actual WER: 10.6302%\n",
      " - 4890 Entries left after Length Cut (min=31, max=1200)\n",
      " - 1600 left after Entries Max Samples Cut (max=1600)\n",
      "Creating Trainer for common-voice-de-03v30\n",
      "Training of Dataset: common-voice-de-03v30\n"
     ]
    },
    {
     "data": {
      "text/html": [
       "\n",
       "    <div>\n",
       "        <style>\n",
       "            /* Turns off some styling */\n",
       "            progress {\n",
       "                /* gets rid of default border in Firefox and Opera. */\n",
       "                border: none;\n",
       "                /* Needs to be in here for Safari polyfill so background images work as expected. */\n",
       "                background-size: auto;\n",
       "            }\n",
       "        </style>\n",
       "      \n",
       "      <progress value='400' max='400' style='width:300px; height:20px; vertical-align: middle;'></progress>\n",
       "      [400/400 04:41, Epoch 2/2]\n",
       "    </div>\n",
       "    <table border=\"1\" class=\"dataframe\">\n",
       "  <thead>\n",
       "    <tr style=\"text-align: left;\">\n",
       "      <th>Step</th>\n",
       "      <th>Training Loss</th>\n",
       "      <th>Validation Loss</th>\n",
       "      <th>Wer</th>\n",
       "      <th>Runtime</th>\n",
       "      <th>Samples Per Second</th>\n",
       "    </tr>\n",
       "  </thead>\n",
       "  <tbody>\n",
       "    <tr>\n",
       "      <td>100</td>\n",
       "      <td>0.342800</td>\n",
       "      <td>0.134074</td>\n",
       "      <td>0.103448</td>\n",
       "      <td>2.422500</td>\n",
       "      <td>8.256000</td>\n",
       "    </tr>\n",
       "    <tr>\n",
       "      <td>200</td>\n",
       "      <td>0.344600</td>\n",
       "      <td>0.123781</td>\n",
       "      <td>0.103448</td>\n",
       "      <td>2.399500</td>\n",
       "      <td>8.335000</td>\n",
       "    </tr>\n",
       "    <tr>\n",
       "      <td>300</td>\n",
       "      <td>0.311900</td>\n",
       "      <td>0.124702</td>\n",
       "      <td>0.099138</td>\n",
       "      <td>2.370400</td>\n",
       "      <td>8.438000</td>\n",
       "    </tr>\n",
       "    <tr>\n",
       "      <td>400</td>\n",
       "      <td>0.332200</td>\n",
       "      <td>0.123648</td>\n",
       "      <td>0.099138</td>\n",
       "      <td>2.405400</td>\n",
       "      <td>8.315000</td>\n",
       "    </tr>\n",
       "  </tbody>\n",
       "</table><p>"
      ],
      "text/plain": [
       "<IPython.core.display.HTML object>"
      ]
     },
     "metadata": {},
     "output_type": "display_data"
    },
    {
     "name": "stdout",
     "output_type": "stream",
     "text": [
      "Save Model\n",
      "final check und update of common-voice-de-03v30\n",
      "aktual trained epoches: 264\n",
      "old trained epoches: 263\n",
      "old word error rate: 10.63024362458318%\n",
      "Translate all\n"
     ]
    },
    {
     "data": {
      "application/vnd.jupyter.widget-view+json": {
       "model_id": "04e7be372699469fb772478138b52eb9",
       "version_major": 2,
       "version_minor": 0
      },
      "text/plain": [
       "HBox(children=(FloatProgress(value=0.0, max=11954.0), HTML(value='')))"
      ]
     },
     "metadata": {},
     "output_type": "display_data"
    },
    {
     "name": "stdout",
     "output_type": "stream",
     "text": [
      "\n",
      "Save new translations to: /home/ki-mo/shared/gitviews/extern/GermanWave2Vec/datasets/common-voice-de-03v30/content-translated-with_original.csv\n",
      "Calculate WER\n",
      "WER: 10.2505%\n",
      "No. of bad translated snippets: 4761\n",
      "Saving diff files\n",
      "Actual number of bad translated 4761\n",
      "Actual WER: 10.2505\n",
      "-----------------------------\n",
      "Loading Dataset: common-voice-de-04v30 - /home/ki-mo/shared/gitviews/extern/GermanWave2Vec/datasets/common-voice-de-04v30/content-translated-with_original.csv\n",
      "Pruning Dataset common-voice-de-04v30 with 12162 Entries\n",
      " - 12162 Entries left after Length Cut (min=31, max=4000)\n",
      " - 12161 Entries left after Action Cut\n",
      "Dataset - common-voice-de-04v30 loaded with 12161 Entries\n",
      "**************************************\n",
      "Starting round 3 of 4, epoche 1 of 3\n",
      "Splitting Dataset common-voice-de-04v30 with 12161 Entries\n",
      "aktual trained epoches: 264\n",
      "old trained epoches: 237\n",
      "old word error rate: 11.442746259102185%\n",
      "Translate all\n"
     ]
    },
    {
     "data": {
      "application/vnd.jupyter.widget-view+json": {
       "model_id": "47170835d40544bfbc959bb17c6b03af",
       "version_major": 2,
       "version_minor": 0
      },
      "text/plain": [
       "HBox(children=(FloatProgress(value=0.0, max=12161.0), HTML(value='')))"
      ]
     },
     "metadata": {},
     "output_type": "display_data"
    },
    {
     "name": "stdout",
     "output_type": "stream",
     "text": [
      "\n",
      "Save new translations to: /home/ki-mo/shared/gitviews/extern/GermanWave2Vec/datasets/common-voice-de-04v30/content-translated-with_original.csv\n",
      "Calculate WER\n"
     ]
    },
    {
     "name": "stderr",
     "output_type": "stream",
     "text": [
      "W&B installed but not logged in. Run `wandb login` or set the WANDB_API_KEY env variable.\n"
     ]
    },
    {
     "name": "stdout",
     "output_type": "stream",
     "text": [
      "WER: 10.3569%\n",
      "No. of bad translated snippets: 5030\n",
      "Saving diff files\n",
      "Actual number of bad translated 5030\n",
      "Actual WER: 10.3569%\n",
      " - 5030 Entries left after Length Cut (min=31, max=1200)\n",
      " - 1600 left after Entries Max Samples Cut (max=1600)\n",
      "Creating Trainer for common-voice-de-04v30\n",
      "Training of Dataset: common-voice-de-04v30\n"
     ]
    },
    {
     "data": {
      "text/html": [
       "\n",
       "    <div>\n",
       "        <style>\n",
       "            /* Turns off some styling */\n",
       "            progress {\n",
       "                /* gets rid of default border in Firefox and Opera. */\n",
       "                border: none;\n",
       "                /* Needs to be in here for Safari polyfill so background images work as expected. */\n",
       "                background-size: auto;\n",
       "            }\n",
       "        </style>\n",
       "      \n",
       "      <progress value='400' max='400' style='width:300px; height:20px; vertical-align: middle;'></progress>\n",
       "      [400/400 04:36, Epoch 2/2]\n",
       "    </div>\n",
       "    <table border=\"1\" class=\"dataframe\">\n",
       "  <thead>\n",
       "    <tr style=\"text-align: left;\">\n",
       "      <th>Step</th>\n",
       "      <th>Training Loss</th>\n",
       "      <th>Validation Loss</th>\n",
       "      <th>Wer</th>\n",
       "      <th>Runtime</th>\n",
       "      <th>Samples Per Second</th>\n",
       "    </tr>\n",
       "  </thead>\n",
       "  <tbody>\n",
       "    <tr>\n",
       "      <td>100</td>\n",
       "      <td>0.344300</td>\n",
       "      <td>0.087338</td>\n",
       "      <td>0.155963</td>\n",
       "      <td>2.432000</td>\n",
       "      <td>8.224000</td>\n",
       "    </tr>\n",
       "    <tr>\n",
       "      <td>200</td>\n",
       "      <td>0.305100</td>\n",
       "      <td>0.082665</td>\n",
       "      <td>0.151376</td>\n",
       "      <td>2.435300</td>\n",
       "      <td>8.213000</td>\n",
       "    </tr>\n",
       "    <tr>\n",
       "      <td>300</td>\n",
       "      <td>0.305100</td>\n",
       "      <td>0.080548</td>\n",
       "      <td>0.142202</td>\n",
       "      <td>2.416600</td>\n",
       "      <td>8.276000</td>\n",
       "    </tr>\n",
       "    <tr>\n",
       "      <td>400</td>\n",
       "      <td>0.315800</td>\n",
       "      <td>0.081570</td>\n",
       "      <td>0.151376</td>\n",
       "      <td>2.426900</td>\n",
       "      <td>8.241000</td>\n",
       "    </tr>\n",
       "  </tbody>\n",
       "</table><p>"
      ],
      "text/plain": [
       "<IPython.core.display.HTML object>"
      ]
     },
     "metadata": {},
     "output_type": "display_data"
    },
    {
     "name": "stdout",
     "output_type": "stream",
     "text": [
      "Save Model\n",
      "**************************************\n",
      "Starting round 3 of 4, epoche 2 of 3\n",
      "Splitting Dataset common-voice-de-04v30 with 12161 Entries\n",
      "aktual trained epoches: 265\n",
      "old trained epoches: 264\n",
      "old word error rate: 10.356889732275544%\n",
      "Translate all\n"
     ]
    },
    {
     "data": {
      "application/vnd.jupyter.widget-view+json": {
       "model_id": "ad227f1b88404d37a59d4228af7de63a",
       "version_major": 2,
       "version_minor": 0
      },
      "text/plain": [
       "HBox(children=(FloatProgress(value=0.0, max=12161.0), HTML(value='')))"
      ]
     },
     "metadata": {},
     "output_type": "display_data"
    },
    {
     "name": "stdout",
     "output_type": "stream",
     "text": [
      "\n",
      "Save new translations to: /home/ki-mo/shared/gitviews/extern/GermanWave2Vec/datasets/common-voice-de-04v30/content-translated-with_original.csv\n",
      "Calculate WER\n"
     ]
    },
    {
     "name": "stderr",
     "output_type": "stream",
     "text": [
      "W&B installed but not logged in. Run `wandb login` or set the WANDB_API_KEY env variable.\n"
     ]
    },
    {
     "name": "stdout",
     "output_type": "stream",
     "text": [
      "WER: 9.9328%\n",
      "No. of bad translated snippets: 4906\n",
      "Saving diff files\n",
      "Actual number of bad translated 4906\n",
      "Actual WER: 9.9328%\n",
      " - 4906 Entries left after Length Cut (min=31, max=1200)\n",
      " - 1600 left after Entries Max Samples Cut (max=1600)\n",
      "Creating Trainer for common-voice-de-04v30\n",
      "Training of Dataset: common-voice-de-04v30\n"
     ]
    },
    {
     "data": {
      "text/html": [
       "\n",
       "    <div>\n",
       "        <style>\n",
       "            /* Turns off some styling */\n",
       "            progress {\n",
       "                /* gets rid of default border in Firefox and Opera. */\n",
       "                border: none;\n",
       "                /* Needs to be in here for Safari polyfill so background images work as expected. */\n",
       "                background-size: auto;\n",
       "            }\n",
       "        </style>\n",
       "      \n",
       "      <progress value='400' max='400' style='width:300px; height:20px; vertical-align: middle;'></progress>\n",
       "      [400/400 04:35, Epoch 2/2]\n",
       "    </div>\n",
       "    <table border=\"1\" class=\"dataframe\">\n",
       "  <thead>\n",
       "    <tr style=\"text-align: left;\">\n",
       "      <th>Step</th>\n",
       "      <th>Training Loss</th>\n",
       "      <th>Validation Loss</th>\n",
       "      <th>Wer</th>\n",
       "      <th>Runtime</th>\n",
       "      <th>Samples Per Second</th>\n",
       "    </tr>\n",
       "  </thead>\n",
       "  <tbody>\n",
       "    <tr>\n",
       "      <td>100</td>\n",
       "      <td>0.348900</td>\n",
       "      <td>0.084549</td>\n",
       "      <td>0.160550</td>\n",
       "      <td>2.470800</td>\n",
       "      <td>8.095000</td>\n",
       "    </tr>\n",
       "    <tr>\n",
       "      <td>200</td>\n",
       "      <td>0.342500</td>\n",
       "      <td>0.083496</td>\n",
       "      <td>0.169725</td>\n",
       "      <td>2.458300</td>\n",
       "      <td>8.136000</td>\n",
       "    </tr>\n",
       "    <tr>\n",
       "      <td>300</td>\n",
       "      <td>0.305100</td>\n",
       "      <td>0.082592</td>\n",
       "      <td>0.160550</td>\n",
       "      <td>2.449400</td>\n",
       "      <td>8.165000</td>\n",
       "    </tr>\n",
       "    <tr>\n",
       "      <td>400</td>\n",
       "      <td>0.323700</td>\n",
       "      <td>0.082862</td>\n",
       "      <td>0.174312</td>\n",
       "      <td>2.520400</td>\n",
       "      <td>7.935000</td>\n",
       "    </tr>\n",
       "  </tbody>\n",
       "</table><p>"
      ],
      "text/plain": [
       "<IPython.core.display.HTML object>"
      ]
     },
     "metadata": {},
     "output_type": "display_data"
    },
    {
     "name": "stdout",
     "output_type": "stream",
     "text": [
      "Save Model\n",
      "**************************************\n",
      "Starting round 3 of 4, epoche 3 of 3\n",
      "Splitting Dataset common-voice-de-04v30 with 12161 Entries\n",
      "aktual trained epoches: 266\n",
      "old trained epoches: 265\n",
      "old word error rate: 9.932783099750795%\n",
      "Translate all\n"
     ]
    },
    {
     "data": {
      "application/vnd.jupyter.widget-view+json": {
       "model_id": "9c0c557699884329b96f4c0866eb7b20",
       "version_major": 2,
       "version_minor": 0
      },
      "text/plain": [
       "HBox(children=(FloatProgress(value=0.0, max=12161.0), HTML(value='')))"
      ]
     },
     "metadata": {},
     "output_type": "display_data"
    },
    {
     "name": "stdout",
     "output_type": "stream",
     "text": [
      "\n",
      "Save new translations to: /home/ki-mo/shared/gitviews/extern/GermanWave2Vec/datasets/common-voice-de-04v30/content-translated-with_original.csv\n",
      "Calculate WER\n"
     ]
    },
    {
     "name": "stderr",
     "output_type": "stream",
     "text": [
      "W&B installed but not logged in. Run `wandb login` or set the WANDB_API_KEY env variable.\n"
     ]
    },
    {
     "name": "stdout",
     "output_type": "stream",
     "text": [
      "WER: 9.5487%\n",
      "No. of bad translated snippets: 4761\n",
      "Saving diff files\n",
      "Actual number of bad translated 4761\n",
      "Actual WER: 9.5487%\n",
      " - 4761 Entries left after Length Cut (min=31, max=1200)\n",
      " - 1600 left after Entries Max Samples Cut (max=1600)\n",
      "Creating Trainer for common-voice-de-04v30\n",
      "Training of Dataset: common-voice-de-04v30\n"
     ]
    },
    {
     "data": {
      "text/html": [
       "\n",
       "    <div>\n",
       "        <style>\n",
       "            /* Turns off some styling */\n",
       "            progress {\n",
       "                /* gets rid of default border in Firefox and Opera. */\n",
       "                border: none;\n",
       "                /* Needs to be in here for Safari polyfill so background images work as expected. */\n",
       "                background-size: auto;\n",
       "            }\n",
       "        </style>\n",
       "      \n",
       "      <progress value='400' max='400' style='width:300px; height:20px; vertical-align: middle;'></progress>\n",
       "      [400/400 04:39, Epoch 2/2]\n",
       "    </div>\n",
       "    <table border=\"1\" class=\"dataframe\">\n",
       "  <thead>\n",
       "    <tr style=\"text-align: left;\">\n",
       "      <th>Step</th>\n",
       "      <th>Training Loss</th>\n",
       "      <th>Validation Loss</th>\n",
       "      <th>Wer</th>\n",
       "      <th>Runtime</th>\n",
       "      <th>Samples Per Second</th>\n",
       "    </tr>\n",
       "  </thead>\n",
       "  <tbody>\n",
       "    <tr>\n",
       "      <td>100</td>\n",
       "      <td>0.313800</td>\n",
       "      <td>0.080241</td>\n",
       "      <td>0.151376</td>\n",
       "      <td>2.470900</td>\n",
       "      <td>8.094000</td>\n",
       "    </tr>\n",
       "    <tr>\n",
       "      <td>200</td>\n",
       "      <td>0.319600</td>\n",
       "      <td>0.076007</td>\n",
       "      <td>0.151376</td>\n",
       "      <td>2.450800</td>\n",
       "      <td>8.161000</td>\n",
       "    </tr>\n",
       "    <tr>\n",
       "      <td>300</td>\n",
       "      <td>0.311700</td>\n",
       "      <td>0.074851</td>\n",
       "      <td>0.142202</td>\n",
       "      <td>2.448500</td>\n",
       "      <td>8.168000</td>\n",
       "    </tr>\n",
       "    <tr>\n",
       "      <td>400</td>\n",
       "      <td>0.288100</td>\n",
       "      <td>0.074848</td>\n",
       "      <td>0.151376</td>\n",
       "      <td>2.447700</td>\n",
       "      <td>8.171000</td>\n",
       "    </tr>\n",
       "  </tbody>\n",
       "</table><p>"
      ],
      "text/plain": [
       "<IPython.core.display.HTML object>"
      ]
     },
     "metadata": {},
     "output_type": "display_data"
    },
    {
     "name": "stdout",
     "output_type": "stream",
     "text": [
      "Save Model\n",
      "final check und update of common-voice-de-04v30\n",
      "aktual trained epoches: 267\n",
      "old trained epoches: 266\n",
      "old word error rate: 9.54868652689819%\n",
      "Translate all\n"
     ]
    },
    {
     "data": {
      "application/vnd.jupyter.widget-view+json": {
       "model_id": "07f8c5da12344eb5ba7f77b1ddfe78e8",
       "version_major": 2,
       "version_minor": 0
      },
      "text/plain": [
       "HBox(children=(FloatProgress(value=0.0, max=12161.0), HTML(value='')))"
      ]
     },
     "metadata": {},
     "output_type": "display_data"
    },
    {
     "name": "stdout",
     "output_type": "stream",
     "text": [
      "\n",
      "Save new translations to: /home/ki-mo/shared/gitviews/extern/GermanWave2Vec/datasets/common-voice-de-04v30/content-translated-with_original.csv\n",
      "Calculate WER\n",
      "WER: 9.4081%\n",
      "No. of bad translated snippets: 4732\n",
      "Saving diff files\n",
      "Actual number of bad translated 4732\n",
      "Actual WER: 9.4081\n",
      "-----------------------------\n",
      "Loading Dataset: common-voice-de-05v30 - /home/ki-mo/shared/gitviews/extern/GermanWave2Vec/datasets/common-voice-de-05v30/content-translated-with_original.csv\n",
      "Pruning Dataset common-voice-de-05v30 with 11957 Entries\n",
      " - 11957 Entries left after Length Cut (min=31, max=4000)\n",
      " - 11956 Entries left after Action Cut\n",
      "Dataset - common-voice-de-05v30 loaded with 11956 Entries\n",
      "**************************************\n",
      "Starting round 3 of 4, epoche 1 of 3\n",
      "Splitting Dataset common-voice-de-05v30 with 11956 Entries\n",
      "aktual trained epoches: 267\n",
      "old trained epoches: 240\n",
      "old word error rate: 11.039777468706538%\n",
      "Translate all\n"
     ]
    },
    {
     "data": {
      "application/vnd.jupyter.widget-view+json": {
       "model_id": "4491bebfdcf34bdfb03165ba27df3b3d",
       "version_major": 2,
       "version_minor": 0
      },
      "text/plain": [
       "HBox(children=(FloatProgress(value=0.0, max=11956.0), HTML(value='')))"
      ]
     },
     "metadata": {},
     "output_type": "display_data"
    },
    {
     "name": "stdout",
     "output_type": "stream",
     "text": [
      "\n",
      "Save new translations to: /home/ki-mo/shared/gitviews/extern/GermanWave2Vec/datasets/common-voice-de-05v30/content-translated-with_original.csv\n",
      "Calculate WER\n"
     ]
    },
    {
     "name": "stderr",
     "output_type": "stream",
     "text": [
      "W&B installed but not logged in. Run `wandb login` or set the WANDB_API_KEY env variable.\n"
     ]
    },
    {
     "name": "stdout",
     "output_type": "stream",
     "text": [
      "WER: 10.1358%\n",
      "No. of bad translated snippets: 5123\n",
      "Saving diff files\n",
      "Actual number of bad translated 5123\n",
      "Actual WER: 10.1358%\n",
      " - 5123 Entries left after Length Cut (min=31, max=1200)\n",
      " - 1600 left after Entries Max Samples Cut (max=1600)\n",
      "Creating Trainer for common-voice-de-05v30\n",
      "Training of Dataset: common-voice-de-05v30\n"
     ]
    },
    {
     "data": {
      "text/html": [
       "\n",
       "    <div>\n",
       "        <style>\n",
       "            /* Turns off some styling */\n",
       "            progress {\n",
       "                /* gets rid of default border in Firefox and Opera. */\n",
       "                border: none;\n",
       "                /* Needs to be in here for Safari polyfill so background images work as expected. */\n",
       "                background-size: auto;\n",
       "            }\n",
       "        </style>\n",
       "      \n",
       "      <progress value='400' max='400' style='width:300px; height:20px; vertical-align: middle;'></progress>\n",
       "      [400/400 04:35, Epoch 2/2]\n",
       "    </div>\n",
       "    <table border=\"1\" class=\"dataframe\">\n",
       "  <thead>\n",
       "    <tr style=\"text-align: left;\">\n",
       "      <th>Step</th>\n",
       "      <th>Training Loss</th>\n",
       "      <th>Validation Loss</th>\n",
       "      <th>Wer</th>\n",
       "      <th>Runtime</th>\n",
       "      <th>Samples Per Second</th>\n",
       "    </tr>\n",
       "  </thead>\n",
       "  <tbody>\n",
       "    <tr>\n",
       "      <td>100</td>\n",
       "      <td>0.331000</td>\n",
       "      <td>0.109223</td>\n",
       "      <td>0.126761</td>\n",
       "      <td>2.413100</td>\n",
       "      <td>8.288000</td>\n",
       "    </tr>\n",
       "    <tr>\n",
       "      <td>200</td>\n",
       "      <td>0.339500</td>\n",
       "      <td>0.110706</td>\n",
       "      <td>0.131455</td>\n",
       "      <td>2.425800</td>\n",
       "      <td>8.245000</td>\n",
       "    </tr>\n",
       "    <tr>\n",
       "      <td>300</td>\n",
       "      <td>0.296200</td>\n",
       "      <td>0.106227</td>\n",
       "      <td>0.131455</td>\n",
       "      <td>2.399200</td>\n",
       "      <td>8.336000</td>\n",
       "    </tr>\n",
       "    <tr>\n",
       "      <td>400</td>\n",
       "      <td>0.318300</td>\n",
       "      <td>0.105202</td>\n",
       "      <td>0.136150</td>\n",
       "      <td>2.399500</td>\n",
       "      <td>8.335000</td>\n",
       "    </tr>\n",
       "  </tbody>\n",
       "</table><p>"
      ],
      "text/plain": [
       "<IPython.core.display.HTML object>"
      ]
     },
     "metadata": {},
     "output_type": "display_data"
    },
    {
     "name": "stdout",
     "output_type": "stream",
     "text": [
      "Save Model\n",
      "**************************************\n",
      "Starting round 3 of 4, epoche 2 of 3\n",
      "Splitting Dataset common-voice-de-05v30 with 11956 Entries\n",
      "aktual trained epoches: 268\n",
      "old trained epoches: 267\n",
      "old word error rate: 10.135751641259597%\n",
      "Translate all\n"
     ]
    },
    {
     "data": {
      "application/vnd.jupyter.widget-view+json": {
       "model_id": "366773344b20449d8b3da747cd3ce63d",
       "version_major": 2,
       "version_minor": 0
      },
      "text/plain": [
       "HBox(children=(FloatProgress(value=0.0, max=11956.0), HTML(value='')))"
      ]
     },
     "metadata": {},
     "output_type": "display_data"
    },
    {
     "name": "stdout",
     "output_type": "stream",
     "text": [
      "\n",
      "Save new translations to: /home/ki-mo/shared/gitviews/extern/GermanWave2Vec/datasets/common-voice-de-05v30/content-translated-with_original.csv\n",
      "Calculate WER\n"
     ]
    },
    {
     "name": "stderr",
     "output_type": "stream",
     "text": [
      "W&B installed but not logged in. Run `wandb login` or set the WANDB_API_KEY env variable.\n"
     ]
    },
    {
     "name": "stdout",
     "output_type": "stream",
     "text": [
      "WER: 9.7674%\n",
      "No. of bad translated snippets: 5014\n",
      "Saving diff files\n",
      "Actual number of bad translated 5014\n",
      "Actual WER: 9.7674%\n",
      " - 5014 Entries left after Length Cut (min=31, max=1200)\n",
      " - 1600 left after Entries Max Samples Cut (max=1600)\n",
      "Creating Trainer for common-voice-de-05v30\n",
      "Training of Dataset: common-voice-de-05v30\n"
     ]
    },
    {
     "data": {
      "text/html": [
       "\n",
       "    <div>\n",
       "        <style>\n",
       "            /* Turns off some styling */\n",
       "            progress {\n",
       "                /* gets rid of default border in Firefox and Opera. */\n",
       "                border: none;\n",
       "                /* Needs to be in here for Safari polyfill so background images work as expected. */\n",
       "                background-size: auto;\n",
       "            }\n",
       "        </style>\n",
       "      \n",
       "      <progress value='400' max='400' style='width:300px; height:20px; vertical-align: middle;'></progress>\n",
       "      [400/400 04:33, Epoch 2/2]\n",
       "    </div>\n",
       "    <table border=\"1\" class=\"dataframe\">\n",
       "  <thead>\n",
       "    <tr style=\"text-align: left;\">\n",
       "      <th>Step</th>\n",
       "      <th>Training Loss</th>\n",
       "      <th>Validation Loss</th>\n",
       "      <th>Wer</th>\n",
       "      <th>Runtime</th>\n",
       "      <th>Samples Per Second</th>\n",
       "    </tr>\n",
       "  </thead>\n",
       "  <tbody>\n",
       "    <tr>\n",
       "      <td>100</td>\n",
       "      <td>0.330800</td>\n",
       "      <td>0.102368</td>\n",
       "      <td>0.122066</td>\n",
       "      <td>2.444600</td>\n",
       "      <td>8.181000</td>\n",
       "    </tr>\n",
       "    <tr>\n",
       "      <td>200</td>\n",
       "      <td>0.321000</td>\n",
       "      <td>0.103190</td>\n",
       "      <td>0.122066</td>\n",
       "      <td>2.405300</td>\n",
       "      <td>8.315000</td>\n",
       "    </tr>\n",
       "    <tr>\n",
       "      <td>300</td>\n",
       "      <td>0.309400</td>\n",
       "      <td>0.104320</td>\n",
       "      <td>0.122066</td>\n",
       "      <td>2.403700</td>\n",
       "      <td>8.320000</td>\n",
       "    </tr>\n",
       "    <tr>\n",
       "      <td>400</td>\n",
       "      <td>0.308100</td>\n",
       "      <td>0.106901</td>\n",
       "      <td>0.131455</td>\n",
       "      <td>2.413100</td>\n",
       "      <td>8.288000</td>\n",
       "    </tr>\n",
       "  </tbody>\n",
       "</table><p>"
      ],
      "text/plain": [
       "<IPython.core.display.HTML object>"
      ]
     },
     "metadata": {},
     "output_type": "display_data"
    },
    {
     "name": "stdout",
     "output_type": "stream",
     "text": [
      "Save Model\n",
      "**************************************\n",
      "Starting round 3 of 4, epoche 3 of 3\n",
      "Splitting Dataset common-voice-de-05v30 with 11956 Entries\n",
      "aktual trained epoches: 269\n",
      "old trained epoches: 268\n",
      "old word error rate: 9.767441860465116%\n",
      "Translate all\n"
     ]
    },
    {
     "data": {
      "application/vnd.jupyter.widget-view+json": {
       "model_id": "fa62c771ba484094bc473a97097a4e45",
       "version_major": 2,
       "version_minor": 0
      },
      "text/plain": [
       "HBox(children=(FloatProgress(value=0.0, max=11956.0), HTML(value='')))"
      ]
     },
     "metadata": {},
     "output_type": "display_data"
    },
    {
     "name": "stdout",
     "output_type": "stream",
     "text": [
      "\n",
      "Save new translations to: /home/ki-mo/shared/gitviews/extern/GermanWave2Vec/datasets/common-voice-de-05v30/content-translated-with_original.csv\n",
      "Calculate WER\n"
     ]
    },
    {
     "name": "stderr",
     "output_type": "stream",
     "text": [
      "W&B installed but not logged in. Run `wandb login` or set the WANDB_API_KEY env variable.\n"
     ]
    },
    {
     "name": "stdout",
     "output_type": "stream",
     "text": [
      "WER: 9.3402%\n",
      "No. of bad translated snippets: 4841\n",
      "Saving diff files\n",
      "Actual number of bad translated 4841\n",
      "Actual WER: 9.3402%\n",
      " - 4841 Entries left after Length Cut (min=31, max=1200)\n",
      " - 1600 left after Entries Max Samples Cut (max=1600)\n",
      "Creating Trainer for common-voice-de-05v30\n",
      "Training of Dataset: common-voice-de-05v30\n"
     ]
    },
    {
     "data": {
      "text/html": [
       "\n",
       "    <div>\n",
       "        <style>\n",
       "            /* Turns off some styling */\n",
       "            progress {\n",
       "                /* gets rid of default border in Firefox and Opera. */\n",
       "                border: none;\n",
       "                /* Needs to be in here for Safari polyfill so background images work as expected. */\n",
       "                background-size: auto;\n",
       "            }\n",
       "        </style>\n",
       "      \n",
       "      <progress value='400' max='400' style='width:300px; height:20px; vertical-align: middle;'></progress>\n",
       "      [400/400 04:33, Epoch 2/2]\n",
       "    </div>\n",
       "    <table border=\"1\" class=\"dataframe\">\n",
       "  <thead>\n",
       "    <tr style=\"text-align: left;\">\n",
       "      <th>Step</th>\n",
       "      <th>Training Loss</th>\n",
       "      <th>Validation Loss</th>\n",
       "      <th>Wer</th>\n",
       "      <th>Runtime</th>\n",
       "      <th>Samples Per Second</th>\n",
       "    </tr>\n",
       "  </thead>\n",
       "  <tbody>\n",
       "    <tr>\n",
       "      <td>100</td>\n",
       "      <td>0.335000</td>\n",
       "      <td>0.103988</td>\n",
       "      <td>0.126761</td>\n",
       "      <td>2.405500</td>\n",
       "      <td>8.314000</td>\n",
       "    </tr>\n",
       "    <tr>\n",
       "      <td>200</td>\n",
       "      <td>0.333200</td>\n",
       "      <td>0.106750</td>\n",
       "      <td>0.136150</td>\n",
       "      <td>2.403500</td>\n",
       "      <td>8.321000</td>\n",
       "    </tr>\n",
       "    <tr>\n",
       "      <td>300</td>\n",
       "      <td>0.298000</td>\n",
       "      <td>0.108302</td>\n",
       "      <td>0.126761</td>\n",
       "      <td>2.395800</td>\n",
       "      <td>8.348000</td>\n",
       "    </tr>\n",
       "    <tr>\n",
       "      <td>400</td>\n",
       "      <td>0.325200</td>\n",
       "      <td>0.107387</td>\n",
       "      <td>0.122066</td>\n",
       "      <td>2.402700</td>\n",
       "      <td>8.324000</td>\n",
       "    </tr>\n",
       "  </tbody>\n",
       "</table><p>"
      ],
      "text/plain": [
       "<IPython.core.display.HTML object>"
      ]
     },
     "metadata": {},
     "output_type": "display_data"
    },
    {
     "name": "stdout",
     "output_type": "stream",
     "text": [
      "Save Model\n",
      "final check und update of common-voice-de-05v30\n",
      "aktual trained epoches: 270\n",
      "old trained epoches: 269\n",
      "old word error rate: 9.340158006008679%\n",
      "Translate all\n"
     ]
    },
    {
     "data": {
      "application/vnd.jupyter.widget-view+json": {
       "model_id": "27a9546187104159a75f883021817995",
       "version_major": 2,
       "version_minor": 0
      },
      "text/plain": [
       "HBox(children=(FloatProgress(value=0.0, max=11956.0), HTML(value='')))"
      ]
     },
     "metadata": {},
     "output_type": "display_data"
    },
    {
     "name": "stdout",
     "output_type": "stream",
     "text": [
      "\n",
      "Save new translations to: /home/ki-mo/shared/gitviews/extern/GermanWave2Vec/datasets/common-voice-de-05v30/content-translated-with_original.csv\n",
      "Calculate WER\n",
      "WER: 9.0219%\n",
      "No. of bad translated snippets: 4721\n",
      "Saving diff files\n",
      "Actual number of bad translated 4721\n",
      "Actual WER: 9.0219\n",
      "-----------------------------\n",
      "Loading Dataset: common-voice-de-06v30 - /home/ki-mo/shared/gitviews/extern/GermanWave2Vec/datasets/common-voice-de-06v30/content-translated-with_original.csv\n",
      "Pruning Dataset common-voice-de-06v30 with 12262 Entries\n",
      " - 12262 Entries left after Length Cut (min=31, max=4000)\n",
      " - 12262 Entries left after Action Cut\n",
      "Dataset - common-voice-de-06v30 loaded with 12262 Entries\n",
      "**************************************\n",
      "Starting round 3 of 4, epoche 1 of 3\n",
      "Splitting Dataset common-voice-de-06v30 with 12262 Entries\n",
      "aktual trained epoches: 270\n",
      "old trained epoches: 243\n",
      "old word error rate: 11.10221369943841%\n",
      "Translate all\n"
     ]
    },
    {
     "data": {
      "application/vnd.jupyter.widget-view+json": {
       "model_id": "6ee5df4049bb43afa09f8b2e3f5af2b8",
       "version_major": 2,
       "version_minor": 0
      },
      "text/plain": [
       "HBox(children=(FloatProgress(value=0.0, max=12262.0), HTML(value='')))"
      ]
     },
     "metadata": {},
     "output_type": "display_data"
    },
    {
     "name": "stdout",
     "output_type": "stream",
     "text": [
      "\n",
      "Save new translations to: /home/ki-mo/shared/gitviews/extern/GermanWave2Vec/datasets/common-voice-de-06v30/content-translated-with_original.csv\n",
      "Calculate WER\n"
     ]
    },
    {
     "name": "stderr",
     "output_type": "stream",
     "text": [
      "W&B installed but not logged in. Run `wandb login` or set the WANDB_API_KEY env variable.\n"
     ]
    },
    {
     "name": "stdout",
     "output_type": "stream",
     "text": [
      "WER: 10.2361%\n",
      "No. of bad translated snippets: 5306\n",
      "Saving diff files\n",
      "Actual number of bad translated 5306\n",
      "Actual WER: 10.2361%\n",
      " - 5306 Entries left after Length Cut (min=31, max=1200)\n",
      " - 1600 left after Entries Max Samples Cut (max=1600)\n",
      "Creating Trainer for common-voice-de-06v30\n",
      "Training of Dataset: common-voice-de-06v30\n"
     ]
    },
    {
     "data": {
      "text/html": [
       "\n",
       "    <div>\n",
       "        <style>\n",
       "            /* Turns off some styling */\n",
       "            progress {\n",
       "                /* gets rid of default border in Firefox and Opera. */\n",
       "                border: none;\n",
       "                /* Needs to be in here for Safari polyfill so background images work as expected. */\n",
       "                background-size: auto;\n",
       "            }\n",
       "        </style>\n",
       "      \n",
       "      <progress value='400' max='400' style='width:300px; height:20px; vertical-align: middle;'></progress>\n",
       "      [400/400 04:28, Epoch 2/2]\n",
       "    </div>\n",
       "    <table border=\"1\" class=\"dataframe\">\n",
       "  <thead>\n",
       "    <tr style=\"text-align: left;\">\n",
       "      <th>Step</th>\n",
       "      <th>Training Loss</th>\n",
       "      <th>Validation Loss</th>\n",
       "      <th>Wer</th>\n",
       "      <th>Runtime</th>\n",
       "      <th>Samples Per Second</th>\n",
       "    </tr>\n",
       "  </thead>\n",
       "  <tbody>\n",
       "    <tr>\n",
       "      <td>100</td>\n",
       "      <td>0.336300</td>\n",
       "      <td>0.067476</td>\n",
       "      <td>0.130802</td>\n",
       "      <td>2.373000</td>\n",
       "      <td>8.428000</td>\n",
       "    </tr>\n",
       "    <tr>\n",
       "      <td>200</td>\n",
       "      <td>0.335400</td>\n",
       "      <td>0.064406</td>\n",
       "      <td>0.126582</td>\n",
       "      <td>2.365600</td>\n",
       "      <td>8.455000</td>\n",
       "    </tr>\n",
       "    <tr>\n",
       "      <td>300</td>\n",
       "      <td>0.322900</td>\n",
       "      <td>0.065456</td>\n",
       "      <td>0.122363</td>\n",
       "      <td>2.359300</td>\n",
       "      <td>8.477000</td>\n",
       "    </tr>\n",
       "    <tr>\n",
       "      <td>400</td>\n",
       "      <td>0.332500</td>\n",
       "      <td>0.064871</td>\n",
       "      <td>0.122363</td>\n",
       "      <td>2.378000</td>\n",
       "      <td>8.410000</td>\n",
       "    </tr>\n",
       "  </tbody>\n",
       "</table><p>"
      ],
      "text/plain": [
       "<IPython.core.display.HTML object>"
      ]
     },
     "metadata": {},
     "output_type": "display_data"
    },
    {
     "name": "stdout",
     "output_type": "stream",
     "text": [
      "Save Model\n",
      "**************************************\n",
      "Starting round 3 of 4, epoche 2 of 3\n",
      "Splitting Dataset common-voice-de-06v30 with 12262 Entries\n",
      "aktual trained epoches: 271\n",
      "old trained epoches: 270\n",
      "old word error rate: 10.236120915824632%\n",
      "Translate all\n"
     ]
    },
    {
     "data": {
      "application/vnd.jupyter.widget-view+json": {
       "model_id": "18571de81ae348cba533c81650c20493",
       "version_major": 2,
       "version_minor": 0
      },
      "text/plain": [
       "HBox(children=(FloatProgress(value=0.0, max=12262.0), HTML(value='')))"
      ]
     },
     "metadata": {},
     "output_type": "display_data"
    },
    {
     "name": "stdout",
     "output_type": "stream",
     "text": [
      "\n",
      "Save new translations to: /home/ki-mo/shared/gitviews/extern/GermanWave2Vec/datasets/common-voice-de-06v30/content-translated-with_original.csv\n",
      "Calculate WER\n"
     ]
    },
    {
     "name": "stderr",
     "output_type": "stream",
     "text": [
      "W&B installed but not logged in. Run `wandb login` or set the WANDB_API_KEY env variable.\n"
     ]
    },
    {
     "name": "stdout",
     "output_type": "stream",
     "text": [
      "WER: 9.8779%\n",
      "No. of bad translated snippets: 5189\n",
      "Saving diff files\n",
      "Actual number of bad translated 5189\n",
      "Actual WER: 9.8779%\n",
      " - 5189 Entries left after Length Cut (min=31, max=1200)\n",
      " - 1600 left after Entries Max Samples Cut (max=1600)\n",
      "Creating Trainer for common-voice-de-06v30\n",
      "Training of Dataset: common-voice-de-06v30\n"
     ]
    },
    {
     "data": {
      "text/html": [
       "\n",
       "    <div>\n",
       "        <style>\n",
       "            /* Turns off some styling */\n",
       "            progress {\n",
       "                /* gets rid of default border in Firefox and Opera. */\n",
       "                border: none;\n",
       "                /* Needs to be in here for Safari polyfill so background images work as expected. */\n",
       "                background-size: auto;\n",
       "            }\n",
       "        </style>\n",
       "      \n",
       "      <progress value='400' max='400' style='width:300px; height:20px; vertical-align: middle;'></progress>\n",
       "      [400/400 04:27, Epoch 2/2]\n",
       "    </div>\n",
       "    <table border=\"1\" class=\"dataframe\">\n",
       "  <thead>\n",
       "    <tr style=\"text-align: left;\">\n",
       "      <th>Step</th>\n",
       "      <th>Training Loss</th>\n",
       "      <th>Validation Loss</th>\n",
       "      <th>Wer</th>\n",
       "      <th>Runtime</th>\n",
       "      <th>Samples Per Second</th>\n",
       "    </tr>\n",
       "  </thead>\n",
       "  <tbody>\n",
       "    <tr>\n",
       "      <td>100</td>\n",
       "      <td>0.347200</td>\n",
       "      <td>0.064952</td>\n",
       "      <td>0.109705</td>\n",
       "      <td>2.336600</td>\n",
       "      <td>8.559000</td>\n",
       "    </tr>\n",
       "    <tr>\n",
       "      <td>200</td>\n",
       "      <td>0.318900</td>\n",
       "      <td>0.067749</td>\n",
       "      <td>0.126582</td>\n",
       "      <td>2.352300</td>\n",
       "      <td>8.502000</td>\n",
       "    </tr>\n",
       "    <tr>\n",
       "      <td>300</td>\n",
       "      <td>0.329500</td>\n",
       "      <td>0.064462</td>\n",
       "      <td>0.122363</td>\n",
       "      <td>2.395900</td>\n",
       "      <td>8.348000</td>\n",
       "    </tr>\n",
       "    <tr>\n",
       "      <td>400</td>\n",
       "      <td>0.297900</td>\n",
       "      <td>0.063058</td>\n",
       "      <td>0.122363</td>\n",
       "      <td>2.345900</td>\n",
       "      <td>8.526000</td>\n",
       "    </tr>\n",
       "  </tbody>\n",
       "</table><p>"
      ],
      "text/plain": [
       "<IPython.core.display.HTML object>"
      ]
     },
     "metadata": {},
     "output_type": "display_data"
    },
    {
     "name": "stdout",
     "output_type": "stream",
     "text": [
      "Save Model\n",
      "**************************************\n",
      "Starting round 3 of 4, epoche 3 of 3\n",
      "Splitting Dataset common-voice-de-06v30 with 12262 Entries\n",
      "aktual trained epoches: 272\n",
      "old trained epoches: 271\n",
      "old word error rate: 9.877883024792169%\n",
      "Translate all\n"
     ]
    },
    {
     "data": {
      "application/vnd.jupyter.widget-view+json": {
       "model_id": "0b830a81a13245f8bded700138bbc2c6",
       "version_major": 2,
       "version_minor": 0
      },
      "text/plain": [
       "HBox(children=(FloatProgress(value=0.0, max=12262.0), HTML(value='')))"
      ]
     },
     "metadata": {},
     "output_type": "display_data"
    },
    {
     "name": "stdout",
     "output_type": "stream",
     "text": [
      "\n",
      "Save new translations to: /home/ki-mo/shared/gitviews/extern/GermanWave2Vec/datasets/common-voice-de-06v30/content-translated-with_original.csv\n",
      "Calculate WER\n"
     ]
    },
    {
     "name": "stderr",
     "output_type": "stream",
     "text": [
      "W&B installed but not logged in. Run `wandb login` or set the WANDB_API_KEY env variable.\n"
     ]
    },
    {
     "name": "stdout",
     "output_type": "stream",
     "text": [
      "WER: 9.6313%\n",
      "No. of bad translated snippets: 5145\n",
      "Saving diff files\n",
      "Actual number of bad translated 5145\n",
      "Actual WER: 9.6313%\n",
      " - 5145 Entries left after Length Cut (min=31, max=1200)\n",
      " - 1600 left after Entries Max Samples Cut (max=1600)\n",
      "Creating Trainer for common-voice-de-06v30\n",
      "Training of Dataset: common-voice-de-06v30\n"
     ]
    },
    {
     "data": {
      "text/html": [
       "\n",
       "    <div>\n",
       "        <style>\n",
       "            /* Turns off some styling */\n",
       "            progress {\n",
       "                /* gets rid of default border in Firefox and Opera. */\n",
       "                border: none;\n",
       "                /* Needs to be in here for Safari polyfill so background images work as expected. */\n",
       "                background-size: auto;\n",
       "            }\n",
       "        </style>\n",
       "      \n",
       "      <progress value='400' max='400' style='width:300px; height:20px; vertical-align: middle;'></progress>\n",
       "      [400/400 04:28, Epoch 2/2]\n",
       "    </div>\n",
       "    <table border=\"1\" class=\"dataframe\">\n",
       "  <thead>\n",
       "    <tr style=\"text-align: left;\">\n",
       "      <th>Step</th>\n",
       "      <th>Training Loss</th>\n",
       "      <th>Validation Loss</th>\n",
       "      <th>Wer</th>\n",
       "      <th>Runtime</th>\n",
       "      <th>Samples Per Second</th>\n",
       "    </tr>\n",
       "  </thead>\n",
       "  <tbody>\n",
       "    <tr>\n",
       "      <td>100</td>\n",
       "      <td>0.349900</td>\n",
       "      <td>0.063859</td>\n",
       "      <td>0.118143</td>\n",
       "      <td>2.350900</td>\n",
       "      <td>8.507000</td>\n",
       "    </tr>\n",
       "    <tr>\n",
       "      <td>200</td>\n",
       "      <td>0.331400</td>\n",
       "      <td>0.061573</td>\n",
       "      <td>0.118143</td>\n",
       "      <td>2.343300</td>\n",
       "      <td>8.535000</td>\n",
       "    </tr>\n",
       "    <tr>\n",
       "      <td>300</td>\n",
       "      <td>0.296800</td>\n",
       "      <td>0.059589</td>\n",
       "      <td>0.113924</td>\n",
       "      <td>2.399600</td>\n",
       "      <td>8.335000</td>\n",
       "    </tr>\n",
       "    <tr>\n",
       "      <td>400</td>\n",
       "      <td>0.334200</td>\n",
       "      <td>0.059216</td>\n",
       "      <td>0.113924</td>\n",
       "      <td>2.393900</td>\n",
       "      <td>8.355000</td>\n",
       "    </tr>\n",
       "  </tbody>\n",
       "</table><p>"
      ],
      "text/plain": [
       "<IPython.core.display.HTML object>"
      ]
     },
     "metadata": {},
     "output_type": "display_data"
    },
    {
     "name": "stdout",
     "output_type": "stream",
     "text": [
      "Save Model\n",
      "final check und update of common-voice-de-06v30\n",
      "aktual trained epoches: 273\n",
      "old trained epoches: 272\n",
      "old word error rate: 9.631331064493356%\n",
      "Translate all\n"
     ]
    },
    {
     "data": {
      "application/vnd.jupyter.widget-view+json": {
       "model_id": "8bf3f2e7790e498e84da745fde1008d7",
       "version_major": 2,
       "version_minor": 0
      },
      "text/plain": [
       "HBox(children=(FloatProgress(value=0.0, max=12262.0), HTML(value='')))"
      ]
     },
     "metadata": {},
     "output_type": "display_data"
    },
    {
     "name": "stdout",
     "output_type": "stream",
     "text": [
      "\n",
      "Save new translations to: /home/ki-mo/shared/gitviews/extern/GermanWave2Vec/datasets/common-voice-de-06v30/content-translated-with_original.csv\n",
      "Calculate WER\n",
      "WER: 9.3900%\n",
      "No. of bad translated snippets: 5073\n",
      "Saving diff files\n",
      "Actual number of bad translated 5073\n",
      "Actual WER: 9.3900\n",
      "-----------------------------\n",
      "Loading Dataset: common-voice-de-07v30 - /home/ki-mo/shared/gitviews/extern/GermanWave2Vec/datasets/common-voice-de-07v30/content-translated-with_original.csv\n",
      "Pruning Dataset common-voice-de-07v30 with 12163 Entries\n",
      " - 12163 Entries left after Length Cut (min=31, max=4000)\n",
      " - 12163 Entries left after Action Cut\n",
      "Dataset - common-voice-de-07v30 loaded with 12163 Entries\n",
      "**************************************\n",
      "Starting round 3 of 4, epoche 1 of 3\n",
      "Splitting Dataset common-voice-de-07v30 with 12163 Entries\n",
      "aktual trained epoches: 273\n",
      "old trained epoches: 246\n",
      "old word error rate: 10.499339664172066%\n",
      "Translate all\n"
     ]
    },
    {
     "data": {
      "application/vnd.jupyter.widget-view+json": {
       "model_id": "22741e5ded654957aa97408259bb0b02",
       "version_major": 2,
       "version_minor": 0
      },
      "text/plain": [
       "HBox(children=(FloatProgress(value=0.0, max=12163.0), HTML(value='')))"
      ]
     },
     "metadata": {},
     "output_type": "display_data"
    },
    {
     "name": "stdout",
     "output_type": "stream",
     "text": [
      "\n",
      "Save new translations to: /home/ki-mo/shared/gitviews/extern/GermanWave2Vec/datasets/common-voice-de-07v30/content-translated-with_original.csv\n",
      "Calculate WER\n"
     ]
    },
    {
     "name": "stderr",
     "output_type": "stream",
     "text": [
      "W&B installed but not logged in. Run `wandb login` or set the WANDB_API_KEY env variable.\n"
     ]
    },
    {
     "name": "stdout",
     "output_type": "stream",
     "text": [
      "WER: 9.7625%\n",
      "No. of bad translated snippets: 5310\n",
      "Saving diff files\n",
      "Actual number of bad translated 5310\n",
      "Actual WER: 9.7625%\n",
      " - 5310 Entries left after Length Cut (min=31, max=1200)\n",
      " - 1600 left after Entries Max Samples Cut (max=1600)\n",
      "Creating Trainer for common-voice-de-07v30\n",
      "Training of Dataset: common-voice-de-07v30\n"
     ]
    },
    {
     "data": {
      "text/html": [
       "\n",
       "    <div>\n",
       "        <style>\n",
       "            /* Turns off some styling */\n",
       "            progress {\n",
       "                /* gets rid of default border in Firefox and Opera. */\n",
       "                border: none;\n",
       "                /* Needs to be in here for Safari polyfill so background images work as expected. */\n",
       "                background-size: auto;\n",
       "            }\n",
       "        </style>\n",
       "      \n",
       "      <progress value='400' max='400' style='width:300px; height:20px; vertical-align: middle;'></progress>\n",
       "      [400/400 04:29, Epoch 2/2]\n",
       "    </div>\n",
       "    <table border=\"1\" class=\"dataframe\">\n",
       "  <thead>\n",
       "    <tr style=\"text-align: left;\">\n",
       "      <th>Step</th>\n",
       "      <th>Training Loss</th>\n",
       "      <th>Validation Loss</th>\n",
       "      <th>Wer</th>\n",
       "      <th>Runtime</th>\n",
       "      <th>Samples Per Second</th>\n",
       "    </tr>\n",
       "  </thead>\n",
       "  <tbody>\n",
       "    <tr>\n",
       "      <td>100</td>\n",
       "      <td>0.329800</td>\n",
       "      <td>0.132231</td>\n",
       "      <td>0.156028</td>\n",
       "      <td>2.374800</td>\n",
       "      <td>8.422000</td>\n",
       "    </tr>\n",
       "    <tr>\n",
       "      <td>200</td>\n",
       "      <td>0.337400</td>\n",
       "      <td>0.128061</td>\n",
       "      <td>0.156028</td>\n",
       "      <td>2.366800</td>\n",
       "      <td>8.450000</td>\n",
       "    </tr>\n",
       "    <tr>\n",
       "      <td>300</td>\n",
       "      <td>0.339600</td>\n",
       "      <td>0.124009</td>\n",
       "      <td>0.159574</td>\n",
       "      <td>2.350200</td>\n",
       "      <td>8.510000</td>\n",
       "    </tr>\n",
       "    <tr>\n",
       "      <td>400</td>\n",
       "      <td>0.324800</td>\n",
       "      <td>0.121777</td>\n",
       "      <td>0.159574</td>\n",
       "      <td>2.330900</td>\n",
       "      <td>8.580000</td>\n",
       "    </tr>\n",
       "  </tbody>\n",
       "</table><p>"
      ],
      "text/plain": [
       "<IPython.core.display.HTML object>"
      ]
     },
     "metadata": {},
     "output_type": "display_data"
    },
    {
     "name": "stdout",
     "output_type": "stream",
     "text": [
      "Save Model\n",
      "**************************************\n",
      "Starting round 3 of 4, epoche 2 of 3\n",
      "Splitting Dataset common-voice-de-07v30 with 12163 Entries\n",
      "aktual trained epoches: 274\n",
      "old trained epoches: 273\n",
      "old word error rate: 9.76248873236484%\n",
      "Translate all\n"
     ]
    },
    {
     "data": {
      "application/vnd.jupyter.widget-view+json": {
       "model_id": "7377b503975f4c6aa3c3452a7cc4cd8a",
       "version_major": 2,
       "version_minor": 0
      },
      "text/plain": [
       "HBox(children=(FloatProgress(value=0.0, max=12163.0), HTML(value='')))"
      ]
     },
     "metadata": {},
     "output_type": "display_data"
    },
    {
     "name": "stdout",
     "output_type": "stream",
     "text": [
      "\n",
      "Save new translations to: /home/ki-mo/shared/gitviews/extern/GermanWave2Vec/datasets/common-voice-de-07v30/content-translated-with_original.csv\n",
      "Calculate WER\n"
     ]
    },
    {
     "name": "stderr",
     "output_type": "stream",
     "text": [
      "W&B installed but not logged in. Run `wandb login` or set the WANDB_API_KEY env variable.\n"
     ]
    },
    {
     "name": "stdout",
     "output_type": "stream",
     "text": [
      "WER: 9.4040%\n",
      "No. of bad translated snippets: 5174\n",
      "Saving diff files\n",
      "Actual number of bad translated 5174\n",
      "Actual WER: 9.4040%\n",
      " - 5174 Entries left after Length Cut (min=31, max=1200)\n",
      " - 1600 left after Entries Max Samples Cut (max=1600)\n",
      "Creating Trainer for common-voice-de-07v30\n",
      "Training of Dataset: common-voice-de-07v30\n"
     ]
    },
    {
     "data": {
      "text/html": [
       "\n",
       "    <div>\n",
       "        <style>\n",
       "            /* Turns off some styling */\n",
       "            progress {\n",
       "                /* gets rid of default border in Firefox and Opera. */\n",
       "                border: none;\n",
       "                /* Needs to be in here for Safari polyfill so background images work as expected. */\n",
       "                background-size: auto;\n",
       "            }\n",
       "        </style>\n",
       "      \n",
       "      <progress value='400' max='400' style='width:300px; height:20px; vertical-align: middle;'></progress>\n",
       "      [400/400 04:28, Epoch 2/2]\n",
       "    </div>\n",
       "    <table border=\"1\" class=\"dataframe\">\n",
       "  <thead>\n",
       "    <tr style=\"text-align: left;\">\n",
       "      <th>Step</th>\n",
       "      <th>Training Loss</th>\n",
       "      <th>Validation Loss</th>\n",
       "      <th>Wer</th>\n",
       "      <th>Runtime</th>\n",
       "      <th>Samples Per Second</th>\n",
       "    </tr>\n",
       "  </thead>\n",
       "  <tbody>\n",
       "    <tr>\n",
       "      <td>100</td>\n",
       "      <td>0.325300</td>\n",
       "      <td>0.120147</td>\n",
       "      <td>0.148936</td>\n",
       "      <td>2.335400</td>\n",
       "      <td>8.564000</td>\n",
       "    </tr>\n",
       "    <tr>\n",
       "      <td>200</td>\n",
       "      <td>0.301300</td>\n",
       "      <td>0.127110</td>\n",
       "      <td>0.141844</td>\n",
       "      <td>2.314500</td>\n",
       "      <td>8.641000</td>\n",
       "    </tr>\n",
       "    <tr>\n",
       "      <td>300</td>\n",
       "      <td>0.294200</td>\n",
       "      <td>0.123872</td>\n",
       "      <td>0.148936</td>\n",
       "      <td>2.330100</td>\n",
       "      <td>8.583000</td>\n",
       "    </tr>\n",
       "    <tr>\n",
       "      <td>400</td>\n",
       "      <td>0.302100</td>\n",
       "      <td>0.123232</td>\n",
       "      <td>0.148936</td>\n",
       "      <td>2.337700</td>\n",
       "      <td>8.556000</td>\n",
       "    </tr>\n",
       "  </tbody>\n",
       "</table><p>"
      ],
      "text/plain": [
       "<IPython.core.display.HTML object>"
      ]
     },
     "metadata": {},
     "output_type": "display_data"
    },
    {
     "name": "stdout",
     "output_type": "stream",
     "text": [
      "Save Model\n",
      "**************************************\n",
      "Starting round 3 of 4, epoche 3 of 3\n",
      "Splitting Dataset common-voice-de-07v30 with 12163 Entries\n",
      "aktual trained epoches: 275\n",
      "old trained epoches: 274\n",
      "old word error rate: 9.404020711485652%\n",
      "Translate all\n"
     ]
    },
    {
     "data": {
      "application/vnd.jupyter.widget-view+json": {
       "model_id": "ae1ebe6cfcda4aafa8122afc2c9c0f12",
       "version_major": 2,
       "version_minor": 0
      },
      "text/plain": [
       "HBox(children=(FloatProgress(value=0.0, max=12163.0), HTML(value='')))"
      ]
     },
     "metadata": {},
     "output_type": "display_data"
    },
    {
     "name": "stdout",
     "output_type": "stream",
     "text": [
      "\n",
      "Save new translations to: /home/ki-mo/shared/gitviews/extern/GermanWave2Vec/datasets/common-voice-de-07v30/content-translated-with_original.csv\n",
      "Calculate WER\n"
     ]
    },
    {
     "name": "stderr",
     "output_type": "stream",
     "text": [
      "W&B installed but not logged in. Run `wandb login` or set the WANDB_API_KEY env variable.\n"
     ]
    },
    {
     "name": "stdout",
     "output_type": "stream",
     "text": [
      "WER: 9.0697%\n",
      "No. of bad translated snippets: 5024\n",
      "Saving diff files\n",
      "Actual number of bad translated 5024\n",
      "Actual WER: 9.0697%\n",
      " - 5024 Entries left after Length Cut (min=31, max=1200)\n",
      " - 1600 left after Entries Max Samples Cut (max=1600)\n",
      "Creating Trainer for common-voice-de-07v30\n",
      "Training of Dataset: common-voice-de-07v30\n"
     ]
    },
    {
     "data": {
      "text/html": [
       "\n",
       "    <div>\n",
       "        <style>\n",
       "            /* Turns off some styling */\n",
       "            progress {\n",
       "                /* gets rid of default border in Firefox and Opera. */\n",
       "                border: none;\n",
       "                /* Needs to be in here for Safari polyfill so background images work as expected. */\n",
       "                background-size: auto;\n",
       "            }\n",
       "        </style>\n",
       "      \n",
       "      <progress value='400' max='400' style='width:300px; height:20px; vertical-align: middle;'></progress>\n",
       "      [400/400 04:25, Epoch 2/2]\n",
       "    </div>\n",
       "    <table border=\"1\" class=\"dataframe\">\n",
       "  <thead>\n",
       "    <tr style=\"text-align: left;\">\n",
       "      <th>Step</th>\n",
       "      <th>Training Loss</th>\n",
       "      <th>Validation Loss</th>\n",
       "      <th>Wer</th>\n",
       "      <th>Runtime</th>\n",
       "      <th>Samples Per Second</th>\n",
       "    </tr>\n",
       "  </thead>\n",
       "  <tbody>\n",
       "    <tr>\n",
       "      <td>100</td>\n",
       "      <td>0.336700</td>\n",
       "      <td>0.108594</td>\n",
       "      <td>0.152482</td>\n",
       "      <td>2.323200</td>\n",
       "      <td>8.609000</td>\n",
       "    </tr>\n",
       "    <tr>\n",
       "      <td>200</td>\n",
       "      <td>0.317100</td>\n",
       "      <td>0.100726</td>\n",
       "      <td>0.134752</td>\n",
       "      <td>2.311600</td>\n",
       "      <td>8.652000</td>\n",
       "    </tr>\n",
       "    <tr>\n",
       "      <td>300</td>\n",
       "      <td>0.305000</td>\n",
       "      <td>0.098759</td>\n",
       "      <td>0.134752</td>\n",
       "      <td>2.339700</td>\n",
       "      <td>8.548000</td>\n",
       "    </tr>\n",
       "    <tr>\n",
       "      <td>400</td>\n",
       "      <td>0.309000</td>\n",
       "      <td>0.097623</td>\n",
       "      <td>0.134752</td>\n",
       "      <td>2.332700</td>\n",
       "      <td>8.574000</td>\n",
       "    </tr>\n",
       "  </tbody>\n",
       "</table><p>"
      ],
      "text/plain": [
       "<IPython.core.display.HTML object>"
      ]
     },
     "metadata": {},
     "output_type": "display_data"
    },
    {
     "name": "stdout",
     "output_type": "stream",
     "text": [
      "Save Model\n",
      "final check und update of common-voice-de-07v30\n",
      "aktual trained epoches: 276\n",
      "old trained epoches: 275\n",
      "old word error rate: 9.06966018908664%\n",
      "Translate all\n"
     ]
    },
    {
     "data": {
      "application/vnd.jupyter.widget-view+json": {
       "model_id": "112b21c91df0404f9edb1a485947d408",
       "version_major": 2,
       "version_minor": 0
      },
      "text/plain": [
       "HBox(children=(FloatProgress(value=0.0, max=12163.0), HTML(value='')))"
      ]
     },
     "metadata": {},
     "output_type": "display_data"
    },
    {
     "name": "stdout",
     "output_type": "stream",
     "text": [
      "\n",
      "Save new translations to: /home/ki-mo/shared/gitviews/extern/GermanWave2Vec/datasets/common-voice-de-07v30/content-translated-with_original.csv\n",
      "Calculate WER\n",
      "WER: 8.7961%\n",
      "No. of bad translated snippets: 4958\n",
      "Saving diff files\n",
      "Actual number of bad translated 4958\n",
      "Actual WER: 8.7961\n",
      "-----------------------------\n",
      "Loading Dataset: common-voice-de-08v30 - /home/ki-mo/shared/gitviews/extern/GermanWave2Vec/datasets/common-voice-de-08v30/content-translated-with_original.csv\n",
      "Pruning Dataset common-voice-de-08v30 with 11815 Entries\n",
      " - 11815 Entries left after Length Cut (min=31, max=4000)\n",
      " - 11815 Entries left after Action Cut\n",
      "Dataset - common-voice-de-08v30 loaded with 11815 Entries\n",
      "**************************************\n",
      "Starting round 3 of 4, epoche 1 of 3\n",
      "Splitting Dataset common-voice-de-08v30 with 11815 Entries\n",
      "aktual trained epoches: 276\n",
      "old trained epoches: 249\n",
      "old word error rate: 10.563087770121308%\n",
      "Translate all\n"
     ]
    },
    {
     "data": {
      "application/vnd.jupyter.widget-view+json": {
       "model_id": "0acedef286244c04811ffab60ea8e118",
       "version_major": 2,
       "version_minor": 0
      },
      "text/plain": [
       "HBox(children=(FloatProgress(value=0.0, max=11815.0), HTML(value='')))"
      ]
     },
     "metadata": {},
     "output_type": "display_data"
    },
    {
     "name": "stdout",
     "output_type": "stream",
     "text": [
      "\n",
      "Save new translations to: /home/ki-mo/shared/gitviews/extern/GermanWave2Vec/datasets/common-voice-de-08v30/content-translated-with_original.csv\n",
      "Calculate WER\n"
     ]
    },
    {
     "name": "stderr",
     "output_type": "stream",
     "text": [
      "W&B installed but not logged in. Run `wandb login` or set the WANDB_API_KEY env variable.\n"
     ]
    },
    {
     "name": "stdout",
     "output_type": "stream",
     "text": [
      "WER: 9.9507%\n",
      "No. of bad translated snippets: 5263\n",
      "Saving diff files\n",
      "Actual number of bad translated 5263\n",
      "Actual WER: 9.9507%\n",
      " - 5263 Entries left after Length Cut (min=31, max=1200)\n",
      " - 1600 left after Entries Max Samples Cut (max=1600)\n",
      "Creating Trainer for common-voice-de-08v30\n",
      "Training of Dataset: common-voice-de-08v30\n"
     ]
    },
    {
     "data": {
      "text/html": [
       "\n",
       "    <div>\n",
       "        <style>\n",
       "            /* Turns off some styling */\n",
       "            progress {\n",
       "                /* gets rid of default border in Firefox and Opera. */\n",
       "                border: none;\n",
       "                /* Needs to be in here for Safari polyfill so background images work as expected. */\n",
       "                background-size: auto;\n",
       "            }\n",
       "        </style>\n",
       "      \n",
       "      <progress value='400' max='400' style='width:300px; height:20px; vertical-align: middle;'></progress>\n",
       "      [400/400 04:20, Epoch 2/2]\n",
       "    </div>\n",
       "    <table border=\"1\" class=\"dataframe\">\n",
       "  <thead>\n",
       "    <tr style=\"text-align: left;\">\n",
       "      <th>Step</th>\n",
       "      <th>Training Loss</th>\n",
       "      <th>Validation Loss</th>\n",
       "      <th>Wer</th>\n",
       "      <th>Runtime</th>\n",
       "      <th>Samples Per Second</th>\n",
       "    </tr>\n",
       "  </thead>\n",
       "  <tbody>\n",
       "    <tr>\n",
       "      <td>100</td>\n",
       "      <td>0.351300</td>\n",
       "      <td>0.080664</td>\n",
       "      <td>0.154472</td>\n",
       "      <td>2.300700</td>\n",
       "      <td>8.693000</td>\n",
       "    </tr>\n",
       "    <tr>\n",
       "      <td>200</td>\n",
       "      <td>0.358000</td>\n",
       "      <td>0.081769</td>\n",
       "      <td>0.146341</td>\n",
       "      <td>2.326900</td>\n",
       "      <td>8.595000</td>\n",
       "    </tr>\n",
       "    <tr>\n",
       "      <td>300</td>\n",
       "      <td>0.325400</td>\n",
       "      <td>0.072212</td>\n",
       "      <td>0.150407</td>\n",
       "      <td>2.286600</td>\n",
       "      <td>8.747000</td>\n",
       "    </tr>\n",
       "    <tr>\n",
       "      <td>400</td>\n",
       "      <td>0.325800</td>\n",
       "      <td>0.072699</td>\n",
       "      <td>0.146341</td>\n",
       "      <td>2.308200</td>\n",
       "      <td>8.665000</td>\n",
       "    </tr>\n",
       "  </tbody>\n",
       "</table><p>"
      ],
      "text/plain": [
       "<IPython.core.display.HTML object>"
      ]
     },
     "metadata": {},
     "output_type": "display_data"
    },
    {
     "name": "stdout",
     "output_type": "stream",
     "text": [
      "Save Model\n",
      "**************************************\n",
      "Starting round 3 of 4, epoche 2 of 3\n",
      "Splitting Dataset common-voice-de-08v30 with 11815 Entries\n",
      "aktual trained epoches: 277\n",
      "old trained epoches: 276\n",
      "old word error rate: 9.950688549732142%\n",
      "Translate all\n"
     ]
    },
    {
     "data": {
      "application/vnd.jupyter.widget-view+json": {
       "model_id": "1a65841aab8b48a0b99a6a7695c2679a",
       "version_major": 2,
       "version_minor": 0
      },
      "text/plain": [
       "HBox(children=(FloatProgress(value=0.0, max=11815.0), HTML(value='')))"
      ]
     },
     "metadata": {},
     "output_type": "display_data"
    },
    {
     "name": "stdout",
     "output_type": "stream",
     "text": [
      "\n",
      "Save new translations to: /home/ki-mo/shared/gitviews/extern/GermanWave2Vec/datasets/common-voice-de-08v30/content-translated-with_original.csv\n",
      "Calculate WER\n"
     ]
    },
    {
     "name": "stderr",
     "output_type": "stream",
     "text": [
      "W&B installed but not logged in. Run `wandb login` or set the WANDB_API_KEY env variable.\n"
     ]
    },
    {
     "name": "stdout",
     "output_type": "stream",
     "text": [
      "WER: 9.5375%\n",
      "No. of bad translated snippets: 5124\n",
      "Saving diff files\n",
      "Actual number of bad translated 5124\n",
      "Actual WER: 9.5375%\n",
      " - 5124 Entries left after Length Cut (min=31, max=1200)\n",
      " - 1600 left after Entries Max Samples Cut (max=1600)\n",
      "Creating Trainer for common-voice-de-08v30\n",
      "Training of Dataset: common-voice-de-08v30\n"
     ]
    },
    {
     "data": {
      "text/html": [
       "\n",
       "    <div>\n",
       "        <style>\n",
       "            /* Turns off some styling */\n",
       "            progress {\n",
       "                /* gets rid of default border in Firefox and Opera. */\n",
       "                border: none;\n",
       "                /* Needs to be in here for Safari polyfill so background images work as expected. */\n",
       "                background-size: auto;\n",
       "            }\n",
       "        </style>\n",
       "      \n",
       "      <progress value='400' max='400' style='width:300px; height:20px; vertical-align: middle;'></progress>\n",
       "      [400/400 04:18, Epoch 2/2]\n",
       "    </div>\n",
       "    <table border=\"1\" class=\"dataframe\">\n",
       "  <thead>\n",
       "    <tr style=\"text-align: left;\">\n",
       "      <th>Step</th>\n",
       "      <th>Training Loss</th>\n",
       "      <th>Validation Loss</th>\n",
       "      <th>Wer</th>\n",
       "      <th>Runtime</th>\n",
       "      <th>Samples Per Second</th>\n",
       "    </tr>\n",
       "  </thead>\n",
       "  <tbody>\n",
       "    <tr>\n",
       "      <td>100</td>\n",
       "      <td>0.350000</td>\n",
       "      <td>0.070730</td>\n",
       "      <td>0.138211</td>\n",
       "      <td>2.323000</td>\n",
       "      <td>8.610000</td>\n",
       "    </tr>\n",
       "    <tr>\n",
       "      <td>200</td>\n",
       "      <td>0.317400</td>\n",
       "      <td>0.068602</td>\n",
       "      <td>0.146341</td>\n",
       "      <td>2.300600</td>\n",
       "      <td>8.693000</td>\n",
       "    </tr>\n",
       "    <tr>\n",
       "      <td>300</td>\n",
       "      <td>0.311200</td>\n",
       "      <td>0.070839</td>\n",
       "      <td>0.142276</td>\n",
       "      <td>2.254700</td>\n",
       "      <td>8.870000</td>\n",
       "    </tr>\n",
       "    <tr>\n",
       "      <td>400</td>\n",
       "      <td>0.304300</td>\n",
       "      <td>0.070348</td>\n",
       "      <td>0.150407</td>\n",
       "      <td>2.268000</td>\n",
       "      <td>8.818000</td>\n",
       "    </tr>\n",
       "  </tbody>\n",
       "</table><p>"
      ],
      "text/plain": [
       "<IPython.core.display.HTML object>"
      ]
     },
     "metadata": {},
     "output_type": "display_data"
    },
    {
     "name": "stdout",
     "output_type": "stream",
     "text": [
      "Save Model\n",
      "**************************************\n",
      "Starting round 3 of 4, epoche 3 of 3\n",
      "Splitting Dataset common-voice-de-08v30 with 11815 Entries\n",
      "aktual trained epoches: 278\n",
      "old trained epoches: 277\n",
      "old word error rate: 9.537452206234756%\n",
      "Translate all\n"
     ]
    },
    {
     "data": {
      "application/vnd.jupyter.widget-view+json": {
       "model_id": "00ccfdbd3fd0414b8179ea30069c5362",
       "version_major": 2,
       "version_minor": 0
      },
      "text/plain": [
       "HBox(children=(FloatProgress(value=0.0, max=11815.0), HTML(value='')))"
      ]
     },
     "metadata": {},
     "output_type": "display_data"
    },
    {
     "name": "stdout",
     "output_type": "stream",
     "text": [
      "\n",
      "Save new translations to: /home/ki-mo/shared/gitviews/extern/GermanWave2Vec/datasets/common-voice-de-08v30/content-translated-with_original.csv\n",
      "Calculate WER\n"
     ]
    },
    {
     "name": "stderr",
     "output_type": "stream",
     "text": [
      "W&B installed but not logged in. Run `wandb login` or set the WANDB_API_KEY env variable.\n"
     ]
    },
    {
     "name": "stdout",
     "output_type": "stream",
     "text": [
      "WER: 9.1647%\n",
      "No. of bad translated snippets: 5018\n",
      "Saving diff files\n",
      "Actual number of bad translated 5018\n",
      "Actual WER: 9.1647%\n",
      " - 5018 Entries left after Length Cut (min=31, max=1200)\n",
      " - 1600 left after Entries Max Samples Cut (max=1600)\n",
      "Creating Trainer for common-voice-de-08v30\n",
      "Training of Dataset: common-voice-de-08v30\n"
     ]
    },
    {
     "data": {
      "text/html": [
       "\n",
       "    <div>\n",
       "        <style>\n",
       "            /* Turns off some styling */\n",
       "            progress {\n",
       "                /* gets rid of default border in Firefox and Opera. */\n",
       "                border: none;\n",
       "                /* Needs to be in here for Safari polyfill so background images work as expected. */\n",
       "                background-size: auto;\n",
       "            }\n",
       "        </style>\n",
       "      \n",
       "      <progress value='400' max='400' style='width:300px; height:20px; vertical-align: middle;'></progress>\n",
       "      [400/400 04:17, Epoch 2/2]\n",
       "    </div>\n",
       "    <table border=\"1\" class=\"dataframe\">\n",
       "  <thead>\n",
       "    <tr style=\"text-align: left;\">\n",
       "      <th>Step</th>\n",
       "      <th>Training Loss</th>\n",
       "      <th>Validation Loss</th>\n",
       "      <th>Wer</th>\n",
       "      <th>Runtime</th>\n",
       "      <th>Samples Per Second</th>\n",
       "    </tr>\n",
       "  </thead>\n",
       "  <tbody>\n",
       "    <tr>\n",
       "      <td>100</td>\n",
       "      <td>0.333500</td>\n",
       "      <td>0.067449</td>\n",
       "      <td>0.146341</td>\n",
       "      <td>2.318000</td>\n",
       "      <td>8.628000</td>\n",
       "    </tr>\n",
       "    <tr>\n",
       "      <td>200</td>\n",
       "      <td>0.337300</td>\n",
       "      <td>0.069887</td>\n",
       "      <td>0.146341</td>\n",
       "      <td>2.285500</td>\n",
       "      <td>8.751000</td>\n",
       "    </tr>\n",
       "    <tr>\n",
       "      <td>300</td>\n",
       "      <td>0.293900</td>\n",
       "      <td>0.068610</td>\n",
       "      <td>0.142276</td>\n",
       "      <td>2.257400</td>\n",
       "      <td>8.860000</td>\n",
       "    </tr>\n",
       "    <tr>\n",
       "      <td>400</td>\n",
       "      <td>0.312700</td>\n",
       "      <td>0.068397</td>\n",
       "      <td>0.134146</td>\n",
       "      <td>2.261400</td>\n",
       "      <td>8.844000</td>\n",
       "    </tr>\n",
       "  </tbody>\n",
       "</table><p>"
      ],
      "text/plain": [
       "<IPython.core.display.HTML object>"
      ]
     },
     "metadata": {},
     "output_type": "display_data"
    },
    {
     "name": "stdout",
     "output_type": "stream",
     "text": [
      "Save Model\n",
      "final check und update of common-voice-de-08v30\n",
      "aktual trained epoches: 279\n",
      "old trained epoches: 278\n",
      "old word error rate: 9.164687463389178%\n",
      "Translate all\n"
     ]
    },
    {
     "data": {
      "application/vnd.jupyter.widget-view+json": {
       "model_id": "90d9e85eff4143a58c9db97a2d616237",
       "version_major": 2,
       "version_minor": 0
      },
      "text/plain": [
       "HBox(children=(FloatProgress(value=0.0, max=11815.0), HTML(value='')))"
      ]
     },
     "metadata": {},
     "output_type": "display_data"
    },
    {
     "name": "stdout",
     "output_type": "stream",
     "text": [
      "\n",
      "Save new translations to: /home/ki-mo/shared/gitviews/extern/GermanWave2Vec/datasets/common-voice-de-08v30/content-translated-with_original.csv\n",
      "Calculate WER\n",
      "WER: 8.9123%\n",
      "No. of bad translated snippets: 4897\n",
      "Saving diff files\n",
      "Actual number of bad translated 4897\n",
      "Actual WER: 8.9123\n",
      "-----------------------------\n",
      "Loading Dataset: common-voice-de-09v30 - /home/ki-mo/shared/gitviews/extern/GermanWave2Vec/datasets/common-voice-de-09v30/content-translated-with_original.csv\n",
      "Pruning Dataset common-voice-de-09v30 with 12443 Entries\n",
      " - 12443 Entries left after Length Cut (min=31, max=4000)\n",
      " - 12443 Entries left after Action Cut\n",
      "Dataset - common-voice-de-09v30 loaded with 12443 Entries\n",
      "**************************************\n",
      "Starting round 3 of 4, epoche 1 of 3\n",
      "Splitting Dataset common-voice-de-09v30 with 12443 Entries\n",
      "aktual trained epoches: 279\n",
      "old trained epoches: 252\n",
      "old word error rate: 10.069704767887176%\n",
      "Translate all\n"
     ]
    },
    {
     "data": {
      "application/vnd.jupyter.widget-view+json": {
       "model_id": "65171e74cdc7451bb7af8e0bcb9fbdbf",
       "version_major": 2,
       "version_minor": 0
      },
      "text/plain": [
       "HBox(children=(FloatProgress(value=0.0, max=12443.0), HTML(value='')))"
      ]
     },
     "metadata": {},
     "output_type": "display_data"
    },
    {
     "name": "stdout",
     "output_type": "stream",
     "text": [
      "\n",
      "Save new translations to: /home/ki-mo/shared/gitviews/extern/GermanWave2Vec/datasets/common-voice-de-09v30/content-translated-with_original.csv\n",
      "Calculate WER\n"
     ]
    },
    {
     "name": "stderr",
     "output_type": "stream",
     "text": [
      "W&B installed but not logged in. Run `wandb login` or set the WANDB_API_KEY env variable.\n"
     ]
    },
    {
     "name": "stdout",
     "output_type": "stream",
     "text": [
      "WER: 9.3929%\n",
      "No. of bad translated snippets: 5438\n",
      "Saving diff files\n",
      "Actual number of bad translated 5438\n",
      "Actual WER: 9.3929%\n",
      " - 5438 Entries left after Length Cut (min=31, max=1200)\n",
      " - 1600 left after Entries Max Samples Cut (max=1600)\n",
      "Creating Trainer for common-voice-de-09v30\n",
      "Training of Dataset: common-voice-de-09v30\n"
     ]
    },
    {
     "data": {
      "text/html": [
       "\n",
       "    <div>\n",
       "        <style>\n",
       "            /* Turns off some styling */\n",
       "            progress {\n",
       "                /* gets rid of default border in Firefox and Opera. */\n",
       "                border: none;\n",
       "                /* Needs to be in here for Safari polyfill so background images work as expected. */\n",
       "                background-size: auto;\n",
       "            }\n",
       "        </style>\n",
       "      \n",
       "      <progress value='400' max='400' style='width:300px; height:20px; vertical-align: middle;'></progress>\n",
       "      [400/400 04:18, Epoch 2/2]\n",
       "    </div>\n",
       "    <table border=\"1\" class=\"dataframe\">\n",
       "  <thead>\n",
       "    <tr style=\"text-align: left;\">\n",
       "      <th>Step</th>\n",
       "      <th>Training Loss</th>\n",
       "      <th>Validation Loss</th>\n",
       "      <th>Wer</th>\n",
       "      <th>Runtime</th>\n",
       "      <th>Samples Per Second</th>\n",
       "    </tr>\n",
       "  </thead>\n",
       "  <tbody>\n",
       "    <tr>\n",
       "      <td>100</td>\n",
       "      <td>0.325100</td>\n",
       "      <td>0.041181</td>\n",
       "      <td>0.069091</td>\n",
       "      <td>2.282900</td>\n",
       "      <td>8.761000</td>\n",
       "    </tr>\n",
       "    <tr>\n",
       "      <td>200</td>\n",
       "      <td>0.332500</td>\n",
       "      <td>0.040463</td>\n",
       "      <td>0.061818</td>\n",
       "      <td>2.318500</td>\n",
       "      <td>8.626000</td>\n",
       "    </tr>\n",
       "    <tr>\n",
       "      <td>300</td>\n",
       "      <td>0.304700</td>\n",
       "      <td>0.039585</td>\n",
       "      <td>0.058182</td>\n",
       "      <td>2.305500</td>\n",
       "      <td>8.675000</td>\n",
       "    </tr>\n",
       "    <tr>\n",
       "      <td>400</td>\n",
       "      <td>0.313800</td>\n",
       "      <td>0.039178</td>\n",
       "      <td>0.058182</td>\n",
       "      <td>2.307000</td>\n",
       "      <td>8.669000</td>\n",
       "    </tr>\n",
       "  </tbody>\n",
       "</table><p>"
      ],
      "text/plain": [
       "<IPython.core.display.HTML object>"
      ]
     },
     "metadata": {},
     "output_type": "display_data"
    },
    {
     "name": "stdout",
     "output_type": "stream",
     "text": [
      "Save Model\n",
      "**************************************\n",
      "Starting round 3 of 4, epoche 2 of 3\n",
      "Splitting Dataset common-voice-de-09v30 with 12443 Entries\n",
      "aktual trained epoches: 280\n",
      "old trained epoches: 279\n",
      "old word error rate: 9.39292010293611%\n",
      "Translate all\n"
     ]
    },
    {
     "data": {
      "application/vnd.jupyter.widget-view+json": {
       "model_id": "960eb77385374b5db5545511a3702fc7",
       "version_major": 2,
       "version_minor": 0
      },
      "text/plain": [
       "HBox(children=(FloatProgress(value=0.0, max=12443.0), HTML(value='')))"
      ]
     },
     "metadata": {},
     "output_type": "display_data"
    },
    {
     "name": "stdout",
     "output_type": "stream",
     "text": [
      "\n",
      "Save new translations to: /home/ki-mo/shared/gitviews/extern/GermanWave2Vec/datasets/common-voice-de-09v30/content-translated-with_original.csv\n",
      "Calculate WER\n"
     ]
    },
    {
     "name": "stderr",
     "output_type": "stream",
     "text": [
      "W&B installed but not logged in. Run `wandb login` or set the WANDB_API_KEY env variable.\n"
     ]
    },
    {
     "name": "stdout",
     "output_type": "stream",
     "text": [
      "WER: 9.0130%\n",
      "No. of bad translated snippets: 5291\n",
      "Saving diff files\n",
      "Actual number of bad translated 5291\n",
      "Actual WER: 9.0130%\n",
      " - 5291 Entries left after Length Cut (min=31, max=1200)\n",
      " - 1600 left after Entries Max Samples Cut (max=1600)\n",
      "Creating Trainer for common-voice-de-09v30\n",
      "Training of Dataset: common-voice-de-09v30\n"
     ]
    },
    {
     "data": {
      "text/html": [
       "\n",
       "    <div>\n",
       "        <style>\n",
       "            /* Turns off some styling */\n",
       "            progress {\n",
       "                /* gets rid of default border in Firefox and Opera. */\n",
       "                border: none;\n",
       "                /* Needs to be in here for Safari polyfill so background images work as expected. */\n",
       "                background-size: auto;\n",
       "            }\n",
       "        </style>\n",
       "      \n",
       "      <progress value='400' max='400' style='width:300px; height:20px; vertical-align: middle;'></progress>\n",
       "      [400/400 04:15, Epoch 2/2]\n",
       "    </div>\n",
       "    <table border=\"1\" class=\"dataframe\">\n",
       "  <thead>\n",
       "    <tr style=\"text-align: left;\">\n",
       "      <th>Step</th>\n",
       "      <th>Training Loss</th>\n",
       "      <th>Validation Loss</th>\n",
       "      <th>Wer</th>\n",
       "      <th>Runtime</th>\n",
       "      <th>Samples Per Second</th>\n",
       "    </tr>\n",
       "  </thead>\n",
       "  <tbody>\n",
       "    <tr>\n",
       "      <td>100</td>\n",
       "      <td>0.318700</td>\n",
       "      <td>0.038720</td>\n",
       "      <td>0.058182</td>\n",
       "      <td>2.289500</td>\n",
       "      <td>8.736000</td>\n",
       "    </tr>\n",
       "    <tr>\n",
       "      <td>200</td>\n",
       "      <td>0.322500</td>\n",
       "      <td>0.038491</td>\n",
       "      <td>0.054545</td>\n",
       "      <td>2.265200</td>\n",
       "      <td>8.829000</td>\n",
       "    </tr>\n",
       "    <tr>\n",
       "      <td>300</td>\n",
       "      <td>0.306800</td>\n",
       "      <td>0.038397</td>\n",
       "      <td>0.058182</td>\n",
       "      <td>2.293800</td>\n",
       "      <td>8.719000</td>\n",
       "    </tr>\n",
       "    <tr>\n",
       "      <td>400</td>\n",
       "      <td>0.313300</td>\n",
       "      <td>0.038286</td>\n",
       "      <td>0.058182</td>\n",
       "      <td>2.280300</td>\n",
       "      <td>8.771000</td>\n",
       "    </tr>\n",
       "  </tbody>\n",
       "</table><p>"
      ],
      "text/plain": [
       "<IPython.core.display.HTML object>"
      ]
     },
     "metadata": {},
     "output_type": "display_data"
    },
    {
     "name": "stdout",
     "output_type": "stream",
     "text": [
      "Save Model\n",
      "**************************************\n",
      "Starting round 3 of 4, epoche 3 of 3\n",
      "Splitting Dataset common-voice-de-09v30 with 12443 Entries\n",
      "aktual trained epoches: 281\n",
      "old trained epoches: 280\n",
      "old word error rate: 9.012988591923163%\n",
      "Translate all\n"
     ]
    },
    {
     "data": {
      "application/vnd.jupyter.widget-view+json": {
       "model_id": "4e543caca87845af89b602ecbdbe9ba8",
       "version_major": 2,
       "version_minor": 0
      },
      "text/plain": [
       "HBox(children=(FloatProgress(value=0.0, max=12443.0), HTML(value='')))"
      ]
     },
     "metadata": {},
     "output_type": "display_data"
    },
    {
     "name": "stdout",
     "output_type": "stream",
     "text": [
      "\n",
      "Save new translations to: /home/ki-mo/shared/gitviews/extern/GermanWave2Vec/datasets/common-voice-de-09v30/content-translated-with_original.csv\n",
      "Calculate WER\n"
     ]
    },
    {
     "name": "stderr",
     "output_type": "stream",
     "text": [
      "W&B installed but not logged in. Run `wandb login` or set the WANDB_API_KEY env variable.\n"
     ]
    },
    {
     "name": "stdout",
     "output_type": "stream",
     "text": [
      "WER: 8.7790%\n",
      "No. of bad translated snippets: 5202\n",
      "Saving diff files\n",
      "Actual number of bad translated 5202\n",
      "Actual WER: 8.7790%\n",
      " - 5202 Entries left after Length Cut (min=31, max=1200)\n",
      " - 1600 left after Entries Max Samples Cut (max=1600)\n",
      "Creating Trainer for common-voice-de-09v30\n",
      "Training of Dataset: common-voice-de-09v30\n"
     ]
    },
    {
     "data": {
      "text/html": [
       "\n",
       "    <div>\n",
       "        <style>\n",
       "            /* Turns off some styling */\n",
       "            progress {\n",
       "                /* gets rid of default border in Firefox and Opera. */\n",
       "                border: none;\n",
       "                /* Needs to be in here for Safari polyfill so background images work as expected. */\n",
       "                background-size: auto;\n",
       "            }\n",
       "        </style>\n",
       "      \n",
       "      <progress value='400' max='400' style='width:300px; height:20px; vertical-align: middle;'></progress>\n",
       "      [400/400 04:16, Epoch 2/2]\n",
       "    </div>\n",
       "    <table border=\"1\" class=\"dataframe\">\n",
       "  <thead>\n",
       "    <tr style=\"text-align: left;\">\n",
       "      <th>Step</th>\n",
       "      <th>Training Loss</th>\n",
       "      <th>Validation Loss</th>\n",
       "      <th>Wer</th>\n",
       "      <th>Runtime</th>\n",
       "      <th>Samples Per Second</th>\n",
       "    </tr>\n",
       "  </thead>\n",
       "  <tbody>\n",
       "    <tr>\n",
       "      <td>100</td>\n",
       "      <td>0.334200</td>\n",
       "      <td>0.038332</td>\n",
       "      <td>0.065455</td>\n",
       "      <td>2.314300</td>\n",
       "      <td>8.642000</td>\n",
       "    </tr>\n",
       "    <tr>\n",
       "      <td>200</td>\n",
       "      <td>0.309300</td>\n",
       "      <td>0.036799</td>\n",
       "      <td>0.061818</td>\n",
       "      <td>2.302900</td>\n",
       "      <td>8.685000</td>\n",
       "    </tr>\n",
       "    <tr>\n",
       "      <td>300</td>\n",
       "      <td>0.315200</td>\n",
       "      <td>0.035743</td>\n",
       "      <td>0.061818</td>\n",
       "      <td>2.279500</td>\n",
       "      <td>8.774000</td>\n",
       "    </tr>\n",
       "    <tr>\n",
       "      <td>400</td>\n",
       "      <td>0.314400</td>\n",
       "      <td>0.035806</td>\n",
       "      <td>0.061818</td>\n",
       "      <td>2.279600</td>\n",
       "      <td>8.774000</td>\n",
       "    </tr>\n",
       "  </tbody>\n",
       "</table><p>"
      ],
      "text/plain": [
       "<IPython.core.display.HTML object>"
      ]
     },
     "metadata": {},
     "output_type": "display_data"
    },
    {
     "name": "stdout",
     "output_type": "stream",
     "text": [
      "Save Model\n",
      "final check und update of common-voice-de-09v30\n",
      "aktual trained epoches: 282\n",
      "old trained epoches: 281\n",
      "old word error rate: 8.778950781139187%\n",
      "Translate all\n"
     ]
    },
    {
     "data": {
      "application/vnd.jupyter.widget-view+json": {
       "model_id": "fb0084c7290f479794b55895d7ee827f",
       "version_major": 2,
       "version_minor": 0
      },
      "text/plain": [
       "HBox(children=(FloatProgress(value=0.0, max=12443.0), HTML(value='')))"
      ]
     },
     "metadata": {},
     "output_type": "display_data"
    },
    {
     "name": "stdout",
     "output_type": "stream",
     "text": [
      "\n",
      "Save new translations to: /home/ki-mo/shared/gitviews/extern/GermanWave2Vec/datasets/common-voice-de-09v30/content-translated-with_original.csv\n",
      "Calculate WER\n",
      "WER: 8.4355%\n",
      "No. of bad translated snippets: 5037\n",
      "Saving diff files\n",
      "Actual number of bad translated 5037\n",
      "Actual WER: 8.4355\n",
      "-----------------------------\n",
      "Loading Dataset: common-voice-de-10v30 - /home/ki-mo/shared/gitviews/extern/GermanWave2Vec/datasets/common-voice-de-10v30/content-translated-with_original.csv\n",
      "Pruning Dataset common-voice-de-10v30 with 12643 Entries\n",
      " - 12643 Entries left after Length Cut (min=31, max=4000)\n",
      " - 12643 Entries left after Action Cut\n",
      "Dataset - common-voice-de-10v30 loaded with 12643 Entries\n",
      "**************************************\n",
      "Starting round 3 of 4, epoche 1 of 3\n",
      "Splitting Dataset common-voice-de-10v30 with 12643 Entries\n",
      "aktual trained epoches: 282\n",
      "old trained epoches: 255\n",
      "old word error rate: 10.536509975512825%\n",
      "Translate all\n"
     ]
    },
    {
     "data": {
      "application/vnd.jupyter.widget-view+json": {
       "model_id": "ece4b2676cca4d4fa3ecaacbdd7695b2",
       "version_major": 2,
       "version_minor": 0
      },
      "text/plain": [
       "HBox(children=(FloatProgress(value=0.0, max=12643.0), HTML(value='')))"
      ]
     },
     "metadata": {},
     "output_type": "display_data"
    },
    {
     "name": "stdout",
     "output_type": "stream",
     "text": [
      "\n",
      "Save new translations to: /home/ki-mo/shared/gitviews/extern/GermanWave2Vec/datasets/common-voice-de-10v30/content-translated-with_original.csv\n",
      "Calculate WER\n"
     ]
    },
    {
     "name": "stderr",
     "output_type": "stream",
     "text": [
      "W&B installed but not logged in. Run `wandb login` or set the WANDB_API_KEY env variable.\n"
     ]
    },
    {
     "name": "stdout",
     "output_type": "stream",
     "text": [
      "WER: 9.7457%\n",
      "No. of bad translated snippets: 5593\n",
      "Saving diff files\n",
      "Actual number of bad translated 5593\n",
      "Actual WER: 9.7457%\n",
      " - 5593 Entries left after Length Cut (min=31, max=1200)\n",
      " - 1600 left after Entries Max Samples Cut (max=1600)\n",
      "Creating Trainer for common-voice-de-10v30\n",
      "Training of Dataset: common-voice-de-10v30\n"
     ]
    },
    {
     "data": {
      "text/html": [
       "\n",
       "    <div>\n",
       "        <style>\n",
       "            /* Turns off some styling */\n",
       "            progress {\n",
       "                /* gets rid of default border in Firefox and Opera. */\n",
       "                border: none;\n",
       "                /* Needs to be in here for Safari polyfill so background images work as expected. */\n",
       "                background-size: auto;\n",
       "            }\n",
       "        </style>\n",
       "      \n",
       "      <progress value='400' max='400' style='width:300px; height:20px; vertical-align: middle;'></progress>\n",
       "      [400/400 04:11, Epoch 2/2]\n",
       "    </div>\n",
       "    <table border=\"1\" class=\"dataframe\">\n",
       "  <thead>\n",
       "    <tr style=\"text-align: left;\">\n",
       "      <th>Step</th>\n",
       "      <th>Training Loss</th>\n",
       "      <th>Validation Loss</th>\n",
       "      <th>Wer</th>\n",
       "      <th>Runtime</th>\n",
       "      <th>Samples Per Second</th>\n",
       "    </tr>\n",
       "  </thead>\n",
       "  <tbody>\n",
       "    <tr>\n",
       "      <td>100</td>\n",
       "      <td>0.360500</td>\n",
       "      <td>0.093786</td>\n",
       "      <td>0.157088</td>\n",
       "      <td>2.335300</td>\n",
       "      <td>8.564000</td>\n",
       "    </tr>\n",
       "    <tr>\n",
       "      <td>200</td>\n",
       "      <td>0.364500</td>\n",
       "      <td>0.096309</td>\n",
       "      <td>0.137931</td>\n",
       "      <td>2.338700</td>\n",
       "      <td>8.552000</td>\n",
       "    </tr>\n",
       "    <tr>\n",
       "      <td>300</td>\n",
       "      <td>0.348200</td>\n",
       "      <td>0.095653</td>\n",
       "      <td>0.145594</td>\n",
       "      <td>2.325700</td>\n",
       "      <td>8.599000</td>\n",
       "    </tr>\n",
       "    <tr>\n",
       "      <td>400</td>\n",
       "      <td>0.335900</td>\n",
       "      <td>0.094643</td>\n",
       "      <td>0.145594</td>\n",
       "      <td>2.340800</td>\n",
       "      <td>8.544000</td>\n",
       "    </tr>\n",
       "  </tbody>\n",
       "</table><p>"
      ],
      "text/plain": [
       "<IPython.core.display.HTML object>"
      ]
     },
     "metadata": {},
     "output_type": "display_data"
    },
    {
     "name": "stdout",
     "output_type": "stream",
     "text": [
      "Save Model\n",
      "**************************************\n",
      "Starting round 3 of 4, epoche 2 of 3\n",
      "Splitting Dataset common-voice-de-10v30 with 12643 Entries\n",
      "aktual trained epoches: 283\n",
      "old trained epoches: 282\n",
      "old word error rate: 9.745694673036008%\n",
      "Translate all\n"
     ]
    },
    {
     "data": {
      "application/vnd.jupyter.widget-view+json": {
       "model_id": "40c1161bf6aa4d9aba039ae0b440d9ae",
       "version_major": 2,
       "version_minor": 0
      },
      "text/plain": [
       "HBox(children=(FloatProgress(value=0.0, max=12643.0), HTML(value='')))"
      ]
     },
     "metadata": {},
     "output_type": "display_data"
    },
    {
     "name": "stdout",
     "output_type": "stream",
     "text": [
      "\n",
      "Save new translations to: /home/ki-mo/shared/gitviews/extern/GermanWave2Vec/datasets/common-voice-de-10v30/content-translated-with_original.csv\n",
      "Calculate WER\n"
     ]
    },
    {
     "name": "stderr",
     "output_type": "stream",
     "text": [
      "W&B installed but not logged in. Run `wandb login` or set the WANDB_API_KEY env variable.\n"
     ]
    },
    {
     "name": "stdout",
     "output_type": "stream",
     "text": [
      "WER: 9.4938%\n",
      "No. of bad translated snippets: 5506\n",
      "Saving diff files\n",
      "Actual number of bad translated 5506\n",
      "Actual WER: 9.4938%\n",
      " - 5506 Entries left after Length Cut (min=31, max=1200)\n",
      " - 1600 left after Entries Max Samples Cut (max=1600)\n",
      "Creating Trainer for common-voice-de-10v30\n",
      "Training of Dataset: common-voice-de-10v30\n"
     ]
    },
    {
     "data": {
      "text/html": [
       "\n",
       "    <div>\n",
       "        <style>\n",
       "            /* Turns off some styling */\n",
       "            progress {\n",
       "                /* gets rid of default border in Firefox and Opera. */\n",
       "                border: none;\n",
       "                /* Needs to be in here for Safari polyfill so background images work as expected. */\n",
       "                background-size: auto;\n",
       "            }\n",
       "        </style>\n",
       "      \n",
       "      <progress value='400' max='400' style='width:300px; height:20px; vertical-align: middle;'></progress>\n",
       "      [400/400 04:14, Epoch 2/2]\n",
       "    </div>\n",
       "    <table border=\"1\" class=\"dataframe\">\n",
       "  <thead>\n",
       "    <tr style=\"text-align: left;\">\n",
       "      <th>Step</th>\n",
       "      <th>Training Loss</th>\n",
       "      <th>Validation Loss</th>\n",
       "      <th>Wer</th>\n",
       "      <th>Runtime</th>\n",
       "      <th>Samples Per Second</th>\n",
       "    </tr>\n",
       "  </thead>\n",
       "  <tbody>\n",
       "    <tr>\n",
       "      <td>100</td>\n",
       "      <td>0.325400</td>\n",
       "      <td>0.093984</td>\n",
       "      <td>0.145594</td>\n",
       "      <td>2.335800</td>\n",
       "      <td>8.562000</td>\n",
       "    </tr>\n",
       "    <tr>\n",
       "      <td>200</td>\n",
       "      <td>0.343600</td>\n",
       "      <td>0.093699</td>\n",
       "      <td>0.145594</td>\n",
       "      <td>2.331900</td>\n",
       "      <td>8.577000</td>\n",
       "    </tr>\n",
       "    <tr>\n",
       "      <td>300</td>\n",
       "      <td>0.305100</td>\n",
       "      <td>0.093478</td>\n",
       "      <td>0.149425</td>\n",
       "      <td>2.322300</td>\n",
       "      <td>8.612000</td>\n",
       "    </tr>\n",
       "    <tr>\n",
       "      <td>400</td>\n",
       "      <td>0.310600</td>\n",
       "      <td>0.091961</td>\n",
       "      <td>0.153257</td>\n",
       "      <td>2.330200</td>\n",
       "      <td>8.583000</td>\n",
       "    </tr>\n",
       "  </tbody>\n",
       "</table><p>"
      ],
      "text/plain": [
       "<IPython.core.display.HTML object>"
      ]
     },
     "metadata": {},
     "output_type": "display_data"
    },
    {
     "name": "stdout",
     "output_type": "stream",
     "text": [
      "Save Model\n",
      "**************************************\n",
      "Starting round 3 of 4, epoche 3 of 3\n",
      "Splitting Dataset common-voice-de-10v30 with 12643 Entries\n",
      "aktual trained epoches: 284\n",
      "old trained epoches: 283\n",
      "old word error rate: 9.493797920597325%\n",
      "Translate all\n"
     ]
    },
    {
     "data": {
      "application/vnd.jupyter.widget-view+json": {
       "model_id": "daa648421e804b7b972bbac6452c49de",
       "version_major": 2,
       "version_minor": 0
      },
      "text/plain": [
       "HBox(children=(FloatProgress(value=0.0, max=12643.0), HTML(value='')))"
      ]
     },
     "metadata": {},
     "output_type": "display_data"
    },
    {
     "name": "stdout",
     "output_type": "stream",
     "text": [
      "\n",
      "Save new translations to: /home/ki-mo/shared/gitviews/extern/GermanWave2Vec/datasets/common-voice-de-10v30/content-translated-with_original.csv\n",
      "Calculate WER\n"
     ]
    },
    {
     "name": "stderr",
     "output_type": "stream",
     "text": [
      "W&B installed but not logged in. Run `wandb login` or set the WANDB_API_KEY env variable.\n"
     ]
    },
    {
     "name": "stdout",
     "output_type": "stream",
     "text": [
      "WER: 9.1425%\n",
      "No. of bad translated snippets: 5395\n",
      "Saving diff files\n",
      "Actual number of bad translated 5395\n",
      "Actual WER: 9.1425%\n",
      " - 5395 Entries left after Length Cut (min=31, max=1200)\n",
      " - 1600 left after Entries Max Samples Cut (max=1600)\n",
      "Creating Trainer for common-voice-de-10v30\n",
      "Training of Dataset: common-voice-de-10v30\n"
     ]
    },
    {
     "data": {
      "text/html": [
       "\n",
       "    <div>\n",
       "        <style>\n",
       "            /* Turns off some styling */\n",
       "            progress {\n",
       "                /* gets rid of default border in Firefox and Opera. */\n",
       "                border: none;\n",
       "                /* Needs to be in here for Safari polyfill so background images work as expected. */\n",
       "                background-size: auto;\n",
       "            }\n",
       "        </style>\n",
       "      \n",
       "      <progress value='400' max='400' style='width:300px; height:20px; vertical-align: middle;'></progress>\n",
       "      [400/400 04:14, Epoch 2/2]\n",
       "    </div>\n",
       "    <table border=\"1\" class=\"dataframe\">\n",
       "  <thead>\n",
       "    <tr style=\"text-align: left;\">\n",
       "      <th>Step</th>\n",
       "      <th>Training Loss</th>\n",
       "      <th>Validation Loss</th>\n",
       "      <th>Wer</th>\n",
       "      <th>Runtime</th>\n",
       "      <th>Samples Per Second</th>\n",
       "    </tr>\n",
       "  </thead>\n",
       "  <tbody>\n",
       "    <tr>\n",
       "      <td>100</td>\n",
       "      <td>0.330200</td>\n",
       "      <td>0.089099</td>\n",
       "      <td>0.153257</td>\n",
       "      <td>2.337900</td>\n",
       "      <td>8.555000</td>\n",
       "    </tr>\n",
       "    <tr>\n",
       "      <td>200</td>\n",
       "      <td>0.337100</td>\n",
       "      <td>0.093652</td>\n",
       "      <td>0.141762</td>\n",
       "      <td>2.353000</td>\n",
       "      <td>8.500000</td>\n",
       "    </tr>\n",
       "    <tr>\n",
       "      <td>300</td>\n",
       "      <td>0.310900</td>\n",
       "      <td>0.091029</td>\n",
       "      <td>0.157088</td>\n",
       "      <td>2.328900</td>\n",
       "      <td>8.588000</td>\n",
       "    </tr>\n",
       "    <tr>\n",
       "      <td>400</td>\n",
       "      <td>0.312100</td>\n",
       "      <td>0.090451</td>\n",
       "      <td>0.160920</td>\n",
       "      <td>2.349300</td>\n",
       "      <td>8.513000</td>\n",
       "    </tr>\n",
       "  </tbody>\n",
       "</table><p>"
      ],
      "text/plain": [
       "<IPython.core.display.HTML object>"
      ]
     },
     "metadata": {},
     "output_type": "display_data"
    },
    {
     "name": "stdout",
     "output_type": "stream",
     "text": [
      "Save Model\n",
      "final check und update of common-voice-de-10v30\n",
      "aktual trained epoches: 285\n",
      "old trained epoches: 284\n",
      "old word error rate: 9.142547468989603%\n",
      "Translate all\n"
     ]
    },
    {
     "data": {
      "application/vnd.jupyter.widget-view+json": {
       "model_id": "9ab2a4b046b54e71b9c148ab4c6f380c",
       "version_major": 2,
       "version_minor": 0
      },
      "text/plain": [
       "HBox(children=(FloatProgress(value=0.0, max=12643.0), HTML(value='')))"
      ]
     },
     "metadata": {},
     "output_type": "display_data"
    },
    {
     "name": "stdout",
     "output_type": "stream",
     "text": [
      "\n",
      "Save new translations to: /home/ki-mo/shared/gitviews/extern/GermanWave2Vec/datasets/common-voice-de-10v30/content-translated-with_original.csv\n",
      "Calculate WER\n",
      "WER: 8.8605%\n",
      "No. of bad translated snippets: 5249\n",
      "Saving diff files\n",
      "Actual number of bad translated 5249\n",
      "Actual WER: 8.8605\n",
      "======================================\n",
      "Starting round 4 of 4\n",
      "-----------------------------\n",
      "Loading Dataset: common-voice-de-01v30 - /home/ki-mo/shared/gitviews/extern/GermanWave2Vec/datasets/common-voice-de-01v30/content-translated-with_original.csv\n",
      "Pruning Dataset common-voice-de-01v30 with 11794 Entries\n",
      " - 11794 Entries left after Length Cut (min=31, max=4000)\n",
      " - 11794 Entries left after Action Cut\n",
      "Dataset - common-voice-de-01v30 loaded with 11794 Entries\n",
      "**************************************\n",
      "Starting round 4 of 4, epoche 1 of 3\n",
      "Splitting Dataset common-voice-de-01v30 with 11794 Entries\n",
      "aktual trained epoches: 285\n",
      "old trained epoches: 258\n",
      "old word error rate: 12.227538543328018%\n",
      "Translate all\n"
     ]
    },
    {
     "data": {
      "application/vnd.jupyter.widget-view+json": {
       "model_id": "355cb572718f42a9bc88c462996a458a",
       "version_major": 2,
       "version_minor": 0
      },
      "text/plain": [
       "HBox(children=(FloatProgress(value=0.0, max=11794.0), HTML(value='')))"
      ]
     },
     "metadata": {},
     "output_type": "display_data"
    },
    {
     "name": "stdout",
     "output_type": "stream",
     "text": [
      "\n",
      "Save new translations to: /home/ki-mo/shared/gitviews/extern/GermanWave2Vec/datasets/common-voice-de-01v30/content-translated-with_original.csv\n",
      "Calculate WER\n"
     ]
    },
    {
     "name": "stderr",
     "output_type": "stream",
     "text": [
      "W&B installed but not logged in. Run `wandb login` or set the WANDB_API_KEY env variable.\n"
     ]
    },
    {
     "name": "stdout",
     "output_type": "stream",
     "text": [
      "WER: 11.8755%\n",
      "No. of bad translated snippets: 5139\n",
      "Saving diff files\n",
      "Actual number of bad translated 5139\n",
      "Actual WER: 11.8755%\n",
      " - 5139 Entries left after Length Cut (min=31, max=1200)\n",
      " - 1600 left after Entries Max Samples Cut (max=1600)\n",
      "Creating Trainer for common-voice-de-01v30\n",
      "Training of Dataset: common-voice-de-01v30\n"
     ]
    },
    {
     "data": {
      "text/html": [
       "\n",
       "    <div>\n",
       "        <style>\n",
       "            /* Turns off some styling */\n",
       "            progress {\n",
       "                /* gets rid of default border in Firefox and Opera. */\n",
       "                border: none;\n",
       "                /* Needs to be in here for Safari polyfill so background images work as expected. */\n",
       "                background-size: auto;\n",
       "            }\n",
       "        </style>\n",
       "      \n",
       "      <progress value='400' max='400' style='width:300px; height:20px; vertical-align: middle;'></progress>\n",
       "      [400/400 04:55, Epoch 2/2]\n",
       "    </div>\n",
       "    <table border=\"1\" class=\"dataframe\">\n",
       "  <thead>\n",
       "    <tr style=\"text-align: left;\">\n",
       "      <th>Step</th>\n",
       "      <th>Training Loss</th>\n",
       "      <th>Validation Loss</th>\n",
       "      <th>Wer</th>\n",
       "      <th>Runtime</th>\n",
       "      <th>Samples Per Second</th>\n",
       "    </tr>\n",
       "  </thead>\n",
       "  <tbody>\n",
       "    <tr>\n",
       "      <td>100</td>\n",
       "      <td>0.395200</td>\n",
       "      <td>0.159936</td>\n",
       "      <td>0.134078</td>\n",
       "      <td>2.495700</td>\n",
       "      <td>8.014000</td>\n",
       "    </tr>\n",
       "    <tr>\n",
       "      <td>200</td>\n",
       "      <td>0.396600</td>\n",
       "      <td>0.128036</td>\n",
       "      <td>0.139665</td>\n",
       "      <td>2.497800</td>\n",
       "      <td>8.007000</td>\n",
       "    </tr>\n",
       "    <tr>\n",
       "      <td>300</td>\n",
       "      <td>0.357600</td>\n",
       "      <td>0.111990</td>\n",
       "      <td>0.145251</td>\n",
       "      <td>2.483000</td>\n",
       "      <td>8.055000</td>\n",
       "    </tr>\n",
       "    <tr>\n",
       "      <td>400</td>\n",
       "      <td>0.382900</td>\n",
       "      <td>0.115090</td>\n",
       "      <td>0.139665</td>\n",
       "      <td>2.475700</td>\n",
       "      <td>8.079000</td>\n",
       "    </tr>\n",
       "  </tbody>\n",
       "</table><p>"
      ],
      "text/plain": [
       "<IPython.core.display.HTML object>"
      ]
     },
     "metadata": {},
     "output_type": "display_data"
    },
    {
     "name": "stdout",
     "output_type": "stream",
     "text": [
      "Save Model\n",
      "**************************************\n",
      "Starting round 4 of 4, epoche 2 of 3\n",
      "Splitting Dataset common-voice-de-01v30 with 11794 Entries\n",
      "aktual trained epoches: 286\n",
      "old trained epoches: 285\n",
      "old word error rate: 11.875479945655384%\n",
      "Translate all\n"
     ]
    },
    {
     "data": {
      "application/vnd.jupyter.widget-view+json": {
       "model_id": "b4a18e402f9b44439ada5bc7885a0627",
       "version_major": 2,
       "version_minor": 0
      },
      "text/plain": [
       "HBox(children=(FloatProgress(value=0.0, max=11794.0), HTML(value='')))"
      ]
     },
     "metadata": {},
     "output_type": "display_data"
    },
    {
     "name": "stdout",
     "output_type": "stream",
     "text": [
      "\n",
      "Save new translations to: /home/ki-mo/shared/gitviews/extern/GermanWave2Vec/datasets/common-voice-de-01v30/content-translated-with_original.csv\n",
      "Calculate WER\n"
     ]
    },
    {
     "name": "stderr",
     "output_type": "stream",
     "text": [
      "W&B installed but not logged in. Run `wandb login` or set the WANDB_API_KEY env variable.\n"
     ]
    },
    {
     "name": "stdout",
     "output_type": "stream",
     "text": [
      "WER: 11.2375%\n",
      "No. of bad translated snippets: 4911\n",
      "Saving diff files\n",
      "Actual number of bad translated 4911\n",
      "Actual WER: 11.2375%\n",
      " - 4911 Entries left after Length Cut (min=31, max=1200)\n",
      " - 1600 left after Entries Max Samples Cut (max=1600)\n",
      "Creating Trainer for common-voice-de-01v30\n",
      "Training of Dataset: common-voice-de-01v30\n"
     ]
    },
    {
     "data": {
      "text/html": [
       "\n",
       "    <div>\n",
       "        <style>\n",
       "            /* Turns off some styling */\n",
       "            progress {\n",
       "                /* gets rid of default border in Firefox and Opera. */\n",
       "                border: none;\n",
       "                /* Needs to be in here for Safari polyfill so background images work as expected. */\n",
       "                background-size: auto;\n",
       "            }\n",
       "        </style>\n",
       "      \n",
       "      <progress value='400' max='400' style='width:300px; height:20px; vertical-align: middle;'></progress>\n",
       "      [400/400 05:01, Epoch 2/2]\n",
       "    </div>\n",
       "    <table border=\"1\" class=\"dataframe\">\n",
       "  <thead>\n",
       "    <tr style=\"text-align: left;\">\n",
       "      <th>Step</th>\n",
       "      <th>Training Loss</th>\n",
       "      <th>Validation Loss</th>\n",
       "      <th>Wer</th>\n",
       "      <th>Runtime</th>\n",
       "      <th>Samples Per Second</th>\n",
       "    </tr>\n",
       "  </thead>\n",
       "  <tbody>\n",
       "    <tr>\n",
       "      <td>100</td>\n",
       "      <td>0.369600</td>\n",
       "      <td>0.111978</td>\n",
       "      <td>0.122905</td>\n",
       "      <td>2.483500</td>\n",
       "      <td>8.053000</td>\n",
       "    </tr>\n",
       "    <tr>\n",
       "      <td>200</td>\n",
       "      <td>0.388900</td>\n",
       "      <td>0.103918</td>\n",
       "      <td>0.128492</td>\n",
       "      <td>2.502200</td>\n",
       "      <td>7.993000</td>\n",
       "    </tr>\n",
       "    <tr>\n",
       "      <td>300</td>\n",
       "      <td>0.380200</td>\n",
       "      <td>0.103118</td>\n",
       "      <td>0.111732</td>\n",
       "      <td>2.480600</td>\n",
       "      <td>8.062000</td>\n",
       "    </tr>\n",
       "    <tr>\n",
       "      <td>400</td>\n",
       "      <td>0.357900</td>\n",
       "      <td>0.101763</td>\n",
       "      <td>0.111732</td>\n",
       "      <td>2.492300</td>\n",
       "      <td>8.025000</td>\n",
       "    </tr>\n",
       "  </tbody>\n",
       "</table><p>"
      ],
      "text/plain": [
       "<IPython.core.display.HTML object>"
      ]
     },
     "metadata": {},
     "output_type": "display_data"
    },
    {
     "name": "stdout",
     "output_type": "stream",
     "text": [
      "Save Model\n",
      "**************************************\n",
      "Starting round 4 of 4, epoche 3 of 3\n",
      "Splitting Dataset common-voice-de-01v30 with 11794 Entries\n",
      "aktual trained epoches: 287\n",
      "old trained epoches: 286\n",
      "old word error rate: 11.23752141296001%\n",
      "Translate all\n"
     ]
    },
    {
     "data": {
      "application/vnd.jupyter.widget-view+json": {
       "model_id": "506690f18f1b477597d7a8bb83953895",
       "version_major": 2,
       "version_minor": 0
      },
      "text/plain": [
       "HBox(children=(FloatProgress(value=0.0, max=11794.0), HTML(value='')))"
      ]
     },
     "metadata": {},
     "output_type": "display_data"
    },
    {
     "name": "stdout",
     "output_type": "stream",
     "text": [
      "\n",
      "Save new translations to: /home/ki-mo/shared/gitviews/extern/GermanWave2Vec/datasets/common-voice-de-01v30/content-translated-with_original.csv\n",
      "Calculate WER\n"
     ]
    },
    {
     "name": "stderr",
     "output_type": "stream",
     "text": [
      "W&B installed but not logged in. Run `wandb login` or set the WANDB_API_KEY env variable.\n"
     ]
    },
    {
     "name": "stdout",
     "output_type": "stream",
     "text": [
      "WER: 10.8240%\n",
      "No. of bad translated snippets: 4791\n",
      "Saving diff files\n",
      "Actual number of bad translated 4791\n",
      "Actual WER: 10.8240%\n",
      " - 4791 Entries left after Length Cut (min=31, max=1200)\n",
      " - 1600 left after Entries Max Samples Cut (max=1600)\n",
      "Creating Trainer for common-voice-de-01v30\n",
      "Training of Dataset: common-voice-de-01v30\n"
     ]
    },
    {
     "data": {
      "text/html": [
       "\n",
       "    <div>\n",
       "        <style>\n",
       "            /* Turns off some styling */\n",
       "            progress {\n",
       "                /* gets rid of default border in Firefox and Opera. */\n",
       "                border: none;\n",
       "                /* Needs to be in here for Safari polyfill so background images work as expected. */\n",
       "                background-size: auto;\n",
       "            }\n",
       "        </style>\n",
       "      \n",
       "      <progress value='400' max='400' style='width:300px; height:20px; vertical-align: middle;'></progress>\n",
       "      [400/400 04:54, Epoch 2/2]\n",
       "    </div>\n",
       "    <table border=\"1\" class=\"dataframe\">\n",
       "  <thead>\n",
       "    <tr style=\"text-align: left;\">\n",
       "      <th>Step</th>\n",
       "      <th>Training Loss</th>\n",
       "      <th>Validation Loss</th>\n",
       "      <th>Wer</th>\n",
       "      <th>Runtime</th>\n",
       "      <th>Samples Per Second</th>\n",
       "    </tr>\n",
       "  </thead>\n",
       "  <tbody>\n",
       "    <tr>\n",
       "      <td>100</td>\n",
       "      <td>0.356900</td>\n",
       "      <td>0.113235</td>\n",
       "      <td>0.117318</td>\n",
       "      <td>2.472500</td>\n",
       "      <td>8.089000</td>\n",
       "    </tr>\n",
       "    <tr>\n",
       "      <td>200</td>\n",
       "      <td>0.421300</td>\n",
       "      <td>0.104975</td>\n",
       "      <td>0.128492</td>\n",
       "      <td>2.428200</td>\n",
       "      <td>8.237000</td>\n",
       "    </tr>\n",
       "    <tr>\n",
       "      <td>300</td>\n",
       "      <td>0.380700</td>\n",
       "      <td>0.103357</td>\n",
       "      <td>0.128492</td>\n",
       "      <td>2.491800</td>\n",
       "      <td>8.026000</td>\n",
       "    </tr>\n",
       "    <tr>\n",
       "      <td>400</td>\n",
       "      <td>0.349800</td>\n",
       "      <td>0.105857</td>\n",
       "      <td>0.117318</td>\n",
       "      <td>2.484400</td>\n",
       "      <td>8.050000</td>\n",
       "    </tr>\n",
       "  </tbody>\n",
       "</table><p>"
      ],
      "text/plain": [
       "<IPython.core.display.HTML object>"
      ]
     },
     "metadata": {},
     "output_type": "display_data"
    },
    {
     "name": "stdout",
     "output_type": "stream",
     "text": [
      "Save Model\n",
      "final check und update of common-voice-de-01v30\n",
      "aktual trained epoches: 288\n",
      "old trained epoches: 287\n",
      "old word error rate: 10.824029771398193%\n",
      "Translate all\n"
     ]
    },
    {
     "data": {
      "application/vnd.jupyter.widget-view+json": {
       "model_id": "0e9553e3e8544ee78a89f5cb4536817c",
       "version_major": 2,
       "version_minor": 0
      },
      "text/plain": [
       "HBox(children=(FloatProgress(value=0.0, max=11794.0), HTML(value='')))"
      ]
     },
     "metadata": {},
     "output_type": "display_data"
    },
    {
     "name": "stdout",
     "output_type": "stream",
     "text": [
      "\n",
      "Save new translations to: /home/ki-mo/shared/gitviews/extern/GermanWave2Vec/datasets/common-voice-de-01v30/content-translated-with_original.csv\n",
      "Calculate WER\n",
      "WER: 10.5937%\n",
      "No. of bad translated snippets: 4736\n",
      "Saving diff files\n",
      "Actual number of bad translated 4736\n",
      "Actual WER: 10.5937\n",
      "-----------------------------\n",
      "Loading Dataset: common-voice-de-02v30 - /home/ki-mo/shared/gitviews/extern/GermanWave2Vec/datasets/common-voice-de-02v30/content-translated-with_original.csv\n",
      "Pruning Dataset common-voice-de-02v30 with 11906 Entries\n",
      " - 11906 Entries left after Length Cut (min=31, max=4000)\n",
      " - 11906 Entries left after Action Cut\n",
      "Dataset - common-voice-de-02v30 loaded with 11906 Entries\n",
      "**************************************\n",
      "Starting round 4 of 4, epoche 1 of 3\n",
      "Splitting Dataset common-voice-de-02v30 with 11906 Entries\n",
      "aktual trained epoches: 288\n",
      "old trained epoches: 261\n",
      "old word error rate: 10.742137486323532%\n",
      "Translate all\n"
     ]
    },
    {
     "data": {
      "application/vnd.jupyter.widget-view+json": {
       "model_id": "675b25c1afd5434db205d8adeda277e1",
       "version_major": 2,
       "version_minor": 0
      },
      "text/plain": [
       "HBox(children=(FloatProgress(value=0.0, max=11906.0), HTML(value='')))"
      ]
     },
     "metadata": {},
     "output_type": "display_data"
    },
    {
     "name": "stdout",
     "output_type": "stream",
     "text": [
      "\n",
      "Save new translations to: /home/ki-mo/shared/gitviews/extern/GermanWave2Vec/datasets/common-voice-de-02v30/content-translated-with_original.csv\n",
      "Calculate WER\n"
     ]
    },
    {
     "name": "stderr",
     "output_type": "stream",
     "text": [
      "W&B installed but not logged in. Run `wandb login` or set the WANDB_API_KEY env variable.\n"
     ]
    },
    {
     "name": "stdout",
     "output_type": "stream",
     "text": [
      "WER: 10.1183%\n",
      "No. of bad translated snippets: 4763\n",
      "Saving diff files\n",
      "Actual number of bad translated 4763\n",
      "Actual WER: 10.1183%\n",
      " - 4763 Entries left after Length Cut (min=31, max=1200)\n",
      " - 1600 left after Entries Max Samples Cut (max=1600)\n",
      "Creating Trainer for common-voice-de-02v30\n",
      "Training of Dataset: common-voice-de-02v30\n"
     ]
    },
    {
     "data": {
      "text/html": [
       "\n",
       "    <div>\n",
       "        <style>\n",
       "            /* Turns off some styling */\n",
       "            progress {\n",
       "                /* gets rid of default border in Firefox and Opera. */\n",
       "                border: none;\n",
       "                /* Needs to be in here for Safari polyfill so background images work as expected. */\n",
       "                background-size: auto;\n",
       "            }\n",
       "        </style>\n",
       "      \n",
       "      <progress value='400' max='400' style='width:300px; height:20px; vertical-align: middle;'></progress>\n",
       "      [400/400 04:48, Epoch 2/2]\n",
       "    </div>\n",
       "    <table border=\"1\" class=\"dataframe\">\n",
       "  <thead>\n",
       "    <tr style=\"text-align: left;\">\n",
       "      <th>Step</th>\n",
       "      <th>Training Loss</th>\n",
       "      <th>Validation Loss</th>\n",
       "      <th>Wer</th>\n",
       "      <th>Runtime</th>\n",
       "      <th>Samples Per Second</th>\n",
       "    </tr>\n",
       "  </thead>\n",
       "  <tbody>\n",
       "    <tr>\n",
       "      <td>100</td>\n",
       "      <td>0.336500</td>\n",
       "      <td>0.069048</td>\n",
       "      <td>0.096447</td>\n",
       "      <td>2.449500</td>\n",
       "      <td>8.165000</td>\n",
       "    </tr>\n",
       "    <tr>\n",
       "      <td>200</td>\n",
       "      <td>0.332400</td>\n",
       "      <td>0.055934</td>\n",
       "      <td>0.091371</td>\n",
       "      <td>2.438600</td>\n",
       "      <td>8.201000</td>\n",
       "    </tr>\n",
       "    <tr>\n",
       "      <td>300</td>\n",
       "      <td>0.325500</td>\n",
       "      <td>0.050759</td>\n",
       "      <td>0.081218</td>\n",
       "      <td>2.454800</td>\n",
       "      <td>8.147000</td>\n",
       "    </tr>\n",
       "    <tr>\n",
       "      <td>400</td>\n",
       "      <td>0.301600</td>\n",
       "      <td>0.049159</td>\n",
       "      <td>0.086294</td>\n",
       "      <td>2.450700</td>\n",
       "      <td>8.161000</td>\n",
       "    </tr>\n",
       "  </tbody>\n",
       "</table><p>"
      ],
      "text/plain": [
       "<IPython.core.display.HTML object>"
      ]
     },
     "metadata": {},
     "output_type": "display_data"
    },
    {
     "name": "stdout",
     "output_type": "stream",
     "text": [
      "Save Model\n",
      "**************************************\n",
      "Starting round 4 of 4, epoche 2 of 3\n",
      "Splitting Dataset common-voice-de-02v30 with 11906 Entries\n",
      "aktual trained epoches: 289\n",
      "old trained epoches: 288\n",
      "old word error rate: 10.118257792676397%\n",
      "Translate all\n"
     ]
    },
    {
     "data": {
      "application/vnd.jupyter.widget-view+json": {
       "model_id": "abb65dc53b9044f4945131a84818fb8d",
       "version_major": 2,
       "version_minor": 0
      },
      "text/plain": [
       "HBox(children=(FloatProgress(value=0.0, max=11906.0), HTML(value='')))"
      ]
     },
     "metadata": {},
     "output_type": "display_data"
    },
    {
     "name": "stdout",
     "output_type": "stream",
     "text": [
      "\n",
      "Save new translations to: /home/ki-mo/shared/gitviews/extern/GermanWave2Vec/datasets/common-voice-de-02v30/content-translated-with_original.csv\n",
      "Calculate WER\n"
     ]
    },
    {
     "name": "stderr",
     "output_type": "stream",
     "text": [
      "W&B installed but not logged in. Run `wandb login` or set the WANDB_API_KEY env variable.\n"
     ]
    },
    {
     "name": "stdout",
     "output_type": "stream",
     "text": [
      "WER: 9.7970%\n",
      "No. of bad translated snippets: 4666\n",
      "Saving diff files\n",
      "Actual number of bad translated 4666\n",
      "Actual WER: 9.7970%\n",
      " - 4666 Entries left after Length Cut (min=31, max=1200)\n",
      " - 1600 left after Entries Max Samples Cut (max=1600)\n",
      "Creating Trainer for common-voice-de-02v30\n",
      "Training of Dataset: common-voice-de-02v30\n"
     ]
    },
    {
     "data": {
      "text/html": [
       "\n",
       "    <div>\n",
       "        <style>\n",
       "            /* Turns off some styling */\n",
       "            progress {\n",
       "                /* gets rid of default border in Firefox and Opera. */\n",
       "                border: none;\n",
       "                /* Needs to be in here for Safari polyfill so background images work as expected. */\n",
       "                background-size: auto;\n",
       "            }\n",
       "        </style>\n",
       "      \n",
       "      <progress value='400' max='400' style='width:300px; height:20px; vertical-align: middle;'></progress>\n",
       "      [400/400 04:50, Epoch 2/2]\n",
       "    </div>\n",
       "    <table border=\"1\" class=\"dataframe\">\n",
       "  <thead>\n",
       "    <tr style=\"text-align: left;\">\n",
       "      <th>Step</th>\n",
       "      <th>Training Loss</th>\n",
       "      <th>Validation Loss</th>\n",
       "      <th>Wer</th>\n",
       "      <th>Runtime</th>\n",
       "      <th>Samples Per Second</th>\n",
       "    </tr>\n",
       "  </thead>\n",
       "  <tbody>\n",
       "    <tr>\n",
       "      <td>100</td>\n",
       "      <td>0.321500</td>\n",
       "      <td>0.046537</td>\n",
       "      <td>0.096447</td>\n",
       "      <td>2.449500</td>\n",
       "      <td>8.165000</td>\n",
       "    </tr>\n",
       "    <tr>\n",
       "      <td>200</td>\n",
       "      <td>0.348200</td>\n",
       "      <td>0.049112</td>\n",
       "      <td>0.086294</td>\n",
       "      <td>2.460700</td>\n",
       "      <td>8.128000</td>\n",
       "    </tr>\n",
       "    <tr>\n",
       "      <td>300</td>\n",
       "      <td>0.313400</td>\n",
       "      <td>0.047764</td>\n",
       "      <td>0.086294</td>\n",
       "      <td>2.452100</td>\n",
       "      <td>8.156000</td>\n",
       "    </tr>\n",
       "    <tr>\n",
       "      <td>400</td>\n",
       "      <td>0.312200</td>\n",
       "      <td>0.047614</td>\n",
       "      <td>0.086294</td>\n",
       "      <td>2.452600</td>\n",
       "      <td>8.155000</td>\n",
       "    </tr>\n",
       "  </tbody>\n",
       "</table><p>"
      ],
      "text/plain": [
       "<IPython.core.display.HTML object>"
      ]
     },
     "metadata": {},
     "output_type": "display_data"
    },
    {
     "name": "stdout",
     "output_type": "stream",
     "text": [
      "Save Model\n",
      "**************************************\n",
      "Starting round 4 of 4, epoche 3 of 3\n",
      "Splitting Dataset common-voice-de-02v30 with 11906 Entries\n",
      "aktual trained epoches: 290\n",
      "old trained epoches: 289\n",
      "old word error rate: 9.797006308634215%\n",
      "Translate all\n"
     ]
    },
    {
     "data": {
      "application/vnd.jupyter.widget-view+json": {
       "model_id": "cbaf3870b3db468f94701e799a40d254",
       "version_major": 2,
       "version_minor": 0
      },
      "text/plain": [
       "HBox(children=(FloatProgress(value=0.0, max=11906.0), HTML(value='')))"
      ]
     },
     "metadata": {},
     "output_type": "display_data"
    },
    {
     "name": "stdout",
     "output_type": "stream",
     "text": [
      "\n",
      "Save new translations to: /home/ki-mo/shared/gitviews/extern/GermanWave2Vec/datasets/common-voice-de-02v30/content-translated-with_original.csv\n",
      "Calculate WER\n"
     ]
    },
    {
     "name": "stderr",
     "output_type": "stream",
     "text": [
      "W&B installed but not logged in. Run `wandb login` or set the WANDB_API_KEY env variable.\n"
     ]
    },
    {
     "name": "stdout",
     "output_type": "stream",
     "text": [
      "WER: 9.4455%\n",
      "No. of bad translated snippets: 4585\n",
      "Saving diff files\n",
      "Actual number of bad translated 4585\n",
      "Actual WER: 9.4455%\n",
      " - 4585 Entries left after Length Cut (min=31, max=1200)\n",
      " - 1600 left after Entries Max Samples Cut (max=1600)\n",
      "Creating Trainer for common-voice-de-02v30\n",
      "Training of Dataset: common-voice-de-02v30\n"
     ]
    },
    {
     "data": {
      "text/html": [
       "\n",
       "    <div>\n",
       "        <style>\n",
       "            /* Turns off some styling */\n",
       "            progress {\n",
       "                /* gets rid of default border in Firefox and Opera. */\n",
       "                border: none;\n",
       "                /* Needs to be in here for Safari polyfill so background images work as expected. */\n",
       "                background-size: auto;\n",
       "            }\n",
       "        </style>\n",
       "      \n",
       "      <progress value='400' max='400' style='width:300px; height:20px; vertical-align: middle;'></progress>\n",
       "      [400/400 04:49, Epoch 2/2]\n",
       "    </div>\n",
       "    <table border=\"1\" class=\"dataframe\">\n",
       "  <thead>\n",
       "    <tr style=\"text-align: left;\">\n",
       "      <th>Step</th>\n",
       "      <th>Training Loss</th>\n",
       "      <th>Validation Loss</th>\n",
       "      <th>Wer</th>\n",
       "      <th>Runtime</th>\n",
       "      <th>Samples Per Second</th>\n",
       "    </tr>\n",
       "  </thead>\n",
       "  <tbody>\n",
       "    <tr>\n",
       "      <td>100</td>\n",
       "      <td>0.310500</td>\n",
       "      <td>0.049951</td>\n",
       "      <td>0.081218</td>\n",
       "      <td>2.449700</td>\n",
       "      <td>8.164000</td>\n",
       "    </tr>\n",
       "    <tr>\n",
       "      <td>200</td>\n",
       "      <td>0.333600</td>\n",
       "      <td>0.050849</td>\n",
       "      <td>0.086294</td>\n",
       "      <td>2.457400</td>\n",
       "      <td>8.139000</td>\n",
       "    </tr>\n",
       "    <tr>\n",
       "      <td>300</td>\n",
       "      <td>0.306700</td>\n",
       "      <td>0.046314</td>\n",
       "      <td>0.076142</td>\n",
       "      <td>2.450500</td>\n",
       "      <td>8.161000</td>\n",
       "    </tr>\n",
       "    <tr>\n",
       "      <td>400</td>\n",
       "      <td>0.309500</td>\n",
       "      <td>0.046584</td>\n",
       "      <td>0.086294</td>\n",
       "      <td>2.444700</td>\n",
       "      <td>8.181000</td>\n",
       "    </tr>\n",
       "  </tbody>\n",
       "</table><p>"
      ],
      "text/plain": [
       "<IPython.core.display.HTML object>"
      ]
     },
     "metadata": {},
     "output_type": "display_data"
    },
    {
     "name": "stdout",
     "output_type": "stream",
     "text": [
      "Save Model\n",
      "final check und update of common-voice-de-02v30\n",
      "aktual trained epoches: 291\n",
      "old trained epoches: 290\n",
      "old word error rate: 9.445492003631538%\n",
      "Translate all\n"
     ]
    },
    {
     "data": {
      "application/vnd.jupyter.widget-view+json": {
       "model_id": "f1de5b8e88f740628e76821d6993f78f",
       "version_major": 2,
       "version_minor": 0
      },
      "text/plain": [
       "HBox(children=(FloatProgress(value=0.0, max=11906.0), HTML(value='')))"
      ]
     },
     "metadata": {},
     "output_type": "display_data"
    },
    {
     "name": "stdout",
     "output_type": "stream",
     "text": [
      "\n",
      "Save new translations to: /home/ki-mo/shared/gitviews/extern/GermanWave2Vec/datasets/common-voice-de-02v30/content-translated-with_original.csv\n",
      "Calculate WER\n",
      "WER: 9.1289%\n",
      "No. of bad translated snippets: 4483\n",
      "Saving diff files\n",
      "Actual number of bad translated 4483\n",
      "Actual WER: 9.1289\n",
      "-----------------------------\n",
      "Loading Dataset: common-voice-de-03v30 - /home/ki-mo/shared/gitviews/extern/GermanWave2Vec/datasets/common-voice-de-03v30/content-translated-with_original.csv\n",
      "Pruning Dataset common-voice-de-03v30 with 11954 Entries\n",
      " - 11954 Entries left after Length Cut (min=31, max=4000)\n",
      " - 11954 Entries left after Action Cut\n",
      "Dataset - common-voice-de-03v30 loaded with 11954 Entries\n",
      "**************************************\n",
      "Starting round 4 of 4, epoche 1 of 3\n",
      "Splitting Dataset common-voice-de-03v30 with 11954 Entries\n",
      "aktual trained epoches: 291\n",
      "old trained epoches: 264\n",
      "old word error rate: 10.25050730399079%\n",
      "Translate all\n"
     ]
    },
    {
     "data": {
      "application/vnd.jupyter.widget-view+json": {
       "model_id": "e68a9befb06a4d8b8c95c83d7fd0ae85",
       "version_major": 2,
       "version_minor": 0
      },
      "text/plain": [
       "HBox(children=(FloatProgress(value=0.0, max=11954.0), HTML(value='')))"
      ]
     },
     "metadata": {},
     "output_type": "display_data"
    },
    {
     "name": "stdout",
     "output_type": "stream",
     "text": [
      "\n",
      "Save new translations to: /home/ki-mo/shared/gitviews/extern/GermanWave2Vec/datasets/common-voice-de-03v30/content-translated-with_original.csv\n",
      "Calculate WER\n"
     ]
    },
    {
     "name": "stderr",
     "output_type": "stream",
     "text": [
      "W&B installed but not logged in. Run `wandb login` or set the WANDB_API_KEY env variable.\n"
     ]
    },
    {
     "name": "stdout",
     "output_type": "stream",
     "text": [
      "WER: 9.7545%\n",
      "No. of bad translated snippets: 4549\n",
      "Saving diff files\n",
      "Actual number of bad translated 4549\n",
      "Actual WER: 9.7545%\n",
      " - 4549 Entries left after Length Cut (min=31, max=1200)\n",
      " - 1600 left after Entries Max Samples Cut (max=1600)\n",
      "Creating Trainer for common-voice-de-03v30\n",
      "Training of Dataset: common-voice-de-03v30\n"
     ]
    },
    {
     "data": {
      "text/html": [
       "\n",
       "    <div>\n",
       "        <style>\n",
       "            /* Turns off some styling */\n",
       "            progress {\n",
       "                /* gets rid of default border in Firefox and Opera. */\n",
       "                border: none;\n",
       "                /* Needs to be in here for Safari polyfill so background images work as expected. */\n",
       "                background-size: auto;\n",
       "            }\n",
       "        </style>\n",
       "      \n",
       "      <progress value='400' max='400' style='width:300px; height:20px; vertical-align: middle;'></progress>\n",
       "      [400/400 04:40, Epoch 2/2]\n",
       "    </div>\n",
       "    <table border=\"1\" class=\"dataframe\">\n",
       "  <thead>\n",
       "    <tr style=\"text-align: left;\">\n",
       "      <th>Step</th>\n",
       "      <th>Training Loss</th>\n",
       "      <th>Validation Loss</th>\n",
       "      <th>Wer</th>\n",
       "      <th>Runtime</th>\n",
       "      <th>Samples Per Second</th>\n",
       "    </tr>\n",
       "  </thead>\n",
       "  <tbody>\n",
       "    <tr>\n",
       "      <td>100</td>\n",
       "      <td>0.349700</td>\n",
       "      <td>0.124875</td>\n",
       "      <td>0.116379</td>\n",
       "      <td>2.357000</td>\n",
       "      <td>8.485000</td>\n",
       "    </tr>\n",
       "    <tr>\n",
       "      <td>200</td>\n",
       "      <td>0.321200</td>\n",
       "      <td>0.127050</td>\n",
       "      <td>0.125000</td>\n",
       "      <td>2.366000</td>\n",
       "      <td>8.453000</td>\n",
       "    </tr>\n",
       "    <tr>\n",
       "      <td>300</td>\n",
       "      <td>0.308600</td>\n",
       "      <td>0.129547</td>\n",
       "      <td>0.112069</td>\n",
       "      <td>2.337200</td>\n",
       "      <td>8.557000</td>\n",
       "    </tr>\n",
       "    <tr>\n",
       "      <td>400</td>\n",
       "      <td>0.333800</td>\n",
       "      <td>0.128291</td>\n",
       "      <td>0.112069</td>\n",
       "      <td>2.363700</td>\n",
       "      <td>8.461000</td>\n",
       "    </tr>\n",
       "  </tbody>\n",
       "</table><p>"
      ],
      "text/plain": [
       "<IPython.core.display.HTML object>"
      ]
     },
     "metadata": {},
     "output_type": "display_data"
    },
    {
     "name": "stdout",
     "output_type": "stream",
     "text": [
      "Save Model\n",
      "**************************************\n",
      "Starting round 4 of 4, epoche 2 of 3\n",
      "Splitting Dataset common-voice-de-03v30 with 11954 Entries\n",
      "aktual trained epoches: 292\n",
      "old trained epoches: 291\n",
      "old word error rate: 9.754476735216985%\n",
      "Translate all\n"
     ]
    },
    {
     "data": {
      "application/vnd.jupyter.widget-view+json": {
       "model_id": "1922a927f78643fb9dd8f4f145e379fc",
       "version_major": 2,
       "version_minor": 0
      },
      "text/plain": [
       "HBox(children=(FloatProgress(value=0.0, max=11954.0), HTML(value='')))"
      ]
     },
     "metadata": {},
     "output_type": "display_data"
    },
    {
     "name": "stdout",
     "output_type": "stream",
     "text": [
      "\n",
      "Save new translations to: /home/ki-mo/shared/gitviews/extern/GermanWave2Vec/datasets/common-voice-de-03v30/content-translated-with_original.csv\n",
      "Calculate WER\n"
     ]
    },
    {
     "name": "stderr",
     "output_type": "stream",
     "text": [
      "W&B installed but not logged in. Run `wandb login` or set the WANDB_API_KEY env variable.\n"
     ]
    },
    {
     "name": "stdout",
     "output_type": "stream",
     "text": [
      "WER: 9.3558%\n",
      "No. of bad translated snippets: 4440\n",
      "Saving diff files\n",
      "Actual number of bad translated 4440\n",
      "Actual WER: 9.3558%\n",
      " - 4440 Entries left after Length Cut (min=31, max=1200)\n",
      " - 1600 left after Entries Max Samples Cut (max=1600)\n",
      "Creating Trainer for common-voice-de-03v30\n",
      "Training of Dataset: common-voice-de-03v30\n"
     ]
    },
    {
     "data": {
      "text/html": [
       "\n",
       "    <div>\n",
       "        <style>\n",
       "            /* Turns off some styling */\n",
       "            progress {\n",
       "                /* gets rid of default border in Firefox and Opera. */\n",
       "                border: none;\n",
       "                /* Needs to be in here for Safari polyfill so background images work as expected. */\n",
       "                background-size: auto;\n",
       "            }\n",
       "        </style>\n",
       "      \n",
       "      <progress value='400' max='400' style='width:300px; height:20px; vertical-align: middle;'></progress>\n",
       "      [400/400 04:39, Epoch 2/2]\n",
       "    </div>\n",
       "    <table border=\"1\" class=\"dataframe\">\n",
       "  <thead>\n",
       "    <tr style=\"text-align: left;\">\n",
       "      <th>Step</th>\n",
       "      <th>Training Loss</th>\n",
       "      <th>Validation Loss</th>\n",
       "      <th>Wer</th>\n",
       "      <th>Runtime</th>\n",
       "      <th>Samples Per Second</th>\n",
       "    </tr>\n",
       "  </thead>\n",
       "  <tbody>\n",
       "    <tr>\n",
       "      <td>100</td>\n",
       "      <td>0.343300</td>\n",
       "      <td>0.127008</td>\n",
       "      <td>0.116379</td>\n",
       "      <td>2.356900</td>\n",
       "      <td>8.486000</td>\n",
       "    </tr>\n",
       "    <tr>\n",
       "      <td>200</td>\n",
       "      <td>0.329800</td>\n",
       "      <td>0.128391</td>\n",
       "      <td>0.112069</td>\n",
       "      <td>2.357100</td>\n",
       "      <td>8.485000</td>\n",
       "    </tr>\n",
       "    <tr>\n",
       "      <td>300</td>\n",
       "      <td>0.295200</td>\n",
       "      <td>0.124555</td>\n",
       "      <td>0.107759</td>\n",
       "      <td>2.350800</td>\n",
       "      <td>8.508000</td>\n",
       "    </tr>\n",
       "    <tr>\n",
       "      <td>400</td>\n",
       "      <td>0.318100</td>\n",
       "      <td>0.123867</td>\n",
       "      <td>0.103448</td>\n",
       "      <td>2.356900</td>\n",
       "      <td>8.486000</td>\n",
       "    </tr>\n",
       "  </tbody>\n",
       "</table><p>"
      ],
      "text/plain": [
       "<IPython.core.display.HTML object>"
      ]
     },
     "metadata": {},
     "output_type": "display_data"
    },
    {
     "name": "stdout",
     "output_type": "stream",
     "text": [
      "Save Model\n",
      "**************************************\n",
      "Starting round 4 of 4, epoche 3 of 3\n",
      "Splitting Dataset common-voice-de-03v30 with 11954 Entries\n",
      "aktual trained epoches: 293\n",
      "old trained epoches: 292\n",
      "old word error rate: 9.355753598594974%\n",
      "Translate all\n"
     ]
    },
    {
     "data": {
      "application/vnd.jupyter.widget-view+json": {
       "model_id": "a4db48c121084584b4eb5c2cd6d9650d",
       "version_major": 2,
       "version_minor": 0
      },
      "text/plain": [
       "HBox(children=(FloatProgress(value=0.0, max=11954.0), HTML(value='')))"
      ]
     },
     "metadata": {},
     "output_type": "display_data"
    },
    {
     "name": "stdout",
     "output_type": "stream",
     "text": [
      "\n",
      "Save new translations to: /home/ki-mo/shared/gitviews/extern/GermanWave2Vec/datasets/common-voice-de-03v30/content-translated-with_original.csv\n",
      "Calculate WER\n"
     ]
    },
    {
     "name": "stderr",
     "output_type": "stream",
     "text": [
      "W&B installed but not logged in. Run `wandb login` or set the WANDB_API_KEY env variable.\n"
     ]
    },
    {
     "name": "stdout",
     "output_type": "stream",
     "text": [
      "WER: 9.1362%\n",
      "No. of bad translated snippets: 4438\n",
      "Saving diff files\n",
      "Actual number of bad translated 4438\n",
      "Actual WER: 9.1362%\n",
      " - 4438 Entries left after Length Cut (min=31, max=1200)\n",
      " - 1600 left after Entries Max Samples Cut (max=1600)\n",
      "Creating Trainer for common-voice-de-03v30\n",
      "Training of Dataset: common-voice-de-03v30\n"
     ]
    },
    {
     "data": {
      "text/html": [
       "\n",
       "    <div>\n",
       "        <style>\n",
       "            /* Turns off some styling */\n",
       "            progress {\n",
       "                /* gets rid of default border in Firefox and Opera. */\n",
       "                border: none;\n",
       "                /* Needs to be in here for Safari polyfill so background images work as expected. */\n",
       "                background-size: auto;\n",
       "            }\n",
       "        </style>\n",
       "      \n",
       "      <progress value='400' max='400' style='width:300px; height:20px; vertical-align: middle;'></progress>\n",
       "      [400/400 04:34, Epoch 2/2]\n",
       "    </div>\n",
       "    <table border=\"1\" class=\"dataframe\">\n",
       "  <thead>\n",
       "    <tr style=\"text-align: left;\">\n",
       "      <th>Step</th>\n",
       "      <th>Training Loss</th>\n",
       "      <th>Validation Loss</th>\n",
       "      <th>Wer</th>\n",
       "      <th>Runtime</th>\n",
       "      <th>Samples Per Second</th>\n",
       "    </tr>\n",
       "  </thead>\n",
       "  <tbody>\n",
       "    <tr>\n",
       "      <td>100</td>\n",
       "      <td>0.343300</td>\n",
       "      <td>0.120434</td>\n",
       "      <td>0.103448</td>\n",
       "      <td>2.314300</td>\n",
       "      <td>8.642000</td>\n",
       "    </tr>\n",
       "    <tr>\n",
       "      <td>200</td>\n",
       "      <td>0.317200</td>\n",
       "      <td>0.114705</td>\n",
       "      <td>0.107759</td>\n",
       "      <td>2.309200</td>\n",
       "      <td>8.661000</td>\n",
       "    </tr>\n",
       "    <tr>\n",
       "      <td>300</td>\n",
       "      <td>0.296000</td>\n",
       "      <td>0.114633</td>\n",
       "      <td>0.094828</td>\n",
       "      <td>2.356300</td>\n",
       "      <td>8.488000</td>\n",
       "    </tr>\n",
       "    <tr>\n",
       "      <td>400</td>\n",
       "      <td>0.320600</td>\n",
       "      <td>0.115293</td>\n",
       "      <td>0.099138</td>\n",
       "      <td>2.353300</td>\n",
       "      <td>8.499000</td>\n",
       "    </tr>\n",
       "  </tbody>\n",
       "</table><p>"
      ],
      "text/plain": [
       "<IPython.core.display.HTML object>"
      ]
     },
     "metadata": {},
     "output_type": "display_data"
    },
    {
     "name": "stdout",
     "output_type": "stream",
     "text": [
      "Save Model\n",
      "final check und update of common-voice-de-03v30\n",
      "aktual trained epoches: 294\n",
      "old trained epoches: 293\n",
      "old word error rate: 9.136218538252502%\n",
      "Translate all\n"
     ]
    },
    {
     "data": {
      "application/vnd.jupyter.widget-view+json": {
       "model_id": "d0ea42d5d18a4409b388fb8000bef607",
       "version_major": 2,
       "version_minor": 0
      },
      "text/plain": [
       "HBox(children=(FloatProgress(value=0.0, max=11954.0), HTML(value='')))"
      ]
     },
     "metadata": {},
     "output_type": "display_data"
    },
    {
     "name": "stdout",
     "output_type": "stream",
     "text": [
      "\n",
      "Save new translations to: /home/ki-mo/shared/gitviews/extern/GermanWave2Vec/datasets/common-voice-de-03v30/content-translated-with_original.csv\n",
      "Calculate WER\n",
      "WER: 8.8443%\n",
      "No. of bad translated snippets: 4281\n",
      "Saving diff files\n",
      "Actual number of bad translated 4281\n",
      "Actual WER: 8.8443\n",
      "-----------------------------\n",
      "Loading Dataset: common-voice-de-04v30 - /home/ki-mo/shared/gitviews/extern/GermanWave2Vec/datasets/common-voice-de-04v30/content-translated-with_original.csv\n",
      "Pruning Dataset common-voice-de-04v30 with 12161 Entries\n",
      " - 12161 Entries left after Length Cut (min=31, max=4000)\n",
      " - 12161 Entries left after Action Cut\n",
      "Dataset - common-voice-de-04v30 loaded with 12161 Entries\n",
      "**************************************\n",
      "Starting round 4 of 4, epoche 1 of 3\n",
      "Splitting Dataset common-voice-de-04v30 with 12161 Entries\n",
      "aktual trained epoches: 294\n",
      "old trained epoches: 267\n",
      "old word error rate: 9.408079745764649%\n",
      "Translate all\n"
     ]
    },
    {
     "data": {
      "application/vnd.jupyter.widget-view+json": {
       "model_id": "ee75a72bfaec4ae5a0d4cd4a29b499e1",
       "version_major": 2,
       "version_minor": 0
      },
      "text/plain": [
       "HBox(children=(FloatProgress(value=0.0, max=12161.0), HTML(value='')))"
      ]
     },
     "metadata": {},
     "output_type": "display_data"
    },
    {
     "name": "stdout",
     "output_type": "stream",
     "text": [
      "\n",
      "Save new translations to: /home/ki-mo/shared/gitviews/extern/GermanWave2Vec/datasets/common-voice-de-04v30/content-translated-with_original.csv\n",
      "Calculate WER\n"
     ]
    },
    {
     "name": "stderr",
     "output_type": "stream",
     "text": [
      "W&B installed but not logged in. Run `wandb login` or set the WANDB_API_KEY env variable.\n"
     ]
    },
    {
     "name": "stdout",
     "output_type": "stream",
     "text": [
      "WER: 8.9005%\n",
      "No. of bad translated snippets: 4533\n",
      "Saving diff files\n",
      "Actual number of bad translated 4533\n",
      "Actual WER: 8.9005%\n",
      " - 4533 Entries left after Length Cut (min=31, max=1200)\n",
      " - 1600 left after Entries Max Samples Cut (max=1600)\n",
      "Creating Trainer for common-voice-de-04v30\n",
      "Training of Dataset: common-voice-de-04v30\n"
     ]
    },
    {
     "data": {
      "text/html": [
       "\n",
       "    <div>\n",
       "        <style>\n",
       "            /* Turns off some styling */\n",
       "            progress {\n",
       "                /* gets rid of default border in Firefox and Opera. */\n",
       "                border: none;\n",
       "                /* Needs to be in here for Safari polyfill so background images work as expected. */\n",
       "                background-size: auto;\n",
       "            }\n",
       "        </style>\n",
       "      \n",
       "      <progress value='400' max='400' style='width:300px; height:20px; vertical-align: middle;'></progress>\n",
       "      [400/400 04:32, Epoch 2/2]\n",
       "    </div>\n",
       "    <table border=\"1\" class=\"dataframe\">\n",
       "  <thead>\n",
       "    <tr style=\"text-align: left;\">\n",
       "      <th>Step</th>\n",
       "      <th>Training Loss</th>\n",
       "      <th>Validation Loss</th>\n",
       "      <th>Wer</th>\n",
       "      <th>Runtime</th>\n",
       "      <th>Samples Per Second</th>\n",
       "    </tr>\n",
       "  </thead>\n",
       "  <tbody>\n",
       "    <tr>\n",
       "      <td>100</td>\n",
       "      <td>0.338300</td>\n",
       "      <td>0.071425</td>\n",
       "      <td>0.155963</td>\n",
       "      <td>2.410100</td>\n",
       "      <td>8.298000</td>\n",
       "    </tr>\n",
       "    <tr>\n",
       "      <td>200</td>\n",
       "      <td>0.308300</td>\n",
       "      <td>0.073531</td>\n",
       "      <td>0.165138</td>\n",
       "      <td>2.404900</td>\n",
       "      <td>8.316000</td>\n",
       "    </tr>\n",
       "    <tr>\n",
       "      <td>300</td>\n",
       "      <td>0.322700</td>\n",
       "      <td>0.073243</td>\n",
       "      <td>0.169725</td>\n",
       "      <td>2.434400</td>\n",
       "      <td>8.216000</td>\n",
       "    </tr>\n",
       "    <tr>\n",
       "      <td>400</td>\n",
       "      <td>0.327300</td>\n",
       "      <td>0.074050</td>\n",
       "      <td>0.169725</td>\n",
       "      <td>2.424800</td>\n",
       "      <td>8.248000</td>\n",
       "    </tr>\n",
       "  </tbody>\n",
       "</table><p>"
      ],
      "text/plain": [
       "<IPython.core.display.HTML object>"
      ]
     },
     "metadata": {},
     "output_type": "display_data"
    },
    {
     "name": "stdout",
     "output_type": "stream",
     "text": [
      "Save Model\n",
      "**************************************\n",
      "Starting round 4 of 4, epoche 2 of 3\n",
      "Splitting Dataset common-voice-de-04v30 with 12161 Entries\n",
      "aktual trained epoches: 295\n",
      "old trained epoches: 294\n",
      "old word error rate: 8.900523560209423%\n",
      "Translate all\n"
     ]
    },
    {
     "data": {
      "application/vnd.jupyter.widget-view+json": {
       "model_id": "b45ce568f24d4668b7312641d5d0b020",
       "version_major": 2,
       "version_minor": 0
      },
      "text/plain": [
       "HBox(children=(FloatProgress(value=0.0, max=12161.0), HTML(value='')))"
      ]
     },
     "metadata": {},
     "output_type": "display_data"
    },
    {
     "name": "stdout",
     "output_type": "stream",
     "text": [
      "\n",
      "Save new translations to: /home/ki-mo/shared/gitviews/extern/GermanWave2Vec/datasets/common-voice-de-04v30/content-translated-with_original.csv\n",
      "Calculate WER\n"
     ]
    },
    {
     "name": "stderr",
     "output_type": "stream",
     "text": [
      "W&B installed but not logged in. Run `wandb login` or set the WANDB_API_KEY env variable.\n"
     ]
    },
    {
     "name": "stdout",
     "output_type": "stream",
     "text": [
      "WER: 8.6079%\n",
      "No. of bad translated snippets: 4451\n",
      "Saving diff files\n",
      "Actual number of bad translated 4451\n",
      "Actual WER: 8.6079%\n",
      " - 4451 Entries left after Length Cut (min=31, max=1200)\n",
      " - 1600 left after Entries Max Samples Cut (max=1600)\n",
      "Creating Trainer for common-voice-de-04v30\n",
      "Training of Dataset: common-voice-de-04v30\n"
     ]
    },
    {
     "data": {
      "text/html": [
       "\n",
       "    <div>\n",
       "        <style>\n",
       "            /* Turns off some styling */\n",
       "            progress {\n",
       "                /* gets rid of default border in Firefox and Opera. */\n",
       "                border: none;\n",
       "                /* Needs to be in here for Safari polyfill so background images work as expected. */\n",
       "                background-size: auto;\n",
       "            }\n",
       "        </style>\n",
       "      \n",
       "      <progress value='400' max='400' style='width:300px; height:20px; vertical-align: middle;'></progress>\n",
       "      [400/400 04:33, Epoch 2/2]\n",
       "    </div>\n",
       "    <table border=\"1\" class=\"dataframe\">\n",
       "  <thead>\n",
       "    <tr style=\"text-align: left;\">\n",
       "      <th>Step</th>\n",
       "      <th>Training Loss</th>\n",
       "      <th>Validation Loss</th>\n",
       "      <th>Wer</th>\n",
       "      <th>Runtime</th>\n",
       "      <th>Samples Per Second</th>\n",
       "    </tr>\n",
       "  </thead>\n",
       "  <tbody>\n",
       "    <tr>\n",
       "      <td>100</td>\n",
       "      <td>0.302800</td>\n",
       "      <td>0.073170</td>\n",
       "      <td>0.160550</td>\n",
       "      <td>2.373400</td>\n",
       "      <td>8.427000</td>\n",
       "    </tr>\n",
       "    <tr>\n",
       "      <td>200</td>\n",
       "      <td>0.301800</td>\n",
       "      <td>0.074011</td>\n",
       "      <td>0.178899</td>\n",
       "      <td>2.410800</td>\n",
       "      <td>8.296000</td>\n",
       "    </tr>\n",
       "    <tr>\n",
       "      <td>300</td>\n",
       "      <td>0.288000</td>\n",
       "      <td>0.073370</td>\n",
       "      <td>0.160550</td>\n",
       "      <td>2.421600</td>\n",
       "      <td>8.259000</td>\n",
       "    </tr>\n",
       "    <tr>\n",
       "      <td>400</td>\n",
       "      <td>0.288700</td>\n",
       "      <td>0.072705</td>\n",
       "      <td>0.160550</td>\n",
       "      <td>2.405800</td>\n",
       "      <td>8.313000</td>\n",
       "    </tr>\n",
       "  </tbody>\n",
       "</table><p>"
      ],
      "text/plain": [
       "<IPython.core.display.HTML object>"
      ]
     },
     "metadata": {},
     "output_type": "display_data"
    },
    {
     "name": "stdout",
     "output_type": "stream",
     "text": [
      "Save Model\n",
      "**************************************\n",
      "Starting round 4 of 4, epoche 3 of 3\n",
      "Splitting Dataset common-voice-de-04v30 with 12161 Entries\n",
      "aktual trained epoches: 296\n",
      "old trained epoches: 295\n",
      "old word error rate: 8.607878552321727%\n",
      "Translate all\n"
     ]
    },
    {
     "data": {
      "application/vnd.jupyter.widget-view+json": {
       "model_id": "2da4cef1962c42d89ea7f6bbecfaa752",
       "version_major": 2,
       "version_minor": 0
      },
      "text/plain": [
       "HBox(children=(FloatProgress(value=0.0, max=12161.0), HTML(value='')))"
      ]
     },
     "metadata": {},
     "output_type": "display_data"
    },
    {
     "name": "stdout",
     "output_type": "stream",
     "text": [
      "\n",
      "Save new translations to: /home/ki-mo/shared/gitviews/extern/GermanWave2Vec/datasets/common-voice-de-04v30/content-translated-with_original.csv\n",
      "Calculate WER\n"
     ]
    },
    {
     "name": "stderr",
     "output_type": "stream",
     "text": [
      "W&B installed but not logged in. Run `wandb login` or set the WANDB_API_KEY env variable.\n"
     ]
    },
    {
     "name": "stdout",
     "output_type": "stream",
     "text": [
      "WER: 8.2352%\n",
      "No. of bad translated snippets: 4306\n",
      "Saving diff files\n",
      "Actual number of bad translated 4306\n",
      "Actual WER: 8.2352%\n",
      " - 4306 Entries left after Length Cut (min=31, max=1200)\n",
      " - 1600 left after Entries Max Samples Cut (max=1600)\n",
      "Creating Trainer for common-voice-de-04v30\n",
      "Training of Dataset: common-voice-de-04v30\n"
     ]
    },
    {
     "data": {
      "text/html": [
       "\n",
       "    <div>\n",
       "        <style>\n",
       "            /* Turns off some styling */\n",
       "            progress {\n",
       "                /* gets rid of default border in Firefox and Opera. */\n",
       "                border: none;\n",
       "                /* Needs to be in here for Safari polyfill so background images work as expected. */\n",
       "                background-size: auto;\n",
       "            }\n",
       "        </style>\n",
       "      \n",
       "      <progress value='400' max='400' style='width:300px; height:20px; vertical-align: middle;'></progress>\n",
       "      [400/400 04:32, Epoch 2/2]\n",
       "    </div>\n",
       "    <table border=\"1\" class=\"dataframe\">\n",
       "  <thead>\n",
       "    <tr style=\"text-align: left;\">\n",
       "      <th>Step</th>\n",
       "      <th>Training Loss</th>\n",
       "      <th>Validation Loss</th>\n",
       "      <th>Wer</th>\n",
       "      <th>Runtime</th>\n",
       "      <th>Samples Per Second</th>\n",
       "    </tr>\n",
       "  </thead>\n",
       "  <tbody>\n",
       "    <tr>\n",
       "      <td>100</td>\n",
       "      <td>0.293400</td>\n",
       "      <td>0.071635</td>\n",
       "      <td>0.155963</td>\n",
       "      <td>2.419500</td>\n",
       "      <td>8.266000</td>\n",
       "    </tr>\n",
       "    <tr>\n",
       "      <td>200</td>\n",
       "      <td>0.316400</td>\n",
       "      <td>0.072853</td>\n",
       "      <td>0.155963</td>\n",
       "      <td>2.431100</td>\n",
       "      <td>8.227000</td>\n",
       "    </tr>\n",
       "    <tr>\n",
       "      <td>300</td>\n",
       "      <td>0.281300</td>\n",
       "      <td>0.066529</td>\n",
       "      <td>0.151376</td>\n",
       "      <td>2.423200</td>\n",
       "      <td>8.253000</td>\n",
       "    </tr>\n",
       "    <tr>\n",
       "      <td>400</td>\n",
       "      <td>0.313200</td>\n",
       "      <td>0.066378</td>\n",
       "      <td>0.155963</td>\n",
       "      <td>2.419400</td>\n",
       "      <td>8.267000</td>\n",
       "    </tr>\n",
       "  </tbody>\n",
       "</table><p>"
      ],
      "text/plain": [
       "<IPython.core.display.HTML object>"
      ]
     },
     "metadata": {},
     "output_type": "display_data"
    },
    {
     "name": "stdout",
     "output_type": "stream",
     "text": [
      "Save Model\n",
      "final check und update of common-voice-de-04v30\n",
      "aktual trained epoches: 297\n",
      "old trained epoches: 296\n",
      "old word error rate: 8.235213425089736%\n",
      "Translate all\n"
     ]
    },
    {
     "data": {
      "application/vnd.jupyter.widget-view+json": {
       "model_id": "0facc0427b394c9f9194ea7c5aef09dc",
       "version_major": 2,
       "version_minor": 0
      },
      "text/plain": [
       "HBox(children=(FloatProgress(value=0.0, max=12161.0), HTML(value='')))"
      ]
     },
     "metadata": {},
     "output_type": "display_data"
    },
    {
     "name": "stdout",
     "output_type": "stream",
     "text": [
      "\n",
      "Save new translations to: /home/ki-mo/shared/gitviews/extern/GermanWave2Vec/datasets/common-voice-de-04v30/content-translated-with_original.csv\n",
      "Calculate WER\n",
      "WER: 8.0797%\n",
      "No. of bad translated snippets: 4258\n",
      "Saving diff files\n",
      "Actual number of bad translated 4258\n",
      "Actual WER: 8.0797\n",
      "-----------------------------\n",
      "Loading Dataset: common-voice-de-05v30 - /home/ki-mo/shared/gitviews/extern/GermanWave2Vec/datasets/common-voice-de-05v30/content-translated-with_original.csv\n",
      "Pruning Dataset common-voice-de-05v30 with 11956 Entries\n",
      " - 11956 Entries left after Length Cut (min=31, max=4000)\n",
      " - 11956 Entries left after Action Cut\n",
      "Dataset - common-voice-de-05v30 loaded with 11956 Entries\n",
      "**************************************\n",
      "Starting round 4 of 4, epoche 1 of 3\n",
      "Splitting Dataset common-voice-de-05v30 with 11956 Entries\n",
      "aktual trained epoches: 297\n",
      "old trained epoches: 270\n",
      "old word error rate: 9.021920551908313%\n",
      "Translate all\n"
     ]
    },
    {
     "data": {
      "application/vnd.jupyter.widget-view+json": {
       "model_id": "44fc5d63ddcc49cd8f469090e1f3ed63",
       "version_major": 2,
       "version_minor": 0
      },
      "text/plain": [
       "HBox(children=(FloatProgress(value=0.0, max=11956.0), HTML(value='')))"
      ]
     },
     "metadata": {},
     "output_type": "display_data"
    },
    {
     "name": "stdout",
     "output_type": "stream",
     "text": [
      "\n",
      "Save new translations to: /home/ki-mo/shared/gitviews/extern/GermanWave2Vec/datasets/common-voice-de-05v30/content-translated-with_original.csv\n",
      "Calculate WER\n"
     ]
    },
    {
     "name": "stderr",
     "output_type": "stream",
     "text": [
      "W&B installed but not logged in. Run `wandb login` or set the WANDB_API_KEY env variable.\n"
     ]
    },
    {
     "name": "stdout",
     "output_type": "stream",
     "text": [
      "WER: 8.6325%\n",
      "No. of bad translated snippets: 4559\n",
      "Saving diff files\n",
      "Actual number of bad translated 4559\n",
      "Actual WER: 8.6325%\n",
      " - 4559 Entries left after Length Cut (min=31, max=1200)\n",
      " - 1600 left after Entries Max Samples Cut (max=1600)\n",
      "Creating Trainer for common-voice-de-05v30\n",
      "Training of Dataset: common-voice-de-05v30\n"
     ]
    },
    {
     "data": {
      "text/html": [
       "\n",
       "    <div>\n",
       "        <style>\n",
       "            /* Turns off some styling */\n",
       "            progress {\n",
       "                /* gets rid of default border in Firefox and Opera. */\n",
       "                border: none;\n",
       "                /* Needs to be in here for Safari polyfill so background images work as expected. */\n",
       "                background-size: auto;\n",
       "            }\n",
       "        </style>\n",
       "      \n",
       "      <progress value='400' max='400' style='width:300px; height:20px; vertical-align: middle;'></progress>\n",
       "      [400/400 04:31, Epoch 2/2]\n",
       "    </div>\n",
       "    <table border=\"1\" class=\"dataframe\">\n",
       "  <thead>\n",
       "    <tr style=\"text-align: left;\">\n",
       "      <th>Step</th>\n",
       "      <th>Training Loss</th>\n",
       "      <th>Validation Loss</th>\n",
       "      <th>Wer</th>\n",
       "      <th>Runtime</th>\n",
       "      <th>Samples Per Second</th>\n",
       "    </tr>\n",
       "  </thead>\n",
       "  <tbody>\n",
       "    <tr>\n",
       "      <td>100</td>\n",
       "      <td>0.325300</td>\n",
       "      <td>0.095712</td>\n",
       "      <td>0.126761</td>\n",
       "      <td>2.352200</td>\n",
       "      <td>8.503000</td>\n",
       "    </tr>\n",
       "    <tr>\n",
       "      <td>200</td>\n",
       "      <td>0.296500</td>\n",
       "      <td>0.095322</td>\n",
       "      <td>0.131455</td>\n",
       "      <td>2.386500</td>\n",
       "      <td>8.380000</td>\n",
       "    </tr>\n",
       "    <tr>\n",
       "      <td>300</td>\n",
       "      <td>0.308100</td>\n",
       "      <td>0.080585</td>\n",
       "      <td>0.140845</td>\n",
       "      <td>2.361300</td>\n",
       "      <td>8.470000</td>\n",
       "    </tr>\n",
       "    <tr>\n",
       "      <td>400</td>\n",
       "      <td>0.292000</td>\n",
       "      <td>0.079490</td>\n",
       "      <td>0.131455</td>\n",
       "      <td>2.381100</td>\n",
       "      <td>8.399000</td>\n",
       "    </tr>\n",
       "  </tbody>\n",
       "</table><p>"
      ],
      "text/plain": [
       "<IPython.core.display.HTML object>"
      ]
     },
     "metadata": {},
     "output_type": "display_data"
    },
    {
     "name": "stdout",
     "output_type": "stream",
     "text": [
      "Save Model\n",
      "**************************************\n",
      "Starting round 4 of 4, epoche 2 of 3\n",
      "Splitting Dataset common-voice-de-05v30 with 11956 Entries\n",
      "aktual trained epoches: 298\n",
      "old trained epoches: 297\n",
      "old word error rate: 8.632469122065205%\n",
      "Translate all\n"
     ]
    },
    {
     "data": {
      "application/vnd.jupyter.widget-view+json": {
       "model_id": "cdb50e6f07574683b8502ba624ee029b",
       "version_major": 2,
       "version_minor": 0
      },
      "text/plain": [
       "HBox(children=(FloatProgress(value=0.0, max=11956.0), HTML(value='')))"
      ]
     },
     "metadata": {},
     "output_type": "display_data"
    },
    {
     "name": "stdout",
     "output_type": "stream",
     "text": [
      "\n",
      "Save new translations to: /home/ki-mo/shared/gitviews/extern/GermanWave2Vec/datasets/common-voice-de-05v30/content-translated-with_original.csv\n",
      "Calculate WER\n"
     ]
    },
    {
     "name": "stderr",
     "output_type": "stream",
     "text": [
      "W&B installed but not logged in. Run `wandb login` or set the WANDB_API_KEY env variable.\n"
     ]
    },
    {
     "name": "stdout",
     "output_type": "stream",
     "text": [
      "WER: 8.4088%\n",
      "No. of bad translated snippets: 4527\n",
      "Saving diff files\n",
      "Actual number of bad translated 4527\n",
      "Actual WER: 8.4088%\n",
      " - 4527 Entries left after Length Cut (min=31, max=1200)\n",
      " - 1600 left after Entries Max Samples Cut (max=1600)\n",
      "Creating Trainer for common-voice-de-05v30\n",
      "Training of Dataset: common-voice-de-05v30\n"
     ]
    },
    {
     "data": {
      "text/html": [
       "\n",
       "    <div>\n",
       "        <style>\n",
       "            /* Turns off some styling */\n",
       "            progress {\n",
       "                /* gets rid of default border in Firefox and Opera. */\n",
       "                border: none;\n",
       "                /* Needs to be in here for Safari polyfill so background images work as expected. */\n",
       "                background-size: auto;\n",
       "            }\n",
       "        </style>\n",
       "      \n",
       "      <progress value='400' max='400' style='width:300px; height:20px; vertical-align: middle;'></progress>\n",
       "      [400/400 04:31, Epoch 2/2]\n",
       "    </div>\n",
       "    <table border=\"1\" class=\"dataframe\">\n",
       "  <thead>\n",
       "    <tr style=\"text-align: left;\">\n",
       "      <th>Step</th>\n",
       "      <th>Training Loss</th>\n",
       "      <th>Validation Loss</th>\n",
       "      <th>Wer</th>\n",
       "      <th>Runtime</th>\n",
       "      <th>Samples Per Second</th>\n",
       "    </tr>\n",
       "  </thead>\n",
       "  <tbody>\n",
       "    <tr>\n",
       "      <td>100</td>\n",
       "      <td>0.307300</td>\n",
       "      <td>0.079759</td>\n",
       "      <td>0.136150</td>\n",
       "      <td>2.395000</td>\n",
       "      <td>8.351000</td>\n",
       "    </tr>\n",
       "    <tr>\n",
       "      <td>200</td>\n",
       "      <td>0.278400</td>\n",
       "      <td>0.077342</td>\n",
       "      <td>0.136150</td>\n",
       "      <td>2.392400</td>\n",
       "      <td>8.360000</td>\n",
       "    </tr>\n",
       "    <tr>\n",
       "      <td>300</td>\n",
       "      <td>0.263800</td>\n",
       "      <td>0.079070</td>\n",
       "      <td>0.136150</td>\n",
       "      <td>2.397500</td>\n",
       "      <td>8.342000</td>\n",
       "    </tr>\n",
       "    <tr>\n",
       "      <td>400</td>\n",
       "      <td>0.294800</td>\n",
       "      <td>0.077010</td>\n",
       "      <td>0.136150</td>\n",
       "      <td>2.406300</td>\n",
       "      <td>8.311000</td>\n",
       "    </tr>\n",
       "  </tbody>\n",
       "</table><p>"
      ],
      "text/plain": [
       "<IPython.core.display.HTML object>"
      ]
     },
     "metadata": {},
     "output_type": "display_data"
    },
    {
     "name": "stdout",
     "output_type": "stream",
     "text": [
      "Save Model\n",
      "**************************************\n",
      "Starting round 4 of 4, epoche 3 of 3\n",
      "Splitting Dataset common-voice-de-05v30 with 11956 Entries\n",
      "aktual trained epoches: 299\n",
      "old trained epoches: 298\n",
      "old word error rate: 8.408812729498164%\n",
      "Translate all\n"
     ]
    },
    {
     "data": {
      "application/vnd.jupyter.widget-view+json": {
       "model_id": "db2eafdc0b194bb3880fb4db0e7db9df",
       "version_major": 2,
       "version_minor": 0
      },
      "text/plain": [
       "HBox(children=(FloatProgress(value=0.0, max=11956.0), HTML(value='')))"
      ]
     },
     "metadata": {},
     "output_type": "display_data"
    },
    {
     "name": "stdout",
     "output_type": "stream",
     "text": [
      "\n",
      "Save new translations to: /home/ki-mo/shared/gitviews/extern/GermanWave2Vec/datasets/common-voice-de-05v30/content-translated-with_original.csv\n",
      "Calculate WER\n"
     ]
    },
    {
     "name": "stderr",
     "output_type": "stream",
     "text": [
      "W&B installed but not logged in. Run `wandb login` or set the WANDB_API_KEY env variable.\n"
     ]
    },
    {
     "name": "stdout",
     "output_type": "stream",
     "text": [
      "WER: 7.9259%\n",
      "No. of bad translated snippets: 4299\n",
      "Saving diff files\n",
      "Actual number of bad translated 4299\n",
      "Actual WER: 7.9259%\n",
      " - 4299 Entries left after Length Cut (min=31, max=1200)\n",
      " - 1600 left after Entries Max Samples Cut (max=1600)\n",
      "Creating Trainer for common-voice-de-05v30\n",
      "Training of Dataset: common-voice-de-05v30\n"
     ]
    },
    {
     "data": {
      "text/html": [
       "\n",
       "    <div>\n",
       "        <style>\n",
       "            /* Turns off some styling */\n",
       "            progress {\n",
       "                /* gets rid of default border in Firefox and Opera. */\n",
       "                border: none;\n",
       "                /* Needs to be in here for Safari polyfill so background images work as expected. */\n",
       "                background-size: auto;\n",
       "            }\n",
       "        </style>\n",
       "      \n",
       "      <progress value='400' max='400' style='width:300px; height:20px; vertical-align: middle;'></progress>\n",
       "      [400/400 04:33, Epoch 2/2]\n",
       "    </div>\n",
       "    <table border=\"1\" class=\"dataframe\">\n",
       "  <thead>\n",
       "    <tr style=\"text-align: left;\">\n",
       "      <th>Step</th>\n",
       "      <th>Training Loss</th>\n",
       "      <th>Validation Loss</th>\n",
       "      <th>Wer</th>\n",
       "      <th>Runtime</th>\n",
       "      <th>Samples Per Second</th>\n",
       "    </tr>\n",
       "  </thead>\n",
       "  <tbody>\n",
       "    <tr>\n",
       "      <td>100</td>\n",
       "      <td>0.314600</td>\n",
       "      <td>0.073542</td>\n",
       "      <td>0.140845</td>\n",
       "      <td>2.359400</td>\n",
       "      <td>8.477000</td>\n",
       "    </tr>\n",
       "    <tr>\n",
       "      <td>200</td>\n",
       "      <td>0.310300</td>\n",
       "      <td>0.068063</td>\n",
       "      <td>0.131455</td>\n",
       "      <td>2.361700</td>\n",
       "      <td>8.469000</td>\n",
       "    </tr>\n",
       "    <tr>\n",
       "      <td>300</td>\n",
       "      <td>0.284600</td>\n",
       "      <td>0.069625</td>\n",
       "      <td>0.136150</td>\n",
       "      <td>2.372300</td>\n",
       "      <td>8.431000</td>\n",
       "    </tr>\n",
       "    <tr>\n",
       "      <td>400</td>\n",
       "      <td>0.292000</td>\n",
       "      <td>0.069084</td>\n",
       "      <td>0.122066</td>\n",
       "      <td>2.377500</td>\n",
       "      <td>8.412000</td>\n",
       "    </tr>\n",
       "  </tbody>\n",
       "</table><p>"
      ],
      "text/plain": [
       "<IPython.core.display.HTML object>"
      ]
     },
     "metadata": {},
     "output_type": "display_data"
    },
    {
     "name": "stdout",
     "output_type": "stream",
     "text": [
      "Save Model\n",
      "final check und update of common-voice-de-05v30\n",
      "aktual trained epoches: 300\n",
      "old trained epoches: 299\n",
      "old word error rate: 7.925892956492711%\n",
      "Translate all\n"
     ]
    },
    {
     "data": {
      "application/vnd.jupyter.widget-view+json": {
       "model_id": "911813fdf64044288ec703047d57de5e",
       "version_major": 2,
       "version_minor": 0
      },
      "text/plain": [
       "HBox(children=(FloatProgress(value=0.0, max=11956.0), HTML(value='')))"
      ]
     },
     "metadata": {},
     "output_type": "display_data"
    },
    {
     "name": "stdout",
     "output_type": "stream",
     "text": [
      "\n",
      "Save new translations to: /home/ki-mo/shared/gitviews/extern/GermanWave2Vec/datasets/common-voice-de-05v30/content-translated-with_original.csv\n",
      "Calculate WER\n",
      "WER: 7.6778%\n",
      "No. of bad translated snippets: 4206\n",
      "Saving diff files\n",
      "Actual number of bad translated 4206\n",
      "Actual WER: 7.6778\n",
      "-----------------------------\n",
      "Loading Dataset: common-voice-de-06v30 - /home/ki-mo/shared/gitviews/extern/GermanWave2Vec/datasets/common-voice-de-06v30/content-translated-with_original.csv\n",
      "Pruning Dataset common-voice-de-06v30 with 12262 Entries\n",
      " - 12262 Entries left after Length Cut (min=31, max=4000)\n",
      " - 12262 Entries left after Action Cut\n",
      "Dataset - common-voice-de-06v30 loaded with 12262 Entries\n",
      "**************************************\n",
      "Starting round 4 of 4, epoche 1 of 3\n",
      "Splitting Dataset common-voice-de-06v30 with 12262 Entries\n",
      "aktual trained epoches: 300\n",
      "old trained epoches: 273\n",
      "old word error rate: 9.390047308474433%\n",
      "Translate all\n"
     ]
    },
    {
     "data": {
      "application/vnd.jupyter.widget-view+json": {
       "model_id": "3a56bc6b213a4f5bbf43666b217a4ab6",
       "version_major": 2,
       "version_minor": 0
      },
      "text/plain": [
       "HBox(children=(FloatProgress(value=0.0, max=12262.0), HTML(value='')))"
      ]
     },
     "metadata": {},
     "output_type": "display_data"
    },
    {
     "name": "stdout",
     "output_type": "stream",
     "text": [
      "\n",
      "Save new translations to: /home/ki-mo/shared/gitviews/extern/GermanWave2Vec/datasets/common-voice-de-06v30/content-translated-with_original.csv\n",
      "Calculate WER\n"
     ]
    },
    {
     "name": "stderr",
     "output_type": "stream",
     "text": [
      "W&B installed but not logged in. Run `wandb login` or set the WANDB_API_KEY env variable.\n"
     ]
    },
    {
     "name": "stdout",
     "output_type": "stream",
     "text": [
      "WER: 8.9180%\n",
      "No. of bad translated snippets: 4841\n",
      "Saving diff files\n",
      "Actual number of bad translated 4841\n",
      "Actual WER: 8.9180%\n",
      " - 4841 Entries left after Length Cut (min=31, max=1200)\n",
      " - 1600 left after Entries Max Samples Cut (max=1600)\n",
      "Creating Trainer for common-voice-de-06v30\n",
      "Training of Dataset: common-voice-de-06v30\n"
     ]
    },
    {
     "data": {
      "text/html": [
       "\n",
       "    <div>\n",
       "        <style>\n",
       "            /* Turns off some styling */\n",
       "            progress {\n",
       "                /* gets rid of default border in Firefox and Opera. */\n",
       "                border: none;\n",
       "                /* Needs to be in here for Safari polyfill so background images work as expected. */\n",
       "                background-size: auto;\n",
       "            }\n",
       "        </style>\n",
       "      \n",
       "      <progress value='400' max='400' style='width:300px; height:20px; vertical-align: middle;'></progress>\n",
       "      [400/400 04:27, Epoch 2/2]\n",
       "    </div>\n",
       "    <table border=\"1\" class=\"dataframe\">\n",
       "  <thead>\n",
       "    <tr style=\"text-align: left;\">\n",
       "      <th>Step</th>\n",
       "      <th>Training Loss</th>\n",
       "      <th>Validation Loss</th>\n",
       "      <th>Wer</th>\n",
       "      <th>Runtime</th>\n",
       "      <th>Samples Per Second</th>\n",
       "    </tr>\n",
       "  </thead>\n",
       "  <tbody>\n",
       "    <tr>\n",
       "      <td>100</td>\n",
       "      <td>0.303900</td>\n",
       "      <td>0.056158</td>\n",
       "      <td>0.097046</td>\n",
       "      <td>2.355600</td>\n",
       "      <td>8.490000</td>\n",
       "    </tr>\n",
       "    <tr>\n",
       "      <td>200</td>\n",
       "      <td>0.326800</td>\n",
       "      <td>0.055316</td>\n",
       "      <td>0.092827</td>\n",
       "      <td>2.336600</td>\n",
       "      <td>8.560000</td>\n",
       "    </tr>\n",
       "    <tr>\n",
       "      <td>300</td>\n",
       "      <td>0.303900</td>\n",
       "      <td>0.054381</td>\n",
       "      <td>0.092827</td>\n",
       "      <td>2.371800</td>\n",
       "      <td>8.432000</td>\n",
       "    </tr>\n",
       "    <tr>\n",
       "      <td>400</td>\n",
       "      <td>0.283600</td>\n",
       "      <td>0.053453</td>\n",
       "      <td>0.088608</td>\n",
       "      <td>2.368900</td>\n",
       "      <td>8.443000</td>\n",
       "    </tr>\n",
       "  </tbody>\n",
       "</table><p>"
      ],
      "text/plain": [
       "<IPython.core.display.HTML object>"
      ]
     },
     "metadata": {},
     "output_type": "display_data"
    },
    {
     "name": "stdout",
     "output_type": "stream",
     "text": [
      "Save Model\n",
      "**************************************\n",
      "Starting round 4 of 4, epoche 2 of 3\n",
      "Splitting Dataset common-voice-de-06v30 with 12262 Entries\n",
      "aktual trained epoches: 301\n",
      "old trained epoches: 300\n",
      "old word error rate: 8.918016204996364%\n",
      "Translate all\n"
     ]
    },
    {
     "data": {
      "application/vnd.jupyter.widget-view+json": {
       "model_id": "3a7a901109ea400d87d97d6e8911cc9e",
       "version_major": 2,
       "version_minor": 0
      },
      "text/plain": [
       "HBox(children=(FloatProgress(value=0.0, max=12262.0), HTML(value='')))"
      ]
     },
     "metadata": {},
     "output_type": "display_data"
    },
    {
     "name": "stdout",
     "output_type": "stream",
     "text": [
      "\n",
      "Save new translations to: /home/ki-mo/shared/gitviews/extern/GermanWave2Vec/datasets/common-voice-de-06v30/content-translated-with_original.csv\n",
      "Calculate WER\n"
     ]
    },
    {
     "name": "stderr",
     "output_type": "stream",
     "text": [
      "W&B installed but not logged in. Run `wandb login` or set the WANDB_API_KEY env variable.\n"
     ]
    },
    {
     "name": "stdout",
     "output_type": "stream",
     "text": [
      "WER: 8.3912%\n",
      "No. of bad translated snippets: 4648\n",
      "Saving diff files\n",
      "Actual number of bad translated 4648\n",
      "Actual WER: 8.3912%\n",
      " - 4648 Entries left after Length Cut (min=31, max=1200)\n",
      " - 1600 left after Entries Max Samples Cut (max=1600)\n",
      "Creating Trainer for common-voice-de-06v30\n",
      "Training of Dataset: common-voice-de-06v30\n"
     ]
    },
    {
     "data": {
      "text/html": [
       "\n",
       "    <div>\n",
       "        <style>\n",
       "            /* Turns off some styling */\n",
       "            progress {\n",
       "                /* gets rid of default border in Firefox and Opera. */\n",
       "                border: none;\n",
       "                /* Needs to be in here for Safari polyfill so background images work as expected. */\n",
       "                background-size: auto;\n",
       "            }\n",
       "        </style>\n",
       "      \n",
       "      <progress value='400' max='400' style='width:300px; height:20px; vertical-align: middle;'></progress>\n",
       "      [400/400 04:25, Epoch 2/2]\n",
       "    </div>\n",
       "    <table border=\"1\" class=\"dataframe\">\n",
       "  <thead>\n",
       "    <tr style=\"text-align: left;\">\n",
       "      <th>Step</th>\n",
       "      <th>Training Loss</th>\n",
       "      <th>Validation Loss</th>\n",
       "      <th>Wer</th>\n",
       "      <th>Runtime</th>\n",
       "      <th>Samples Per Second</th>\n",
       "    </tr>\n",
       "  </thead>\n",
       "  <tbody>\n",
       "    <tr>\n",
       "      <td>100</td>\n",
       "      <td>0.321400</td>\n",
       "      <td>0.053257</td>\n",
       "      <td>0.097046</td>\n",
       "      <td>2.354400</td>\n",
       "      <td>8.495000</td>\n",
       "    </tr>\n",
       "    <tr>\n",
       "      <td>200</td>\n",
       "      <td>0.317200</td>\n",
       "      <td>0.053073</td>\n",
       "      <td>0.088608</td>\n",
       "      <td>2.359700</td>\n",
       "      <td>8.476000</td>\n",
       "    </tr>\n",
       "    <tr>\n",
       "      <td>300</td>\n",
       "      <td>0.282500</td>\n",
       "      <td>0.051539</td>\n",
       "      <td>0.084388</td>\n",
       "      <td>2.343000</td>\n",
       "      <td>8.536000</td>\n",
       "    </tr>\n",
       "    <tr>\n",
       "      <td>400</td>\n",
       "      <td>0.315200</td>\n",
       "      <td>0.051714</td>\n",
       "      <td>0.084388</td>\n",
       "      <td>2.357200</td>\n",
       "      <td>8.485000</td>\n",
       "    </tr>\n",
       "  </tbody>\n",
       "</table><p>"
      ],
      "text/plain": [
       "<IPython.core.display.HTML object>"
      ]
     },
     "metadata": {},
     "output_type": "display_data"
    },
    {
     "name": "stdout",
     "output_type": "stream",
     "text": [
      "Save Model\n",
      "**************************************\n",
      "Starting round 4 of 4, epoche 3 of 3\n",
      "Splitting Dataset common-voice-de-06v30 with 12262 Entries\n",
      "aktual trained epoches: 302\n",
      "old trained epoches: 301\n",
      "old word error rate: 8.391195777007448%\n",
      "Translate all\n"
     ]
    },
    {
     "data": {
      "application/vnd.jupyter.widget-view+json": {
       "model_id": "09fadb312efb4565b455464f768760d6",
       "version_major": 2,
       "version_minor": 0
      },
      "text/plain": [
       "HBox(children=(FloatProgress(value=0.0, max=12262.0), HTML(value='')))"
      ]
     },
     "metadata": {},
     "output_type": "display_data"
    },
    {
     "name": "stdout",
     "output_type": "stream",
     "text": [
      "\n",
      "Save new translations to: /home/ki-mo/shared/gitviews/extern/GermanWave2Vec/datasets/common-voice-de-06v30/content-translated-with_original.csv\n",
      "Calculate WER\n"
     ]
    },
    {
     "name": "stderr",
     "output_type": "stream",
     "text": [
      "W&B installed but not logged in. Run `wandb login` or set the WANDB_API_KEY env variable.\n"
     ]
    },
    {
     "name": "stdout",
     "output_type": "stream",
     "text": [
      "WER: 8.1541%\n",
      "No. of bad translated snippets: 4560\n",
      "Saving diff files\n",
      "Actual number of bad translated 4560\n",
      "Actual WER: 8.1541%\n",
      " - 4560 Entries left after Length Cut (min=31, max=1200)\n",
      " - 1600 left after Entries Max Samples Cut (max=1600)\n",
      "Creating Trainer for common-voice-de-06v30\n",
      "Training of Dataset: common-voice-de-06v30\n"
     ]
    },
    {
     "data": {
      "text/html": [
       "\n",
       "    <div>\n",
       "        <style>\n",
       "            /* Turns off some styling */\n",
       "            progress {\n",
       "                /* gets rid of default border in Firefox and Opera. */\n",
       "                border: none;\n",
       "                /* Needs to be in here for Safari polyfill so background images work as expected. */\n",
       "                background-size: auto;\n",
       "            }\n",
       "        </style>\n",
       "      \n",
       "      <progress value='400' max='400' style='width:300px; height:20px; vertical-align: middle;'></progress>\n",
       "      [400/400 04:26, Epoch 2/2]\n",
       "    </div>\n",
       "    <table border=\"1\" class=\"dataframe\">\n",
       "  <thead>\n",
       "    <tr style=\"text-align: left;\">\n",
       "      <th>Step</th>\n",
       "      <th>Training Loss</th>\n",
       "      <th>Validation Loss</th>\n",
       "      <th>Wer</th>\n",
       "      <th>Runtime</th>\n",
       "      <th>Samples Per Second</th>\n",
       "    </tr>\n",
       "  </thead>\n",
       "  <tbody>\n",
       "    <tr>\n",
       "      <td>100</td>\n",
       "      <td>0.320500</td>\n",
       "      <td>0.052258</td>\n",
       "      <td>0.084388</td>\n",
       "      <td>2.361600</td>\n",
       "      <td>8.469000</td>\n",
       "    </tr>\n",
       "    <tr>\n",
       "      <td>200</td>\n",
       "      <td>0.311900</td>\n",
       "      <td>0.049097</td>\n",
       "      <td>0.084388</td>\n",
       "      <td>2.349100</td>\n",
       "      <td>8.514000</td>\n",
       "    </tr>\n",
       "    <tr>\n",
       "      <td>300</td>\n",
       "      <td>0.307000</td>\n",
       "      <td>0.048622</td>\n",
       "      <td>0.071730</td>\n",
       "      <td>2.353100</td>\n",
       "      <td>8.499000</td>\n",
       "    </tr>\n",
       "    <tr>\n",
       "      <td>400</td>\n",
       "      <td>0.286800</td>\n",
       "      <td>0.048028</td>\n",
       "      <td>0.075949</td>\n",
       "      <td>2.348000</td>\n",
       "      <td>8.518000</td>\n",
       "    </tr>\n",
       "  </tbody>\n",
       "</table><p>"
      ],
      "text/plain": [
       "<IPython.core.display.HTML object>"
      ]
     },
     "metadata": {},
     "output_type": "display_data"
    },
    {
     "name": "stdout",
     "output_type": "stream",
     "text": [
      "Save Model\n",
      "final check und update of common-voice-de-06v30\n",
      "aktual trained epoches: 303\n",
      "old trained epoches: 302\n",
      "old word error rate: 8.154126584412436%\n",
      "Translate all\n"
     ]
    },
    {
     "data": {
      "application/vnd.jupyter.widget-view+json": {
       "model_id": "30786634a9af48f6a1541615b6ca1ace",
       "version_major": 2,
       "version_minor": 0
      },
      "text/plain": [
       "HBox(children=(FloatProgress(value=0.0, max=12262.0), HTML(value='')))"
      ]
     },
     "metadata": {},
     "output_type": "display_data"
    }
   ],
   "source": [
    "translator.train(\n",
    "        trained_model_path=trained_model_path,\n",
    "        dataset_loader=my_datasets, \n",
    "        ds_to_train=widget_factory.get_used_datasets(),\n",
    "        max_training_sample_size=max_sample_size,\n",
    "        max_trainingset_size=max_trainingset_size, \n",
    "        max_rounds=max_rounds, \n",
    "        num_train_epochs=num_train_epochs,\n",
    "        num_steps_per_epoche=max_steps,\n",
    "        per_device_train_batch_size=per_device_train_batch_size,\n",
    "        gradient_accumulation_steps=gradient_accumulation_steps,\n",
    "        logging_steps=logging_steps,\n",
    "        learning_rate=learning_rate,\n",
    "        warmup_steps=warmup_steps,\n",
    "        early_stopping_value=0.005\n",
    ")"
   ]
  },
  {
   "cell_type": "code",
   "execution_count": null,
   "id": "rPHzCcxaYJAz",
   "metadata": {
    "colab": {
     "base_uri": "https://localhost:8080/",
     "height": 74
    },
    "executionInfo": {
     "elapsed": 569,
     "status": "ok",
     "timestamp": 1620853210989,
     "user": {
      "displayName": "Elius Tibelius",
      "photoUrl": "",
      "userId": "00452752923460326984"
     },
     "user_tz": -120
    },
    "id": "rPHzCcxaYJAz",
    "outputId": "541ea6e0-2a5a-4ed9-a7c8-73b876f1fe89"
   },
   "outputs": [],
   "source": [
    "print('finished')\n",
    "widget_factory.play_audio_file(audio_url=\"http://www.w3schools.com/html/horse.ogg\")"
   ]
  },
  {
   "cell_type": "code",
   "execution_count": null,
   "id": "chicken-adams",
   "metadata": {},
   "outputs": [],
   "source": []
  }
 ],
 "metadata": {
  "accelerator": "GPU",
  "colab": {
   "collapsed_sections": [
    "better-footwear"
   ],
   "name": "Wave2Vec-Train.ipynb",
   "provenance": [
    {
     "file_id": "18nAJ5oJgm56etRE3MTVNC4ofrVNHgEQG",
     "timestamp": 1621004295534
    }
   ],
   "toc_visible": true
  },
  "kernelspec": {
   "display_name": "Python 3",
   "language": "python",
   "name": "python3"
  },
  "language_info": {
   "codemirror_mode": {
    "name": "ipython",
    "version": 3
   },
   "file_extension": ".py",
   "mimetype": "text/x-python",
   "name": "python",
   "nbconvert_exporter": "python",
   "pygments_lexer": "ipython3",
   "version": "3.8.8"
  },
  "widgets": {
   "application/vnd.jupyter.widget-state+json": {
    "03c3d21fb26343a8b6fec43119e854ce": {
     "model_module": "@jupyter-widgets/controls",
     "model_name": "HTMLModel",
     "state": {
      "_dom_classes": [],
      "_model_module": "@jupyter-widgets/controls",
      "_model_module_version": "1.5.0",
      "_model_name": "HTMLModel",
      "_view_count": null,
      "_view_module": "@jupyter-widgets/controls",
      "_view_module_version": "1.5.0",
      "_view_name": "HTMLView",
      "description": "",
      "description_tooltip": null,
      "layout": "IPY_MODEL_03ea4a943dfa478e9a1a87e251c05af6",
      "placeholder": "​",
      "style": "IPY_MODEL_da0a96e9b4194da4b5b242dc2d716bd9",
      "value": " 3.90k/? [00:00&lt;00:00, 15.9kB/s]"
     }
    },
    "03ea4a943dfa478e9a1a87e251c05af6": {
     "model_module": "@jupyter-widgets/base",
     "model_name": "LayoutModel",
     "state": {
      "_model_module": "@jupyter-widgets/base",
      "_model_module_version": "1.2.0",
      "_model_name": "LayoutModel",
      "_view_count": null,
      "_view_module": "@jupyter-widgets/base",
      "_view_module_version": "1.2.0",
      "_view_name": "LayoutView",
      "align_content": null,
      "align_items": null,
      "align_self": null,
      "border": null,
      "bottom": null,
      "display": null,
      "flex": null,
      "flex_flow": null,
      "grid_area": null,
      "grid_auto_columns": null,
      "grid_auto_flow": null,
      "grid_auto_rows": null,
      "grid_column": null,
      "grid_gap": null,
      "grid_row": null,
      "grid_template_areas": null,
      "grid_template_columns": null,
      "grid_template_rows": null,
      "height": null,
      "justify_content": null,
      "justify_items": null,
      "left": null,
      "margin": null,
      "max_height": null,
      "max_width": null,
      "min_height": null,
      "min_width": null,
      "object_fit": null,
      "object_position": null,
      "order": null,
      "overflow": null,
      "overflow_x": null,
      "overflow_y": null,
      "padding": null,
      "right": null,
      "top": null,
      "visibility": null,
      "width": null
     }
    },
    "449bce20528d4f0fa84a533edf31868f": {
     "model_module": "@jupyter-widgets/controls",
     "model_name": "ProgressStyleModel",
     "state": {
      "_model_module": "@jupyter-widgets/controls",
      "_model_module_version": "1.5.0",
      "_model_name": "ProgressStyleModel",
      "_view_count": null,
      "_view_module": "@jupyter-widgets/base",
      "_view_module_version": "1.2.0",
      "_view_name": "StyleView",
      "bar_color": null,
      "description_width": "initial"
     }
    },
    "78f2db221c504bfeb80d08123dde7808": {
     "model_module": "@jupyter-widgets/controls",
     "model_name": "FloatProgressModel",
     "state": {
      "_dom_classes": [],
      "_model_module": "@jupyter-widgets/controls",
      "_model_module_version": "1.5.0",
      "_model_name": "FloatProgressModel",
      "_view_count": null,
      "_view_module": "@jupyter-widgets/controls",
      "_view_module_version": "1.5.0",
      "_view_name": "ProgressView",
      "bar_style": "success",
      "description": "Downloading: ",
      "description_tooltip": null,
      "layout": "IPY_MODEL_f6212268701e4b5485254734029c7eda",
      "max": 1764,
      "min": 0,
      "orientation": "horizontal",
      "style": "IPY_MODEL_449bce20528d4f0fa84a533edf31868f",
      "value": 1764
     }
    },
    "7b46e89a13764745915b7802aaedc5ee": {
     "model_module": "@jupyter-widgets/controls",
     "model_name": "HBoxModel",
     "state": {
      "_dom_classes": [],
      "_model_module": "@jupyter-widgets/controls",
      "_model_module_version": "1.5.0",
      "_model_name": "HBoxModel",
      "_view_count": null,
      "_view_module": "@jupyter-widgets/controls",
      "_view_module_version": "1.5.0",
      "_view_name": "HBoxView",
      "box_style": "",
      "children": [
       "IPY_MODEL_78f2db221c504bfeb80d08123dde7808",
       "IPY_MODEL_03c3d21fb26343a8b6fec43119e854ce"
      ],
      "layout": "IPY_MODEL_7d8e46c71b3e45cfa775157a66ac5a52"
     }
    },
    "7d8e46c71b3e45cfa775157a66ac5a52": {
     "model_module": "@jupyter-widgets/base",
     "model_name": "LayoutModel",
     "state": {
      "_model_module": "@jupyter-widgets/base",
      "_model_module_version": "1.2.0",
      "_model_name": "LayoutModel",
      "_view_count": null,
      "_view_module": "@jupyter-widgets/base",
      "_view_module_version": "1.2.0",
      "_view_name": "LayoutView",
      "align_content": null,
      "align_items": null,
      "align_self": null,
      "border": null,
      "bottom": null,
      "display": null,
      "flex": null,
      "flex_flow": null,
      "grid_area": null,
      "grid_auto_columns": null,
      "grid_auto_flow": null,
      "grid_auto_rows": null,
      "grid_column": null,
      "grid_gap": null,
      "grid_row": null,
      "grid_template_areas": null,
      "grid_template_columns": null,
      "grid_template_rows": null,
      "height": null,
      "justify_content": null,
      "justify_items": null,
      "left": null,
      "margin": null,
      "max_height": null,
      "max_width": null,
      "min_height": null,
      "min_width": null,
      "object_fit": null,
      "object_position": null,
      "order": null,
      "overflow": null,
      "overflow_x": null,
      "overflow_y": null,
      "padding": null,
      "right": null,
      "top": null,
      "visibility": null,
      "width": null
     }
    },
    "da0a96e9b4194da4b5b242dc2d716bd9": {
     "model_module": "@jupyter-widgets/controls",
     "model_name": "DescriptionStyleModel",
     "state": {
      "_model_module": "@jupyter-widgets/controls",
      "_model_module_version": "1.5.0",
      "_model_name": "DescriptionStyleModel",
      "_view_count": null,
      "_view_module": "@jupyter-widgets/base",
      "_view_module_version": "1.2.0",
      "_view_name": "StyleView",
      "description_width": ""
     }
    },
    "f6212268701e4b5485254734029c7eda": {
     "model_module": "@jupyter-widgets/base",
     "model_name": "LayoutModel",
     "state": {
      "_model_module": "@jupyter-widgets/base",
      "_model_module_version": "1.2.0",
      "_model_name": "LayoutModel",
      "_view_count": null,
      "_view_module": "@jupyter-widgets/base",
      "_view_module_version": "1.2.0",
      "_view_name": "LayoutView",
      "align_content": null,
      "align_items": null,
      "align_self": null,
      "border": null,
      "bottom": null,
      "display": null,
      "flex": null,
      "flex_flow": null,
      "grid_area": null,
      "grid_auto_columns": null,
      "grid_auto_flow": null,
      "grid_auto_rows": null,
      "grid_column": null,
      "grid_gap": null,
      "grid_row": null,
      "grid_template_areas": null,
      "grid_template_columns": null,
      "grid_template_rows": null,
      "height": null,
      "justify_content": null,
      "justify_items": null,
      "left": null,
      "margin": null,
      "max_height": null,
      "max_width": null,
      "min_height": null,
      "min_width": null,
      "object_fit": null,
      "object_position": null,
      "order": null,
      "overflow": null,
      "overflow_x": null,
      "overflow_y": null,
      "padding": null,
      "right": null,
      "top": null,
      "visibility": null,
      "width": null
     }
    }
   }
  }
 },
 "nbformat": 4,
 "nbformat_minor": 5
}
